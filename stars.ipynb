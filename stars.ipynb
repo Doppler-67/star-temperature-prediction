{
  "nbformat": 4,
  "nbformat_minor": 0,
  "metadata": {
    "colab": {
      "name": "stars.ipynb",
      "provenance": [],
      "collapsed_sections": [],
      "mount_file_id": "1bjcj6MKnYuMC8p5usJZdgwYWEZNN4ZDz",
      "authorship_tag": "ABX9TyOxw2+DBItZTaZzRjj8Jutt",
      "include_colab_link": true
    },
    "kernelspec": {
      "name": "python3",
      "display_name": "Python 3"
    },
    "language_info": {
      "name": "python"
    }
  },
  "cells": [
    {
      "cell_type": "markdown",
      "metadata": {
        "id": "view-in-github",
        "colab_type": "text"
      },
      "source": [
        "<a href=\"https://colab.research.google.com/github/Doppler-67/star-temperature-prediction/blob/main/stars.ipynb\" target=\"_parent\"><img src=\"https://colab.research.google.com/assets/colab-badge.svg\" alt=\"Open In Colab\"/></a>"
      ]
    },
    {
      "cell_type": "code",
      "source": [
        "#!pip install torchmetrics"
      ],
      "metadata": {
        "id": "Tu7CixbBhls9"
      },
      "execution_count": 1,
      "outputs": []
    },
    {
      "cell_type": "code",
      "execution_count": 2,
      "metadata": {
        "id": "JwtITXaSHUae"
      },
      "outputs": [],
      "source": [
        "import matplotlib.pyplot as plt\n",
        "import seaborn as sns\n",
        "import pandas as pd\n",
        "import numpy as np\n",
        "import torch\n",
        "import torch.nn as nn\n",
        "\n",
        "from sklearn.model_selection import train_test_split\n",
        "from sklearn.preprocessing import StandardScaler\n",
        "from torchmetrics import MeanSquaredError"
      ]
    },
    {
      "cell_type": "code",
      "source": [
        "sns.set()"
      ],
      "metadata": {
        "id": "LnZCVg7kQXVq"
      },
      "execution_count": 3,
      "outputs": []
    },
    {
      "cell_type": "code",
      "source": [
        "torch.manual_seed(67)\n",
        "np.random.seed(67)"
      ],
      "metadata": {
        "id": "3v0JyhREaGFx"
      },
      "execution_count": 4,
      "outputs": []
    },
    {
      "cell_type": "markdown",
      "source": [
        "# **Data understanding**"
      ],
      "metadata": {
        "id": "HDrjWQzjPCJs"
      }
    },
    {
      "cell_type": "code",
      "source": [
        "data = pd.read_csv('/content/drive/MyDrive/stars_ds_project/stars.csv')"
      ],
      "metadata": {
        "id": "acXoGPxANsb8"
      },
      "execution_count": 5,
      "outputs": []
    },
    {
      "cell_type": "code",
      "source": [
        "data.head()"
      ],
      "metadata": {
        "colab": {
          "base_uri": "https://localhost:8080/",
          "height": 206
        },
        "id": "IoO_8KtnN9Xl",
        "outputId": "6bf65914-452a-4db5-cdac-fc704b695b58"
      },
      "execution_count": 6,
      "outputs": [
        {
          "output_type": "execute_result",
          "data": {
            "text/plain": [
              "   Temperature (K)  Luminosity(L/Lo)  Radius(R/Ro)  Absolute magnitude(Mv)  \\\n",
              "0             3068          0.002400        0.1700                   16.12   \n",
              "1             3042          0.000500        0.1542                   16.60   \n",
              "2             2600          0.000300        0.1020                   18.70   \n",
              "3             2800          0.000200        0.1600                   16.65   \n",
              "4             1939          0.000138        0.1030                   20.06   \n",
              "\n",
              "   Star type Star color\\n  \n",
              "0          0          Red  \n",
              "1          0          Red  \n",
              "2          0          Red  \n",
              "3          0          Red  \n",
              "4          0          Red  "
            ],
            "text/html": [
              "\n",
              "  <div id=\"df-3d598d20-3c58-4264-8147-f6403b3a6525\">\n",
              "    <div class=\"colab-df-container\">\n",
              "      <div>\n",
              "<style scoped>\n",
              "    .dataframe tbody tr th:only-of-type {\n",
              "        vertical-align: middle;\n",
              "    }\n",
              "\n",
              "    .dataframe tbody tr th {\n",
              "        vertical-align: top;\n",
              "    }\n",
              "\n",
              "    .dataframe thead th {\n",
              "        text-align: right;\n",
              "    }\n",
              "</style>\n",
              "<table border=\"1\" class=\"dataframe\">\n",
              "  <thead>\n",
              "    <tr style=\"text-align: right;\">\n",
              "      <th></th>\n",
              "      <th>Temperature (K)</th>\n",
              "      <th>Luminosity(L/Lo)</th>\n",
              "      <th>Radius(R/Ro)</th>\n",
              "      <th>Absolute magnitude(Mv)</th>\n",
              "      <th>Star type</th>\n",
              "      <th>Star color\\n</th>\n",
              "    </tr>\n",
              "  </thead>\n",
              "  <tbody>\n",
              "    <tr>\n",
              "      <th>0</th>\n",
              "      <td>3068</td>\n",
              "      <td>0.002400</td>\n",
              "      <td>0.1700</td>\n",
              "      <td>16.12</td>\n",
              "      <td>0</td>\n",
              "      <td>Red</td>\n",
              "    </tr>\n",
              "    <tr>\n",
              "      <th>1</th>\n",
              "      <td>3042</td>\n",
              "      <td>0.000500</td>\n",
              "      <td>0.1542</td>\n",
              "      <td>16.60</td>\n",
              "      <td>0</td>\n",
              "      <td>Red</td>\n",
              "    </tr>\n",
              "    <tr>\n",
              "      <th>2</th>\n",
              "      <td>2600</td>\n",
              "      <td>0.000300</td>\n",
              "      <td>0.1020</td>\n",
              "      <td>18.70</td>\n",
              "      <td>0</td>\n",
              "      <td>Red</td>\n",
              "    </tr>\n",
              "    <tr>\n",
              "      <th>3</th>\n",
              "      <td>2800</td>\n",
              "      <td>0.000200</td>\n",
              "      <td>0.1600</td>\n",
              "      <td>16.65</td>\n",
              "      <td>0</td>\n",
              "      <td>Red</td>\n",
              "    </tr>\n",
              "    <tr>\n",
              "      <th>4</th>\n",
              "      <td>1939</td>\n",
              "      <td>0.000138</td>\n",
              "      <td>0.1030</td>\n",
              "      <td>20.06</td>\n",
              "      <td>0</td>\n",
              "      <td>Red</td>\n",
              "    </tr>\n",
              "  </tbody>\n",
              "</table>\n",
              "</div>\n",
              "      <button class=\"colab-df-convert\" onclick=\"convertToInteractive('df-3d598d20-3c58-4264-8147-f6403b3a6525')\"\n",
              "              title=\"Convert this dataframe to an interactive table.\"\n",
              "              style=\"display:none;\">\n",
              "        \n",
              "  <svg xmlns=\"http://www.w3.org/2000/svg\" height=\"24px\"viewBox=\"0 0 24 24\"\n",
              "       width=\"24px\">\n",
              "    <path d=\"M0 0h24v24H0V0z\" fill=\"none\"/>\n",
              "    <path d=\"M18.56 5.44l.94 2.06.94-2.06 2.06-.94-2.06-.94-.94-2.06-.94 2.06-2.06.94zm-11 1L8.5 8.5l.94-2.06 2.06-.94-2.06-.94L8.5 2.5l-.94 2.06-2.06.94zm10 10l.94 2.06.94-2.06 2.06-.94-2.06-.94-.94-2.06-.94 2.06-2.06.94z\"/><path d=\"M17.41 7.96l-1.37-1.37c-.4-.4-.92-.59-1.43-.59-.52 0-1.04.2-1.43.59L10.3 9.45l-7.72 7.72c-.78.78-.78 2.05 0 2.83L4 21.41c.39.39.9.59 1.41.59.51 0 1.02-.2 1.41-.59l7.78-7.78 2.81-2.81c.8-.78.8-2.07 0-2.86zM5.41 20L4 18.59l7.72-7.72 1.47 1.35L5.41 20z\"/>\n",
              "  </svg>\n",
              "      </button>\n",
              "      \n",
              "  <style>\n",
              "    .colab-df-container {\n",
              "      display:flex;\n",
              "      flex-wrap:wrap;\n",
              "      gap: 12px;\n",
              "    }\n",
              "\n",
              "    .colab-df-convert {\n",
              "      background-color: #E8F0FE;\n",
              "      border: none;\n",
              "      border-radius: 50%;\n",
              "      cursor: pointer;\n",
              "      display: none;\n",
              "      fill: #1967D2;\n",
              "      height: 32px;\n",
              "      padding: 0 0 0 0;\n",
              "      width: 32px;\n",
              "    }\n",
              "\n",
              "    .colab-df-convert:hover {\n",
              "      background-color: #E2EBFA;\n",
              "      box-shadow: 0px 1px 2px rgba(60, 64, 67, 0.3), 0px 1px 3px 1px rgba(60, 64, 67, 0.15);\n",
              "      fill: #174EA6;\n",
              "    }\n",
              "\n",
              "    [theme=dark] .colab-df-convert {\n",
              "      background-color: #3B4455;\n",
              "      fill: #D2E3FC;\n",
              "    }\n",
              "\n",
              "    [theme=dark] .colab-df-convert:hover {\n",
              "      background-color: #434B5C;\n",
              "      box-shadow: 0px 1px 3px 1px rgba(0, 0, 0, 0.15);\n",
              "      filter: drop-shadow(0px 1px 2px rgba(0, 0, 0, 0.3));\n",
              "      fill: #FFFFFF;\n",
              "    }\n",
              "  </style>\n",
              "\n",
              "      <script>\n",
              "        const buttonEl =\n",
              "          document.querySelector('#df-3d598d20-3c58-4264-8147-f6403b3a6525 button.colab-df-convert');\n",
              "        buttonEl.style.display =\n",
              "          google.colab.kernel.accessAllowed ? 'block' : 'none';\n",
              "\n",
              "        async function convertToInteractive(key) {\n",
              "          const element = document.querySelector('#df-3d598d20-3c58-4264-8147-f6403b3a6525');\n",
              "          const dataTable =\n",
              "            await google.colab.kernel.invokeFunction('convertToInteractive',\n",
              "                                                     [key], {});\n",
              "          if (!dataTable) return;\n",
              "\n",
              "          const docLinkHtml = 'Like what you see? Visit the ' +\n",
              "            '<a target=\"_blank\" href=https://colab.research.google.com/notebooks/data_table.ipynb>data table notebook</a>'\n",
              "            + ' to learn more about interactive tables.';\n",
              "          element.innerHTML = '';\n",
              "          dataTable['output_type'] = 'display_data';\n",
              "          await google.colab.output.renderOutput(dataTable, element);\n",
              "          const docLink = document.createElement('div');\n",
              "          docLink.innerHTML = docLinkHtml;\n",
              "          element.appendChild(docLink);\n",
              "        }\n",
              "      </script>\n",
              "    </div>\n",
              "  </div>\n",
              "  "
            ]
          },
          "metadata": {},
          "execution_count": 6
        }
      ]
    },
    {
      "cell_type": "code",
      "source": [
        "data.info()"
      ],
      "metadata": {
        "colab": {
          "base_uri": "https://localhost:8080/"
        },
        "id": "Whh_OCZvOHr1",
        "outputId": "a617d4d3-baf9-4f27-86b3-4360d5f7e87d"
      },
      "execution_count": 7,
      "outputs": [
        {
          "output_type": "stream",
          "name": "stdout",
          "text": [
            "<class 'pandas.core.frame.DataFrame'>\n",
            "RangeIndex: 240 entries, 0 to 239\n",
            "Data columns (total 6 columns):\n",
            " #   Column                  Non-Null Count  Dtype  \n",
            "---  ------                  --------------  -----  \n",
            " 0   Temperature (K)         240 non-null    int64  \n",
            " 1   Luminosity(L/Lo)        240 non-null    float64\n",
            " 2   Radius(R/Ro)            240 non-null    float64\n",
            " 3   Absolute magnitude(Mv)  240 non-null    float64\n",
            " 4   Star type               240 non-null    int64  \n",
            " 5   Star color\\n            240 non-null    object \n",
            "dtypes: float64(3), int64(2), object(1)\n",
            "memory usage: 11.4+ KB\n"
          ]
        }
      ]
    },
    {
      "cell_type": "code",
      "source": [
        "data.describe()"
      ],
      "metadata": {
        "colab": {
          "base_uri": "https://localhost:8080/",
          "height": 300
        },
        "id": "58ixRMEVOI5I",
        "outputId": "ca5fe84d-8fc4-453a-b200-77c04bacf60a"
      },
      "execution_count": 8,
      "outputs": [
        {
          "output_type": "execute_result",
          "data": {
            "text/plain": [
              "       Temperature (K)  Luminosity(L/Lo)  Radius(R/Ro)  \\\n",
              "count       240.000000        240.000000    240.000000   \n",
              "mean      10497.462500     107188.361635    237.157781   \n",
              "std        9552.425037     179432.244940    517.155763   \n",
              "min        1939.000000          0.000080      0.008400   \n",
              "25%        3344.250000          0.000865      0.102750   \n",
              "50%        5776.000000          0.070500      0.762500   \n",
              "75%       15055.500000     198050.000000     42.750000   \n",
              "max       40000.000000     849420.000000   1948.500000   \n",
              "\n",
              "       Absolute magnitude(Mv)   Star type  \n",
              "count              240.000000  240.000000  \n",
              "mean                 4.382396    2.500000  \n",
              "std                 10.532512    1.711394  \n",
              "min                -11.920000    0.000000  \n",
              "25%                 -6.232500    1.000000  \n",
              "50%                  8.313000    2.500000  \n",
              "75%                 13.697500    4.000000  \n",
              "max                 20.060000    5.000000  "
            ],
            "text/html": [
              "\n",
              "  <div id=\"df-77196b66-d60e-4bf1-a2a6-470c8233e1ab\">\n",
              "    <div class=\"colab-df-container\">\n",
              "      <div>\n",
              "<style scoped>\n",
              "    .dataframe tbody tr th:only-of-type {\n",
              "        vertical-align: middle;\n",
              "    }\n",
              "\n",
              "    .dataframe tbody tr th {\n",
              "        vertical-align: top;\n",
              "    }\n",
              "\n",
              "    .dataframe thead th {\n",
              "        text-align: right;\n",
              "    }\n",
              "</style>\n",
              "<table border=\"1\" class=\"dataframe\">\n",
              "  <thead>\n",
              "    <tr style=\"text-align: right;\">\n",
              "      <th></th>\n",
              "      <th>Temperature (K)</th>\n",
              "      <th>Luminosity(L/Lo)</th>\n",
              "      <th>Radius(R/Ro)</th>\n",
              "      <th>Absolute magnitude(Mv)</th>\n",
              "      <th>Star type</th>\n",
              "    </tr>\n",
              "  </thead>\n",
              "  <tbody>\n",
              "    <tr>\n",
              "      <th>count</th>\n",
              "      <td>240.000000</td>\n",
              "      <td>240.000000</td>\n",
              "      <td>240.000000</td>\n",
              "      <td>240.000000</td>\n",
              "      <td>240.000000</td>\n",
              "    </tr>\n",
              "    <tr>\n",
              "      <th>mean</th>\n",
              "      <td>10497.462500</td>\n",
              "      <td>107188.361635</td>\n",
              "      <td>237.157781</td>\n",
              "      <td>4.382396</td>\n",
              "      <td>2.500000</td>\n",
              "    </tr>\n",
              "    <tr>\n",
              "      <th>std</th>\n",
              "      <td>9552.425037</td>\n",
              "      <td>179432.244940</td>\n",
              "      <td>517.155763</td>\n",
              "      <td>10.532512</td>\n",
              "      <td>1.711394</td>\n",
              "    </tr>\n",
              "    <tr>\n",
              "      <th>min</th>\n",
              "      <td>1939.000000</td>\n",
              "      <td>0.000080</td>\n",
              "      <td>0.008400</td>\n",
              "      <td>-11.920000</td>\n",
              "      <td>0.000000</td>\n",
              "    </tr>\n",
              "    <tr>\n",
              "      <th>25%</th>\n",
              "      <td>3344.250000</td>\n",
              "      <td>0.000865</td>\n",
              "      <td>0.102750</td>\n",
              "      <td>-6.232500</td>\n",
              "      <td>1.000000</td>\n",
              "    </tr>\n",
              "    <tr>\n",
              "      <th>50%</th>\n",
              "      <td>5776.000000</td>\n",
              "      <td>0.070500</td>\n",
              "      <td>0.762500</td>\n",
              "      <td>8.313000</td>\n",
              "      <td>2.500000</td>\n",
              "    </tr>\n",
              "    <tr>\n",
              "      <th>75%</th>\n",
              "      <td>15055.500000</td>\n",
              "      <td>198050.000000</td>\n",
              "      <td>42.750000</td>\n",
              "      <td>13.697500</td>\n",
              "      <td>4.000000</td>\n",
              "    </tr>\n",
              "    <tr>\n",
              "      <th>max</th>\n",
              "      <td>40000.000000</td>\n",
              "      <td>849420.000000</td>\n",
              "      <td>1948.500000</td>\n",
              "      <td>20.060000</td>\n",
              "      <td>5.000000</td>\n",
              "    </tr>\n",
              "  </tbody>\n",
              "</table>\n",
              "</div>\n",
              "      <button class=\"colab-df-convert\" onclick=\"convertToInteractive('df-77196b66-d60e-4bf1-a2a6-470c8233e1ab')\"\n",
              "              title=\"Convert this dataframe to an interactive table.\"\n",
              "              style=\"display:none;\">\n",
              "        \n",
              "  <svg xmlns=\"http://www.w3.org/2000/svg\" height=\"24px\"viewBox=\"0 0 24 24\"\n",
              "       width=\"24px\">\n",
              "    <path d=\"M0 0h24v24H0V0z\" fill=\"none\"/>\n",
              "    <path d=\"M18.56 5.44l.94 2.06.94-2.06 2.06-.94-2.06-.94-.94-2.06-.94 2.06-2.06.94zm-11 1L8.5 8.5l.94-2.06 2.06-.94-2.06-.94L8.5 2.5l-.94 2.06-2.06.94zm10 10l.94 2.06.94-2.06 2.06-.94-2.06-.94-.94-2.06-.94 2.06-2.06.94z\"/><path d=\"M17.41 7.96l-1.37-1.37c-.4-.4-.92-.59-1.43-.59-.52 0-1.04.2-1.43.59L10.3 9.45l-7.72 7.72c-.78.78-.78 2.05 0 2.83L4 21.41c.39.39.9.59 1.41.59.51 0 1.02-.2 1.41-.59l7.78-7.78 2.81-2.81c.8-.78.8-2.07 0-2.86zM5.41 20L4 18.59l7.72-7.72 1.47 1.35L5.41 20z\"/>\n",
              "  </svg>\n",
              "      </button>\n",
              "      \n",
              "  <style>\n",
              "    .colab-df-container {\n",
              "      display:flex;\n",
              "      flex-wrap:wrap;\n",
              "      gap: 12px;\n",
              "    }\n",
              "\n",
              "    .colab-df-convert {\n",
              "      background-color: #E8F0FE;\n",
              "      border: none;\n",
              "      border-radius: 50%;\n",
              "      cursor: pointer;\n",
              "      display: none;\n",
              "      fill: #1967D2;\n",
              "      height: 32px;\n",
              "      padding: 0 0 0 0;\n",
              "      width: 32px;\n",
              "    }\n",
              "\n",
              "    .colab-df-convert:hover {\n",
              "      background-color: #E2EBFA;\n",
              "      box-shadow: 0px 1px 2px rgba(60, 64, 67, 0.3), 0px 1px 3px 1px rgba(60, 64, 67, 0.15);\n",
              "      fill: #174EA6;\n",
              "    }\n",
              "\n",
              "    [theme=dark] .colab-df-convert {\n",
              "      background-color: #3B4455;\n",
              "      fill: #D2E3FC;\n",
              "    }\n",
              "\n",
              "    [theme=dark] .colab-df-convert:hover {\n",
              "      background-color: #434B5C;\n",
              "      box-shadow: 0px 1px 3px 1px rgba(0, 0, 0, 0.15);\n",
              "      filter: drop-shadow(0px 1px 2px rgba(0, 0, 0, 0.3));\n",
              "      fill: #FFFFFF;\n",
              "    }\n",
              "  </style>\n",
              "\n",
              "      <script>\n",
              "        const buttonEl =\n",
              "          document.querySelector('#df-77196b66-d60e-4bf1-a2a6-470c8233e1ab button.colab-df-convert');\n",
              "        buttonEl.style.display =\n",
              "          google.colab.kernel.accessAllowed ? 'block' : 'none';\n",
              "\n",
              "        async function convertToInteractive(key) {\n",
              "          const element = document.querySelector('#df-77196b66-d60e-4bf1-a2a6-470c8233e1ab');\n",
              "          const dataTable =\n",
              "            await google.colab.kernel.invokeFunction('convertToInteractive',\n",
              "                                                     [key], {});\n",
              "          if (!dataTable) return;\n",
              "\n",
              "          const docLinkHtml = 'Like what you see? Visit the ' +\n",
              "            '<a target=\"_blank\" href=https://colab.research.google.com/notebooks/data_table.ipynb>data table notebook</a>'\n",
              "            + ' to learn more about interactive tables.';\n",
              "          element.innerHTML = '';\n",
              "          dataTable['output_type'] = 'display_data';\n",
              "          await google.colab.output.renderOutput(dataTable, element);\n",
              "          const docLink = document.createElement('div');\n",
              "          docLink.innerHTML = docLinkHtml;\n",
              "          element.appendChild(docLink);\n",
              "        }\n",
              "      </script>\n",
              "    </div>\n",
              "  </div>\n",
              "  "
            ]
          },
          "metadata": {},
          "execution_count": 8
        }
      ]
    },
    {
      "cell_type": "markdown",
      "source": [
        "# **Data Preparation**"
      ],
      "metadata": {
        "id": "ORKlAKzoOus8"
      }
    },
    {
      "cell_type": "markdown",
      "source": [
        "Для начала приведем в порядок названия колонок."
      ],
      "metadata": {
        "id": "xIvq_FaNQdiF"
      }
    },
    {
      "cell_type": "code",
      "source": [
        "data.columns = ['temperature', 'luminosity', 'radius', 'absolute_magnitude', 'star_type', 'star_color']"
      ],
      "metadata": {
        "id": "fsqsB99LPzR_"
      },
      "execution_count": 9,
      "outputs": []
    },
    {
      "cell_type": "markdown",
      "source": [
        "Проверим на наличие дубликатов."
      ],
      "metadata": {
        "id": "I9qSgKJDQqGE"
      }
    },
    {
      "cell_type": "code",
      "source": [
        "data.duplicated().sum()"
      ],
      "metadata": {
        "colab": {
          "base_uri": "https://localhost:8080/"
        },
        "id": "ikAewzQuQnix",
        "outputId": "8d98f8b7-74d0-4efe-f9a7-489ca0b73d96"
      },
      "execution_count": 10,
      "outputs": [
        {
          "output_type": "execute_result",
          "data": {
            "text/plain": [
              "0"
            ]
          },
          "metadata": {},
          "execution_count": 10
        }
      ]
    },
    {
      "cell_type": "markdown",
      "source": [
        "Дубликатов нет."
      ],
      "metadata": {
        "id": "iEUZBLztQtXC"
      }
    },
    {
      "cell_type": "markdown",
      "source": [
        "Теперь проверим есть ли пропуски в данных."
      ],
      "metadata": {
        "id": "KSm8Xa4DQyJc"
      }
    },
    {
      "cell_type": "code",
      "source": [
        "data.isna().sum()"
      ],
      "metadata": {
        "colab": {
          "base_uri": "https://localhost:8080/"
        },
        "id": "4GrYThYzQrpn",
        "outputId": "4fce16f8-b14f-4729-e9f6-c59e2ec47da6"
      },
      "execution_count": 11,
      "outputs": [
        {
          "output_type": "execute_result",
          "data": {
            "text/plain": [
              "temperature           0\n",
              "luminosity            0\n",
              "radius                0\n",
              "absolute_magnitude    0\n",
              "star_type             0\n",
              "star_color            0\n",
              "dtype: int64"
            ]
          },
          "metadata": {},
          "execution_count": 11
        }
      ]
    },
    {
      "cell_type": "markdown",
      "source": [
        "Пропусков нет."
      ],
      "metadata": {
        "id": "50K8Brz1Q3Si"
      }
    },
    {
      "cell_type": "markdown",
      "source": [
        "# **EDA**"
      ],
      "metadata": {
        "id": "Kt0F6CeqQ9BR"
      }
    },
    {
      "cell_type": "markdown",
      "source": [
        "Изучим таргет."
      ],
      "metadata": {
        "id": "alBVRUEORAZO"
      }
    },
    {
      "cell_type": "code",
      "source": [
        "plt.figure(figsize=[10, 6])\n",
        "data['temperature'].hist(bins=8, color='royalblue')\n",
        "plt.xlabel('temperature')\n",
        "plt.title('temperature distribution')"
      ],
      "metadata": {
        "colab": {
          "base_uri": "https://localhost:8080/",
          "height": 427
        },
        "id": "8nZGl6tXQ0LN",
        "outputId": "c358aa2e-dbe4-4fd6-8a2f-2d9723e6d7e5"
      },
      "execution_count": 12,
      "outputs": [
        {
          "output_type": "execute_result",
          "data": {
            "text/plain": [
              "Text(0.5, 1.0, 'temperature distribution')"
            ]
          },
          "metadata": {},
          "execution_count": 12
        },
        {
          "output_type": "display_data",
          "data": {
            "text/plain": [
              "<Figure size 720x432 with 1 Axes>"
            ],
            "image/png": "[encoded data removed]"
          },
          "metadata": {}
        }
      ]
    },
    {
      "cell_type": "markdown",
      "source": [
        "Таргет распределен экспоненциально."
      ],
      "metadata": {
        "id": "TQgSr4EKRHjN"
      }
    },
    {
      "cell_type": "code",
      "source": [
        "plt.figure(figsize=[15,4])\n",
        "sns.boxplot(x=data['temperature'], color='royalblue')\n",
        "plt.title('boxplot')"
      ],
      "metadata": {
        "colab": {
          "base_uri": "https://localhost:8080/",
          "height": 318
        },
        "id": "D7brr2D_RFMo",
        "outputId": "31f4ca01-5b4c-43c2-d7fa-0b884957164d"
      },
      "execution_count": 13,
      "outputs": [
        {
          "output_type": "execute_result",
          "data": {
            "text/plain": [
              "Text(0.5, 1.0, 'boxplot')"
            ]
          },
          "metadata": {},
          "execution_count": 13
        },
        {
          "output_type": "display_data",
          "data": {
            "text/plain": [
              "<Figure size 1080x288 with 1 Axes>"
            ],
            "image/png": "[encoded data removed]"
          },
          "metadata": {}
        }
      ]
    },
    {
      "cell_type": "markdown",
      "source": [
        "Изучим колонку luminosity."
      ],
      "metadata": {
        "id": "M8KlM6XDR46v"
      }
    },
    {
      "cell_type": "code",
      "source": [
        "plt.figure(figsize=[10, 6])\n",
        "data['luminosity'].hist(bins=5, color='royalblue')\n",
        "plt.xlabel('luminosity')\n",
        "plt.title('luminosity distribution')"
      ],
      "metadata": {
        "colab": {
          "base_uri": "https://localhost:8080/",
          "height": 427
        },
        "id": "CqdlNIM9RM9R",
        "outputId": "fc6299e4-a130-46c1-c674-316a39a747af"
      },
      "execution_count": 14,
      "outputs": [
        {
          "output_type": "execute_result",
          "data": {
            "text/plain": [
              "Text(0.5, 1.0, 'luminosity distribution')"
            ]
          },
          "metadata": {},
          "execution_count": 14
        },
        {
          "output_type": "display_data",
          "data": {
            "text/plain": [
              "<Figure size 720x432 with 1 Axes>"
            ],
            "image/png": "[encoded data removed]"
          },
          "metadata": {}
        }
      ]
    },
    {
      "cell_type": "markdown",
      "source": [
        "Колонка luminosuty также распределена экспоненциально."
      ],
      "metadata": {
        "id": "pZ_Y3IgBSTTS"
      }
    },
    {
      "cell_type": "markdown",
      "source": [
        "Изучим колонку radius."
      ],
      "metadata": {
        "id": "k3cOiYsTSbD4"
      }
    },
    {
      "cell_type": "code",
      "source": [
        "plt.figure(figsize=[10, 6])\n",
        "data['radius'].hist(color='royalblue')\n",
        "plt.xlabel('radius')\n",
        "plt.title('radius distribution')"
      ],
      "metadata": {
        "colab": {
          "base_uri": "https://localhost:8080/",
          "height": 427
        },
        "id": "DrYAc7gMR8iR",
        "outputId": "ab263253-7582-4d75-90cc-af43f8eb9d11"
      },
      "execution_count": 15,
      "outputs": [
        {
          "output_type": "execute_result",
          "data": {
            "text/plain": [
              "Text(0.5, 1.0, 'radius distribution')"
            ]
          },
          "metadata": {},
          "execution_count": 15
        },
        {
          "output_type": "display_data",
          "data": {
            "text/plain": [
              "<Figure size 720x432 with 1 Axes>"
            ],
            "image/png": "[encoded data removed]"
          },
          "metadata": {}
        }
      ]
    },
    {
      "cell_type": "code",
      "source": [
        "plt.figure(figsize=[15,4])\n",
        "sns.boxplot(x=data['radius'], color='royalblue')\n",
        "plt.title('boxplot')"
      ],
      "metadata": {
        "colab": {
          "base_uri": "https://localhost:8080/",
          "height": 318
        },
        "id": "KkD09ospSeqV",
        "outputId": "fdcd3bd7-169a-4c24-d568-715f0db09d11"
      },
      "execution_count": 16,
      "outputs": [
        {
          "output_type": "execute_result",
          "data": {
            "text/plain": [
              "Text(0.5, 1.0, 'boxplot')"
            ]
          },
          "metadata": {},
          "execution_count": 16
        },
        {
          "output_type": "display_data",
          "data": {
            "text/plain": [
              "<Figure size 1080x288 with 1 Axes>"
            ],
            "image/png": "[encoded data removed]"
          },
          "metadata": {}
        }
      ]
    },
    {
      "cell_type": "markdown",
      "source": [
        "Очень много выбросов."
      ],
      "metadata": {
        "id": "_SoCSQBwSmCj"
      }
    },
    {
      "cell_type": "markdown",
      "source": [
        "Изучим колонку absolute_magnitude."
      ],
      "metadata": {
        "id": "OcfjQpUTTDkI"
      }
    },
    {
      "cell_type": "code",
      "source": [
        "plt.figure(figsize=[10, 6])\n",
        "data['absolute_magnitude'].hist(bins=25, color='royalblue')\n",
        "plt.xlabel('absolute_magnitude')\n",
        "plt.title('absolute_magnitude distribution')"
      ],
      "metadata": {
        "colab": {
          "base_uri": "https://localhost:8080/",
          "height": 427
        },
        "id": "0vCMkkAUSjPW",
        "outputId": "6159eb69-b0be-47e4-b5b9-f89512f04fcd"
      },
      "execution_count": 17,
      "outputs": [
        {
          "output_type": "execute_result",
          "data": {
            "text/plain": [
              "Text(0.5, 1.0, 'absolute_magnitude distribution')"
            ]
          },
          "metadata": {},
          "execution_count": 17
        },
        {
          "output_type": "display_data",
          "data": {
            "text/plain": [
              "<Figure size 720x432 with 1 Axes>"
            ],
            "image/png": "[encoded data removed]"
          },
          "metadata": {}
        }
      ]
    },
    {
      "cell_type": "code",
      "source": [
        "plt.figure(figsize=[15,4])\n",
        "sns.boxplot(x=data['absolute_magnitude'], color='royalblue')\n",
        "plt.title('boxplot')"
      ],
      "metadata": {
        "colab": {
          "base_uri": "https://localhost:8080/",
          "height": 318
        },
        "id": "05Q5tOxBTGoE",
        "outputId": "f2447b76-b8d3-48e1-a4ec-275c9141d650"
      },
      "execution_count": 18,
      "outputs": [
        {
          "output_type": "execute_result",
          "data": {
            "text/plain": [
              "Text(0.5, 1.0, 'boxplot')"
            ]
          },
          "metadata": {},
          "execution_count": 18
        },
        {
          "output_type": "display_data",
          "data": {
            "text/plain": [
              "<Figure size 1080x288 with 1 Axes>"
            ],
            "image/png": "[encoded data removed]"
          },
          "metadata": {}
        }
      ]
    },
    {
      "cell_type": "markdown",
      "source": [
        "Изучим колонку star_type."
      ],
      "metadata": {
        "id": "VnKcCihETPPk"
      }
    },
    {
      "cell_type": "code",
      "source": [
        "data['star_type'].value_counts()"
      ],
      "metadata": {
        "colab": {
          "base_uri": "https://localhost:8080/"
        },
        "id": "dmwwrZFLTKIb",
        "outputId": "6c06ea29-fda6-449d-d6d5-12df72c770d7"
      },
      "execution_count": 19,
      "outputs": [
        {
          "output_type": "execute_result",
          "data": {
            "text/plain": [
              "0    40\n",
              "1    40\n",
              "2    40\n",
              "3    40\n",
              "4    40\n",
              "5    40\n",
              "Name: star_type, dtype: int64"
            ]
          },
          "metadata": {},
          "execution_count": 19
        }
      ]
    },
    {
      "cell_type": "code",
      "source": [
        "data['star_type'].value_counts().plot(kind='bar', title='star_type distribution', xlabel='classes', \n",
        "                                     ylabel='quantity', rot=1, color='orange', alpha =0.9, figsize=(8,8))"
      ],
      "metadata": {
        "colab": {
          "base_uri": "https://localhost:8080/",
          "height": 535
        },
        "id": "4HNeE-hTTQ5Y",
        "outputId": "0314b6f0-62d4-4d24-9fcc-90184a75fa79"
      },
      "execution_count": 20,
      "outputs": [
        {
          "output_type": "execute_result",
          "data": {
            "text/plain": [
              "<matplotlib.axes._subplots.AxesSubplot at 0x7ff26ffb15d0>"
            ]
          },
          "metadata": {},
          "execution_count": 20
        },
        {
          "output_type": "display_data",
          "data": {
            "text/plain": [
              "<Figure size 576x576 with 1 Axes>"
            ],
            "image/png": "[encoded data removed]"
          },
          "metadata": {}
        }
      ]
    },
    {
      "cell_type": "markdown",
      "source": [
        "Изучим колонку star_color."
      ],
      "metadata": {
        "id": "7wGvvoevTWyo"
      }
    },
    {
      "cell_type": "markdown",
      "source": [
        "В колонке star_color много категорий, но много их не из-за разнообразия, а из-за того, что многие цвета одинаковы, но по-разному написаны. Исправим это."
      ],
      "metadata": {
        "id": "R_rrPiEWTYoe"
      }
    },
    {
      "cell_type": "code",
      "source": [
        "data['star_color'].value_counts()"
      ],
      "metadata": {
        "colab": {
          "base_uri": "https://localhost:8080/"
        },
        "id": "QZRVc9fsTTux",
        "outputId": "ac69f634-0e4e-4600-9eaf-030667ca3ff5"
      },
      "execution_count": 21,
      "outputs": [
        {
          "output_type": "execute_result",
          "data": {
            "text/plain": [
              "Red                   112\n",
              "Blue                   55\n",
              "Blue-white             26\n",
              "Blue White             10\n",
              "yellow-white            8\n",
              "White                   7\n",
              "Blue white              3\n",
              "Yellowish White         3\n",
              "white                   3\n",
              "Whitish                 2\n",
              "Orange                  2\n",
              "yellowish               2\n",
              "Pale yellow orange      1\n",
              "White-Yellow            1\n",
              "Blue                    1\n",
              "Yellowish               1\n",
              "Orange-Red              1\n",
              "Blue white              1\n",
              "Blue-White              1\n",
              "Name: star_color, dtype: int64"
            ]
          },
          "metadata": {},
          "execution_count": 21
        }
      ]
    },
    {
      "cell_type": "code",
      "source": [
        "data['star_color'] = data['star_color'].str.lower()\n",
        "data['star_color'] = data['star_color'].str.strip()"
      ],
      "metadata": {
        "id": "eEDca5jsTaui"
      },
      "execution_count": 22,
      "outputs": []
    },
    {
      "cell_type": "code",
      "source": [
        "def filter(x):\n",
        "    if x == 'blue white':\n",
        "        return 'blue-white'\n",
        "    elif x in ['yellowish white','white-yellow']:\n",
        "        return 'yellow-white'\n",
        "    elif x == 'whitish':\n",
        "        return 'white'\n",
        "    elif x == 'yellowish':\n",
        "        return 'yellow'\n",
        "    elif x == 'pale yellow orange':\n",
        "        return 'pale yellow-orange'\n",
        "    else:\n",
        "        return x"
      ],
      "metadata": {
        "id": "pknR7n_zT-uN"
      },
      "execution_count": 23,
      "outputs": []
    },
    {
      "cell_type": "code",
      "source": [
        "data['star_color'] = data['star_color'].apply(filter)"
      ],
      "metadata": {
        "id": "KXDWRcd_ULIm"
      },
      "execution_count": 24,
      "outputs": []
    },
    {
      "cell_type": "code",
      "source": [
        "data['star_color'].value_counts()"
      ],
      "metadata": {
        "colab": {
          "base_uri": "https://localhost:8080/"
        },
        "id": "BSteGwwvUpFZ",
        "outputId": "6e22774d-a5f8-4bf2-eed0-2f9e6898276c"
      },
      "execution_count": 25,
      "outputs": [
        {
          "output_type": "execute_result",
          "data": {
            "text/plain": [
              "red                   112\n",
              "blue                   56\n",
              "blue-white             41\n",
              "white                  12\n",
              "yellow-white           12\n",
              "yellow                  3\n",
              "orange                  2\n",
              "pale yellow-orange      1\n",
              "orange-red              1\n",
              "Name: star_color, dtype: int64"
            ]
          },
          "metadata": {},
          "execution_count": 25
        }
      ]
    },
    {
      "cell_type": "code",
      "source": [
        "data['star_color'].value_counts().plot(kind='bar', title='star_color distribution', xlabel='colors', \n",
        "                                     ylabel='quantity', rot=1, color='orange', alpha =0.9, figsize=(15,8))"
      ],
      "metadata": {
        "colab": {
          "base_uri": "https://localhost:8080/",
          "height": 537
        },
        "id": "2At9dtB2UqXI",
        "outputId": "e7eeeb23-ba83-4210-edae-661ee1d527e8"
      },
      "execution_count": 26,
      "outputs": [
        {
          "output_type": "execute_result",
          "data": {
            "text/plain": [
              "<matplotlib.axes._subplots.AxesSubplot at 0x7ff26feec550>"
            ]
          },
          "metadata": {},
          "execution_count": 26
        },
        {
          "output_type": "display_data",
          "data": {
            "text/plain": [
              "<Figure size 1080x576 with 1 Axes>"
            ],
            "image/png": "[encoded data removed]"
          },
          "metadata": {}
        }
      ]
    },
    {
      "cell_type": "markdown",
      "source": [
        "По графику видно, что начиная с желто-белого цвета - цвета представлены в очень маленьком количестве. Поэтому объеденим их всех в отдельную категорию - 'others'."
      ],
      "metadata": {
        "id": "OmLFkHvUVF9H"
      }
    },
    {
      "cell_type": "code",
      "source": [
        "most_frequent = ['red', 'blue', 'blue-white']\n",
        "data['star_color'] = data['star_color'].apply(lambda x: 'others' if x not in most_frequent else x)"
      ],
      "metadata": {
        "id": "MeFOuik1VCUO"
      },
      "execution_count": 27,
      "outputs": []
    },
    {
      "cell_type": "markdown",
      "source": [
        "Изучив количественные колонки видно, что они содержат очень много выбросов. Выбросов настолько много, что, если мы их отбросим, то наш датасет станет на 30% меньше. Наибольшая часть выбросов содержится в колонке radius. Если мы удалим все выбросы (то есть все звезды с большим радиусом) и обучим на этих данных, то при тестировании модели на звездах с большим радиусом - результаты будут плохие, поэтому не будем удалять выбросы."
      ],
      "metadata": {
        "id": "OhroN5BE6WVv"
      }
    },
    {
      "cell_type": "markdown",
      "source": [
        "# **Modeling**"
      ],
      "metadata": {
        "id": "vHYjMAuJWYIy"
      }
    },
    {
      "cell_type": "markdown",
      "source": [
        "Разделим данные на три части: train, validation, test."
      ],
      "metadata": {
        "id": "IHRhKHMEZzoq"
      }
    },
    {
      "cell_type": "code",
      "source": [
        "x_train, x_test, y_train, y_test = train_test_split(data.drop('temperature', axis=1), data['temperature'], \n",
        "                                                    train_size=0.8, random_state=67, shuffle=True)"
      ],
      "metadata": {
        "id": "LI4qdxp3ZNAN"
      },
      "execution_count": 28,
      "outputs": []
    },
    {
      "cell_type": "code",
      "source": [
        "x_test, x_valid, y_test, y_valid = train_test_split(x_test, y_test, train_size=0.5, random_state=67, shuffle=True)"
      ],
      "metadata": {
        "id": "H1RmFHNEa9hS"
      },
      "execution_count": 29,
      "outputs": []
    },
    {
      "cell_type": "markdown",
      "source": [
        "Итого у нас 80% данных в train и по 10% в validation и test."
      ],
      "metadata": {
        "id": "vlWfEt5-eb5C"
      }
    },
    {
      "cell_type": "markdown",
      "source": [
        "Подготовим данные к обучению - маштабируем количественные данные и применим технику OHE к категориальным признакам."
      ],
      "metadata": {
        "id": "n9SP-N09Xt5Z"
      }
    },
    {
      "cell_type": "code",
      "source": [
        "x_train = pd.get_dummies(x_train, columns = ['star_type', 'star_color'], drop_first=True)\n",
        "x_valid = pd.get_dummies(x_valid, columns = ['star_type', 'star_color'], drop_first=True)\n",
        "x_test = pd.get_dummies(x_test, columns = ['star_type', 'star_color'], drop_first=True)"
      ],
      "metadata": {
        "id": "Wp75ssqtXzG5"
      },
      "execution_count": 30,
      "outputs": []
    },
    {
      "cell_type": "code",
      "source": [
        "columns = ['luminosity', 'radius', 'absolute_magnitude']\n",
        "scaler = StandardScaler()\n",
        "scaler.fit(x_train[columns])\n",
        "x_train[columns] = scaler.transform(x_train[columns])\n",
        "x_valid[columns] = scaler.transform(x_valid[columns])\n",
        "x_test[columns] = scaler.transform(x_test[columns])"
      ],
      "metadata": {
        "id": "rzjAqAREZwbT"
      },
      "execution_count": 31,
      "outputs": []
    },
    {
      "cell_type": "markdown",
      "source": [
        "Посмотрим на предобработанные данные."
      ],
      "metadata": {
        "id": "LOUts46NMAgo"
      }
    },
    {
      "cell_type": "markdown",
      "source": [
        "Для решения данной задачи будет использовать нейросеть."
      ],
      "metadata": {
        "id": "La71QBJ-OKtJ"
      }
    },
    {
      "cell_type": "code",
      "source": [
        "x_train = torch.FloatTensor(x_train.values)\n",
        "x_valid = torch.FloatTensor(x_valid.values)\n",
        "x_test = torch.FloatTensor(x_test.values)"
      ],
      "metadata": {
        "id": "LSmnb1uxMC16"
      },
      "execution_count": 32,
      "outputs": []
    },
    {
      "cell_type": "code",
      "source": [
        "y_train = torch.FloatTensor(y_train.values).reshape(y_train.shape[0], 1)\n",
        "y_valid = torch.FloatTensor(y_valid.values).reshape(y_test.shape[0], 1)\n",
        "y_test = torch.FloatTensor(y_test.values).reshape(y_test.shape[0], 1)"
      ],
      "metadata": {
        "id": "9DmqQjCCOtfz"
      },
      "execution_count": 33,
      "outputs": []
    },
    {
      "cell_type": "code",
      "source": [
        "n_in_neurons, n_out_neurons = x_train.shape[1], 1 "
      ],
      "metadata": {
        "id": "MubWQ2DdO59r"
      },
      "execution_count": 34,
      "outputs": []
    },
    {
      "cell_type": "markdown",
      "source": [
        "В качестве метрики возьмем RMSE. А лосс будет MSE."
      ],
      "metadata": {
        "id": "wT39eJoCe577"
      }
    },
    {
      "cell_type": "code",
      "source": [
        "rmse = MeanSquaredError(squared = False)\n",
        "loss = nn.MSELoss()"
      ],
      "metadata": {
        "id": "B3fFnhv2S8ga"
      },
      "execution_count": 35,
      "outputs": []
    },
    {
      "cell_type": "markdown",
      "source": [
        "Для начала попробуем модель с одним скрытым слоем."
      ],
      "metadata": {
        "id": "G1eoTLr82DYq"
      }
    },
    {
      "cell_type": "markdown",
      "source": [
        "Будем обучать 1000 эпох."
      ],
      "metadata": {
        "id": "9LYqWz-G6ulh"
      }
    },
    {
      "cell_type": "code",
      "source": [
        "num_epochs = 1000"
      ],
      "metadata": {
        "id": "qfyNtuzQzSqL"
      },
      "execution_count": 36,
      "outputs": []
    },
    {
      "cell_type": "markdown",
      "source": [
        "Напишем функцию, чтобы не повторять один и тот же код много раз."
      ],
      "metadata": {
        "id": "oVCKOniwaV8U"
      }
    },
    {
      "cell_type": "code",
      "source": [
        "def learn_and_eval(model, num_epochs, hidden_layers=1):\n",
        "  for epoch in range(num_epochs):\n",
        "\n",
        "        optimizer.zero_grad()\n",
        "      \n",
        "        preds = model.forward(x_train) \n",
        "            \n",
        "        loss_value = loss(preds, y_train)\n",
        "        loss_value.backward()\n",
        "            \n",
        "        optimizer.step()\n",
        "        \n",
        "  model.eval()    \n",
        "  res = rmse(model.forward(x_valid), y_valid)\n",
        "  if hidden_layers == 1:\n",
        "    print(f'h1: {n_hidden_neurons_1}, rmse: {res}')\n",
        "  elif hidden_layers == 2:\n",
        "    print(f'h1: {n_hidden_neurons_1}, h2: {n_hidden_neurons_2}, rmse: {res}')\n",
        "  else:\n",
        "    print(f'h1: {n_hidden_neurons_1}, h2: {n_hidden_neurons_2}, h3: {n_hidden_neurons_3}, rmse: {res}')"
      ],
      "metadata": {
        "id": "nSAcmyL7MWfq"
      },
      "execution_count": 37,
      "outputs": []
    },
    {
      "cell_type": "code",
      "source": [
        "h1 = [100, 300, 500, 800, 1000, 1200, 1500, 1800, 2100, 2500]"
      ],
      "metadata": {
        "id": "hySiOZUA6sPE"
      },
      "execution_count": 38,
      "outputs": []
    },
    {
      "cell_type": "code",
      "source": [
        "for n_hidden_neurons_1 in h1:\n",
        "\n",
        "    model = nn.Sequential(\n",
        "    nn.Linear(n_in_neurons, n_hidden_neurons_1),\n",
        "    nn.ReLU(),\n",
        "    nn.Linear(n_hidden_neurons_1, n_out_neurons)   \n",
        "    )\n",
        "\n",
        "    optimizer = torch.optim.Adam(model.parameters(), lr=1e-3)\n",
        "    \n",
        "    learn_and_eval(model, num_epochs, hidden_layers=1)"
      ],
      "metadata": {
        "colab": {
          "base_uri": "https://localhost:8080/"
        },
        "id": "KEtkI6ac8GNZ",
        "outputId": "0e9d466f-4a45-4534-8741-ef7387d3508b"
      },
      "execution_count": 39,
      "outputs": [
        {
          "output_type": "stream",
          "name": "stdout",
          "text": [
            "h1: 100, rmse: 16154.22265625\n",
            "h1: 300, rmse: 15294.2080078125\n",
            "h1: 500, rmse: 14527.779296875\n",
            "h1: 800, rmse: 13518.240234375\n",
            "h1: 1000, rmse: 12945.9423828125\n",
            "h1: 1200, rmse: 12428.29296875\n",
            "h1: 1500, rmse: 11756.751953125\n",
            "h1: 1800, rmse: 11204.0283203125\n",
            "h1: 2100, rmse: 10725.4765625\n",
            "h1: 2500, rmse: 10256.8681640625\n"
          ]
        }
      ]
    },
    {
      "cell_type": "markdown",
      "source": [
        "Лучший RMSE - 10244, при 1500 нейронах в скрытом слое."
      ],
      "metadata": {
        "id": "lEOxFnBNF9mU"
      }
    },
    {
      "cell_type": "markdown",
      "source": [
        "Теперь попробуем модель с двумя скрытыми слоями."
      ],
      "metadata": {
        "id": "7rLXGuKrGBuL"
      }
    },
    {
      "cell_type": "code",
      "source": [
        "h1 = list(range(300, 1500, 50))\n",
        "h2 = list(range(300,1200, 50))\n",
        "samples = 15 # amount of combinations"
      ],
      "metadata": {
        "id": "o-JOI7HzGAIq"
      },
      "execution_count": 40,
      "outputs": []
    },
    {
      "cell_type": "code",
      "source": [
        "for i in range(samples):\n",
        "    \n",
        "    n_hidden_neurons_1 = h1[np.random.randint(0, len(h1))]\n",
        "    n_hidden_neurons_2 = h2[np.random.randint(0, len(h2))]\n",
        "    \n",
        "    model = nn.Sequential(\n",
        "    nn.Linear(n_in_neurons, n_hidden_neurons_1),\n",
        "    nn.Tanh(),\n",
        "    nn.Linear(n_hidden_neurons_1, n_hidden_neurons_2), \n",
        "    nn.ReLU(),\n",
        "    nn.Linear(n_hidden_neurons_2, n_out_neurons)   \n",
        "    )\n",
        "\n",
        "    optimizer = torch.optim.Adam(model.parameters(), lr=1e-3)\n",
        "\n",
        "    learn_and_eval(model, num_epochs, hidden_layers=2)"
      ],
      "metadata": {
        "colab": {
          "base_uri": "https://localhost:8080/"
        },
        "id": "-Rj2IeOqHai0",
        "outputId": "0a7a4fec-cf6d-46b2-9767-59b4f09a9a1d"
      },
      "execution_count": 41,
      "outputs": [
        {
          "output_type": "stream",
          "name": "stdout",
          "text": [
            "h1: 450, h2: 800, rmse: 3275.176025390625\n",
            "h1: 550, h2: 650, rmse: 3274.82080078125\n",
            "h1: 750, h2: 450, rmse: 3261.867431640625\n",
            "h1: 1400, h2: 950, rmse: 3965.99462890625\n",
            "h1: 450, h2: 700, rmse: 3346.73974609375\n",
            "h1: 1350, h2: 450, rmse: 3362.412841796875\n",
            "h1: 1400, h2: 500, rmse: 3464.633544921875\n",
            "h1: 1450, h2: 1000, rmse: 3980.4169921875\n",
            "h1: 950, h2: 350, rmse: 3298.609619140625\n",
            "h1: 800, h2: 650, rmse: 3302.708251953125\n",
            "h1: 400, h2: 750, rmse: 3276.24609375\n",
            "h1: 1350, h2: 450, rmse: 3384.77587890625\n",
            "h1: 400, h2: 1000, rmse: 3290.326171875\n",
            "h1: 750, h2: 500, rmse: 3237.236083984375\n",
            "h1: 1250, h2: 1150, rmse: 4024.245361328125\n"
          ]
        }
      ]
    },
    {
      "cell_type": "markdown",
      "source": [
        "Модель с двумя скрытыми слоями показала себя значительно лучше. Лучший RMSE уменьшился больше, чем в два раза и достиг 2246, при 450 нейронах в первом скрытом слое и 550 нейронах во втором скрытом слое."
      ],
      "metadata": {
        "id": "4sb1k5EiIPSw"
      }
    },
    {
      "cell_type": "markdown",
      "source": [
        "Теперь попробуем три скрытых слоя."
      ],
      "metadata": {
        "id": "1PSEAzolIRiE"
      }
    },
    {
      "cell_type": "code",
      "source": [
        "h3 = list(range(300, 600, 50))\n",
        "samples = 15 # amount of combinations"
      ],
      "metadata": {
        "id": "_ErrNFIpIXW3"
      },
      "execution_count": 42,
      "outputs": []
    },
    {
      "cell_type": "code",
      "source": [
        "for i in range(samples):\n",
        "    \n",
        "    n_hidden_neurons_1 = h1[np.random.randint(0, len(h1))]\n",
        "    n_hidden_neurons_2 = h2[np.random.randint(0, len(h2))]\n",
        "    n_hidden_neurons_3 = h3[np.random.randint(0, len(h3))]\n",
        "    \n",
        "    model = nn.Sequential(\n",
        "    nn.Linear(n_in_neurons, n_hidden_neurons_1),\n",
        "    nn.Tanh(), \n",
        "    nn.Linear(n_hidden_neurons_1, n_hidden_neurons_2), \n",
        "    nn.Tanh(),\n",
        "    nn.Linear(n_hidden_neurons_2, n_hidden_neurons_3),   \n",
        "    nn.ReLU(), \n",
        "    nn.Linear(n_hidden_neurons_3, n_out_neurons)    \n",
        "    )\n",
        "\n",
        "    optimizer = torch.optim.Adam(model.parameters(), lr=1e-3)\n",
        "\n",
        "    learn_and_eval(model, 1000, hidden_layers=3)"
      ],
      "metadata": {
        "colab": {
          "base_uri": "https://localhost:8080/"
        },
        "id": "sxoKILn2MLCr",
        "outputId": "a13aa487-406e-4956-a8a4-a8fb48de63e9"
      },
      "execution_count": 43,
      "outputs": [
        {
          "output_type": "stream",
          "name": "stdout",
          "text": [
            "h1: 800, h2: 900, h3: 300, rmse: 5495.1826171875\n",
            "h1: 1200, h2: 650, h3: 400, rmse: 5171.30615234375\n",
            "h1: 300, h2: 950, h3: 550, rmse: 6626.69189453125\n",
            "h1: 900, h2: 400, h3: 450, rmse: 5379.34423828125\n",
            "h1: 1100, h2: 900, h3: 550, rmse: 5523.39892578125\n",
            "h1: 1450, h2: 450, h3: 550, rmse: 5497.5068359375\n",
            "h1: 350, h2: 600, h3: 350, rmse: 5730.4658203125\n",
            "h1: 1250, h2: 950, h3: 450, rmse: 5448.3193359375\n",
            "h1: 1300, h2: 550, h3: 300, rmse: 4951.490234375\n",
            "h1: 700, h2: 550, h3: 350, rmse: 5261.69384765625\n",
            "h1: 1350, h2: 400, h3: 500, rmse: 5277.345703125\n",
            "h1: 700, h2: 800, h3: 500, rmse: 6346.5869140625\n",
            "h1: 800, h2: 950, h3: 350, rmse: 6223.03515625\n",
            "h1: 1150, h2: 700, h3: 300, rmse: 5058.54736328125\n",
            "h1: 1450, h2: 350, h3: 300, rmse: 5117.28662109375\n"
          ]
        }
      ]
    },
    {
      "cell_type": "markdown",
      "source": [
        "Модель с тремя скрытыми слоями показала себя лучше модели с одним скрытым слоем, но хуже, чем модель с двумя скрытыми слоями. Лучший RMSE - 2477, при 1100 нейронах в первом скрытом слое, 650 нейронах во втором скрытом слое и 450 нейронах в третьем скрытом слое."
      ],
      "metadata": {
        "id": "-Vi-M7xDj7dy"
      }
    },
    {
      "cell_type": "markdown",
      "source": [
        "Протестировав три различные архитектуры, в качестве основной модели возьмем двух слойную нейронную сеть с 450 нейронами в первом скрытом слое и 550 нейронами во втором скрытом слое."
      ],
      "metadata": {
        "id": "4WVaxdY-kKol"
      }
    },
    {
      "cell_type": "code",
      "source": [
        "n_hidden_neurons_1, n_hidden_neurons_2 = 750, 500 # best combination "
      ],
      "metadata": {
        "id": "ve9R0xfskIf6"
      },
      "execution_count": 44,
      "outputs": []
    }
  ]
}