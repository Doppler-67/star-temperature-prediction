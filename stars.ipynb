{
  "nbformat": 4,
  "nbformat_minor": 0,
  "metadata": {
    "colab": {
      "provenance": [],
      "collapsed_sections": [
        "ORKlAKzoOus8"
      ],
      "mount_file_id": "1bjcj6MKnYuMC8p5usJZdgwYWEZNN4ZDz",
      "authorship_tag": "ABX9TyOsJ8kBxie63rRx5abkbLbS",
      "include_colab_link": true
    },
    "kernelspec": {
      "name": "python3",
      "display_name": "Python 3"
    },
    "language_info": {
      "name": "python"
    },
    "accelerator": "GPU",
    "gpuClass": "standard"
  },
  "cells": [
    {
      "cell_type": "markdown",
      "metadata": {
        "id": "view-in-github",
        "colab_type": "text"
      },
      "source": [
        "<a href=\"https://colab.research.google.com/github/Doppler-67/star-temperature-prediction/blob/main/stars.ipynb\" target=\"_parent\"><img src=\"https://colab.research.google.com/assets/colab-badge.svg\" alt=\"Open In Colab\"/></a>"
      ]
    },
    {
      "cell_type": "markdown",
      "source": [
        "**Цель проекта:**\n",
        "\n",
        "Нужно построить модель, которая будет определять температуру на поверхностях звезд.\n",
        "\n",
        "**Описание данных:**\n",
        "\n",
        "Доступны характеристики звезд и их температура.\n"
      ],
      "metadata": {
        "id": "8nlhedyHEbwU"
      }
    },
    {
      "cell_type": "markdown",
      "source": [
        "⭕ Более подробная информация находится в README файле."
      ],
      "metadata": {
        "id": "Di4NEF2OEooa"
      }
    },
    {
      "cell_type": "markdown",
      "source": [
        "# **Importing libraries**"
      ],
      "metadata": {
        "id": "l3O5Pva07pan"
      }
    },
    {
      "cell_type": "code",
      "execution_count": 1,
      "metadata": {
        "id": "JwtITXaSHUae"
      },
      "outputs": [],
      "source": [
        "import matplotlib.pyplot as plt\n",
        "import seaborn as sns\n",
        "import torch.nn as nn\n",
        "import pandas as pd\n",
        "import numpy as np\n",
        "import optuna\n",
        "import torch\n",
        "\n",
        "from sklearn.model_selection import train_test_split\n",
        "from sklearn.preprocessing import StandardScaler, OrdinalEncoder\n",
        "from sklearn.metrics import mean_squared_error\n",
        "from torchmetrics import MeanSquaredError\n",
        "from catboost import CatBoostRegressor\n",
        "from math import ceil"
      ]
    },
    {
      "cell_type": "code",
      "source": [
        "sns.set()"
      ],
      "metadata": {
        "id": "LnZCVg7kQXVq"
      },
      "execution_count": 2,
      "outputs": []
    },
    {
      "cell_type": "code",
      "source": [
        "torch.manual_seed(67)\n",
        "torch.cuda.manual_seed(67)\n",
        "np.random.seed(67)"
      ],
      "metadata": {
        "id": "3v0JyhREaGFx"
      },
      "execution_count": 3,
      "outputs": []
    },
    {
      "cell_type": "code",
      "source": [
        "device = \"cuda\" if torch.cuda.is_available() else \"cpu\"\n",
        "device"
      ],
      "metadata": {
        "colab": {
          "base_uri": "https://localhost:8080/",
          "height": 35
        },
        "id": "dgk4Z1_ge4FT",
        "outputId": "6d3d4e58-ef51-461a-8ba0-bab1d49a3391"
      },
      "execution_count": 4,
      "outputs": [
        {
          "output_type": "execute_result",
          "data": {
            "text/plain": [
              "'cuda'"
            ],
            "application/vnd.google.colaboratory.intrinsic+json": {
              "type": "string"
            }
          },
          "metadata": {},
          "execution_count": 4
        }
      ]
    },
    {
      "cell_type": "markdown",
      "source": [
        "# **Data understanding**"
      ],
      "metadata": {
        "id": "HDrjWQzjPCJs"
      }
    },
    {
      "cell_type": "code",
      "source": [
        "data = pd.read_csv('/content/drive/MyDrive/stars_ds_project/stars.csv')"
      ],
      "metadata": {
        "id": "acXoGPxANsb8"
      },
      "execution_count": 5,
      "outputs": []
    },
    {
      "cell_type": "code",
      "source": [
        "data.head()"
      ],
      "metadata": {
        "colab": {
          "base_uri": "https://localhost:8080/",
          "height": 206
        },
        "id": "IoO_8KtnN9Xl",
        "outputId": "e9cbb930-74df-4073-fee1-06b1ebbc65c3"
      },
      "execution_count": 6,
      "outputs": [
        {
          "output_type": "execute_result",
          "data": {
            "text/plain": [
              "   Temperature (K)  Luminosity(L/Lo)  Radius(R/Ro)  Absolute magnitude(Mv)  \\\n",
              "0             3068          0.002400        0.1700                   16.12   \n",
              "1             3042          0.000500        0.1542                   16.60   \n",
              "2             2600          0.000300        0.1020                   18.70   \n",
              "3             2800          0.000200        0.1600                   16.65   \n",
              "4             1939          0.000138        0.1030                   20.06   \n",
              "\n",
              "   Star type Star color\\n  \n",
              "0          0          Red  \n",
              "1          0          Red  \n",
              "2          0          Red  \n",
              "3          0          Red  \n",
              "4          0          Red  "
            ],
            "text/html": [
              "\n",
              "  <div id=\"df-9302fb78-133c-4214-9f39-bc37744b678c\">\n",
              "    <div class=\"colab-df-container\">\n",
              "      <div>\n",
              "<style scoped>\n",
              "    .dataframe tbody tr th:only-of-type {\n",
              "        vertical-align: middle;\n",
              "    }\n",
              "\n",
              "    .dataframe tbody tr th {\n",
              "        vertical-align: top;\n",
              "    }\n",
              "\n",
              "    .dataframe thead th {\n",
              "        text-align: right;\n",
              "    }\n",
              "</style>\n",
              "<table border=\"1\" class=\"dataframe\">\n",
              "  <thead>\n",
              "    <tr style=\"text-align: right;\">\n",
              "      <th></th>\n",
              "      <th>Temperature (K)</th>\n",
              "      <th>Luminosity(L/Lo)</th>\n",
              "      <th>Radius(R/Ro)</th>\n",
              "      <th>Absolute magnitude(Mv)</th>\n",
              "      <th>Star type</th>\n",
              "      <th>Star color\\n</th>\n",
              "    </tr>\n",
              "  </thead>\n",
              "  <tbody>\n",
              "    <tr>\n",
              "      <th>0</th>\n",
              "      <td>3068</td>\n",
              "      <td>0.002400</td>\n",
              "      <td>0.1700</td>\n",
              "      <td>16.12</td>\n",
              "      <td>0</td>\n",
              "      <td>Red</td>\n",
              "    </tr>\n",
              "    <tr>\n",
              "      <th>1</th>\n",
              "      <td>3042</td>\n",
              "      <td>0.000500</td>\n",
              "      <td>0.1542</td>\n",
              "      <td>16.60</td>\n",
              "      <td>0</td>\n",
              "      <td>Red</td>\n",
              "    </tr>\n",
              "    <tr>\n",
              "      <th>2</th>\n",
              "      <td>2600</td>\n",
              "      <td>0.000300</td>\n",
              "      <td>0.1020</td>\n",
              "      <td>18.70</td>\n",
              "      <td>0</td>\n",
              "      <td>Red</td>\n",
              "    </tr>\n",
              "    <tr>\n",
              "      <th>3</th>\n",
              "      <td>2800</td>\n",
              "      <td>0.000200</td>\n",
              "      <td>0.1600</td>\n",
              "      <td>16.65</td>\n",
              "      <td>0</td>\n",
              "      <td>Red</td>\n",
              "    </tr>\n",
              "    <tr>\n",
              "      <th>4</th>\n",
              "      <td>1939</td>\n",
              "      <td>0.000138</td>\n",
              "      <td>0.1030</td>\n",
              "      <td>20.06</td>\n",
              "      <td>0</td>\n",
              "      <td>Red</td>\n",
              "    </tr>\n",
              "  </tbody>\n",
              "</table>\n",
              "</div>\n",
              "      <button class=\"colab-df-convert\" onclick=\"convertToInteractive('df-9302fb78-133c-4214-9f39-bc37744b678c')\"\n",
              "              title=\"Convert this dataframe to an interactive table.\"\n",
              "              style=\"display:none;\">\n",
              "        \n",
              "  <svg xmlns=\"http://www.w3.org/2000/svg\" height=\"24px\"viewBox=\"0 0 24 24\"\n",
              "       width=\"24px\">\n",
              "    <path d=\"M0 0h24v24H0V0z\" fill=\"none\"/>\n",
              "    <path d=\"M18.56 5.44l.94 2.06.94-2.06 2.06-.94-2.06-.94-.94-2.06-.94 2.06-2.06.94zm-11 1L8.5 8.5l.94-2.06 2.06-.94-2.06-.94L8.5 2.5l-.94 2.06-2.06.94zm10 10l.94 2.06.94-2.06 2.06-.94-2.06-.94-.94-2.06-.94 2.06-2.06.94z\"/><path d=\"M17.41 7.96l-1.37-1.37c-.4-.4-.92-.59-1.43-.59-.52 0-1.04.2-1.43.59L10.3 9.45l-7.72 7.72c-.78.78-.78 2.05 0 2.83L4 21.41c.39.39.9.59 1.41.59.51 0 1.02-.2 1.41-.59l7.78-7.78 2.81-2.81c.8-.78.8-2.07 0-2.86zM5.41 20L4 18.59l7.72-7.72 1.47 1.35L5.41 20z\"/>\n",
              "  </svg>\n",
              "      </button>\n",
              "      \n",
              "  <style>\n",
              "    .colab-df-container {\n",
              "      display:flex;\n",
              "      flex-wrap:wrap;\n",
              "      gap: 12px;\n",
              "    }\n",
              "\n",
              "    .colab-df-convert {\n",
              "      background-color: #E8F0FE;\n",
              "      border: none;\n",
              "      border-radius: 50%;\n",
              "      cursor: pointer;\n",
              "      display: none;\n",
              "      fill: #1967D2;\n",
              "      height: 32px;\n",
              "      padding: 0 0 0 0;\n",
              "      width: 32px;\n",
              "    }\n",
              "\n",
              "    .colab-df-convert:hover {\n",
              "      background-color: #E2EBFA;\n",
              "      box-shadow: 0px 1px 2px rgba(60, 64, 67, 0.3), 0px 1px 3px 1px rgba(60, 64, 67, 0.15);\n",
              "      fill: #174EA6;\n",
              "    }\n",
              "\n",
              "    [theme=dark] .colab-df-convert {\n",
              "      background-color: #3B4455;\n",
              "      fill: #D2E3FC;\n",
              "    }\n",
              "\n",
              "    [theme=dark] .colab-df-convert:hover {\n",
              "      background-color: #434B5C;\n",
              "      box-shadow: 0px 1px 3px 1px rgba(0, 0, 0, 0.15);\n",
              "      filter: drop-shadow(0px 1px 2px rgba(0, 0, 0, 0.3));\n",
              "      fill: #FFFFFF;\n",
              "    }\n",
              "  </style>\n",
              "\n",
              "      <script>\n",
              "        const buttonEl =\n",
              "          document.querySelector('#df-9302fb78-133c-4214-9f39-bc37744b678c button.colab-df-convert');\n",
              "        buttonEl.style.display =\n",
              "          google.colab.kernel.accessAllowed ? 'block' : 'none';\n",
              "\n",
              "        async function convertToInteractive(key) {\n",
              "          const element = document.querySelector('#df-9302fb78-133c-4214-9f39-bc37744b678c');\n",
              "          const dataTable =\n",
              "            await google.colab.kernel.invokeFunction('convertToInteractive',\n",
              "                                                     [key], {});\n",
              "          if (!dataTable) return;\n",
              "\n",
              "          const docLinkHtml = 'Like what you see? Visit the ' +\n",
              "            '<a target=\"_blank\" href=https://colab.research.google.com/notebooks/data_table.ipynb>data table notebook</a>'\n",
              "            + ' to learn more about interactive tables.';\n",
              "          element.innerHTML = '';\n",
              "          dataTable['output_type'] = 'display_data';\n",
              "          await google.colab.output.renderOutput(dataTable, element);\n",
              "          const docLink = document.createElement('div');\n",
              "          docLink.innerHTML = docLinkHtml;\n",
              "          element.appendChild(docLink);\n",
              "        }\n",
              "      </script>\n",
              "    </div>\n",
              "  </div>\n",
              "  "
            ]
          },
          "metadata": {},
          "execution_count": 6
        }
      ]
    },
    {
      "cell_type": "code",
      "source": [
        "data.info()"
      ],
      "metadata": {
        "colab": {
          "base_uri": "https://localhost:8080/"
        },
        "id": "Whh_OCZvOHr1",
        "outputId": "80a418af-f211-4a14-db76-a7b334728057"
      },
      "execution_count": 7,
      "outputs": [
        {
          "output_type": "stream",
          "name": "stdout",
          "text": [
            "<class 'pandas.core.frame.DataFrame'>\n",
            "RangeIndex: 240 entries, 0 to 239\n",
            "Data columns (total 6 columns):\n",
            " #   Column                  Non-Null Count  Dtype  \n",
            "---  ------                  --------------  -----  \n",
            " 0   Temperature (K)         240 non-null    int64  \n",
            " 1   Luminosity(L/Lo)        240 non-null    float64\n",
            " 2   Radius(R/Ro)            240 non-null    float64\n",
            " 3   Absolute magnitude(Mv)  240 non-null    float64\n",
            " 4   Star type               240 non-null    int64  \n",
            " 5   Star color\\n            240 non-null    object \n",
            "dtypes: float64(3), int64(2), object(1)\n",
            "memory usage: 11.4+ KB\n"
          ]
        }
      ]
    },
    {
      "cell_type": "code",
      "source": [
        "data.describe()"
      ],
      "metadata": {
        "colab": {
          "base_uri": "https://localhost:8080/",
          "height": 300
        },
        "id": "58ixRMEVOI5I",
        "outputId": "bf569363-78b7-426f-a43e-e258b4e4c002"
      },
      "execution_count": 8,
      "outputs": [
        {
          "output_type": "execute_result",
          "data": {
            "text/plain": [
              "       Temperature (K)  Luminosity(L/Lo)  Radius(R/Ro)  \\\n",
              "count       240.000000        240.000000    240.000000   \n",
              "mean      10497.462500     107188.361635    237.157781   \n",
              "std        9552.425037     179432.244940    517.155763   \n",
              "min        1939.000000          0.000080      0.008400   \n",
              "25%        3344.250000          0.000865      0.102750   \n",
              "50%        5776.000000          0.070500      0.762500   \n",
              "75%       15055.500000     198050.000000     42.750000   \n",
              "max       40000.000000     849420.000000   1948.500000   \n",
              "\n",
              "       Absolute magnitude(Mv)   Star type  \n",
              "count              240.000000  240.000000  \n",
              "mean                 4.382396    2.500000  \n",
              "std                 10.532512    1.711394  \n",
              "min                -11.920000    0.000000  \n",
              "25%                 -6.232500    1.000000  \n",
              "50%                  8.313000    2.500000  \n",
              "75%                 13.697500    4.000000  \n",
              "max                 20.060000    5.000000  "
            ],
            "text/html": [
              "\n",
              "  <div id=\"df-b54f3e87-0ab8-4297-b352-c4ae417ee05a\">\n",
              "    <div class=\"colab-df-container\">\n",
              "      <div>\n",
              "<style scoped>\n",
              "    .dataframe tbody tr th:only-of-type {\n",
              "        vertical-align: middle;\n",
              "    }\n",
              "\n",
              "    .dataframe tbody tr th {\n",
              "        vertical-align: top;\n",
              "    }\n",
              "\n",
              "    .dataframe thead th {\n",
              "        text-align: right;\n",
              "    }\n",
              "</style>\n",
              "<table border=\"1\" class=\"dataframe\">\n",
              "  <thead>\n",
              "    <tr style=\"text-align: right;\">\n",
              "      <th></th>\n",
              "      <th>Temperature (K)</th>\n",
              "      <th>Luminosity(L/Lo)</th>\n",
              "      <th>Radius(R/Ro)</th>\n",
              "      <th>Absolute magnitude(Mv)</th>\n",
              "      <th>Star type</th>\n",
              "    </tr>\n",
              "  </thead>\n",
              "  <tbody>\n",
              "    <tr>\n",
              "      <th>count</th>\n",
              "      <td>240.000000</td>\n",
              "      <td>240.000000</td>\n",
              "      <td>240.000000</td>\n",
              "      <td>240.000000</td>\n",
              "      <td>240.000000</td>\n",
              "    </tr>\n",
              "    <tr>\n",
              "      <th>mean</th>\n",
              "      <td>10497.462500</td>\n",
              "      <td>107188.361635</td>\n",
              "      <td>237.157781</td>\n",
              "      <td>4.382396</td>\n",
              "      <td>2.500000</td>\n",
              "    </tr>\n",
              "    <tr>\n",
              "      <th>std</th>\n",
              "      <td>9552.425037</td>\n",
              "      <td>179432.244940</td>\n",
              "      <td>517.155763</td>\n",
              "      <td>10.532512</td>\n",
              "      <td>1.711394</td>\n",
              "    </tr>\n",
              "    <tr>\n",
              "      <th>min</th>\n",
              "      <td>1939.000000</td>\n",
              "      <td>0.000080</td>\n",
              "      <td>0.008400</td>\n",
              "      <td>-11.920000</td>\n",
              "      <td>0.000000</td>\n",
              "    </tr>\n",
              "    <tr>\n",
              "      <th>25%</th>\n",
              "      <td>3344.250000</td>\n",
              "      <td>0.000865</td>\n",
              "      <td>0.102750</td>\n",
              "      <td>-6.232500</td>\n",
              "      <td>1.000000</td>\n",
              "    </tr>\n",
              "    <tr>\n",
              "      <th>50%</th>\n",
              "      <td>5776.000000</td>\n",
              "      <td>0.070500</td>\n",
              "      <td>0.762500</td>\n",
              "      <td>8.313000</td>\n",
              "      <td>2.500000</td>\n",
              "    </tr>\n",
              "    <tr>\n",
              "      <th>75%</th>\n",
              "      <td>15055.500000</td>\n",
              "      <td>198050.000000</td>\n",
              "      <td>42.750000</td>\n",
              "      <td>13.697500</td>\n",
              "      <td>4.000000</td>\n",
              "    </tr>\n",
              "    <tr>\n",
              "      <th>max</th>\n",
              "      <td>40000.000000</td>\n",
              "      <td>849420.000000</td>\n",
              "      <td>1948.500000</td>\n",
              "      <td>20.060000</td>\n",
              "      <td>5.000000</td>\n",
              "    </tr>\n",
              "  </tbody>\n",
              "</table>\n",
              "</div>\n",
              "      <button class=\"colab-df-convert\" onclick=\"convertToInteractive('df-b54f3e87-0ab8-4297-b352-c4ae417ee05a')\"\n",
              "              title=\"Convert this dataframe to an interactive table.\"\n",
              "              style=\"display:none;\">\n",
              "        \n",
              "  <svg xmlns=\"http://www.w3.org/2000/svg\" height=\"24px\"viewBox=\"0 0 24 24\"\n",
              "       width=\"24px\">\n",
              "    <path d=\"M0 0h24v24H0V0z\" fill=\"none\"/>\n",
              "    <path d=\"M18.56 5.44l.94 2.06.94-2.06 2.06-.94-2.06-.94-.94-2.06-.94 2.06-2.06.94zm-11 1L8.5 8.5l.94-2.06 2.06-.94-2.06-.94L8.5 2.5l-.94 2.06-2.06.94zm10 10l.94 2.06.94-2.06 2.06-.94-2.06-.94-.94-2.06-.94 2.06-2.06.94z\"/><path d=\"M17.41 7.96l-1.37-1.37c-.4-.4-.92-.59-1.43-.59-.52 0-1.04.2-1.43.59L10.3 9.45l-7.72 7.72c-.78.78-.78 2.05 0 2.83L4 21.41c.39.39.9.59 1.41.59.51 0 1.02-.2 1.41-.59l7.78-7.78 2.81-2.81c.8-.78.8-2.07 0-2.86zM5.41 20L4 18.59l7.72-7.72 1.47 1.35L5.41 20z\"/>\n",
              "  </svg>\n",
              "      </button>\n",
              "      \n",
              "  <style>\n",
              "    .colab-df-container {\n",
              "      display:flex;\n",
              "      flex-wrap:wrap;\n",
              "      gap: 12px;\n",
              "    }\n",
              "\n",
              "    .colab-df-convert {\n",
              "      background-color: #E8F0FE;\n",
              "      border: none;\n",
              "      border-radius: 50%;\n",
              "      cursor: pointer;\n",
              "      display: none;\n",
              "      fill: #1967D2;\n",
              "      height: 32px;\n",
              "      padding: 0 0 0 0;\n",
              "      width: 32px;\n",
              "    }\n",
              "\n",
              "    .colab-df-convert:hover {\n",
              "      background-color: #E2EBFA;\n",
              "      box-shadow: 0px 1px 2px rgba(60, 64, 67, 0.3), 0px 1px 3px 1px rgba(60, 64, 67, 0.15);\n",
              "      fill: #174EA6;\n",
              "    }\n",
              "\n",
              "    [theme=dark] .colab-df-convert {\n",
              "      background-color: #3B4455;\n",
              "      fill: #D2E3FC;\n",
              "    }\n",
              "\n",
              "    [theme=dark] .colab-df-convert:hover {\n",
              "      background-color: #434B5C;\n",
              "      box-shadow: 0px 1px 3px 1px rgba(0, 0, 0, 0.15);\n",
              "      filter: drop-shadow(0px 1px 2px rgba(0, 0, 0, 0.3));\n",
              "      fill: #FFFFFF;\n",
              "    }\n",
              "  </style>\n",
              "\n",
              "      <script>\n",
              "        const buttonEl =\n",
              "          document.querySelector('#df-b54f3e87-0ab8-4297-b352-c4ae417ee05a button.colab-df-convert');\n",
              "        buttonEl.style.display =\n",
              "          google.colab.kernel.accessAllowed ? 'block' : 'none';\n",
              "\n",
              "        async function convertToInteractive(key) {\n",
              "          const element = document.querySelector('#df-b54f3e87-0ab8-4297-b352-c4ae417ee05a');\n",
              "          const dataTable =\n",
              "            await google.colab.kernel.invokeFunction('convertToInteractive',\n",
              "                                                     [key], {});\n",
              "          if (!dataTable) return;\n",
              "\n",
              "          const docLinkHtml = 'Like what you see? Visit the ' +\n",
              "            '<a target=\"_blank\" href=https://colab.research.google.com/notebooks/data_table.ipynb>data table notebook</a>'\n",
              "            + ' to learn more about interactive tables.';\n",
              "          element.innerHTML = '';\n",
              "          dataTable['output_type'] = 'display_data';\n",
              "          await google.colab.output.renderOutput(dataTable, element);\n",
              "          const docLink = document.createElement('div');\n",
              "          docLink.innerHTML = docLinkHtml;\n",
              "          element.appendChild(docLink);\n",
              "        }\n",
              "      </script>\n",
              "    </div>\n",
              "  </div>\n",
              "  "
            ]
          },
          "metadata": {},
          "execution_count": 8
        }
      ]
    },
    {
      "cell_type": "markdown",
      "source": [
        "# **Data Preparation**"
      ],
      "metadata": {
        "id": "ORKlAKzoOus8"
      }
    },
    {
      "cell_type": "markdown",
      "source": [
        "Для начала приведем в порядок названия колонок."
      ],
      "metadata": {
        "id": "xIvq_FaNQdiF"
      }
    },
    {
      "cell_type": "code",
      "source": [
        "data.columns = ['temperature', 'luminosity', 'radius', 'absolute_magnitude', 'star_type', 'star_color']"
      ],
      "metadata": {
        "id": "fsqsB99LPzR_"
      },
      "execution_count": 9,
      "outputs": []
    },
    {
      "cell_type": "markdown",
      "source": [
        "Проверим на наличие дубликатов."
      ],
      "metadata": {
        "id": "I9qSgKJDQqGE"
      }
    },
    {
      "cell_type": "code",
      "source": [
        "data.duplicated().sum()"
      ],
      "metadata": {
        "colab": {
          "base_uri": "https://localhost:8080/"
        },
        "id": "ikAewzQuQnix",
        "outputId": "7ad02778-75e5-46cc-fdfd-42c03bdd24aa"
      },
      "execution_count": 10,
      "outputs": [
        {
          "output_type": "execute_result",
          "data": {
            "text/plain": [
              "0"
            ]
          },
          "metadata": {},
          "execution_count": 10
        }
      ]
    },
    {
      "cell_type": "markdown",
      "source": [
        "Дубликатов нет."
      ],
      "metadata": {
        "id": "iEUZBLztQtXC"
      }
    },
    {
      "cell_type": "markdown",
      "source": [
        "Теперь проверим есть ли пропуски в данных."
      ],
      "metadata": {
        "id": "KSm8Xa4DQyJc"
      }
    },
    {
      "cell_type": "code",
      "source": [
        "data.isna().sum()"
      ],
      "metadata": {
        "colab": {
          "base_uri": "https://localhost:8080/"
        },
        "id": "4GrYThYzQrpn",
        "outputId": "421d21cb-7eae-40cb-fcd6-41114b6cff9f"
      },
      "execution_count": 11,
      "outputs": [
        {
          "output_type": "execute_result",
          "data": {
            "text/plain": [
              "temperature           0\n",
              "luminosity            0\n",
              "radius                0\n",
              "absolute_magnitude    0\n",
              "star_type             0\n",
              "star_color            0\n",
              "dtype: int64"
            ]
          },
          "metadata": {},
          "execution_count": 11
        }
      ]
    },
    {
      "cell_type": "markdown",
      "source": [
        "Пропусков нет."
      ],
      "metadata": {
        "id": "50K8Brz1Q3Si"
      }
    },
    {
      "cell_type": "markdown",
      "source": [
        "# **EDA**"
      ],
      "metadata": {
        "id": "Kt0F6CeqQ9BR"
      }
    },
    {
      "cell_type": "markdown",
      "source": [
        "Изучим таргет."
      ],
      "metadata": {
        "id": "alBVRUEORAZO"
      }
    },
    {
      "cell_type": "code",
      "source": [
        "fig, (ax_hist, ax_box) = plt.subplots(2, sharex=True, gridspec_kw={\"height_ratios\": (.8, .2)}, figsize=(12, 8))\n",
        "\n",
        "sns.histplot(x=data['temperature'], ax=ax_hist, color='royalblue')\n",
        "sns.boxplot(x=data['temperature'], ax=ax_box, color='royalblue')\n",
        "\n",
        "ax_box.set(xlabel='temperature')\n",
        "ax_hist.set(ylabel='count')\n",
        "ax_hist.set(title='temperature distribution')\n",
        "plt.show()"
      ],
      "metadata": {
        "colab": {
          "base_uri": "https://localhost:8080/",
          "height": 518
        },
        "id": "txQJ6fonmXKJ",
        "outputId": "de6754c0-9dff-4c86-8f41-1c1805439635"
      },
      "execution_count": 12,
      "outputs": [
        {
          "output_type": "display_data",
          "data": {
            "text/plain": [
              "<Figure size 864x576 with 2 Axes>"
            ],
            "image/png": "[encoded data removed]"
          },
          "metadata": {}
        }
      ]
    },
    {
      "cell_type": "markdown",
      "source": [
        "Таргет распределен экспоненциально."
      ],
      "metadata": {
        "id": "TQgSr4EKRHjN"
      }
    },
    {
      "cell_type": "markdown",
      "source": [
        "Изучим колонку luminosity."
      ],
      "metadata": {
        "id": "M8KlM6XDR46v"
      }
    },
    {
      "cell_type": "code",
      "source": [
        "fig, (ax_hist, ax_box) = plt.subplots(2, sharex=True, gridspec_kw={\"height_ratios\": (.8, .2)}, figsize=(12, 8))\n",
        "\n",
        "sns.histplot(x=data['luminosity'], ax=ax_hist, bins=5, color='royalblue')\n",
        "sns.boxplot(x=data['luminosity'], ax=ax_box, color='royalblue')\n",
        "\n",
        "ax_box.set(xlabel='luminosity')\n",
        "ax_hist.set(ylabel='count')\n",
        "ax_hist.set(title='luminosity distribution')\n",
        "plt.show()"
      ],
      "metadata": {
        "colab": {
          "base_uri": "https://localhost:8080/",
          "height": 518
        },
        "id": "9C82w4a4qDtC",
        "outputId": "57c2749f-c1be-42f3-8f84-0da4436ffa21"
      },
      "execution_count": 13,
      "outputs": [
        {
          "output_type": "display_data",
          "data": {
            "text/plain": [
              "<Figure size 864x576 with 2 Axes>"
            ],
            "image/png": "[encoded data removed]"
          },
          "metadata": {}
        }
      ]
    },
    {
      "cell_type": "markdown",
      "source": [
        "Колонка luminosuty также распределена экспоненциально."
      ],
      "metadata": {
        "id": "pZ_Y3IgBSTTS"
      }
    },
    {
      "cell_type": "markdown",
      "source": [
        "Изучим колонку radius."
      ],
      "metadata": {
        "id": "k3cOiYsTSbD4"
      }
    },
    {
      "cell_type": "code",
      "source": [
        "fig, (ax_hist, ax_box) = plt.subplots(2, sharex=True, gridspec_kw={\"height_ratios\": (.8, .2)}, figsize=(12, 8))\n",
        "\n",
        "sns.histplot(x=data['radius'], ax=ax_hist, bins=10, color='royalblue')\n",
        "sns.boxplot(x=data['radius'], ax=ax_box, color='royalblue')\n",
        "\n",
        "ax_box.set(xlabel='radius')\n",
        "ax_hist.set(ylabel='count')\n",
        "ax_hist.set(title='radius distribution')\n",
        "plt.show()"
      ],
      "metadata": {
        "colab": {
          "base_uri": "https://localhost:8080/",
          "height": 518
        },
        "id": "RscmGc2SqSNf",
        "outputId": "53748cb9-dbf8-434f-bad1-e41585e2027e"
      },
      "execution_count": 14,
      "outputs": [
        {
          "output_type": "display_data",
          "data": {
            "text/plain": [
              "<Figure size 864x576 with 2 Axes>"
            ],
            "image/png": "[encoded data removed]"
          },
          "metadata": {}
        }
      ]
    },
    {
      "cell_type": "markdown",
      "source": [
        "Очень много выбросов."
      ],
      "metadata": {
        "id": "_SoCSQBwSmCj"
      }
    },
    {
      "cell_type": "markdown",
      "source": [
        "Изучим колонку absolute_magnitude."
      ],
      "metadata": {
        "id": "OcfjQpUTTDkI"
      }
    },
    {
      "cell_type": "code",
      "source": [
        "fig, (ax_hist, ax_box) = plt.subplots(2, sharex=True, gridspec_kw={\"height_ratios\": (.8, .2)}, figsize=(12, 8))\n",
        "\n",
        "sns.histplot(x=data['absolute_magnitude'], ax=ax_hist, bins=10, color='royalblue')\n",
        "sns.boxplot(x=data['absolute_magnitude'], ax=ax_box, color='royalblue')\n",
        "\n",
        "ax_box.set(xlabel='absolute_magnitude')\n",
        "ax_hist.set(ylabel='count')\n",
        "ax_hist.set(title='absolute_magnitude distribution')\n",
        "plt.show()"
      ],
      "metadata": {
        "colab": {
          "base_uri": "https://localhost:8080/",
          "height": 518
        },
        "id": "AR4twWHcqux1",
        "outputId": "018238f9-972e-48c0-ca95-fdf6422b97ff"
      },
      "execution_count": 15,
      "outputs": [
        {
          "output_type": "display_data",
          "data": {
            "text/plain": [
              "<Figure size 864x576 with 2 Axes>"
            ],
            "image/png": "[encoded data removed]"
          },
          "metadata": {}
        }
      ]
    },
    {
      "cell_type": "markdown",
      "source": [
        "Изучим колонку star_type."
      ],
      "metadata": {
        "id": "VnKcCihETPPk"
      }
    },
    {
      "cell_type": "code",
      "source": [
        "data['star_type'].value_counts()"
      ],
      "metadata": {
        "colab": {
          "base_uri": "https://localhost:8080/"
        },
        "id": "dmwwrZFLTKIb",
        "outputId": "ea5153f7-80d3-448b-8792-794d8ef780c5"
      },
      "execution_count": 16,
      "outputs": [
        {
          "output_type": "execute_result",
          "data": {
            "text/plain": [
              "0    40\n",
              "1    40\n",
              "2    40\n",
              "3    40\n",
              "4    40\n",
              "5    40\n",
              "Name: star_type, dtype: int64"
            ]
          },
          "metadata": {},
          "execution_count": 16
        }
      ]
    },
    {
      "cell_type": "code",
      "source": [
        "data['star_type'].value_counts().plot(kind='bar', title='star_type distribution', xlabel='classes', \n",
        "                                     ylabel='quantity', rot=1, color='orange', alpha =0.9, figsize=(8,8))"
      ],
      "metadata": {
        "colab": {
          "base_uri": "https://localhost:8080/",
          "height": 535
        },
        "id": "4HNeE-hTTQ5Y",
        "outputId": "a34e53f8-87a4-4840-c6a4-ba5a81567456"
      },
      "execution_count": 17,
      "outputs": [
        {
          "output_type": "execute_result",
          "data": {
            "text/plain": [
              "<matplotlib.axes._subplots.AxesSubplot at 0x7fc304bfed10>"
            ]
          },
          "metadata": {},
          "execution_count": 17
        },
        {
          "output_type": "display_data",
          "data": {
            "text/plain": [
              "<Figure size 576x576 with 1 Axes>"
            ],
            "image/png": "[encoded data removed]"
          },
          "metadata": {}
        }
      ]
    },
    {
      "cell_type": "markdown",
      "source": [
        "Изучим колонку star_color."
      ],
      "metadata": {
        "id": "7wGvvoevTWyo"
      }
    },
    {
      "cell_type": "markdown",
      "source": [
        "В колонке star_color много категорий, но много их не из-за разнообразия, а из-за того, что многие цвета одинаковы, но по-разному написаны. Исправим это."
      ],
      "metadata": {
        "id": "R_rrPiEWTYoe"
      }
    },
    {
      "cell_type": "code",
      "source": [
        "data['star_color'].value_counts()"
      ],
      "metadata": {
        "colab": {
          "base_uri": "https://localhost:8080/"
        },
        "id": "QZRVc9fsTTux",
        "outputId": "7392d6e9-6418-4c98-a846-79db602c9d20"
      },
      "execution_count": 18,
      "outputs": [
        {
          "output_type": "execute_result",
          "data": {
            "text/plain": [
              "Red                   112\n",
              "Blue                   55\n",
              "Blue-white             26\n",
              "Blue White             10\n",
              "yellow-white            8\n",
              "White                   7\n",
              "Blue white              3\n",
              "Yellowish White         3\n",
              "white                   3\n",
              "Whitish                 2\n",
              "Orange                  2\n",
              "yellowish               2\n",
              "Pale yellow orange      1\n",
              "White-Yellow            1\n",
              "Blue                    1\n",
              "Yellowish               1\n",
              "Orange-Red              1\n",
              "Blue white              1\n",
              "Blue-White              1\n",
              "Name: star_color, dtype: int64"
            ]
          },
          "metadata": {},
          "execution_count": 18
        }
      ]
    },
    {
      "cell_type": "code",
      "source": [
        "data['star_color'] = data['star_color'].str.lower()\n",
        "data['star_color'] = data['star_color'].str.strip()"
      ],
      "metadata": {
        "id": "eEDca5jsTaui"
      },
      "execution_count": 19,
      "outputs": []
    },
    {
      "cell_type": "code",
      "source": [
        "def filter(x):\n",
        "    if x == 'blue white':\n",
        "        return 'blue-white'\n",
        "    elif x in ['yellowish white','white-yellow']:\n",
        "        return 'yellow-white'\n",
        "    elif x == 'whitish':\n",
        "        return 'white'\n",
        "    elif x == 'yellowish':\n",
        "        return 'yellow'\n",
        "    elif x == 'pale yellow orange':\n",
        "        return 'pale yellow-orange'\n",
        "    else:\n",
        "        return x"
      ],
      "metadata": {
        "id": "pknR7n_zT-uN"
      },
      "execution_count": 20,
      "outputs": []
    },
    {
      "cell_type": "code",
      "source": [
        "data['star_color'] = data['star_color'].apply(filter)"
      ],
      "metadata": {
        "id": "KXDWRcd_ULIm"
      },
      "execution_count": 21,
      "outputs": []
    },
    {
      "cell_type": "code",
      "source": [
        "data['star_color'].value_counts()"
      ],
      "metadata": {
        "colab": {
          "base_uri": "https://localhost:8080/"
        },
        "id": "BSteGwwvUpFZ",
        "outputId": "be5047ef-3180-4511-e3b5-0a9e3d3ce864"
      },
      "execution_count": 22,
      "outputs": [
        {
          "output_type": "execute_result",
          "data": {
            "text/plain": [
              "red                   112\n",
              "blue                   56\n",
              "blue-white             41\n",
              "white                  12\n",
              "yellow-white           12\n",
              "yellow                  3\n",
              "orange                  2\n",
              "pale yellow-orange      1\n",
              "orange-red              1\n",
              "Name: star_color, dtype: int64"
            ]
          },
          "metadata": {},
          "execution_count": 22
        }
      ]
    },
    {
      "cell_type": "code",
      "source": [
        "data['star_color'].value_counts().plot(kind='bar', title='star_color distribution', xlabel='colors', \n",
        "                                     ylabel='quantity', rot=1, color='orange', alpha =0.9, figsize=(15,8))"
      ],
      "metadata": {
        "colab": {
          "base_uri": "https://localhost:8080/",
          "height": 537
        },
        "id": "2At9dtB2UqXI",
        "outputId": "59d80c81-26d0-4fe6-b04a-0d4a892b98f2"
      },
      "execution_count": 23,
      "outputs": [
        {
          "output_type": "execute_result",
          "data": {
            "text/plain": [
              "<matplotlib.axes._subplots.AxesSubplot at 0x7fc304b25450>"
            ]
          },
          "metadata": {},
          "execution_count": 23
        },
        {
          "output_type": "display_data",
          "data": {
            "text/plain": [
              "<Figure size 1080x576 with 1 Axes>"
            ],
            "image/png": "[encoded data removed]"
          },
          "metadata": {}
        }
      ]
    },
    {
      "cell_type": "markdown",
      "source": [
        "По графику видно, что начиная с желто-белого цвета - цвета представлены в очень маленьком количестве. Поэтому объеденим их всех в отдельную категорию - 'others'."
      ],
      "metadata": {
        "id": "OmLFkHvUVF9H"
      }
    },
    {
      "cell_type": "code",
      "source": [
        "most_frequent = ['red', 'blue', 'blue-white']\n",
        "data['star_color'] = data['star_color'].apply(lambda x: 'others' if x not in most_frequent else x)"
      ],
      "metadata": {
        "id": "MeFOuik1VCUO"
      },
      "execution_count": 24,
      "outputs": []
    },
    {
      "cell_type": "markdown",
      "source": [
        "Изучив количественные колонки видно, что они содержат очень много выбросов. Выбросов настолько много, что, если мы их отбросим, то наш датасет станет на 30% меньше. Наибольшая часть выбросов содержится в колонке radius. Если мы удалим все выбросы (то есть все звезды с большим радиусом) и обучим на этих данных, то при тестировании модели на звездах с большим радиусом - результаты будут плохие, поэтому не будем удалять выбросы."
      ],
      "metadata": {
        "id": "OhroN5BE6WVv"
      }
    },
    {
      "cell_type": "markdown",
      "source": [
        "Попробуем два похода: градиентный бустинг и нейронные сети. Будем использовать catboost и pytorch."
      ],
      "metadata": {
        "id": "GWvC01H3fRgd"
      }
    },
    {
      "cell_type": "markdown",
      "source": [
        "Разделим данные на три части: train, validation, test."
      ],
      "metadata": {
        "id": "IHRhKHMEZzoq"
      }
    },
    {
      "cell_type": "code",
      "source": [
        "x_train, x_test, y_train, y_test = train_test_split(data.drop('temperature', axis=1), data['temperature'], \n",
        "                                                    train_size=0.8, random_state=67, shuffle=True)"
      ],
      "metadata": {
        "id": "LI4qdxp3ZNAN"
      },
      "execution_count": 25,
      "outputs": []
    },
    {
      "cell_type": "code",
      "source": [
        "x_test, x_valid, y_test, y_valid = train_test_split(x_test, y_test, train_size=0.5, random_state=67, shuffle=True)"
      ],
      "metadata": {
        "id": "H1RmFHNEa9hS"
      },
      "execution_count": 26,
      "outputs": []
    },
    {
      "cell_type": "markdown",
      "source": [
        "Также создадим отдельные данные для catboost."
      ],
      "metadata": {
        "id": "Y6QST0OqeLyj"
      }
    },
    {
      "cell_type": "code",
      "source": [
        "x_train_cat = x_train\n",
        "x_valid_cat = x_valid\n",
        "x_test_cat = x_test\n",
        "\n",
        "y_train_cat = y_train\n",
        "y_valid_cat = y_valid\n",
        "y_test_cat = y_test"
      ],
      "metadata": {
        "id": "LXBR2pcEdxDh"
      },
      "execution_count": 27,
      "outputs": []
    },
    {
      "cell_type": "markdown",
      "source": [
        "Итого у нас 80% данных в train и по 10% в validation и test."
      ],
      "metadata": {
        "id": "vlWfEt5-eb5C"
      }
    },
    {
      "cell_type": "markdown",
      "source": [
        "# **Catboost**"
      ],
      "metadata": {
        "id": "te4ArXpKaN_f"
      }
    },
    {
      "cell_type": "code",
      "source": [
        "machine = \"GPU\" if torch.cuda.is_available() else \"CPU\"\n",
        "machine"
      ],
      "metadata": {
        "colab": {
          "base_uri": "https://localhost:8080/",
          "height": 35
        },
        "id": "dss8ykqlJYUt",
        "outputId": "7a259780-1964-4743-9ea6-6e6f68f12240"
      },
      "execution_count": 28,
      "outputs": [
        {
          "output_type": "execute_result",
          "data": {
            "text/plain": [
              "'GPU'"
            ],
            "application/vnd.google.colaboratory.intrinsic+json": {
              "type": "string"
            }
          },
          "metadata": {},
          "execution_count": 28
        }
      ]
    },
    {
      "cell_type": "code",
      "source": [
        "enc = OrdinalEncoder()"
      ],
      "metadata": {
        "id": "1CHikeTgyuhx"
      },
      "execution_count": 29,
      "outputs": []
    },
    {
      "cell_type": "code",
      "source": [
        "x_train_cat[['star_type', 'star_color']] = enc.fit_transform(x_train_cat[['star_type', 'star_color']])\n",
        "x_valid_cat[['star_type', 'star_color']] = enc.transform(x_valid_cat[['star_type', 'star_color']])\n",
        "x_test_cat[['star_type', 'star_color']] = enc.transform(x_test_cat[['star_type', 'star_color']])"
      ],
      "metadata": {
        "id": "VJIWzzD6yxMm"
      },
      "execution_count": 30,
      "outputs": []
    },
    {
      "cell_type": "code",
      "source": [
        "model = CatBoostRegressor(random_seed=67, task_type=machine)"
      ],
      "metadata": {
        "id": "C5VaoN07aQhe"
      },
      "execution_count": 31,
      "outputs": []
    },
    {
      "cell_type": "code",
      "source": [
        "model.fit(x_train_cat, y_train_cat, verbose=0) "
      ],
      "metadata": {
        "colab": {
          "base_uri": "https://localhost:8080/"
        },
        "id": "_Z38lHP0aQj5",
        "outputId": "329b9aed-227a-49d3-875f-8507b1e29b4f"
      },
      "execution_count": 32,
      "outputs": [
        {
          "output_type": "execute_result",
          "data": {
            "text/plain": [
              "<catboost.core.CatBoostRegressor at 0x7fc304ab2310>"
            ]
          },
          "metadata": {},
          "execution_count": 32
        }
      ]
    },
    {
      "cell_type": "markdown",
      "source": [
        "В качестве бейзлайна возьмем catboost со дефолтными параметрами."
      ],
      "metadata": {
        "id": "Xls9sJN5fnHm"
      }
    },
    {
      "cell_type": "code",
      "source": [
        "y_pred = model.predict(x_valid_cat)\n",
        "print('base RMSE: ', mean_squared_error(y_valid_cat, y_pred, squared=False))"
      ],
      "metadata": {
        "colab": {
          "base_uri": "https://localhost:8080/"
        },
        "id": "cNA22VeR7w8U",
        "outputId": "d367c9aa-9a1d-4758-e719-0716910a1b7e"
      },
      "execution_count": 33,
      "outputs": [
        {
          "output_type": "stream",
          "name": "stdout",
          "text": [
            "base RMSE:  5129.657599878146\n"
          ]
        }
      ]
    },
    {
      "cell_type": "markdown",
      "source": [
        "Теперь подберем оптимальные параметры с помощью optuna."
      ],
      "metadata": {
        "id": "WAvBo97h9wif"
      }
    },
    {
      "cell_type": "code",
      "source": [
        "def objective(trial):\n",
        "\n",
        "    param = {\"depth\": trial.suggest_int(\"depth\", 4, 13),\n",
        "             'learning_rate': trial.suggest_float('learning_rate', 0.001, 0.3, log=True),\n",
        "             'n_estimators': trial.suggest_int('n_estimators', 100, 1000, log=True),\n",
        "             'l2_leaf_reg': trial.suggest_int('l2_leaf_reg', 2, 30)\n",
        "            } \n",
        "\n",
        "    model = CatBoostRegressor(**param, task_type=machine, random_state=67, verbose=0)\n",
        "    \n",
        "    model.fit(x_train_cat, y_train_cat, eval_set=[(x_valid_cat, y_valid_cat)])\n",
        "\n",
        "    rmse = mean_squared_error(y_valid_cat, model.predict(x_valid_cat), squared=False)\n",
        "\n",
        "    return rmse"
      ],
      "metadata": {
        "id": "8M3iOJY19v_u"
      },
      "execution_count": 34,
      "outputs": []
    },
    {
      "cell_type": "code",
      "source": [
        "study = optuna.create_study(direction='minimize')\n",
        "optuna.logging.set_verbosity(optuna.logging.WARNING)\n",
        "study.optimize(objective, n_trials=100)"
      ],
      "metadata": {
        "colab": {
          "base_uri": "https://localhost:8080/"
        },
        "id": "HJ7apIrDDjPk",
        "outputId": "47e3c0e9-af47-4c90-fa86-0b1e0280fccf"
      },
      "execution_count": 35,
      "outputs": [
        {
          "output_type": "stream",
          "name": "stderr",
          "text": [
            "\u001b[32m[I 2022-10-26 15:11:15,964]\u001b[0m A new study created in memory with name: no-name-5b9e707e-6116-4e13-82d1-fc36978948f4\u001b[0m\n"
          ]
        }
      ]
    },
    {
      "cell_type": "code",
      "source": [
        "print('best params:', study.best_params)"
      ],
      "metadata": {
        "colab": {
          "base_uri": "https://localhost:8080/"
        },
        "id": "rcz2_ANXVF7M",
        "outputId": "3652e0de-51ee-497e-eae7-b94dda71a497"
      },
      "execution_count": 36,
      "outputs": [
        {
          "output_type": "stream",
          "name": "stdout",
          "text": [
            "best params: {'depth': 10, 'learning_rate': 0.16560513899049317, 'n_estimators': 355, 'l2_leaf_reg': 28}\n"
          ]
        }
      ]
    },
    {
      "cell_type": "code",
      "source": [
        "print('best RMSE: ', study.best_value)"
      ],
      "metadata": {
        "colab": {
          "base_uri": "https://localhost:8080/"
        },
        "id": "G1PcIBtMVHDX",
        "outputId": "e929b822-4452-428b-c313-47e14105bb19"
      },
      "execution_count": 37,
      "outputs": [
        {
          "output_type": "stream",
          "name": "stdout",
          "text": [
            "best RMSE:  4031.515365857815\n"
          ]
        }
      ]
    },
    {
      "cell_type": "markdown",
      "source": [
        "В итоге catboost смог добиться 3820 по метрике RMSE."
      ],
      "metadata": {
        "id": "UYGyZuyEfzQP"
      }
    },
    {
      "cell_type": "markdown",
      "source": [
        "Визуализируем гиперпараметры."
      ],
      "metadata": {
        "id": "2ajewM7ssgq2"
      }
    },
    {
      "cell_type": "code",
      "source": [
        "optuna.visualization.plot_contour(study)"
      ],
      "metadata": {
        "colab": {
          "base_uri": "https://localhost:8080/",
          "height": 542
        },
        "id": "rCw0PwrjPhFi",
        "outputId": "63ca7c0e-03d4-41f4-fa23-78083f24364e"
      },
      "execution_count": 38,
      "outputs": [
        {
          "output_type": "display_data",
          "data": {
            "text/html": [
              "<html>\n",
              "<head><meta charset=\"utf-8\" /></head>\n",
              "<body>\n",
              "    <div>            <script src=\"https://cdnjs.cloudflare.com/ajax/libs/mathjax/2.7.5/MathJax.js?config=TeX-AMS-MML_SVG\"></script><script type=\"text/javascript\">if (window.MathJax) {MathJax.Hub.Config({SVG: {font: \"STIX-Web\"}});}</script>                <script type=\"text/javascript\">window.PlotlyConfig = {MathJaxConfig: 'local'};</script>\n",
              "        <script src=\"https://cdn.plot.ly/plotly-2.8.3.min.js\"></script>                <div id=\"3a8184ed-38be-45ff-b5b8-8545d786fcfa\" class=\"plotly-graph-div\" style=\"height:525px; width:100%;\"></div>            <script type=\"text/javascript\">                                    window.PLOTLYENV=window.PLOTLYENV || {};                                    if (document.getElementById(\"3a8184ed-38be-45ff-b5b8-8545d786fcfa\")) {                    Plotly.newPlot(                        \"3a8184ed-38be-45ff-b5b8-8545d786fcfa\",                        [{\"type\":\"scatter\",\"xaxis\":\"x\",\"yaxis\":\"y\"},{\"colorbar\":{\"title\":{\"text\":\"Objective Value\"}},\"colorscale\":[[0.0,\"rgb(247,251,255)\"],[0.125,\"rgb(222,235,247)\"],[0.25,\"rgb(198,219,239)\"],[0.375,\"rgb(158,202,225)\"],[0.5,\"rgb(107,174,214)\"],[0.625,\"rgb(66,146,198)\"],[0.75,\"rgb(33,113,181)\"],[0.875,\"rgb(8,81,156)\"],[1.0,\"rgb(8,48,107)\"]],\"connectgaps\":true,\"contours\":{\"coloring\":\"heatmap\"},\"hoverinfo\":\"none\",\"line\":{\"smoothing\":1.3},\"reversescale\":true,\"showscale\":true,\"x\":[3.55,4,5,6,7,8,9,10,11,12,13,13.45],\"y\":[0.5999999999999999,2,3,5,6,8,9,10,11,12,13,14,16,18,19,20,21,22,23,24,25,26,27,28,29,30,31.4],\"z\":[[null,null,null,null,null,null,null,null,null,null,null,null],[null,null,null,null,null,4881.935218160944,null,null,null,null,null,null],[null,null,null,null,null,null,null,null,null,null,8070.642969278287,null],[null,null,null,null,null,5403.68447211218,null,null,null,null,null,null],[null,null,4624.219295384898,null,null,null,null,null,null,null,null,null],[null,null,null,null,null,null,null,null,null,4304.336586440891,null,null],[null,null,null,null,null,null,null,4408.872251527552,null,null,null,null],[null,null,4498.503142018106,null,null,null,null,null,null,null,null,null],[null,null,null,null,null,null,null,4358.990902918433,null,null,null,null],[null,null,null,null,4369.2714195643,null,null,null,null,null,null,null],[null,null,null,6899.058398855882,null,null,null,null,null,null,null,null],[null,null,null,null,null,null,null,null,null,8131.886264986528,null,null],[null,null,null,null,5496.158531983626,null,null,null,4784.344027833361,null,null,null],[null,4297.138535144904,null,4377.687400975988,4336.001960612709,null,null,null,null,null,null,null],[null,null,null,null,null,4231.133877799553,null,null,null,null,null,null],[null,null,null,4749.855817929437,4266.975647686325,null,null,null,null,null,4370.395010623053,null],[null,null,null,null,null,null,null,null,null,null,4198.639358325225,null],[null,null,null,4160.747716146421,null,null,null,4385.256946002806,null,4267.331354612213,null,null],[null,null,null,5131.499024597554,null,4146.9485062779695,null,null,5189.197994771008,null,null,null],[null,null,null,null,4211.585891483139,null,4334.784063273927,4346.057472326784,null,null,null,null],[null,null,4436.0841605042715,null,4187.838200827843,4223.476832226711,null,null,4231.898024425811,null,null,null],[null,null,null,4746.469953378102,4129.754896804442,4100.006461885576,4308.813939115351,null,4236.186151547414,9579.5229475801,null,null],[null,8362.841199787279,null,null,4198.539838173434,4169.122318403157,4142.735594321658,4303.0384937572135,4271.140582025062,null,null,null],[null,null,4154.671309427601,4050.3348511105396,4077.997372476685,4341.644646420154,4146.30113227702,4277.654007475739,4110.871073734527,null,null,null],[null,4180.122548304451,4073.982682206089,4149.335892817034,null,9711.821791777471,4151.073592962174,4337.014435185782,null,null,null,null],[null,4127.794472555672,null,null,4297.320392373839,4584.422569492246,4173.5096616837955,5026.7111092792065,null,null,null,null],[null,null,null,null,null,null,null,null,null,null,null,null]],\"type\":\"contour\",\"xaxis\":\"x5\",\"yaxis\":\"y5\"},{\"marker\":{\"color\":\"black\",\"line\":{\"color\":\"Grey\",\"width\":2.0}},\"mode\":\"markers\",\"showlegend\":false,\"x\":[13,8,6,4,6,5,5,12,10,11,10,13,11,11,9,8,11,11,9,9,7,7,7,10,7,7,8,6,7,13,5,9,8,8,12,6,9,4,7,10,12,9,6,8,10,10,10,11,12,10,5,9,9,11,9,8,10,7,11,9,8,8,7,6,8,9,7,10,8,7,7,6,7,8,9,7,6,11,10,5,8,8,8,9,7,7,6,7,7,6,5,4,4,4,5,4,4,4,5,4],\"y\":[3,5,13,27,18,6,10,8,11,28,28,20,23,23,24,29,23,16,30,30,26,27,26,30,25,20,25,20,16,21,25,28,2,28,26,22,28,18,26,27,14,28,29,25,28,24,29,27,22,24,6,28,29,26,30,27,9,28,25,24,30,25,26,28,23,27,12,22,29,26,25,26,18,27,29,24,23,27,28,25,19,25,26,26,30,30,29,30,28,28,29,29,29,29,28,30,29,30,29,29],\"type\":\"scatter\",\"xaxis\":\"x5\",\"yaxis\":\"y5\"},{\"colorbar\":{\"title\":{\"text\":\"Objective Value\"}},\"colorscale\":[[0.0,\"rgb(247,251,255)\"],[0.125,\"rgb(222,235,247)\"],[0.25,\"rgb(198,219,239)\"],[0.375,\"rgb(158,202,225)\"],[0.5,\"rgb(107,174,214)\"],[0.625,\"rgb(66,146,198)\"],[0.75,\"rgb(33,113,181)\"],[0.875,\"rgb(8,81,156)\"],[1.0,\"rgb(8,48,107)\"]],\"connectgaps\":true,\"contours\":{\"coloring\":\"heatmap\"},\"hoverinfo\":\"none\",\"line\":{\"smoothing\":1.3},\"reversescale\":true,\"showscale\":false,\"x\":[3.55,4,5,6,7,8,9,10,11,12,13,13.45],\"y\":[0.0007749822758920689,0.0010285084935055424,0.0013580563612786494,0.0014874609707774007,0.0027850353798638213,0.0029844244561616257,0.005262506507438321,0.0054895624027552145,0.008706341304713816,0.01041329667062595,0.012670264874973356,0.01627083870463775,0.01703209383206694,0.02245196457879437,0.0225444645239988,0.02423991719524073,0.02634601448890141,0.029006072341520472,0.03245592556746029,0.03398524791273612,0.03455830839863449,0.03759572547313215,0.03773959738327062,0.04004439501480648,0.04262050867931939,0.043247710554372674,0.04547275798616162,0.04661094851848872,0.046976447590837696,0.05097197616220452,0.05102067608323434,0.05519073771977596,0.056064772624089876,0.05758941320258553,0.05967805911294894,0.06158775304385237,0.06325539876427162,0.06640445889250945,0.06804634880171115,0.07035034013678441,0.07130081540275059,0.07261925630032107,0.07293855809368854,0.07305967659622016,0.0745367296946682,0.07684265603222379,0.07703228162069208,0.08124152462466318,0.08209127384146125,0.08259823526337047,0.08322231592613727,0.08387833836923901,0.08392321962887536,0.08495903681540876,0.08498304294293056,0.08576518041994491,0.08594802358382672,0.08607405281766764,0.08897162312565371,0.09295818774254423,0.09492539438078199,0.09530799496454562,0.09547594091486561,0.09782195414529053,0.0985118586539773,0.09946266177395985,0.10104801902261587,0.10638408020341686,0.10754954292376198,0.10773033394969075,0.1079558512844103,0.10911266417550242,0.10931697331792913,0.1153391449798611,0.12145148523602435,0.121769174557117,0.12669968605518056,0.12850664317202787,0.12939990537911272,0.13244289958775943,0.1399764397601272,0.142015474190251,0.145960291485913,0.15323102296269667,0.15774137117241427,0.16064226237169973,0.16151633956130598,0.163529684047861,0.16560513899049317,0.1716143047483098,0.1720616394520381,0.18852489195679534,0.18969006934361288,0.19183055681338052,0.20999977674183237,0.2113819538256321,0.23337706700815972,0.24207414303757463,0.25808146469892645,0.2850789068083945,0.29548138704732,0.3921446021473808],\"z\":[[null,null,null,null,null,null,null,null,null,null,null,null],[null,null,9798.018563926245,null,null,null,null,null,null,null,null,null],[null,null,null,null,null,9711.821791777471,null,null,null,null,null,null],[null,null,null,6899.058398855882,null,null,null,null,null,null,null,null],[null,null,null,null,null,null,null,null,null,null,8070.642969278287,null],[null,null,null,null,null,null,null,null,null,9579.5229475801,null,null],[null,8362.841199787279,null,null,null,null,null,null,null,null,null,null],[null,null,null,null,null,null,null,null,null,8131.886264986528,null,null],[null,null,6726.2374795155065,null,null,null,null,null,null,null,null,null],[null,null,null,null,null,null,null,null,5189.197994771008,null,null,null],[null,null,null,null,null,5403.68447211218,null,null,null,null,null,null],[null,null,null,null,5496.158531983626,null,null,null,null,null,null,null],[null,null,null,4746.469953378102,null,null,null,null,null,null,null,null],[null,null,null,null,null,null,4538.548807253924,null,null,null,null,null],[null,null,null,null,null,4584.422569492246,null,null,null,null,null,null],[null,null,null,null,null,null,null,6366.733876565533,null,null,null,null],[null,null,null,5131.499024597554,null,null,null,null,null,null,null,null],[null,null,null,null,null,null,null,5026.7111092792065,null,null,null,null],[null,null,null,null,4187.838200827843,null,null,null,null,null,null,null],[null,4297.138535144904,null,null,null,null,null,null,null,null,null,null],[null,null,null,4749.855817929437,null,null,null,null,null,null,null,null],[null,null,null,null,4129.754896804442,null,null,null,null,null,null,null],[null,null,null,null,4211.585891483139,null,null,null,null,null,null,null],[null,null,null,null,4238.374571616421,null,null,null,null,null,null,null],[null,null,null,null,null,null,null,null,4784.344027833361,null,null,null],[null,null,null,null,null,null,null,4346.057472326784,null,null,null,null],[null,null,null,4377.687400975988,null,null,null,null,null,null,null,null],[null,null,null,null,4369.2714195643,null,null,null,null,null,null,null],[null,null,null,null,null,4285.759809001101,null,null,null,null,null,null],[null,null,null,null,4336.001960612709,null,null,null,null,null,null,null],[null,4153.817189609229,null,null,null,null,null,null,null,null,null,null],[null,null,null,null,4266.975647686325,null,null,null,null,null,null,null],[null,null,null,null,4163.792022591232,null,null,null,null,null,null,null],[null,null,null,null,null,null,null,null,4230.945329159746,null,null,null],[null,null,null,4160.747716146421,null,null,null,null,null,null,null,null],[null,null,null,4149.335892817034,null,null,null,null,null,null,null,null],[null,null,null,4144.225749692704,null,null,null,null,null,null,null,null],[null,4159.855193825207,null,null,null,null,null,null,null,null,null,null],[null,null,null,null,null,4169.122318403157,null,null,null,null,null,null],[null,null,null,null,null,null,null,null,4191.4082983024055,null,null,null],[null,null,null,null,null,4341.644646420154,null,null,null,null,null,null],[null,null,null,null,null,null,null,null,4110.871073734527,null,null,null],[null,null,null,null,null,null,null,4358.990902918433,null,null,null,null],[null,null,null,null,null,null,4173.5096616837955,null,null,null,null,null],[null,null,null,null,null,4223.476832226711,null,null,null,null,null,null],[null,null,4624.219295384898,null,null,null,null,null,null,null,null,null],[null,null,null,null,4103.318546448631,null,null,null,null,null,null,null],[null,null,4154.671309427601,null,null,null,null,null,null,null,null,null],[null,null,null,null,4077.997372476685,null,null,null,null,null,null,null],[null,4092.9843506389248,null,null,null,null,null,null,null,null,null,null],[null,4093.2414117136286,null,null,null,null,null,null,null,null,null,null],[null,null,null,null,null,null,null,null,4231.898024425811,null,null,null],[null,null,null,null,null,null,4151.073592962174,null,null,null,null,null],[null,null,null,4050.3348511105396,null,null,null,null,null,null,null,null],[null,null,4053.405213385052,null,null,null,null,null,null,null,null,null],[null,4127.794472555672,null,null,null,null,null,null,null,null,null,null],[null,null,null,null,null,null,null,null,4236.639290225527,null,null,null],[null,null,null,4147.964721596948,null,null,null,null,null,null,null,null],[null,4078.3607534803386,null,null,null,null,null,null,null,null,null,null],[null,null,null,null,null,null,null,null,4271.140582025062,null,null,null],[null,null,null,null,null,null,null,null,null,null,4198.639358325225,null],[null,null,null,null,null,4117.031391522187,null,null,null,null,null,null],[null,null,null,null,null,null,4142.735594321658,null,null,null,null,null],[null,null,null,null,null,4131.861044529145,null,null,null,null,null,null],[null,null,4073.982682206089,null,null,null,null,null,null,null,null,null],[null,null,null,null,4070.2153622020433,null,null,null,null,null,null,null],[null,null,null,null,null,4100.006461885576,null,null,null,null,null,null],[null,null,null,null,null,null,4123.896886981839,null,null,null,null,null],[null,null,null,null,null,4143.111014127318,null,null,null,null,null,null],[null,null,null,null,null,null,4130.342164010103,null,null,null,null,null],[null,null,null,null,null,null,4146.30113227702,null,null,null,null,null],[null,null,null,null,null,4231.133877799553,null,null,null,null,null,null],[null,null,null,null,null,null,4149.888092194981,null,null,null,null,null],[null,null,null,null,null,null,null,4385.256946002806,null,null,null,null],[null,null,null,null,4122.428531482972,null,null,null,null,null,null,null],[null,null,null,null,null,null,4247.246254595019,null,null,null,null,null],[null,null,null,null,null,null,null,null,4236.186151547414,null,null,null],[null,null,null,null,4169.524552943322,null,null,null,null,null,null,null],[null,null,null,null,null,null,4308.813939115351,null,null,null,null,null],[null,null,null,null,4198.539838173434,null,null,null,null,null,null,null],[null,null,null,null,null,4146.9485062779695,null,null,null,null,null,null],[null,null,null,null,null,null,null,4277.654007475739,null,null,null,null],[null,null,null,null,null,null,null,null,null,4267.331354612213,null,null],[null,4180.122548304451,null,null,null,null,null,null,null,null,null,null],[null,null,null,null,null,null,null,null,null,4304.336586440891,null,null],[null,null,null,null,null,null,null,4408.872251527552,null,null,null,null],[null,null,null,null,4516.1088950902995,null,null,null,null,null,null,null],[null,null,4498.503142018106,null,null,null,null,null,null,null,null,null],[null,null,null,null,null,null,null,4031.515365857815,null,null,null,null],[null,null,null,null,null,null,null,4329.672786588965,null,null,null,null],[null,null,4436.0841605042715,null,null,null,null,null,null,null,null,null],[null,null,null,null,4468.780503272435,null,null,null,null,null,null,null],[null,null,null,null,4297.320392373839,null,null,null,null,null,null,null],[null,null,null,null,null,4184.092614184696,null,null,null,null,null,null],[null,null,null,null,null,null,4622.862689069398,null,null,null,null,null],[null,null,null,null,null,4881.935218160944,null,null,null,null,null,null],[null,null,null,null,null,null,null,4303.0384937572135,null,null,null,null],[null,null,null,null,null,null,4334.784063273927,null,null,null,null,null],[null,null,null,null,null,null,null,null,null,null,4370.395010623053,null],[null,null,null,null,null,null,4269.415105035459,null,null,null,null,null],[null,null,null,null,null,null,null,4337.014435185782,null,null,null,null],[null,null,null,null,null,null,null,null,null,null,null,null]],\"type\":\"contour\",\"xaxis\":\"x9\",\"yaxis\":\"y9\"},{\"marker\":{\"color\":\"black\",\"line\":{\"color\":\"Grey\",\"width\":2.0}},\"mode\":\"markers\",\"showlegend\":false,\"x\":[13,8,6,4,6,5,5,12,10,11,10,13,11,11,9,8,11,11,9,9,7,7,7,10,7,7,8,6,7,13,5,9,8,8,12,6,9,4,7,10,12,9,6,8,10,10,10,11,12,10,5,9,9,11,9,8,10,7,11,9,8,8,7,6,8,9,7,10,8,7,7,6,7,8,9,7,6,11,10,5,8,8,8,9,7,7,6,7,7,6,5,4,4,4,5,4,4,4,5,4],\"y\":[0.0027850353798638213,0.012670264874973356,0.0014874609707774007,0.005262506507438321,0.04547275798616162,0.0010285084935055424,0.163529684047861,0.15774137117241427,0.07293855809368854,0.07261925630032107,0.02423991719524073,0.25808146469892645,0.08594802358382672,0.07035034013678441,0.02245196457879437,0.046976447590837696,0.01041329667062595,0.04262050867931939,0.10931697331792913,0.2850789068083945,0.12850664317202787,0.13244289958775943,0.12145148523602435,0.029006072341520472,0.07703228162069208,0.05519073771977596,0.19183055681338052,0.03455830839863449,0.01627083870463775,0.09492539438078199,0.008706341304713816,0.10773033394969075,0.2113819538256321,0.07130081540275059,0.0029844244561616257,0.05967805911294894,0.10638408020341686,0.03398524791273612,0.16151633956130598,0.23337706700815972,0.0054895624027552145,0.121769174557117,0.08607405281766764,0.09782195414529053,0.16560513899049317,0.1716143047483098,0.29548138704732,0.05758941320258553,0.145960291485913,0.043247710554372674,0.07684265603222379,0.1079558512844103,0.20999977674183237,0.12669968605518056,0.07305967659622016,0.10754954292376198,0.16064226237169973,0.056064772624089876,0.08387833836923901,0.24207414303757463,0.0225444645239988,0.09530799496454562,0.18852489195679534,0.06325539876427162,0.1399764397601272,0.09547594091486561,0.04661094851848872,0.1153391449798611,0.0013580563612786494,0.03759572547313215,0.03245592556746029,0.01703209383206694,0.05097197616220452,0.06804634880171115,0.08392321962887536,0.03773959738327062,0.02634601448890141,0.09295818774254423,0.142015474190251,0.1720616394520381,0.10911266417550242,0.0745367296946682,0.10104801902261587,0.12939990537911272,0.09946266177395985,0.04004439501480648,0.06158775304385237,0.18969006934361288,0.08209127384146125,0.08495903681540876,0.08498304294293056,0.08322231592613727,0.08259823526337047,0.05102067608323434,0.08124152462466318,0.06640445889250945,0.08897162312565371,0.08576518041994491,0.0985118586539773,0.15323102296269667],\"type\":\"scatter\",\"xaxis\":\"x9\",\"yaxis\":\"y9\"},{\"colorbar\":{\"title\":{\"text\":\"Objective Value\"}},\"colorscale\":[[0.0,\"rgb(247,251,255)\"],[0.125,\"rgb(222,235,247)\"],[0.25,\"rgb(198,219,239)\"],[0.375,\"rgb(158,202,225)\"],[0.5,\"rgb(107,174,214)\"],[0.625,\"rgb(66,146,198)\"],[0.75,\"rgb(33,113,181)\"],[0.875,\"rgb(8,81,156)\"],[1.0,\"rgb(8,48,107)\"]],\"connectgaps\":true,\"contours\":{\"coloring\":\"heatmap\"},\"hoverinfo\":\"none\",\"line\":{\"smoothing\":1.3},\"reversescale\":true,\"showscale\":false,\"x\":[3.55,4,5,6,7,8,9,10,11,12,13,13.45],\"y\":[94.96662193337735,106,107,121,127,132,139,144,148,156,157,159,169,171,172,173,180,183,187,190,191,196,199,203,212,213,215,216,221,225,229,231,240,241,245,248,253,255,257,258,260,267,268,272,274,277,280,288,289,291,292,294,299,307,308,309,315,316,319,320,321,322,323,329,331,333,339,342,350,353,355,359,360,361,365,373,379,384,394,403,404,410,432,441,457,458,479,500,511,525,557,576,653,735,859,955,1065.953468061828],\"z\":[[null,null,null,null,null,null,null,null,null,null,null,null],[null,null,null,null,null,null,null,null,4784.344027833361,null,null,null],[null,null,null,null,null,null,null,6366.733876565533,null,null,null,null],[null,null,null,null,null,null,null,4303.0384937572135,null,null,null,null],[null,null,null,null,null,4184.092614184696,null,null,null,null,null,null],[null,null,null,null,4198.539838173434,null,null,null,null,null,null,null],[null,null,null,null,null,null,null,4277.654007475739,null,null,null,null],[null,null,null,null,null,null,null,null,null,9579.5229475801,null,null],[null,null,null,null,4169.524552943322,null,null,null,null,null,null,null],[null,8362.841199787279,null,null,null,5403.68447211218,null,null,null,null,null,null],[null,null,4436.0841605042715,null,null,null,null,null,null,null,null,null],[null,null,null,null,null,null,null,null,null,8131.886264986528,null,null],[null,null,null,null,null,4341.644646420154,null,null,null,null,null,null],[null,null,null,null,null,null,null,4408.872251527552,null,null,null,null],[null,null,null,5131.499024597554,null,null,null,null,null,null,null,null],[null,null,null,null,4122.428531482972,null,null,null,null,null,null,null],[null,null,null,null,5496.158531983626,null,null,null,null,null,null,null],[null,null,null,4749.855817929437,null,null,null,null,null,null,null,null],[null,null,null,null,4369.2714195643,null,null,null,null,null,null,null],[null,null,null,4377.687400975988,null,null,null,null,null,null,null,null],[null,null,null,null,null,null,null,5026.7111092792065,null,null,null,null],[null,null,null,null,null,null,null,null,4110.871073734527,null,null,null],[null,null,null,null,null,null,4334.784063273927,null,null,null,null,null],[null,null,null,null,4516.1088950902995,null,null,null,null,4267.331354612213,null,null],[null,null,9798.018563926245,null,null,null,null,null,null,null,null,null],[null,null,null,null,null,null,null,null,null,null,8070.642969278287,null],[null,null,null,null,null,null,4142.735594321658,null,null,null,null,null],[null,null,6726.2374795155065,null,null,null,null,null,null,null,null,null],[null,null,null,4160.747716146421,null,null,null,null,null,null,null,null],[null,null,null,null,null,null,4151.073592962174,null,null,null,null,null],[null,null,null,null,4266.975647686325,null,null,null,null,null,null,null],[null,null,null,null,null,null,4173.5096616837955,null,null,null,null,null],[null,null,null,4147.964721596948,null,null,null,null,null,null,null,null],[null,null,null,null,null,null,null,null,4231.898024425811,null,null,null],[null,null,null,null,null,4146.9485062779695,null,null,null,null,null,null],[null,null,null,null,4103.318546448631,null,null,null,null,null,null,null],[null,null,null,null,null,null,4149.888092194981,null,null,null,null,null],[null,null,null,null,null,null,4269.415105035459,null,null,null,null,null],[null,null,null,null,null,4231.133877799553,null,null,null,null,null,null],[null,null,null,null,null,null,4130.342164010103,null,null,null,null,null],[null,null,null,4144.225749692704,null,null,null,null,null,null,null,null],[null,null,null,null,null,4117.031391522187,null,null,null,null,null,null],[null,null,null,null,null,null,4622.862689069398,null,null,null,null,null],[null,null,null,null,null,4223.476832226711,null,null,null,null,null,null],[null,null,null,null,null,4131.861044529145,null,null,null,null,null,null],[null,null,null,null,null,9711.821791777471,null,null,null,null,null,null],[null,null,null,null,null,4285.759809001101,null,null,null,null,null,null],[null,null,null,null,null,4143.111014127318,null,null,null,null,null,null],[null,null,null,null,null,null,4123.896886981839,null,null,null,null,null],[null,null,null,4050.3348511105396,null,null,null,null,null,null,null,null],[null,null,null,null,null,null,4247.246254595019,null,null,null,null,null],[null,null,null,null,null,null,null,null,4271.140582025062,null,null,null],[null,null,null,null,null,null,null,null,null,4304.336586440891,null,null],[null,null,null,4149.335892817034,null,null,null,null,null,null,null,null],[null,null,null,null,4468.780503272435,null,4146.30113227702,null,null,null,null,null],[null,null,null,null,4070.2153622020433,null,null,null,null,null,null,null],[null,null,null,null,null,4100.006461885576,null,null,null,null,null,null],[null,null,4154.671309427601,null,null,null,null,null,null,null,null,null],[null,4092.9843506389248,null,null,null,null,null,null,null,null,null,null],[null,null,null,null,4077.997372476685,null,null,null,null,null,null,null],[null,4127.794472555672,null,null,null,null,null,null,null,null,null,null],[null,4297.138535144904,null,null,null,null,null,null,null,null,null,null],[null,4078.3607534803386,null,null,null,null,null,null,null,null,null,null],[null,null,null,null,null,4169.122318403157,null,null,null,null,null,null],[null,null,4053.405213385052,null,null,null,null,null,null,null,null,null],[null,null,null,null,null,null,null,null,null,null,4198.639358325225,null],[null,null,null,null,null,4584.422569492246,null,null,null,null,null,null],[null,null,null,null,4238.374571616421,null,null,null,null,null,null,null],[null,4159.855193825207,null,null,null,null,null,null,null,null,null,null],[null,null,null,null,null,null,null,null,4236.186151547414,null,null,null],[null,null,null,null,null,null,null,4031.515365857815,null,null,null,null],[null,null,null,null,null,null,null,4337.014435185782,null,null,null,null],[null,null,4073.982682206089,null,null,null,null,null,null,null,null,null],[null,null,null,null,null,null,null,null,4236.639290225527,null,null,null],[null,4180.122548304451,null,null,null,null,null,null,null,null,null,null],[null,null,null,null,null,null,null,4385.256946002806,null,null,null,null],[null,null,null,null,4211.585891483139,null,null,null,null,null,null,null],[null,4153.817189609229,null,null,null,null,null,null,null,null,null,null],[null,null,null,null,null,null,null,null,4191.4082983024055,null,null,null],[null,null,null,null,null,null,null,null,null,null,4370.395010623053,null],[null,null,null,null,4163.792022591232,null,null,null,null,null,null,null],[null,null,null,null,null,null,null,null,4230.945329159746,null,null,null],[null,null,null,null,null,null,4308.813939115351,null,null,null,null,null],[null,null,null,null,4187.838200827843,null,null,null,null,null,null,null],[null,null,null,null,null,null,null,4329.672786588965,null,null,null,null],[null,null,null,null,4129.754896804442,null,null,null,null,null,null,null],[null,null,null,null,4336.001960612709,null,null,null,null,null,null,null],[null,null,null,null,null,null,4538.548807253924,null,null,null,null,null],[null,null,null,null,null,null,null,null,5189.197994771008,null,null,null],[null,null,null,null,4297.320392373839,null,null,null,null,null,null,null],[null,null,null,4746.469953378102,null,null,null,null,null,null,null,null],[null,null,4624.219295384898,null,null,null,null,null,null,null,null,null],[null,null,4498.503142018106,null,null,null,null,null,null,null,null,null],[null,null,null,null,null,null,null,4346.057472326784,null,null,null,null],[null,null,null,6899.058398855882,null,null,null,null,null,null,null,null],[null,null,null,null,null,null,null,4358.990902918433,null,null,null,null],[null,null,null,null,null,null,null,null,null,null,null,null]],\"type\":\"contour\",\"xaxis\":\"x13\",\"yaxis\":\"y13\"},{\"marker\":{\"color\":\"black\",\"line\":{\"color\":\"Grey\",\"width\":2.0}},\"mode\":\"markers\",\"showlegend\":false,\"x\":[13,8,6,4,6,5,5,12,10,11,10,13,11,11,9,8,11,11,9,9,7,7,7,10,7,7,8,6,7,13,5,9,8,8,12,6,9,4,7,10,12,9,6,8,10,10,10,11,12,10,5,9,9,11,9,8,10,7,11,9,8,8,7,6,8,9,7,10,8,7,7,6,7,8,9,7,6,11,10,5,8,8,8,9,7,7,6,7,7,6,5,4,4,4,5,4,4,4,5,4],\"y\":[213,156,859,156,190,212,653,299,955,196,107,403,361,394,500,280,511,106,253,255,148,132,173,191,248,229,127,183,180,333,216,258,257,169,144,221,289,322,203,121,159,292,240,274,355,457,359,410,203,735,576,308,268,353,231,288,171,404,241,199,339,267,308,260,245,215,187,373,277,458,441,557,479,329,225,379,172,294,139,157,257,272,315,432,309,342,307,525,320,291,331,321,319,384,316,350,323,321,360,365],\"type\":\"scatter\",\"xaxis\":\"x13\",\"yaxis\":\"y13\"},{\"colorbar\":{\"title\":{\"text\":\"Objective Value\"}},\"colorscale\":[[0.0,\"rgb(247,251,255)\"],[0.125,\"rgb(222,235,247)\"],[0.25,\"rgb(198,219,239)\"],[0.375,\"rgb(158,202,225)\"],[0.5,\"rgb(107,174,214)\"],[0.625,\"rgb(66,146,198)\"],[0.75,\"rgb(33,113,181)\"],[0.875,\"rgb(8,81,156)\"],[1.0,\"rgb(8,48,107)\"]],\"connectgaps\":true,\"contours\":{\"coloring\":\"heatmap\"},\"hoverinfo\":\"none\",\"line\":{\"smoothing\":1.3},\"reversescale\":true,\"showscale\":false,\"x\":[0.5999999999999999,2,3,5,6,8,9,10,11,12,13,14,16,18,19,20,21,22,23,24,25,26,27,28,29,30,31.4],\"y\":[3.55,4,5,6,7,8,9,10,11,12,13,13.45],\"z\":[[null,null,null,null,null,null,null,null,null,null,null,null,null,null,null,null,null,null,null,null,null,null,null,null,null,null,null],[null,null,null,null,null,null,null,null,null,null,null,null,null,4297.138535144904,null,null,null,null,null,null,null,null,8362.841199787279,null,4180.122548304451,4127.794472555672,null],[null,null,null,null,4624.219295384898,null,null,4498.503142018106,null,null,null,null,null,null,null,null,null,null,null,null,4436.0841605042715,null,null,4154.671309427601,4073.982682206089,null,null],[null,null,null,null,null,null,null,null,null,null,6899.058398855882,null,null,4377.687400975988,null,4749.855817929437,null,4160.747716146421,5131.499024597554,null,null,4746.469953378102,null,4050.3348511105396,4149.335892817034,null,null],[null,null,null,null,null,null,null,null,null,4369.2714195643,null,null,5496.158531983626,4336.001960612709,null,4266.975647686325,null,null,null,4211.585891483139,4187.838200827843,4129.754896804442,4198.539838173434,4077.997372476685,null,4297.320392373839,null],[null,4881.935218160944,null,5403.68447211218,null,null,null,null,null,null,null,null,null,null,4231.133877799553,null,null,null,4146.9485062779695,null,4223.476832226711,4100.006461885576,4169.122318403157,4341.644646420154,9711.821791777471,4584.422569492246,null],[null,null,null,null,null,null,null,null,null,null,null,null,null,null,null,null,null,null,null,4334.784063273927,null,4308.813939115351,4142.735594321658,4146.30113227702,4151.073592962174,4173.5096616837955,null],[null,null,null,null,null,null,4408.872251527552,null,4358.990902918433,null,null,null,null,null,null,null,null,4385.256946002806,null,4346.057472326784,null,null,4303.0384937572135,4277.654007475739,4337.014435185782,5026.7111092792065,null],[null,null,null,null,null,null,null,null,null,null,null,null,4784.344027833361,null,null,null,null,null,5189.197994771008,null,4231.898024425811,4236.186151547414,4271.140582025062,4110.871073734527,null,null,null],[null,null,null,null,null,4304.336586440891,null,null,null,null,null,8131.886264986528,null,null,null,null,null,4267.331354612213,null,null,null,9579.5229475801,null,null,null,null,null],[null,null,8070.642969278287,null,null,null,null,null,null,null,null,null,null,null,null,4370.395010623053,4198.639358325225,null,null,null,null,null,null,null,null,null,null],[null,null,null,null,null,null,null,null,null,null,null,null,null,null,null,null,null,null,null,null,null,null,null,null,null,null,null]],\"type\":\"contour\",\"xaxis\":\"x2\",\"yaxis\":\"y2\"},{\"marker\":{\"color\":\"black\",\"line\":{\"color\":\"Grey\",\"width\":2.0}},\"mode\":\"markers\",\"showlegend\":false,\"x\":[3,5,13,27,18,6,10,8,11,28,28,20,23,23,24,29,23,16,30,30,26,27,26,30,25,20,25,20,16,21,25,28,2,28,26,22,28,18,26,27,14,28,29,25,28,24,29,27,22,24,6,28,29,26,30,27,9,28,25,24,30,25,26,28,23,27,12,22,29,26,25,26,18,27,29,24,23,27,28,25,19,25,26,26,30,30,29,30,28,28,29,29,29,29,28,30,29,30,29,29],\"y\":[13,8,6,4,6,5,5,12,10,11,10,13,11,11,9,8,11,11,9,9,7,7,7,10,7,7,8,6,7,13,5,9,8,8,12,6,9,4,7,10,12,9,6,8,10,10,10,11,12,10,5,9,9,11,9,8,10,7,11,9,8,8,7,6,8,9,7,10,8,7,7,6,7,8,9,7,6,11,10,5,8,8,8,9,7,7,6,7,7,6,5,4,4,4,5,4,4,4,5,4],\"type\":\"scatter\",\"xaxis\":\"x2\",\"yaxis\":\"y2\"},{\"type\":\"scatter\",\"xaxis\":\"x6\",\"yaxis\":\"y6\"},{\"colorbar\":{\"title\":{\"text\":\"Objective Value\"}},\"colorscale\":[[0.0,\"rgb(247,251,255)\"],[0.125,\"rgb(222,235,247)\"],[0.25,\"rgb(198,219,239)\"],[0.375,\"rgb(158,202,225)\"],[0.5,\"rgb(107,174,214)\"],[0.625,\"rgb(66,146,198)\"],[0.75,\"rgb(33,113,181)\"],[0.875,\"rgb(8,81,156)\"],[1.0,\"rgb(8,48,107)\"]],\"connectgaps\":true,\"contours\":{\"coloring\":\"heatmap\"},\"hoverinfo\":\"none\",\"line\":{\"smoothing\":1.3},\"reversescale\":true,\"showscale\":false,\"x\":[0.5999999999999999,2,3,5,6,8,9,10,11,12,13,14,16,18,19,20,21,22,23,24,25,26,27,28,29,30,31.4],\"y\":[0.0007749822758920689,0.0010285084935055424,0.0013580563612786494,0.0014874609707774007,0.0027850353798638213,0.0029844244561616257,0.005262506507438321,0.0054895624027552145,0.008706341304713816,0.01041329667062595,0.012670264874973356,0.01627083870463775,0.01703209383206694,0.02245196457879437,0.0225444645239988,0.02423991719524073,0.02634601448890141,0.029006072341520472,0.03245592556746029,0.03398524791273612,0.03455830839863449,0.03759572547313215,0.03773959738327062,0.04004439501480648,0.04262050867931939,0.043247710554372674,0.04547275798616162,0.04661094851848872,0.046976447590837696,0.05097197616220452,0.05102067608323434,0.05519073771977596,0.056064772624089876,0.05758941320258553,0.05967805911294894,0.06158775304385237,0.06325539876427162,0.06640445889250945,0.06804634880171115,0.07035034013678441,0.07130081540275059,0.07261925630032107,0.07293855809368854,0.07305967659622016,0.0745367296946682,0.07684265603222379,0.07703228162069208,0.08124152462466318,0.08209127384146125,0.08259823526337047,0.08322231592613727,0.08387833836923901,0.08392321962887536,0.08495903681540876,0.08498304294293056,0.08576518041994491,0.08594802358382672,0.08607405281766764,0.08897162312565371,0.09295818774254423,0.09492539438078199,0.09530799496454562,0.09547594091486561,0.09782195414529053,0.0985118586539773,0.09946266177395985,0.10104801902261587,0.10638408020341686,0.10754954292376198,0.10773033394969075,0.1079558512844103,0.10911266417550242,0.10931697331792913,0.1153391449798611,0.12145148523602435,0.121769174557117,0.12669968605518056,0.12850664317202787,0.12939990537911272,0.13244289958775943,0.1399764397601272,0.142015474190251,0.145960291485913,0.15323102296269667,0.15774137117241427,0.16064226237169973,0.16151633956130598,0.163529684047861,0.16560513899049317,0.1716143047483098,0.1720616394520381,0.18852489195679534,0.18969006934361288,0.19183055681338052,0.20999977674183237,0.2113819538256321,0.23337706700815972,0.24207414303757463,0.25808146469892645,0.2850789068083945,0.29548138704732,0.3921446021473808],\"z\":[[null,null,null,null,null,null,null,null,null,null,null,null,null,null,null,null,null,null,null,null,null,null,null,null,null,null,null],[null,null,null,null,9798.018563926245,null,null,null,null,null,null,null,null,null,null,null,null,null,null,null,null,null,null,null,null,null,null],[null,null,null,null,null,null,null,null,null,null,null,null,null,null,null,null,null,null,null,null,null,null,null,null,9711.821791777471,null,null],[null,null,null,null,null,null,null,null,null,null,6899.058398855882,null,null,null,null,null,null,null,null,null,null,null,null,null,null,null,null],[null,null,8070.642969278287,null,null,null,null,null,null,null,null,null,null,null,null,null,null,null,null,null,null,null,null,null,null,null,null],[null,null,null,null,null,null,null,null,null,null,null,null,null,null,null,null,null,null,null,null,null,9579.5229475801,null,null,null,null,null],[null,null,null,null,null,null,null,null,null,null,null,null,null,null,null,null,null,null,null,null,null,null,8362.841199787279,null,null,null,null],[null,null,null,null,null,null,null,null,null,null,null,8131.886264986528,null,null,null,null,null,null,null,null,null,null,null,null,null,null,null],[null,null,null,null,null,null,null,null,null,null,null,null,null,null,null,null,null,null,null,null,6726.2374795155065,null,null,null,null,null,null],[null,null,null,null,null,null,null,null,null,null,null,null,null,null,null,null,null,null,5189.197994771008,null,null,null,null,null,null,null,null],[null,null,null,5403.68447211218,null,null,null,null,null,null,null,null,null,null,null,null,null,null,null,null,null,null,null,null,null,null,null],[null,null,null,null,null,null,null,null,null,null,null,null,5496.158531983626,null,null,null,null,null,null,null,null,null,null,null,null,null,null],[null,null,null,null,null,null,null,null,null,null,null,null,null,null,null,null,null,null,null,null,null,4746.469953378102,null,null,null,null,null],[null,null,null,null,null,null,null,null,null,null,null,null,null,null,null,null,null,null,null,4538.548807253924,null,null,null,null,null,null,null],[null,null,null,null,null,null,null,null,null,null,null,null,null,null,null,null,null,null,null,null,null,null,null,null,null,4584.422569492246,null],[null,null,null,null,null,null,null,null,null,null,null,null,null,null,null,null,null,null,null,null,null,null,null,6366.733876565533,null,null,null],[null,null,null,null,null,null,null,null,null,null,null,null,null,null,null,null,null,null,5131.499024597554,null,null,null,null,null,null,null,null],[null,null,null,null,null,null,null,null,null,null,null,null,null,null,null,null,null,null,null,null,null,null,null,null,null,5026.7111092792065,null],[null,null,null,null,null,null,null,null,null,null,null,null,null,null,null,null,null,null,null,null,4187.838200827843,null,null,null,null,null,null],[null,null,null,null,null,null,null,null,null,null,null,null,null,4297.138535144904,null,null,null,null,null,null,null,null,null,null,null,null,null],[null,null,null,null,null,null,null,null,null,null,null,null,null,null,null,4749.855817929437,null,null,null,null,null,null,null,null,null,null,null],[null,null,null,null,null,null,null,null,null,null,null,null,null,null,null,null,null,null,null,null,null,4129.754896804442,null,null,null,null,null],[null,null,null,null,null,null,null,null,null,null,null,null,null,null,null,null,null,null,null,4211.585891483139,null,null,null,null,null,null,null],[null,null,null,null,null,null,null,null,null,null,null,null,null,null,null,null,null,null,null,null,null,null,null,null,null,4238.374571616421,null],[null,null,null,null,null,null,null,null,null,null,null,null,4784.344027833361,null,null,null,null,null,null,null,null,null,null,null,null,null,null],[null,null,null,null,null,null,null,null,null,null,null,null,null,null,null,null,null,null,null,4346.057472326784,null,null,null,null,null,null,null],[null,null,null,null,null,null,null,null,null,null,null,null,null,4377.687400975988,null,null,null,null,null,null,null,null,null,null,null,null,null],[null,null,null,null,null,null,null,null,null,4369.2714195643,null,null,null,null,null,null,null,null,null,null,null,null,null,null,null,null,null],[null,null,null,null,null,null,null,null,null,null,null,null,null,null,null,null,null,null,null,null,null,null,null,null,4285.759809001101,null,null],[null,null,null,null,null,null,null,null,null,null,null,null,null,4336.001960612709,null,null,null,null,null,null,null,null,null,null,null,null,null],[null,null,null,null,null,null,null,null,null,null,null,null,null,null,null,null,null,null,null,null,null,null,null,null,4153.817189609229,null,null],[null,null,null,null,null,null,null,null,null,null,null,null,null,null,null,4266.975647686325,null,null,null,null,null,null,null,null,null,null,null],[null,null,null,null,null,null,null,null,null,null,null,null,null,null,null,null,null,null,null,null,null,null,null,4163.792022591232,null,null,null],[null,null,null,null,null,null,null,null,null,null,null,null,null,null,null,null,null,null,null,null,null,null,4230.945329159746,null,null,null,null],[null,null,null,null,null,null,null,null,null,null,null,null,null,null,null,null,null,4160.747716146421,null,null,null,null,null,null,null,null,null],[null,null,null,null,null,null,null,null,null,null,null,null,null,null,null,null,null,null,null,null,null,null,null,null,4149.335892817034,null,null],[null,null,null,null,null,null,null,null,null,null,null,null,null,null,null,null,null,null,null,null,null,null,null,4144.225749692704,null,null,null],[null,null,null,null,null,null,null,null,null,null,null,null,null,null,null,null,null,null,null,null,null,null,null,null,null,4159.855193825207,null],[null,null,null,null,null,null,null,null,null,null,null,null,null,null,null,null,null,null,null,null,null,null,4169.122318403157,null,null,null,null],[null,null,null,null,null,null,null,null,null,null,null,null,null,null,null,null,null,null,4191.4082983024055,null,null,null,null,null,null,null,null],[null,null,null,null,null,null,null,null,null,null,null,null,null,null,null,null,null,null,null,null,null,null,null,4341.644646420154,null,null,null],[null,null,null,null,null,null,null,null,null,null,null,null,null,null,null,null,null,null,null,null,null,null,null,4110.871073734527,null,null,null],[null,null,null,null,null,null,null,null,4358.990902918433,null,null,null,null,null,null,null,null,null,null,null,null,null,null,null,null,null,null],[null,null,null,null,null,null,null,null,null,null,null,null,null,null,null,null,null,null,null,null,null,null,null,null,null,4173.5096616837955,null],[null,null,null,null,null,null,null,null,null,null,null,null,null,null,null,null,null,null,null,null,4223.476832226711,null,null,null,null,null,null],[null,null,null,null,4624.219295384898,null,null,null,null,null,null,null,null,null,null,null,null,null,null,null,null,null,null,null,null,null,null],[null,null,null,null,null,null,null,null,null,null,null,null,null,null,null,null,null,null,null,null,4103.318546448631,null,null,null,null,null,null],[null,null,null,null,null,null,null,null,null,null,null,null,null,null,null,null,null,null,null,null,null,null,null,4154.671309427601,null,null,null],[null,null,null,null,null,null,null,null,null,null,null,null,null,null,null,null,null,null,null,null,null,null,null,4077.997372476685,null,null,null],[null,null,null,null,null,null,null,null,null,null,null,null,null,null,null,null,null,null,null,null,null,null,null,null,4092.9843506389248,null,null],[null,null,null,null,null,null,null,null,null,null,null,null,null,null,null,null,null,null,null,null,null,null,null,null,4093.2414117136286,null,null],[null,null,null,null,null,null,null,null,null,null,null,null,null,null,null,null,null,null,null,null,4231.898024425811,null,null,null,null,null,null],[null,null,null,null,null,null,null,null,null,null,null,null,null,null,null,null,null,null,null,null,null,null,null,null,4151.073592962174,null,null],[null,null,null,null,null,null,null,null,null,null,null,null,null,null,null,null,null,null,null,null,null,null,null,4050.3348511105396,null,null,null],[null,null,null,null,null,null,null,null,null,null,null,null,null,null,null,null,null,null,null,null,null,null,null,null,4053.405213385052,null,null],[null,null,null,null,null,null,null,null,null,null,null,null,null,null,null,null,null,null,null,null,null,null,null,null,null,4127.794472555672,null],[null,null,null,null,null,null,null,null,null,null,null,null,null,null,null,null,null,null,4236.639290225527,null,null,null,null,null,null,null,null],[null,null,null,null,null,null,null,null,null,null,null,null,null,null,null,null,null,null,null,null,null,null,null,null,4147.964721596948,null,null],[null,null,null,null,null,null,null,null,null,null,null,null,null,null,null,null,null,null,null,null,null,null,null,null,4078.3607534803386,null,null],[null,null,null,null,null,null,null,null,null,null,null,null,null,null,null,null,null,null,null,null,null,null,4271.140582025062,null,null,null,null],[null,null,null,null,null,null,null,null,null,null,null,null,null,null,null,null,4198.639358325225,null,null,null,null,null,null,null,null,null,null],[null,null,null,null,null,null,null,null,null,null,null,null,null,null,null,null,null,null,null,null,4117.031391522187,null,null,null,null,null,null],[null,null,null,null,null,null,null,null,null,null,null,null,null,null,null,null,null,null,null,null,null,null,4142.735594321658,null,null,null,null],[null,null,null,null,null,null,null,null,null,null,null,null,null,null,null,null,null,null,null,null,4131.861044529145,null,null,null,null,null,null],[null,null,null,null,null,null,null,null,null,null,null,null,null,null,null,null,null,null,null,null,null,null,null,null,4073.982682206089,null,null],[null,null,null,null,null,null,null,null,null,null,null,null,null,null,null,null,null,null,null,null,null,null,null,null,null,4070.2153622020433,null],[null,null,null,null,null,null,null,null,null,null,null,null,null,null,null,null,null,null,null,null,null,4100.006461885576,null,null,null,null,null],[null,null,null,null,null,null,null,null,null,null,null,null,null,null,null,null,null,null,null,null,null,null,null,4123.896886981839,null,null,null],[null,null,null,null,null,null,null,null,null,null,null,null,null,null,null,null,null,null,null,null,null,null,4143.111014127318,null,null,null,null],[null,null,null,null,null,null,null,null,null,null,null,null,null,null,null,null,null,null,null,null,null,null,null,4130.342164010103,null,null,null],[null,null,null,null,null,null,null,null,null,null,null,null,null,null,null,null,null,null,null,null,null,null,null,4146.30113227702,null,null,null],[null,null,null,null,null,null,null,null,null,null,null,null,null,null,4231.133877799553,null,null,null,null,null,null,null,null,null,null,null,null],[null,null,null,null,null,null,null,null,null,null,null,null,null,null,null,null,null,null,null,null,null,null,null,null,null,4149.888092194981,null],[null,null,null,null,null,null,null,null,null,null,null,null,null,null,null,null,null,4385.256946002806,null,null,null,null,null,null,null,null,null],[null,null,null,null,null,null,null,null,null,null,null,null,null,null,null,null,null,null,null,null,null,4122.428531482972,null,null,null,null,null],[null,null,null,null,null,null,null,null,null,null,null,null,null,null,null,null,null,null,null,null,null,null,null,4247.246254595019,null,null,null],[null,null,null,null,null,null,null,null,null,null,null,null,null,null,null,null,null,null,null,null,null,4236.186151547414,null,null,null,null,null],[null,null,null,null,null,null,null,null,null,null,null,null,null,null,null,null,null,null,null,null,null,4169.524552943322,null,null,null,null,null],[null,null,null,null,null,null,null,null,null,null,null,null,null,null,null,null,null,null,null,null,null,4308.813939115351,null,null,null,null,null],[null,null,null,null,null,null,null,null,null,null,null,null,null,null,null,null,null,null,null,null,null,null,4198.539838173434,null,null,null,null],[null,null,null,null,null,null,null,null,null,null,null,null,null,null,null,null,null,null,4146.9485062779695,null,null,null,null,null,null,null,null],[null,null,null,null,null,null,null,null,null,null,null,null,null,null,null,null,null,null,null,null,null,null,null,4277.654007475739,null,null,null],[null,null,null,null,null,null,null,null,null,null,null,null,null,null,null,null,null,4267.331354612213,null,null,null,null,null,null,null,null,null],[null,null,null,null,null,null,null,null,null,null,null,null,null,null,null,null,null,null,null,null,null,null,null,null,4180.122548304451,null,null],[null,null,null,null,null,4304.336586440891,null,null,null,null,null,null,null,null,null,null,null,null,null,null,null,null,null,null,null,null,null],[null,null,null,null,null,null,4408.872251527552,null,null,null,null,null,null,null,null,null,null,null,null,null,null,null,null,null,null,null,null],[null,null,null,null,null,null,null,null,null,null,null,null,null,null,null,null,null,null,null,null,null,4516.1088950902995,null,null,null,null,null],[null,null,null,null,null,null,null,4498.503142018106,null,null,null,null,null,null,null,null,null,null,null,null,null,null,null,null,null,null,null],[null,null,null,null,null,null,null,null,null,null,null,null,null,null,null,null,null,null,null,null,null,null,null,4031.515365857815,null,null,null],[null,null,null,null,null,null,null,null,null,null,null,null,null,null,null,null,null,null,null,4329.672786588965,null,null,null,null,null,null,null],[null,null,null,null,null,null,null,null,null,null,null,null,null,null,null,null,null,null,null,null,4436.0841605042715,null,null,null,null,null,null],[null,null,null,null,null,null,null,null,null,null,null,null,null,null,null,null,null,null,null,null,null,4468.780503272435,null,null,null,null,null],[null,null,null,null,null,null,null,null,null,null,null,null,null,null,null,null,null,null,null,null,null,null,null,null,null,4297.320392373839,null],[null,null,null,null,null,null,null,null,null,null,null,null,null,null,null,null,null,null,null,null,4184.092614184696,null,null,null,null,null,null],[null,null,null,null,null,null,null,null,null,null,null,null,null,null,null,null,null,null,null,null,null,null,null,null,4622.862689069398,null,null],[null,4881.935218160944,null,null,null,null,null,null,null,null,null,null,null,null,null,null,null,null,null,null,null,null,null,null,null,null,null],[null,null,null,null,null,null,null,null,null,null,null,null,null,null,null,null,null,null,null,null,null,null,4303.0384937572135,null,null,null,null],[null,null,null,null,null,null,null,null,null,null,null,null,null,null,null,null,null,null,null,4334.784063273927,null,null,null,null,null,null,null],[null,null,null,null,null,null,null,null,null,null,null,null,null,null,null,4370.395010623053,null,null,null,null,null,null,null,null,null,null,null],[null,null,null,null,null,null,null,null,null,null,null,null,null,null,null,null,null,null,null,null,null,null,null,null,null,4269.415105035459,null],[null,null,null,null,null,null,null,null,null,null,null,null,null,null,null,null,null,null,null,null,null,null,null,null,4337.014435185782,null,null],[null,null,null,null,null,null,null,null,null,null,null,null,null,null,null,null,null,null,null,null,null,null,null,null,null,null,null]],\"type\":\"contour\",\"xaxis\":\"x10\",\"yaxis\":\"y10\"},{\"marker\":{\"color\":\"black\",\"line\":{\"color\":\"Grey\",\"width\":2.0}},\"mode\":\"markers\",\"showlegend\":false,\"x\":[3,5,13,27,18,6,10,8,11,28,28,20,23,23,24,29,23,16,30,30,26,27,26,30,25,20,25,20,16,21,25,28,2,28,26,22,28,18,26,27,14,28,29,25,28,24,29,27,22,24,6,28,29,26,30,27,9,28,25,24,30,25,26,28,23,27,12,22,29,26,25,26,18,27,29,24,23,27,28,25,19,25,26,26,30,30,29,30,28,28,29,29,29,29,28,30,29,30,29,29],\"y\":[0.0027850353798638213,0.012670264874973356,0.0014874609707774007,0.005262506507438321,0.04547275798616162,0.0010285084935055424,0.163529684047861,0.15774137117241427,0.07293855809368854,0.07261925630032107,0.02423991719524073,0.25808146469892645,0.08594802358382672,0.07035034013678441,0.02245196457879437,0.046976447590837696,0.01041329667062595,0.04262050867931939,0.10931697331792913,0.2850789068083945,0.12850664317202787,0.13244289958775943,0.12145148523602435,0.029006072341520472,0.07703228162069208,0.05519073771977596,0.19183055681338052,0.03455830839863449,0.01627083870463775,0.09492539438078199,0.008706341304713816,0.10773033394969075,0.2113819538256321,0.07130081540275059,0.0029844244561616257,0.05967805911294894,0.10638408020341686,0.03398524791273612,0.16151633956130598,0.23337706700815972,0.0054895624027552145,0.121769174557117,0.08607405281766764,0.09782195414529053,0.16560513899049317,0.1716143047483098,0.29548138704732,0.05758941320258553,0.145960291485913,0.043247710554372674,0.07684265603222379,0.1079558512844103,0.20999977674183237,0.12669968605518056,0.07305967659622016,0.10754954292376198,0.16064226237169973,0.056064772624089876,0.08387833836923901,0.24207414303757463,0.0225444645239988,0.09530799496454562,0.18852489195679534,0.06325539876427162,0.1399764397601272,0.09547594091486561,0.04661094851848872,0.1153391449798611,0.0013580563612786494,0.03759572547313215,0.03245592556746029,0.01703209383206694,0.05097197616220452,0.06804634880171115,0.08392321962887536,0.03773959738327062,0.02634601448890141,0.09295818774254423,0.142015474190251,0.1720616394520381,0.10911266417550242,0.0745367296946682,0.10104801902261587,0.12939990537911272,0.09946266177395985,0.04004439501480648,0.06158775304385237,0.18969006934361288,0.08209127384146125,0.08495903681540876,0.08498304294293056,0.08322231592613727,0.08259823526337047,0.05102067608323434,0.08124152462466318,0.06640445889250945,0.08897162312565371,0.08576518041994491,0.0985118586539773,0.15323102296269667],\"type\":\"scatter\",\"xaxis\":\"x10\",\"yaxis\":\"y10\"},{\"colorbar\":{\"title\":{\"text\":\"Objective Value\"}},\"colorscale\":[[0.0,\"rgb(247,251,255)\"],[0.125,\"rgb(222,235,247)\"],[0.25,\"rgb(198,219,239)\"],[0.375,\"rgb(158,202,225)\"],[0.5,\"rgb(107,174,214)\"],[0.625,\"rgb(66,146,198)\"],[0.75,\"rgb(33,113,181)\"],[0.875,\"rgb(8,81,156)\"],[1.0,\"rgb(8,48,107)\"]],\"connectgaps\":true,\"contours\":{\"coloring\":\"heatmap\"},\"hoverinfo\":\"none\",\"line\":{\"smoothing\":1.3},\"reversescale\":true,\"showscale\":false,\"x\":[0.5999999999999999,2,3,5,6,8,9,10,11,12,13,14,16,18,19,20,21,22,23,24,25,26,27,28,29,30,31.4],\"y\":[94.96662193337735,106,107,121,127,132,139,144,148,156,157,159,169,171,172,173,180,183,187,190,191,196,199,203,212,213,215,216,221,225,229,231,240,241,245,248,253,255,257,258,260,267,268,272,274,277,280,288,289,291,292,294,299,307,308,309,315,316,319,320,321,322,323,329,331,333,339,342,350,353,355,359,360,361,365,373,379,384,394,403,404,410,432,441,457,458,479,500,511,525,557,576,653,735,859,955,1065.953468061828],\"z\":[[null,null,null,null,null,null,null,null,null,null,null,null,null,null,null,null,null,null,null,null,null,null,null,null,null,null,null],[null,null,null,null,null,null,null,null,null,null,null,null,4784.344027833361,null,null,null,null,null,null,null,null,null,null,null,null,null,null],[null,null,null,null,null,null,null,null,null,null,null,null,null,null,null,null,null,null,null,null,null,null,null,6366.733876565533,null,null,null],[null,null,null,null,null,null,null,null,null,null,null,null,null,null,null,null,null,null,null,null,null,null,4303.0384937572135,null,null,null,null],[null,null,null,null,null,null,null,null,null,null,null,null,null,null,null,null,null,null,null,null,4184.092614184696,null,null,null,null,null,null],[null,null,null,null,null,null,null,null,null,null,null,null,null,null,null,null,null,null,null,null,null,null,4198.539838173434,null,null,null,null],[null,null,null,null,null,null,null,null,null,null,null,null,null,null,null,null,null,null,null,null,null,null,null,4277.654007475739,null,null,null],[null,null,null,null,null,null,null,null,null,null,null,null,null,null,null,null,null,null,null,null,null,9579.5229475801,null,null,null,null,null],[null,null,null,null,null,null,null,null,null,null,null,null,null,null,null,null,null,null,null,null,null,4169.524552943322,null,null,null,null,null],[null,null,null,5403.68447211218,null,null,null,null,null,null,null,null,null,null,null,null,null,null,null,null,null,null,8362.841199787279,null,null,null,null],[null,null,null,null,null,null,null,null,null,null,null,null,null,null,null,null,null,null,null,null,4436.0841605042715,null,null,null,null,null,null],[null,null,null,null,null,null,null,null,null,null,null,8131.886264986528,null,null,null,null,null,null,null,null,null,null,null,null,null,null,null],[null,null,null,null,null,null,null,null,null,null,null,null,null,null,null,null,null,null,null,null,null,null,null,4341.644646420154,null,null,null],[null,null,null,null,null,null,4408.872251527552,null,null,null,null,null,null,null,null,null,null,null,null,null,null,null,null,null,null,null,null],[null,null,null,null,null,null,null,null,null,null,null,null,null,null,null,null,null,null,5131.499024597554,null,null,null,null,null,null,null,null],[null,null,null,null,null,null,null,null,null,null,null,null,null,null,null,null,null,null,null,null,null,4122.428531482972,null,null,null,null,null],[null,null,null,null,null,null,null,null,null,null,null,null,5496.158531983626,null,null,null,null,null,null,null,null,null,null,null,null,null,null],[null,null,null,null,null,null,null,null,null,null,null,null,null,null,null,4749.855817929437,null,null,null,null,null,null,null,null,null,null,null],[null,null,null,null,null,null,null,null,null,4369.2714195643,null,null,null,null,null,null,null,null,null,null,null,null,null,null,null,null,null],[null,null,null,null,null,null,null,null,null,null,null,null,null,4377.687400975988,null,null,null,null,null,null,null,null,null,null,null,null,null],[null,null,null,null,null,null,null,null,null,null,null,null,null,null,null,null,null,null,null,null,null,null,null,null,null,5026.7111092792065,null],[null,null,null,null,null,null,null,null,null,null,null,null,null,null,null,null,null,null,null,null,null,null,null,4110.871073734527,null,null,null],[null,null,null,null,null,null,null,null,null,null,null,null,null,null,null,null,null,null,null,4334.784063273927,null,null,null,null,null,null,null],[null,null,null,null,null,null,null,null,null,null,null,null,null,null,null,null,null,4267.331354612213,null,null,null,4516.1088950902995,null,null,null,null,null],[null,null,null,null,9798.018563926245,null,null,null,null,null,null,null,null,null,null,null,null,null,null,null,null,null,null,null,null,null,null],[null,null,8070.642969278287,null,null,null,null,null,null,null,null,null,null,null,null,null,null,null,null,null,null,null,null,null,null,null,null],[null,null,null,null,null,null,null,null,null,null,null,null,null,null,null,null,null,null,null,null,null,null,4142.735594321658,null,null,null,null],[null,null,null,null,null,null,null,null,null,null,null,null,null,null,null,null,null,null,null,null,6726.2374795155065,null,null,null,null,null,null],[null,null,null,null,null,null,null,null,null,null,null,null,null,null,null,null,null,4160.747716146421,null,null,null,null,null,null,null,null,null],[null,null,null,null,null,null,null,null,null,null,null,null,null,null,null,null,null,null,null,null,null,null,null,null,4151.073592962174,null,null],[null,null,null,null,null,null,null,null,null,null,null,null,null,null,null,4266.975647686325,null,null,null,null,null,null,null,null,null,null,null],[null,null,null,null,null,null,null,null,null,null,null,null,null,null,null,null,null,null,null,null,null,null,null,null,null,4173.5096616837955,null],[null,null,null,null,null,null,null,null,null,null,null,null,null,null,null,null,null,null,null,null,null,null,null,null,4147.964721596948,null,null],[null,null,null,null,null,null,null,null,null,null,null,null,null,null,null,null,null,null,null,null,4231.898024425811,null,null,null,null,null,null],[null,null,null,null,null,null,null,null,null,null,null,null,null,null,null,null,null,null,4146.9485062779695,null,null,null,null,null,null,null,null],[null,null,null,null,null,null,null,null,null,null,null,null,null,null,null,null,null,null,null,null,4103.318546448631,null,null,null,null,null,null],[null,null,null,null,null,null,null,null,null,null,null,null,null,null,null,null,null,null,null,null,null,null,null,null,null,4149.888092194981,null],[null,null,null,null,null,null,null,null,null,null,null,null,null,null,null,null,null,null,null,null,null,null,null,null,null,4269.415105035459,null],[null,4881.935218160944,null,null,null,null,null,null,null,null,null,null,null,null,4231.133877799553,null,null,null,null,null,null,null,null,null,null,null,null],[null,null,null,null,null,null,null,null,null,null,null,null,null,null,null,null,null,null,null,null,null,null,null,4130.342164010103,null,null,null],[null,null,null,null,null,null,null,null,null,null,null,null,null,null,null,null,null,null,null,null,null,null,null,4144.225749692704,null,null,null],[null,null,null,null,null,null,null,null,null,null,null,null,null,null,null,null,null,null,null,null,4117.031391522187,null,null,null,null,null,null],[null,null,null,null,null,null,null,null,null,null,null,null,null,null,null,null,null,null,null,null,null,null,null,null,4622.862689069398,null,null],[null,null,null,null,null,null,null,null,null,null,null,null,null,null,null,null,null,null,null,null,4223.476832226711,null,null,null,null,null,null],[null,null,null,null,null,null,null,null,null,null,null,null,null,null,null,null,null,null,null,null,4131.861044529145,null,null,null,null,null,null],[null,null,null,null,null,null,null,null,null,null,null,null,null,null,null,null,null,null,null,null,null,null,null,null,9711.821791777471,null,null],[null,null,null,null,null,null,null,null,null,null,null,null,null,null,null,null,null,null,null,null,null,null,null,null,4285.759809001101,null,null],[null,null,null,null,null,null,null,null,null,null,null,null,null,null,null,null,null,null,null,null,null,null,4143.111014127318,null,null,null,null],[null,null,null,null,null,null,null,null,null,null,null,null,null,null,null,null,null,null,null,null,null,null,null,4123.896886981839,null,null,null],[null,null,null,null,null,null,null,null,null,null,null,null,null,null,null,null,null,null,null,null,null,null,null,4050.3348511105396,null,null,null],[null,null,null,null,null,null,null,null,null,null,null,null,null,null,null,null,null,null,null,null,null,null,null,4247.246254595019,null,null,null],[null,null,null,null,null,null,null,null,null,null,null,null,null,null,null,null,null,null,null,null,null,null,4271.140582025062,null,null,null,null],[null,null,null,null,null,4304.336586440891,null,null,null,null,null,null,null,null,null,null,null,null,null,null,null,null,null,null,null,null,null],[null,null,null,null,null,null,null,null,null,null,null,null,null,null,null,null,null,null,null,null,null,null,null,null,4149.335892817034,null,null],[null,null,null,null,null,null,null,null,null,null,null,null,null,null,null,null,null,null,null,null,null,4468.780503272435,null,4146.30113227702,null,null,null],[null,null,null,null,null,null,null,null,null,null,null,null,null,null,null,null,null,null,null,null,null,null,null,null,null,4070.2153622020433,null],[null,null,null,null,null,null,null,null,null,null,null,null,null,null,null,null,null,null,null,null,null,4100.006461885576,null,null,null,null,null],[null,null,null,null,null,null,null,null,null,null,null,null,null,null,null,null,null,null,null,null,null,null,null,4154.671309427601,null,null,null],[null,null,null,null,null,null,null,null,null,null,null,null,null,null,null,null,null,null,null,null,null,null,null,null,4092.9843506389248,null,null],[null,null,null,null,null,null,null,null,null,null,null,null,null,null,null,null,null,null,null,null,null,null,null,4077.997372476685,null,null,null],[null,null,null,null,null,null,null,null,null,null,null,null,null,null,null,null,null,null,null,null,null,null,null,null,4093.2414117136286,4127.794472555672,null],[null,null,null,null,null,null,null,null,null,null,null,null,null,4297.138535144904,null,null,null,null,null,null,null,null,null,null,null,null,null],[null,null,null,null,null,null,null,null,null,null,null,null,null,null,null,null,null,null,null,null,null,null,null,null,4078.3607534803386,null,null],[null,null,null,null,null,null,null,null,null,null,null,null,null,null,null,null,null,null,null,null,null,null,4169.122318403157,null,null,null,null],[null,null,null,null,null,null,null,null,null,null,null,null,null,null,null,null,null,null,null,null,null,null,null,null,4053.405213385052,null,null],[null,null,null,null,null,null,null,null,null,null,null,null,null,null,null,null,4198.639358325225,null,null,null,null,null,null,null,null,null,null],[null,null,null,null,null,null,null,null,null,null,null,null,null,null,null,null,null,null,null,null,null,null,null,null,null,4584.422569492246,null],[null,null,null,null,null,null,null,null,null,null,null,null,null,null,null,null,null,null,null,null,null,null,null,null,null,4238.374571616421,null],[null,null,null,null,null,null,null,null,null,null,null,null,null,null,null,null,null,null,null,null,null,null,null,null,null,4159.855193825207,null],[null,null,null,null,null,null,null,null,null,null,null,null,null,null,null,null,null,null,null,null,null,4236.186151547414,null,null,null,null,null],[null,null,null,null,null,null,null,null,null,null,null,null,null,null,null,null,null,null,null,null,null,null,null,4031.515365857815,null,null,null],[null,null,null,null,null,null,null,null,null,null,null,null,null,null,null,null,null,null,null,null,null,null,null,null,4337.014435185782,null,null],[null,null,null,null,null,null,null,null,null,null,null,null,null,null,null,null,null,null,null,null,null,null,null,null,4073.982682206089,null,null],[null,null,null,null,null,null,null,null,null,null,null,null,null,null,null,null,null,null,4236.639290225527,null,null,null,null,null,null,null,null],[null,null,null,null,null,null,null,null,null,null,null,null,null,null,null,null,null,null,null,null,null,null,null,null,4180.122548304451,null,null],[null,null,null,null,null,null,null,null,null,null,null,null,null,null,null,null,null,4385.256946002806,null,null,null,null,null,null,null,null,null],[null,null,null,null,null,null,null,null,null,null,null,null,null,null,null,null,null,null,null,4211.585891483139,null,null,null,null,null,null,null],[null,null,null,null,null,null,null,null,null,null,null,null,null,null,null,null,null,null,null,null,null,null,null,null,4153.817189609229,null,null],[null,null,null,null,null,null,null,null,null,null,null,null,null,null,null,null,null,null,4191.4082983024055,null,null,null,null,null,null,null,null],[null,null,null,null,null,null,null,null,null,null,null,null,null,null,null,4370.395010623053,null,null,null,null,null,null,null,null,null,null,null],[null,null,null,null,null,null,null,null,null,null,null,null,null,null,null,null,null,null,null,null,null,null,null,4163.792022591232,null,null,null],[null,null,null,null,null,null,null,null,null,null,null,null,null,null,null,null,null,null,null,null,null,null,4230.945329159746,null,null,null,null],[null,null,null,null,null,null,null,null,null,null,null,null,null,null,null,null,null,null,null,null,null,4308.813939115351,null,null,null,null,null],[null,null,null,null,null,null,null,null,null,null,null,null,null,null,null,null,null,null,null,null,4187.838200827843,null,null,null,null,null,null],[null,null,null,null,null,null,null,null,null,null,null,null,null,null,null,null,null,null,null,4329.672786588965,null,null,null,null,null,null,null],[null,null,null,null,null,null,null,null,null,null,null,null,null,null,null,null,null,null,null,null,null,4129.754896804442,null,null,null,null,null],[null,null,null,null,null,null,null,null,null,null,null,null,null,4336.001960612709,null,null,null,null,null,null,null,null,null,null,null,null,null],[null,null,null,null,null,null,null,null,null,null,null,null,null,null,null,null,null,null,null,4538.548807253924,null,null,null,null,null,null,null],[null,null,null,null,null,null,null,null,null,null,null,null,null,null,null,null,null,null,5189.197994771008,null,null,null,null,null,null,null,null],[null,null,null,null,null,null,null,null,null,null,null,null,null,null,null,null,null,null,null,null,null,null,null,null,null,4297.320392373839,null],[null,null,null,null,null,null,null,null,null,null,null,null,null,null,null,null,null,null,null,null,null,4746.469953378102,null,null,null,null,null],[null,null,null,null,4624.219295384898,null,null,null,null,null,null,null,null,null,null,null,null,null,null,null,null,null,null,null,null,null,null],[null,null,null,null,null,null,null,4498.503142018106,null,null,null,null,null,null,null,null,null,null,null,null,null,null,null,null,null,null,null],[null,null,null,null,null,null,null,null,null,null,null,null,null,null,null,null,null,null,null,4346.057472326784,null,null,null,null,null,null,null],[null,null,null,null,null,null,null,null,null,null,6899.058398855882,null,null,null,null,null,null,null,null,null,null,null,null,null,null,null,null],[null,null,null,null,null,null,null,null,4358.990902918433,null,null,null,null,null,null,null,null,null,null,null,null,null,null,null,null,null,null],[null,null,null,null,null,null,null,null,null,null,null,null,null,null,null,null,null,null,null,null,null,null,null,null,null,null,null]],\"type\":\"contour\",\"xaxis\":\"x14\",\"yaxis\":\"y14\"},{\"marker\":{\"color\":\"black\",\"line\":{\"color\":\"Grey\",\"width\":2.0}},\"mode\":\"markers\",\"showlegend\":false,\"x\":[3,5,13,27,18,6,10,8,11,28,28,20,23,23,24,29,23,16,30,30,26,27,26,30,25,20,25,20,16,21,25,28,2,28,26,22,28,18,26,27,14,28,29,25,28,24,29,27,22,24,6,28,29,26,30,27,9,28,25,24,30,25,26,28,23,27,12,22,29,26,25,26,18,27,29,24,23,27,28,25,19,25,26,26,30,30,29,30,28,28,29,29,29,29,28,30,29,30,29,29],\"y\":[213,156,859,156,190,212,653,299,955,196,107,403,361,394,500,280,511,106,253,255,148,132,173,191,248,229,127,183,180,333,216,258,257,169,144,221,289,322,203,121,159,292,240,274,355,457,359,410,203,735,576,308,268,353,231,288,171,404,241,199,339,267,308,260,245,215,187,373,277,458,441,557,479,329,225,379,172,294,139,157,257,272,315,432,309,342,307,525,320,291,331,321,319,384,316,350,323,321,360,365],\"type\":\"scatter\",\"xaxis\":\"x14\",\"yaxis\":\"y14\"},{\"colorbar\":{\"title\":{\"text\":\"Objective Value\"}},\"colorscale\":[[0.0,\"rgb(247,251,255)\"],[0.125,\"rgb(222,235,247)\"],[0.25,\"rgb(198,219,239)\"],[0.375,\"rgb(158,202,225)\"],[0.5,\"rgb(107,174,214)\"],[0.625,\"rgb(66,146,198)\"],[0.75,\"rgb(33,113,181)\"],[0.875,\"rgb(8,81,156)\"],[1.0,\"rgb(8,48,107)\"]],\"connectgaps\":true,\"contours\":{\"coloring\":\"heatmap\"},\"hoverinfo\":\"none\",\"line\":{\"smoothing\":1.3},\"reversescale\":true,\"showscale\":false,\"x\":[0.0007749822758920689,0.0010285084935055424,0.0013580563612786494,0.0014874609707774007,0.0027850353798638213,0.0029844244561616257,0.005262506507438321,0.0054895624027552145,0.008706341304713816,0.01041329667062595,0.012670264874973356,0.01627083870463775,0.01703209383206694,0.02245196457879437,0.0225444645239988,0.02423991719524073,0.02634601448890141,0.029006072341520472,0.03245592556746029,0.03398524791273612,0.03455830839863449,0.03759572547313215,0.03773959738327062,0.04004439501480648,0.04262050867931939,0.043247710554372674,0.04547275798616162,0.04661094851848872,0.046976447590837696,0.05097197616220452,0.05102067608323434,0.05519073771977596,0.056064772624089876,0.05758941320258553,0.05967805911294894,0.06158775304385237,0.06325539876427162,0.06640445889250945,0.06804634880171115,0.07035034013678441,0.07130081540275059,0.07261925630032107,0.07293855809368854,0.07305967659622016,0.0745367296946682,0.07684265603222379,0.07703228162069208,0.08124152462466318,0.08209127384146125,0.08259823526337047,0.08322231592613727,0.08387833836923901,0.08392321962887536,0.08495903681540876,0.08498304294293056,0.08576518041994491,0.08594802358382672,0.08607405281766764,0.08897162312565371,0.09295818774254423,0.09492539438078199,0.09530799496454562,0.09547594091486561,0.09782195414529053,0.0985118586539773,0.09946266177395985,0.10104801902261587,0.10638408020341686,0.10754954292376198,0.10773033394969075,0.1079558512844103,0.10911266417550242,0.10931697331792913,0.1153391449798611,0.12145148523602435,0.121769174557117,0.12669968605518056,0.12850664317202787,0.12939990537911272,0.13244289958775943,0.1399764397601272,0.142015474190251,0.145960291485913,0.15323102296269667,0.15774137117241427,0.16064226237169973,0.16151633956130598,0.163529684047861,0.16560513899049317,0.1716143047483098,0.1720616394520381,0.18852489195679534,0.18969006934361288,0.19183055681338052,0.20999977674183237,0.2113819538256321,0.23337706700815972,0.24207414303757463,0.25808146469892645,0.2850789068083945,0.29548138704732,0.3921446021473808],\"y\":[3.55,4,5,6,7,8,9,10,11,12,13,13.45],\"z\":[[null,null,null,null,null,null,null,null,null,null,null,null,null,null,null,null,null,null,null,null,null,null,null,null,null,null,null,null,null,null,null,null,null,null,null,null,null,null,null,null,null,null,null,null,null,null,null,null,null,null,null,null,null,null,null,null,null,null,null,null,null,null,null,null,null,null,null,null,null,null,null,null,null,null,null,null,null,null,null,null,null,null,null,null,null,null,null,null,null,null,null,null,null,null,null,null,null,null,null,null,null,null],[null,null,null,null,null,null,8362.841199787279,null,null,null,null,null,null,null,null,null,null,null,null,4297.138535144904,null,null,null,null,null,null,null,null,null,null,4153.817189609229,null,null,null,null,null,null,4159.855193825207,null,null,null,null,null,null,null,null,null,null,null,4092.9843506389248,4093.2414117136286,null,null,null,null,4127.794472555672,null,null,4078.3607534803386,null,null,null,null,null,null,null,null,null,null,null,null,null,null,null,null,null,null,null,null,null,null,null,null,4180.122548304451,null,null,null,null,null,null,null,null,null,null,null,null,null,null,null,null,null,null],[null,9798.018563926245,null,null,null,null,null,null,6726.2374795155065,null,null,null,null,null,null,null,null,null,null,null,null,null,null,null,null,null,null,null,null,null,null,null,null,null,null,null,null,null,null,null,null,null,null,null,null,4624.219295384898,null,4154.671309427601,null,null,null,null,null,null,4053.405213385052,null,null,null,null,null,null,null,null,null,4073.982682206089,null,null,null,null,null,null,null,null,null,null,null,null,null,null,null,null,null,null,null,null,null,null,4498.503142018106,null,null,4436.0841605042715,null,null,null,null,null,null,null,null,null,null,null],[null,null,null,6899.058398855882,null,null,null,null,null,null,null,null,4746.469953378102,null,null,null,5131.499024597554,null,null,null,4749.855817929437,null,null,null,null,null,4377.687400975988,null,null,null,null,null,null,null,4160.747716146421,4149.335892817034,4144.225749692704,null,null,null,null,null,null,null,null,null,null,null,null,null,null,null,null,4050.3348511105396,null,null,null,4147.964721596948,null,null,null,null,null,null,null,null,null,null,null,null,null,null,null,null,null,null,null,null,null,null,null,null,null,null,null,null,null,null,null,null,null,null,null,null,null,null,null,null,null,null,null,null],[null,null,null,null,null,null,null,null,null,null,null,5496.158531983626,null,null,null,null,null,null,4187.838200827843,null,null,4129.754896804442,4211.585891483139,4238.374571616421,null,null,null,4369.2714195643,null,4336.001960612709,null,4266.975647686325,4163.792022591232,null,null,null,null,null,null,null,null,null,null,null,null,null,4103.318546448631,null,4077.997372476685,null,null,null,null,null,null,null,null,null,null,null,null,null,null,null,null,4070.2153622020433,null,null,null,null,null,null,null,null,4122.428531482972,null,null,4169.524552943322,null,4198.539838173434,null,null,null,null,null,null,4516.1088950902995,null,null,null,null,4468.780503272435,4297.320392373839,null,null,null,null,null,null,null,null,null],[null,null,9711.821791777471,null,null,null,null,null,null,null,5403.68447211218,null,null,null,4584.422569492246,null,null,null,null,null,null,null,null,null,null,null,null,null,4285.759809001101,null,null,null,null,null,null,null,null,null,4169.122318403157,null,4341.644646420154,null,null,null,4223.476832226711,null,null,null,null,null,null,null,null,null,null,null,null,null,null,null,null,4117.031391522187,null,4131.861044529145,null,null,4100.006461885576,null,4143.111014127318,null,null,4231.133877799553,null,null,null,null,null,null,null,null,4146.9485062779695,null,null,null,null,null,null,null,null,null,null,null,null,4184.092614184696,null,4881.935218160944,null,null,null,null,null,null],[null,null,null,null,null,null,null,null,null,null,null,null,null,4538.548807253924,null,null,null,null,null,null,null,null,null,null,null,null,null,null,null,null,null,null,null,null,null,null,null,null,null,null,null,null,null,4173.5096616837955,null,null,null,null,null,null,null,null,4151.073592962174,null,null,null,null,null,null,null,null,null,4142.735594321658,null,null,null,null,4123.896886981839,null,4130.342164010103,4146.30113227702,null,4149.888092194981,null,null,4247.246254595019,null,null,4308.813939115351,null,null,null,null,null,null,null,null,null,null,null,null,null,null,null,4622.862689069398,null,null,4334.784063273927,null,4269.415105035459,null,null],[null,null,null,null,null,null,null,null,null,null,null,null,null,null,null,6366.733876565533,null,5026.7111092792065,null,null,null,null,null,null,null,4346.057472326784,null,null,null,null,null,null,null,null,null,null,null,null,null,null,null,null,4358.990902918433,null,null,null,null,null,null,null,null,null,null,null,null,null,null,null,null,null,null,null,null,null,null,null,null,null,null,null,null,null,null,4385.256946002806,null,null,null,null,null,null,null,4277.654007475739,null,null,null,4408.872251527552,null,null,4031.515365857815,4329.672786588965,null,null,null,null,null,null,4303.0384937572135,null,null,null,4337.014435185782,null],[null,null,null,null,null,null,null,null,null,5189.197994771008,null,null,null,null,null,null,null,null,null,null,null,null,null,null,4784.344027833361,null,null,null,null,null,null,null,null,4230.945329159746,null,null,null,null,null,4191.4082983024055,null,4110.871073734527,null,null,null,null,null,null,null,null,null,4231.898024425811,null,null,null,null,4236.639290225527,null,null,4271.140582025062,null,null,null,null,null,null,null,null,null,null,null,null,null,null,null,null,4236.186151547414,null,null,null,null,null,null,null,null,null,null,null,null,null,null,null,null,null,null,null,null,null,null,null,null,null],[null,null,null,null,null,9579.5229475801,null,8131.886264986528,null,null,null,null,null,null,null,null,null,null,null,null,null,null,null,null,null,null,null,null,null,null,null,null,null,null,null,null,null,null,null,null,null,null,null,null,null,null,null,null,null,null,null,null,null,null,null,null,null,null,null,null,null,null,null,null,null,null,null,null,null,null,null,null,null,null,null,null,null,null,null,null,null,null,4267.331354612213,null,4304.336586440891,null,null,null,null,null,null,null,null,null,null,null,null,null,null,null,null,null],[null,null,null,null,8070.642969278287,null,null,null,null,null,null,null,null,null,null,null,null,null,null,null,null,null,null,null,null,null,null,null,null,null,null,null,null,null,null,null,null,null,null,null,null,null,null,null,null,null,null,null,null,null,null,null,null,null,null,null,null,null,null,null,4198.639358325225,null,null,null,null,null,null,null,null,null,null,null,null,null,null,null,null,null,null,null,null,null,null,null,null,null,null,null,null,null,null,null,null,null,null,null,null,null,4370.395010623053,null,null,null],[null,null,null,null,null,null,null,null,null,null,null,null,null,null,null,null,null,null,null,null,null,null,null,null,null,null,null,null,null,null,null,null,null,null,null,null,null,null,null,null,null,null,null,null,null,null,null,null,null,null,null,null,null,null,null,null,null,null,null,null,null,null,null,null,null,null,null,null,null,null,null,null,null,null,null,null,null,null,null,null,null,null,null,null,null,null,null,null,null,null,null,null,null,null,null,null,null,null,null,null,null,null]],\"type\":\"contour\",\"xaxis\":\"x3\",\"yaxis\":\"y3\"},{\"marker\":{\"color\":\"black\",\"line\":{\"color\":\"Grey\",\"width\":2.0}},\"mode\":\"markers\",\"showlegend\":false,\"x\":[0.0027850353798638213,0.012670264874973356,0.0014874609707774007,0.005262506507438321,0.04547275798616162,0.0010285084935055424,0.163529684047861,0.15774137117241427,0.07293855809368854,0.07261925630032107,0.02423991719524073,0.25808146469892645,0.08594802358382672,0.07035034013678441,0.02245196457879437,0.046976447590837696,0.01041329667062595,0.04262050867931939,0.10931697331792913,0.2850789068083945,0.12850664317202787,0.13244289958775943,0.12145148523602435,0.029006072341520472,0.07703228162069208,0.05519073771977596,0.19183055681338052,0.03455830839863449,0.01627083870463775,0.09492539438078199,0.008706341304713816,0.10773033394969075,0.2113819538256321,0.07130081540275059,0.0029844244561616257,0.05967805911294894,0.10638408020341686,0.03398524791273612,0.16151633956130598,0.23337706700815972,0.0054895624027552145,0.121769174557117,0.08607405281766764,0.09782195414529053,0.16560513899049317,0.1716143047483098,0.29548138704732,0.05758941320258553,0.145960291485913,0.043247710554372674,0.07684265603222379,0.1079558512844103,0.20999977674183237,0.12669968605518056,0.07305967659622016,0.10754954292376198,0.16064226237169973,0.056064772624089876,0.08387833836923901,0.24207414303757463,0.0225444645239988,0.09530799496454562,0.18852489195679534,0.06325539876427162,0.1399764397601272,0.09547594091486561,0.04661094851848872,0.1153391449798611,0.0013580563612786494,0.03759572547313215,0.03245592556746029,0.01703209383206694,0.05097197616220452,0.06804634880171115,0.08392321962887536,0.03773959738327062,0.02634601448890141,0.09295818774254423,0.142015474190251,0.1720616394520381,0.10911266417550242,0.0745367296946682,0.10104801902261587,0.12939990537911272,0.09946266177395985,0.04004439501480648,0.06158775304385237,0.18969006934361288,0.08209127384146125,0.08495903681540876,0.08498304294293056,0.08322231592613727,0.08259823526337047,0.05102067608323434,0.08124152462466318,0.06640445889250945,0.08897162312565371,0.08576518041994491,0.0985118586539773,0.15323102296269667],\"y\":[13,8,6,4,6,5,5,12,10,11,10,13,11,11,9,8,11,11,9,9,7,7,7,10,7,7,8,6,7,13,5,9,8,8,12,6,9,4,7,10,12,9,6,8,10,10,10,11,12,10,5,9,9,11,9,8,10,7,11,9,8,8,7,6,8,9,7,10,8,7,7,6,7,8,9,7,6,11,10,5,8,8,8,9,7,7,6,7,7,6,5,4,4,4,5,4,4,4,5,4],\"type\":\"scatter\",\"xaxis\":\"x3\",\"yaxis\":\"y3\"},{\"colorbar\":{\"title\":{\"text\":\"Objective Value\"}},\"colorscale\":[[0.0,\"rgb(247,251,255)\"],[0.125,\"rgb(222,235,247)\"],[0.25,\"rgb(198,219,239)\"],[0.375,\"rgb(158,202,225)\"],[0.5,\"rgb(107,174,214)\"],[0.625,\"rgb(66,146,198)\"],[0.75,\"rgb(33,113,181)\"],[0.875,\"rgb(8,81,156)\"],[1.0,\"rgb(8,48,107)\"]],\"connectgaps\":true,\"contours\":{\"coloring\":\"heatmap\"},\"hoverinfo\":\"none\",\"line\":{\"smoothing\":1.3},\"reversescale\":true,\"showscale\":false,\"x\":[0.0007749822758920689,0.0010285084935055424,0.0013580563612786494,0.0014874609707774007,0.0027850353798638213,0.0029844244561616257,0.005262506507438321,0.0054895624027552145,0.008706341304713816,0.01041329667062595,0.012670264874973356,0.01627083870463775,0.01703209383206694,0.02245196457879437,0.0225444645239988,0.02423991719524073,0.02634601448890141,0.029006072341520472,0.03245592556746029,0.03398524791273612,0.03455830839863449,0.03759572547313215,0.03773959738327062,0.04004439501480648,0.04262050867931939,0.043247710554372674,0.04547275798616162,0.04661094851848872,0.046976447590837696,0.05097197616220452,0.05102067608323434,0.05519073771977596,0.056064772624089876,0.05758941320258553,0.05967805911294894,0.06158775304385237,0.06325539876427162,0.06640445889250945,0.06804634880171115,0.07035034013678441,0.07130081540275059,0.07261925630032107,0.07293855809368854,0.07305967659622016,0.0745367296946682,0.07684265603222379,0.07703228162069208,0.08124152462466318,0.08209127384146125,0.08259823526337047,0.08322231592613727,0.08387833836923901,0.08392321962887536,0.08495903681540876,0.08498304294293056,0.08576518041994491,0.08594802358382672,0.08607405281766764,0.08897162312565371,0.09295818774254423,0.09492539438078199,0.09530799496454562,0.09547594091486561,0.09782195414529053,0.0985118586539773,0.09946266177395985,0.10104801902261587,0.10638408020341686,0.10754954292376198,0.10773033394969075,0.1079558512844103,0.10911266417550242,0.10931697331792913,0.1153391449798611,0.12145148523602435,0.121769174557117,0.12669968605518056,0.12850664317202787,0.12939990537911272,0.13244289958775943,0.1399764397601272,0.142015474190251,0.145960291485913,0.15323102296269667,0.15774137117241427,0.16064226237169973,0.16151633956130598,0.163529684047861,0.16560513899049317,0.1716143047483098,0.1720616394520381,0.18852489195679534,0.18969006934361288,0.19183055681338052,0.20999977674183237,0.2113819538256321,0.23337706700815972,0.24207414303757463,0.25808146469892645,0.2850789068083945,0.29548138704732,0.3921446021473808],\"y\":[0.5999999999999999,2,3,5,6,8,9,10,11,12,13,14,16,18,19,20,21,22,23,24,25,26,27,28,29,30,31.4],\"z\":[[null,null,null,null,null,null,null,null,null,null,null,null,null,null,null,null,null,null,null,null,null,null,null,null,null,null,null,null,null,null,null,null,null,null,null,null,null,null,null,null,null,null,null,null,null,null,null,null,null,null,null,null,null,null,null,null,null,null,null,null,null,null,null,null,null,null,null,null,null,null,null,null,null,null,null,null,null,null,null,null,null,null,null,null,null,null,null,null,null,null,null,null,null,null,null,null,null,null,null,null,null,null],[null,null,null,null,null,null,null,null,null,null,null,null,null,null,null,null,null,null,null,null,null,null,null,null,null,null,null,null,null,null,null,null,null,null,null,null,null,null,null,null,null,null,null,null,null,null,null,null,null,null,null,null,null,null,null,null,null,null,null,null,null,null,null,null,null,null,null,null,null,null,null,null,null,null,null,null,null,null,null,null,null,null,null,null,null,null,null,null,null,null,null,null,null,null,null,4881.935218160944,null,null,null,null,null,null],[null,null,null,null,8070.642969278287,null,null,null,null,null,null,null,null,null,null,null,null,null,null,null,null,null,null,null,null,null,null,null,null,null,null,null,null,null,null,null,null,null,null,null,null,null,null,null,null,null,null,null,null,null,null,null,null,null,null,null,null,null,null,null,null,null,null,null,null,null,null,null,null,null,null,null,null,null,null,null,null,null,null,null,null,null,null,null,null,null,null,null,null,null,null,null,null,null,null,null,null,null,null,null,null,null],[null,null,null,null,null,null,null,null,null,null,5403.68447211218,null,null,null,null,null,null,null,null,null,null,null,null,null,null,null,null,null,null,null,null,null,null,null,null,null,null,null,null,null,null,null,null,null,null,null,null,null,null,null,null,null,null,null,null,null,null,null,null,null,null,null,null,null,null,null,null,null,null,null,null,null,null,null,null,null,null,null,null,null,null,null,null,null,null,null,null,null,null,null,null,null,null,null,null,null,null,null,null,null,null,null],[null,9798.018563926245,null,null,null,null,null,null,null,null,null,null,null,null,null,null,null,null,null,null,null,null,null,null,null,null,null,null,null,null,null,null,null,null,null,null,null,null,null,null,null,null,null,null,null,4624.219295384898,null,null,null,null,null,null,null,null,null,null,null,null,null,null,null,null,null,null,null,null,null,null,null,null,null,null,null,null,null,null,null,null,null,null,null,null,null,null,null,null,null,null,null,null,null,null,null,null,null,null,null,null,null,null,null,null],[null,null,null,null,null,null,null,null,null,null,null,null,null,null,null,null,null,null,null,null,null,null,null,null,null,null,null,null,null,null,null,null,null,null,null,null,null,null,null,null,null,null,null,null,null,null,null,null,null,null,null,null,null,null,null,null,null,null,null,null,null,null,null,null,null,null,null,null,null,null,null,null,null,null,null,null,null,null,null,null,null,null,null,null,4304.336586440891,null,null,null,null,null,null,null,null,null,null,null,null,null,null,null,null,null],[null,null,null,null,null,null,null,null,null,null,null,null,null,null,null,null,null,null,null,null,null,null,null,null,null,null,null,null,null,null,null,null,null,null,null,null,null,null,null,null,null,null,null,null,null,null,null,null,null,null,null,null,null,null,null,null,null,null,null,null,null,null,null,null,null,null,null,null,null,null,null,null,null,null,null,null,null,null,null,null,null,null,null,null,null,4408.872251527552,null,null,null,null,null,null,null,null,null,null,null,null,null,null,null,null],[null,null,null,null,null,null,null,null,null,null,null,null,null,null,null,null,null,null,null,null,null,null,null,null,null,null,null,null,null,null,null,null,null,null,null,null,null,null,null,null,null,null,null,null,null,null,null,null,null,null,null,null,null,null,null,null,null,null,null,null,null,null,null,null,null,null,null,null,null,null,null,null,null,null,null,null,null,null,null,null,null,null,null,null,null,null,null,4498.503142018106,null,null,null,null,null,null,null,null,null,null,null,null,null,null],[null,null,null,null,null,null,null,null,null,null,null,null,null,null,null,null,null,null,null,null,null,null,null,null,null,null,null,null,null,null,null,null,null,null,null,null,null,null,null,null,null,null,4358.990902918433,null,null,null,null,null,null,null,null,null,null,null,null,null,null,null,null,null,null,null,null,null,null,null,null,null,null,null,null,null,null,null,null,null,null,null,null,null,null,null,null,null,null,null,null,null,null,null,null,null,null,null,null,null,null,null,null,null,null,null],[null,null,null,null,null,null,null,null,null,null,null,null,null,null,null,null,null,null,null,null,null,null,null,null,null,null,null,4369.2714195643,null,null,null,null,null,null,null,null,null,null,null,null,null,null,null,null,null,null,null,null,null,null,null,null,null,null,null,null,null,null,null,null,null,null,null,null,null,null,null,null,null,null,null,null,null,null,null,null,null,null,null,null,null,null,null,null,null,null,null,null,null,null,null,null,null,null,null,null,null,null,null,null,null,null],[null,null,null,6899.058398855882,null,null,null,null,null,null,null,null,null,null,null,null,null,null,null,null,null,null,null,null,null,null,null,null,null,null,null,null,null,null,null,null,null,null,null,null,null,null,null,null,null,null,null,null,null,null,null,null,null,null,null,null,null,null,null,null,null,null,null,null,null,null,null,null,null,null,null,null,null,null,null,null,null,null,null,null,null,null,null,null,null,null,null,null,null,null,null,null,null,null,null,null,null,null,null,null,null,null],[null,null,null,null,null,null,null,8131.886264986528,null,null,null,null,null,null,null,null,null,null,null,null,null,null,null,null,null,null,null,null,null,null,null,null,null,null,null,null,null,null,null,null,null,null,null,null,null,null,null,null,null,null,null,null,null,null,null,null,null,null,null,null,null,null,null,null,null,null,null,null,null,null,null,null,null,null,null,null,null,null,null,null,null,null,null,null,null,null,null,null,null,null,null,null,null,null,null,null,null,null,null,null,null,null],[null,null,null,null,null,null,null,null,null,null,null,5496.158531983626,null,null,null,null,null,null,null,null,null,null,null,null,4784.344027833361,null,null,null,null,null,null,null,null,null,null,null,null,null,null,null,null,null,null,null,null,null,null,null,null,null,null,null,null,null,null,null,null,null,null,null,null,null,null,null,null,null,null,null,null,null,null,null,null,null,null,null,null,null,null,null,null,null,null,null,null,null,null,null,null,null,null,null,null,null,null,null,null,null,null,null,null,null],[null,null,null,null,null,null,null,null,null,null,null,null,null,null,null,null,null,null,null,4297.138535144904,null,null,null,null,null,null,4377.687400975988,null,null,4336.001960612709,null,null,null,null,null,null,null,null,null,null,null,null,null,null,null,null,null,null,null,null,null,null,null,null,null,null,null,null,null,null,null,null,null,null,null,null,null,null,null,null,null,null,null,null,null,null,null,null,null,null,null,null,null,null,null,null,null,null,null,null,null,null,null,null,null,null,null,null,null,null,null,null],[null,null,null,null,null,null,null,null,null,null,null,null,null,null,null,null,null,null,null,null,null,null,null,null,null,null,null,null,null,null,null,null,null,null,null,null,null,null,null,null,null,null,null,null,null,null,null,null,null,null,null,null,null,null,null,null,null,null,null,null,null,null,null,null,null,null,null,null,null,null,null,4231.133877799553,null,null,null,null,null,null,null,null,null,null,null,null,null,null,null,null,null,null,null,null,null,null,null,null,null,null,null,null,null,null],[null,null,null,null,null,null,null,null,null,null,null,null,null,null,null,null,null,null,null,null,4749.855817929437,null,null,null,null,null,null,null,null,null,null,4266.975647686325,null,null,null,null,null,null,null,null,null,null,null,null,null,null,null,null,null,null,null,null,null,null,null,null,null,null,null,null,null,null,null,null,null,null,null,null,null,null,null,null,null,null,null,null,null,null,null,null,null,null,null,null,null,null,null,null,null,null,null,null,null,null,null,null,null,null,4370.395010623053,null,null,null],[null,null,null,null,null,null,null,null,null,null,null,null,null,null,null,null,null,null,null,null,null,null,null,null,null,null,null,null,null,null,null,null,null,null,null,null,null,null,null,null,null,null,null,null,null,null,null,null,null,null,null,null,null,null,null,null,null,null,null,null,4198.639358325225,null,null,null,null,null,null,null,null,null,null,null,null,null,null,null,null,null,null,null,null,null,null,null,null,null,null,null,null,null,null,null,null,null,null,null,null,null,null,null,null,null],[null,null,null,null,null,null,null,null,null,null,null,null,null,null,null,null,null,null,null,null,null,null,null,null,null,null,null,null,null,null,null,null,null,null,4160.747716146421,null,null,null,null,null,null,null,null,null,null,null,null,null,null,null,null,null,null,null,null,null,null,null,null,null,null,null,null,null,null,null,null,null,null,null,null,null,null,4385.256946002806,null,null,null,null,null,null,null,null,4267.331354612213,null,null,null,null,null,null,null,null,null,null,null,null,null,null,null,null,null,null,null],[null,null,null,null,null,null,null,null,null,5189.197994771008,null,null,null,null,null,null,5131.499024597554,null,null,null,null,null,null,null,null,null,null,null,null,null,null,null,null,null,null,null,null,null,null,4191.4082983024055,null,null,null,null,null,null,null,null,null,null,null,null,null,null,null,null,4236.639290225527,null,null,null,null,null,null,null,null,null,null,null,null,null,null,null,null,null,null,null,null,null,null,null,4146.9485062779695,null,null,null,null,null,null,null,null,null,null,null,null,null,null,null,null,null,null,null,null,null],[null,null,null,null,null,null,null,null,null,null,null,null,null,4538.548807253924,null,null,null,null,null,null,null,null,4211.585891483139,null,null,4346.057472326784,null,null,null,null,null,null,null,null,null,null,null,null,null,null,null,null,null,null,null,null,null,null,null,null,null,null,null,null,null,null,null,null,null,null,null,null,null,null,null,null,null,null,null,null,null,null,null,null,null,null,null,null,null,null,null,null,null,null,null,null,null,null,null,4329.672786588965,null,null,null,null,null,null,null,4334.784063273927,null,null,null,null],[null,null,null,null,null,null,null,null,6726.2374795155065,null,null,null,null,null,null,null,null,null,4187.838200827843,null,null,null,null,null,null,null,null,null,null,null,null,null,null,null,null,null,null,null,null,null,null,null,null,null,4223.476832226711,null,4103.318546448631,null,null,null,null,4231.898024425811,null,null,null,null,null,null,null,null,null,4117.031391522187,null,4131.861044529145,null,null,null,null,null,null,null,null,null,null,null,null,null,null,null,null,null,null,null,null,null,null,null,null,null,null,4436.0841605042715,null,null,4184.092614184696,null,null,null,null,null,null,null,null],[null,null,null,null,null,9579.5229475801,null,null,null,null,null,null,4746.469953378102,null,null,null,null,null,null,null,null,4129.754896804442,null,null,null,null,null,null,null,null,null,null,null,null,null,null,null,null,null,null,null,null,null,null,null,null,null,null,null,null,null,null,null,null,null,null,null,null,null,null,null,null,null,null,null,null,4100.006461885576,null,null,null,null,null,null,null,4122.428531482972,null,4236.186151547414,4169.524552943322,4308.813939115351,null,null,null,null,null,null,null,4516.1088950902995,null,null,null,null,4468.780503272435,null,null,null,null,null,null,null,null,null,null],[null,null,null,null,null,null,8362.841199787279,null,null,null,null,null,null,null,null,null,null,null,null,null,null,null,null,null,null,null,null,null,null,null,null,null,null,4230.945329159746,null,null,null,null,4169.122318403157,null,null,null,null,null,null,null,null,null,null,null,null,null,null,null,null,null,null,null,null,4271.140582025062,null,null,4142.735594321658,null,null,null,null,null,4143.111014127318,null,null,null,null,null,null,null,null,null,null,4198.539838173434,null,null,null,null,null,null,null,null,null,null,null,null,null,null,null,null,4303.0384937572135,null,null,null,null,null],[null,null,null,null,null,null,null,null,null,null,null,null,null,null,null,6366.733876565533,null,null,null,null,null,null,null,null,null,null,null,null,null,null,null,null,4163.792022591232,null,null,null,4144.225749692704,null,null,null,4341.644646420154,4110.871073734527,null,null,null,null,null,4154.671309427601,4077.997372476685,null,null,null,null,4050.3348511105396,null,null,null,null,null,null,null,null,null,null,null,null,null,4123.896886981839,null,4130.342164010103,4146.30113227702,null,null,null,null,4247.246254595019,null,null,null,null,null,4277.654007475739,null,null,null,null,null,null,4031.515365857815,null,null,null,null,null,null,null,null,null,null,null,null,null],[null,null,9711.821791777471,null,null,null,null,null,null,null,null,null,null,null,null,null,null,null,null,null,null,null,null,null,null,null,null,null,4285.759809001101,null,4153.817189609229,null,null,null,null,4149.335892817034,null,null,null,null,null,null,null,null,null,null,null,null,null,4092.9843506389248,4093.2414117136286,null,4151.073592962174,null,4053.405213385052,null,null,4147.964721596948,4078.3607534803386,null,null,null,null,null,4073.982682206089,null,null,null,null,null,null,null,null,null,null,null,null,null,null,null,null,null,null,4180.122548304451,null,null,null,null,null,null,null,null,null,null,4622.862689069398,null,null,null,null,null,4337.014435185782,null],[null,null,null,null,null,null,null,null,null,null,null,null,null,null,4584.422569492246,null,null,5026.7111092792065,null,null,null,null,null,4238.374571616421,null,null,null,null,null,null,null,null,null,null,null,null,null,4159.855193825207,null,null,null,null,null,4173.5096616837955,null,null,null,null,null,null,null,null,null,null,null,4127.794472555672,null,null,null,null,null,null,null,null,null,4070.2153622020433,null,null,null,null,null,null,4149.888092194981,null,null,null,null,null,null,null,null,null,null,null,null,null,null,null,null,null,null,null,4297.320392373839,null,null,null,null,null,null,4269.415105035459,null,null],[null,null,null,null,null,null,null,null,null,null,null,null,null,null,null,null,null,null,null,null,null,null,null,null,null,null,null,null,null,null,null,null,null,null,null,null,null,null,null,null,null,null,null,null,null,null,null,null,null,null,null,null,null,null,null,null,null,null,null,null,null,null,null,null,null,null,null,null,null,null,null,null,null,null,null,null,null,null,null,null,null,null,null,null,null,null,null,null,null,null,null,null,null,null,null,null,null,null,null,null,null,null]],\"type\":\"contour\",\"xaxis\":\"x7\",\"yaxis\":\"y7\"},{\"marker\":{\"color\":\"black\",\"line\":{\"color\":\"Grey\",\"width\":2.0}},\"mode\":\"markers\",\"showlegend\":false,\"x\":[0.0027850353798638213,0.012670264874973356,0.0014874609707774007,0.005262506507438321,0.04547275798616162,0.0010285084935055424,0.163529684047861,0.15774137117241427,0.07293855809368854,0.07261925630032107,0.02423991719524073,0.25808146469892645,0.08594802358382672,0.07035034013678441,0.02245196457879437,0.046976447590837696,0.01041329667062595,0.04262050867931939,0.10931697331792913,0.2850789068083945,0.12850664317202787,0.13244289958775943,0.12145148523602435,0.029006072341520472,0.07703228162069208,0.05519073771977596,0.19183055681338052,0.03455830839863449,0.01627083870463775,0.09492539438078199,0.008706341304713816,0.10773033394969075,0.2113819538256321,0.07130081540275059,0.0029844244561616257,0.05967805911294894,0.10638408020341686,0.03398524791273612,0.16151633956130598,0.23337706700815972,0.0054895624027552145,0.121769174557117,0.08607405281766764,0.09782195414529053,0.16560513899049317,0.1716143047483098,0.29548138704732,0.05758941320258553,0.145960291485913,0.043247710554372674,0.07684265603222379,0.1079558512844103,0.20999977674183237,0.12669968605518056,0.07305967659622016,0.10754954292376198,0.16064226237169973,0.056064772624089876,0.08387833836923901,0.24207414303757463,0.0225444645239988,0.09530799496454562,0.18852489195679534,0.06325539876427162,0.1399764397601272,0.09547594091486561,0.04661094851848872,0.1153391449798611,0.0013580563612786494,0.03759572547313215,0.03245592556746029,0.01703209383206694,0.05097197616220452,0.06804634880171115,0.08392321962887536,0.03773959738327062,0.02634601448890141,0.09295818774254423,0.142015474190251,0.1720616394520381,0.10911266417550242,0.0745367296946682,0.10104801902261587,0.12939990537911272,0.09946266177395985,0.04004439501480648,0.06158775304385237,0.18969006934361288,0.08209127384146125,0.08495903681540876,0.08498304294293056,0.08322231592613727,0.08259823526337047,0.05102067608323434,0.08124152462466318,0.06640445889250945,0.08897162312565371,0.08576518041994491,0.0985118586539773,0.15323102296269667],\"y\":[3,5,13,27,18,6,10,8,11,28,28,20,23,23,24,29,23,16,30,30,26,27,26,30,25,20,25,20,16,21,25,28,2,28,26,22,28,18,26,27,14,28,29,25,28,24,29,27,22,24,6,28,29,26,30,27,9,28,25,24,30,25,26,28,23,27,12,22,29,26,25,26,18,27,29,24,23,27,28,25,19,25,26,26,30,30,29,30,28,28,29,29,29,29,28,30,29,30,29,29],\"type\":\"scatter\",\"xaxis\":\"x7\",\"yaxis\":\"y7\"},{\"type\":\"scatter\",\"xaxis\":\"x11\",\"yaxis\":\"y11\"},{\"colorbar\":{\"title\":{\"text\":\"Objective Value\"}},\"colorscale\":[[0.0,\"rgb(247,251,255)\"],[0.125,\"rgb(222,235,247)\"],[0.25,\"rgb(198,219,239)\"],[0.375,\"rgb(158,202,225)\"],[0.5,\"rgb(107,174,214)\"],[0.625,\"rgb(66,146,198)\"],[0.75,\"rgb(33,113,181)\"],[0.875,\"rgb(8,81,156)\"],[1.0,\"rgb(8,48,107)\"]],\"connectgaps\":true,\"contours\":{\"coloring\":\"heatmap\"},\"hoverinfo\":\"none\",\"line\":{\"smoothing\":1.3},\"reversescale\":true,\"showscale\":false,\"x\":[0.0007749822758920689,0.0010285084935055424,0.0013580563612786494,0.0014874609707774007,0.0027850353798638213,0.0029844244561616257,0.005262506507438321,0.0054895624027552145,0.008706341304713816,0.01041329667062595,0.012670264874973356,0.01627083870463775,0.01703209383206694,0.02245196457879437,0.0225444645239988,0.02423991719524073,0.02634601448890141,0.029006072341520472,0.03245592556746029,0.03398524791273612,0.03455830839863449,0.03759572547313215,0.03773959738327062,0.04004439501480648,0.04262050867931939,0.043247710554372674,0.04547275798616162,0.04661094851848872,0.046976447590837696,0.05097197616220452,0.05102067608323434,0.05519073771977596,0.056064772624089876,0.05758941320258553,0.05967805911294894,0.06158775304385237,0.06325539876427162,0.06640445889250945,0.06804634880171115,0.07035034013678441,0.07130081540275059,0.07261925630032107,0.07293855809368854,0.07305967659622016,0.0745367296946682,0.07684265603222379,0.07703228162069208,0.08124152462466318,0.08209127384146125,0.08259823526337047,0.08322231592613727,0.08387833836923901,0.08392321962887536,0.08495903681540876,0.08498304294293056,0.08576518041994491,0.08594802358382672,0.08607405281766764,0.08897162312565371,0.09295818774254423,0.09492539438078199,0.09530799496454562,0.09547594091486561,0.09782195414529053,0.0985118586539773,0.09946266177395985,0.10104801902261587,0.10638408020341686,0.10754954292376198,0.10773033394969075,0.1079558512844103,0.10911266417550242,0.10931697331792913,0.1153391449798611,0.12145148523602435,0.121769174557117,0.12669968605518056,0.12850664317202787,0.12939990537911272,0.13244289958775943,0.1399764397601272,0.142015474190251,0.145960291485913,0.15323102296269667,0.15774137117241427,0.16064226237169973,0.16151633956130598,0.163529684047861,0.16560513899049317,0.1716143047483098,0.1720616394520381,0.18852489195679534,0.18969006934361288,0.19183055681338052,0.20999977674183237,0.2113819538256321,0.23337706700815972,0.24207414303757463,0.25808146469892645,0.2850789068083945,0.29548138704732,0.3921446021473808],\"y\":[94.96662193337735,106,107,121,127,132,139,144,148,156,157,159,169,171,172,173,180,183,187,190,191,196,199,203,212,213,215,216,221,225,229,231,240,241,245,248,253,255,257,258,260,267,268,272,274,277,280,288,289,291,292,294,299,307,308,309,315,316,319,320,321,322,323,329,331,333,339,342,350,353,355,359,360,361,365,373,379,384,394,403,404,410,432,441,457,458,479,500,511,525,557,576,653,735,859,955,1065.953468061828],\"z\":[[null,null,null,null,null,null,null,null,null,null,null,null,null,null,null,null,null,null,null,null,null,null,null,null,null,null,null,null,null,null,null,null,null,null,null,null,null,null,null,null,null,null,null,null,null,null,null,null,null,null,null,null,null,null,null,null,null,null,null,null,null,null,null,null,null,null,null,null,null,null,null,null,null,null,null,null,null,null,null,null,null,null,null,null,null,null,null,null,null,null,null,null,null,null,null,null,null,null,null,null,null,null],[null,null,null,null,null,null,null,null,null,null,null,null,null,null,null,null,null,null,null,null,null,null,null,null,4784.344027833361,null,null,null,null,null,null,null,null,null,null,null,null,null,null,null,null,null,null,null,null,null,null,null,null,null,null,null,null,null,null,null,null,null,null,null,null,null,null,null,null,null,null,null,null,null,null,null,null,null,null,null,null,null,null,null,null,null,null,null,null,null,null,null,null,null,null,null,null,null,null,null,null,null,null,null,null,null],[null,null,null,null,null,null,null,null,null,null,null,null,null,null,null,6366.733876565533,null,null,null,null,null,null,null,null,null,null,null,null,null,null,null,null,null,null,null,null,null,null,null,null,null,null,null,null,null,null,null,null,null,null,null,null,null,null,null,null,null,null,null,null,null,null,null,null,null,null,null,null,null,null,null,null,null,null,null,null,null,null,null,null,null,null,null,null,null,null,null,null,null,null,null,null,null,null,null,null,null,null,null,null,null,null],[null,null,null,null,null,null,null,null,null,null,null,null,null,null,null,null,null,null,null,null,null,null,null,null,null,null,null,null,null,null,null,null,null,null,null,null,null,null,null,null,null,null,null,null,null,null,null,null,null,null,null,null,null,null,null,null,null,null,null,null,null,null,null,null,null,null,null,null,null,null,null,null,null,null,null,null,null,null,null,null,null,null,null,null,null,null,null,null,null,null,null,null,null,null,null,null,4303.0384937572135,null,null,null,null,null],[null,null,null,null,null,null,null,null,null,null,null,null,null,null,null,null,null,null,null,null,null,null,null,null,null,null,null,null,null,null,null,null,null,null,null,null,null,null,null,null,null,null,null,null,null,null,null,null,null,null,null,null,null,null,null,null,null,null,null,null,null,null,null,null,null,null,null,null,null,null,null,null,null,null,null,null,null,null,null,null,null,null,null,null,null,null,null,null,null,null,null,null,null,4184.092614184696,null,null,null,null,null,null,null,null],[null,null,null,null,null,null,null,null,null,null,null,null,null,null,null,null,null,null,null,null,null,null,null,null,null,null,null,null,null,null,null,null,null,null,null,null,null,null,null,null,null,null,null,null,null,null,null,null,null,null,null,null,null,null,null,null,null,null,null,null,null,null,null,null,null,null,null,null,null,null,null,null,null,null,null,null,null,null,null,4198.539838173434,null,null,null,null,null,null,null,null,null,null,null,null,null,null,null,null,null,null,null,null,null,null],[null,null,null,null,null,null,null,null,null,null,null,null,null,null,null,null,null,null,null,null,null,null,null,null,null,null,null,null,null,null,null,null,null,null,null,null,null,null,null,null,null,null,null,null,null,null,null,null,null,null,null,null,null,null,null,null,null,null,null,null,null,null,null,null,null,null,null,null,null,null,null,null,null,null,null,null,null,null,null,null,null,4277.654007475739,null,null,null,null,null,null,null,null,null,null,null,null,null,null,null,null,null,null,null,null],[null,null,null,null,null,9579.5229475801,null,null,null,null,null,null,null,null,null,null,null,null,null,null,null,null,null,null,null,null,null,null,null,null,null,null,null,null,null,null,null,null,null,null,null,null,null,null,null,null,null,null,null,null,null,null,null,null,null,null,null,null,null,null,null,null,null,null,null,null,null,null,null,null,null,null,null,null,null,null,null,null,null,null,null,null,null,null,null,null,null,null,null,null,null,null,null,null,null,null,null,null,null,null,null,null],[null,null,null,null,null,null,null,null,null,null,null,null,null,null,null,null,null,null,null,null,null,null,null,null,null,null,null,null,null,null,null,null,null,null,null,null,null,null,null,null,null,null,null,null,null,null,null,null,null,null,null,null,null,null,null,null,null,null,null,null,null,null,null,null,null,null,null,null,null,null,null,null,null,null,null,null,null,4169.524552943322,null,null,null,null,null,null,null,null,null,null,null,null,null,null,null,null,null,null,null,null,null,null,null,null],[null,null,null,null,null,null,8362.841199787279,null,null,null,5403.68447211218,null,null,null,null,null,null,null,null,null,null,null,null,null,null,null,null,null,null,null,null,null,null,null,null,null,null,null,null,null,null,null,null,null,null,null,null,null,null,null,null,null,null,null,null,null,null,null,null,null,null,null,null,null,null,null,null,null,null,null,null,null,null,null,null,null,null,null,null,null,null,null,null,null,null,null,null,null,null,null,null,null,null,null,null,null,null,null,null,null,null,null],[null,null,null,null,null,null,null,null,null,null,null,null,null,null,null,null,null,null,null,null,null,null,null,null,null,null,null,null,null,null,null,null,null,null,null,null,null,null,null,null,null,null,null,null,null,null,null,null,null,null,null,null,null,null,null,null,null,null,null,null,null,null,null,null,null,null,null,null,null,null,null,null,null,null,null,null,null,null,null,null,null,null,null,null,null,null,null,null,null,null,4436.0841605042715,null,null,null,null,null,null,null,null,null,null,null],[null,null,null,null,null,null,null,8131.886264986528,null,null,null,null,null,null,null,null,null,null,null,null,null,null,null,null,null,null,null,null,null,null,null,null,null,null,null,null,null,null,null,null,null,null,null,null,null,null,null,null,null,null,null,null,null,null,null,null,null,null,null,null,null,null,null,null,null,null,null,null,null,null,null,null,null,null,null,null,null,null,null,null,null,null,null,null,null,null,null,null,null,null,null,null,null,null,null,null,null,null,null,null,null,null],[null,null,null,null,null,null,null,null,null,null,null,null,null,null,null,null,null,null,null,null,null,null,null,null,null,null,null,null,null,null,null,null,null,null,null,null,null,null,null,null,4341.644646420154,null,null,null,null,null,null,null,null,null,null,null,null,null,null,null,null,null,null,null,null,null,null,null,null,null,null,null,null,null,null,null,null,null,null,null,null,null,null,null,null,null,null,null,null,null,null,null,null,null,null,null,null,null,null,null,null,null,null,null,null,null],[null,null,null,null,null,null,null,null,null,null,null,null,null,null,null,null,null,null,null,null,null,null,null,null,null,null,null,null,null,null,null,null,null,null,null,null,null,null,null,null,null,null,null,null,null,null,null,null,null,null,null,null,null,null,null,null,null,null,null,null,null,null,null,null,null,null,null,null,null,null,null,null,null,null,null,null,null,null,null,null,null,null,null,null,null,4408.872251527552,null,null,null,null,null,null,null,null,null,null,null,null,null,null,null,null],[null,null,null,null,null,null,null,null,null,null,null,null,null,null,null,null,5131.499024597554,null,null,null,null,null,null,null,null,null,null,null,null,null,null,null,null,null,null,null,null,null,null,null,null,null,null,null,null,null,null,null,null,null,null,null,null,null,null,null,null,null,null,null,null,null,null,null,null,null,null,null,null,null,null,null,null,null,null,null,null,null,null,null,null,null,null,null,null,null,null,null,null,null,null,null,null,null,null,null,null,null,null,null,null,null],[null,null,null,null,null,null,null,null,null,null,null,null,null,null,null,null,null,null,null,null,null,null,null,null,null,null,null,null,null,null,null,null,null,null,null,null,null,null,null,null,null,null,null,null,null,null,null,null,null,null,null,null,null,null,null,null,null,null,null,null,null,null,null,null,null,null,null,null,null,null,null,null,null,null,4122.428531482972,null,null,null,null,null,null,null,null,null,null,null,null,null,null,null,null,null,null,null,null,null,null,null,null,null,null,null],[null,null,null,null,null,null,null,null,null,null,null,5496.158531983626,null,null,null,null,null,null,null,null,null,null,null,null,null,null,null,null,null,null,null,null,null,null,null,null,null,null,null,null,null,null,null,null,null,null,null,null,null,null,null,null,null,null,null,null,null,null,null,null,null,null,null,null,null,null,null,null,null,null,null,null,null,null,null,null,null,null,null,null,null,null,null,null,null,null,null,null,null,null,null,null,null,null,null,null,null,null,null,null,null,null],[null,null,null,null,null,null,null,null,null,null,null,null,null,null,null,null,null,null,null,null,4749.855817929437,null,null,null,null,null,null,null,null,null,null,null,null,null,null,null,null,null,null,null,null,null,null,null,null,null,null,null,null,null,null,null,null,null,null,null,null,null,null,null,null,null,null,null,null,null,null,null,null,null,null,null,null,null,null,null,null,null,null,null,null,null,null,null,null,null,null,null,null,null,null,null,null,null,null,null,null,null,null,null,null,null],[null,null,null,null,null,null,null,null,null,null,null,null,null,null,null,null,null,null,null,null,null,null,null,null,null,null,null,4369.2714195643,null,null,null,null,null,null,null,null,null,null,null,null,null,null,null,null,null,null,null,null,null,null,null,null,null,null,null,null,null,null,null,null,null,null,null,null,null,null,null,null,null,null,null,null,null,null,null,null,null,null,null,null,null,null,null,null,null,null,null,null,null,null,null,null,null,null,null,null,null,null,null,null,null,null],[null,null,null,null,null,null,null,null,null,null,null,null,null,null,null,null,null,null,null,null,null,null,null,null,null,null,4377.687400975988,null,null,null,null,null,null,null,null,null,null,null,null,null,null,null,null,null,null,null,null,null,null,null,null,null,null,null,null,null,null,null,null,null,null,null,null,null,null,null,null,null,null,null,null,null,null,null,null,null,null,null,null,null,null,null,null,null,null,null,null,null,null,null,null,null,null,null,null,null,null,null,null,null,null,null],[null,null,null,null,null,null,null,null,null,null,null,null,null,null,null,null,null,5026.7111092792065,null,null,null,null,null,null,null,null,null,null,null,null,null,null,null,null,null,null,null,null,null,null,null,null,null,null,null,null,null,null,null,null,null,null,null,null,null,null,null,null,null,null,null,null,null,null,null,null,null,null,null,null,null,null,null,null,null,null,null,null,null,null,null,null,null,null,null,null,null,null,null,null,null,null,null,null,null,null,null,null,null,null,null,null],[null,null,null,null,null,null,null,null,null,null,null,null,null,null,null,null,null,null,null,null,null,null,null,null,null,null,null,null,null,null,null,null,null,null,null,null,null,null,null,null,null,4110.871073734527,null,null,null,null,null,null,null,null,null,null,null,null,null,null,null,null,null,null,null,null,null,null,null,null,null,null,null,null,null,null,null,null,null,null,null,null,null,null,null,null,null,null,null,null,null,null,null,null,null,null,null,null,null,null,null,null,null,null,null,null],[null,null,null,null,null,null,null,null,null,null,null,null,null,null,null,null,null,null,null,null,null,null,null,null,null,null,null,null,null,null,null,null,null,null,null,null,null,null,null,null,null,null,null,null,null,null,null,null,null,null,null,null,null,null,null,null,null,null,null,null,null,null,null,null,null,null,null,null,null,null,null,null,null,null,null,null,null,null,null,null,null,null,null,null,null,null,null,null,null,null,null,null,null,null,null,null,null,4334.784063273927,null,null,null,null],[null,null,null,null,null,null,null,null,null,null,null,null,null,null,null,null,null,null,null,null,null,null,null,null,null,null,null,null,null,null,null,null,null,null,null,null,null,null,null,null,null,null,null,null,null,null,null,null,null,null,null,null,null,null,null,null,null,null,null,null,null,null,null,null,null,null,null,null,null,null,null,null,null,null,null,null,null,null,null,null,null,null,4267.331354612213,null,null,null,4516.1088950902995,null,null,null,null,null,null,null,null,null,null,null,null,null,null,null],[null,9798.018563926245,null,null,null,null,null,null,null,null,null,null,null,null,null,null,null,null,null,null,null,null,null,null,null,null,null,null,null,null,null,null,null,null,null,null,null,null,null,null,null,null,null,null,null,null,null,null,null,null,null,null,null,null,null,null,null,null,null,null,null,null,null,null,null,null,null,null,null,null,null,null,null,null,null,null,null,null,null,null,null,null,null,null,null,null,null,null,null,null,null,null,null,null,null,null,null,null,null,null,null,null],[null,null,null,null,8070.642969278287,null,null,null,null,null,null,null,null,null,null,null,null,null,null,null,null,null,null,null,null,null,null,null,null,null,null,null,null,null,null,null,null,null,null,null,null,null,null,null,null,null,null,null,null,null,null,null,null,null,null,null,null,null,null,null,null,null,null,null,null,null,null,null,null,null,null,null,null,null,null,null,null,null,null,null,null,null,null,null,null,null,null,null,null,null,null,null,null,null,null,null,null,null,null,null,null,null],[null,null,null,null,null,null,null,null,null,null,null,null,null,null,null,null,null,null,null,null,null,null,null,null,null,null,null,null,null,null,null,null,null,null,null,null,null,null,null,null,null,null,null,null,null,null,null,null,null,null,null,null,null,null,null,null,null,null,null,null,null,null,4142.735594321658,null,null,null,null,null,null,null,null,null,null,null,null,null,null,null,null,null,null,null,null,null,null,null,null,null,null,null,null,null,null,null,null,null,null,null,null,null,null,null],[null,null,null,null,null,null,null,null,6726.2374795155065,null,null,null,null,null,null,null,null,null,null,null,null,null,null,null,null,null,null,null,null,null,null,null,null,null,null,null,null,null,null,null,null,null,null,null,null,null,null,null,null,null,null,null,null,null,null,null,null,null,null,null,null,null,null,null,null,null,null,null,null,null,null,null,null,null,null,null,null,null,null,null,null,null,null,null,null,null,null,null,null,null,null,null,null,null,null,null,null,null,null,null,null,null],[null,null,null,null,null,null,null,null,null,null,null,null,null,null,null,null,null,null,null,null,null,null,null,null,null,null,null,null,null,null,null,null,null,null,4160.747716146421,null,null,null,null,null,null,null,null,null,null,null,null,null,null,null,null,null,null,null,null,null,null,null,null,null,null,null,null,null,null,null,null,null,null,null,null,null,null,null,null,null,null,null,null,null,null,null,null,null,null,null,null,null,null,null,null,null,null,null,null,null,null,null,null,null,null,null],[null,null,null,null,null,null,null,null,null,null,null,null,null,null,null,null,null,null,null,null,null,null,null,null,null,null,null,null,null,null,null,null,null,null,null,null,null,null,null,null,null,null,null,null,null,null,null,null,null,null,null,null,4151.073592962174,null,null,null,null,null,null,null,null,null,null,null,null,null,null,null,null,null,null,null,null,null,null,null,null,null,null,null,null,null,null,null,null,null,null,null,null,null,null,null,null,null,null,null,null,null,null,null,null,null],[null,null,null,null,null,null,null,null,null,null,null,null,null,null,null,null,null,null,null,null,null,null,null,null,null,null,null,null,null,null,null,4266.975647686325,null,null,null,null,null,null,null,null,null,null,null,null,null,null,null,null,null,null,null,null,null,null,null,null,null,null,null,null,null,null,null,null,null,null,null,null,null,null,null,null,null,null,null,null,null,null,null,null,null,null,null,null,null,null,null,null,null,null,null,null,null,null,null,null,null,null,null,null,null,null],[null,null,null,null,null,null,null,null,null,null,null,null,null,null,null,null,null,null,null,null,null,null,null,null,null,null,null,null,null,null,null,null,null,null,null,null,null,null,null,null,null,null,null,4173.5096616837955,null,null,null,null,null,null,null,null,null,null,null,null,null,null,null,null,null,null,null,null,null,null,null,null,null,null,null,null,null,null,null,null,null,null,null,null,null,null,null,null,null,null,null,null,null,null,null,null,null,null,null,null,null,null,null,null,null,null],[null,null,null,null,null,null,null,null,null,null,null,null,null,null,null,null,null,null,null,null,null,null,null,null,null,null,null,null,null,null,null,null,null,null,null,null,null,null,null,null,null,null,null,null,null,null,null,null,null,null,null,null,null,null,null,null,null,4147.964721596948,null,null,null,null,null,null,null,null,null,null,null,null,null,null,null,null,null,null,null,null,null,null,null,null,null,null,null,null,null,null,null,null,null,null,null,null,null,null,null,null,null,null,null,null],[null,null,null,null,null,null,null,null,null,null,null,null,null,null,null,null,null,null,null,null,null,null,null,null,null,null,null,null,null,null,null,null,null,null,null,null,null,null,null,null,null,null,null,null,null,null,null,null,null,null,null,4231.898024425811,null,null,null,null,null,null,null,null,null,null,null,null,null,null,null,null,null,null,null,null,null,null,null,null,null,null,null,null,null,null,null,null,null,null,null,null,null,null,null,null,null,null,null,null,null,null,null,null,null,null],[null,null,null,null,null,null,null,null,null,null,null,null,null,null,null,null,null,null,null,null,null,null,null,null,null,null,null,null,null,null,null,null,null,null,null,null,null,null,null,null,null,null,null,null,null,null,null,null,null,null,null,null,null,null,null,null,null,null,null,null,null,null,null,null,null,null,null,null,null,null,null,null,null,null,null,null,null,null,null,null,4146.9485062779695,null,null,null,null,null,null,null,null,null,null,null,null,null,null,null,null,null,null,null,null,null],[null,null,null,null,null,null,null,null,null,null,null,null,null,null,null,null,null,null,null,null,null,null,null,null,null,null,null,null,null,null,null,null,null,null,null,null,null,null,null,null,null,null,null,null,null,null,4103.318546448631,null,null,null,null,null,null,null,null,null,null,null,null,null,null,null,null,null,null,null,null,null,null,null,null,null,null,null,null,null,null,null,null,null,null,null,null,null,null,null,null,null,null,null,null,null,null,null,null,null,null,null,null,null,null,null],[null,null,null,null,null,null,null,null,null,null,null,null,null,null,null,null,null,null,null,null,null,null,null,null,null,null,null,null,null,null,null,null,null,null,null,null,null,null,null,null,null,null,null,null,null,null,null,null,null,null,null,null,null,null,null,null,null,null,null,null,null,null,null,null,null,null,null,null,null,null,null,null,4149.888092194981,null,null,null,null,null,null,null,null,null,null,null,null,null,null,null,null,null,null,null,null,null,null,null,null,null,null,null,null,null],[null,null,null,null,null,null,null,null,null,null,null,null,null,null,null,null,null,null,null,null,null,null,null,null,null,null,null,null,null,null,null,null,null,null,null,null,null,null,null,null,null,null,null,null,null,null,null,null,null,null,null,null,null,null,null,null,null,null,null,null,null,null,null,null,null,null,null,null,null,null,null,null,null,null,null,null,null,null,null,null,null,null,null,null,null,null,null,null,null,null,null,null,null,null,null,null,null,null,null,4269.415105035459,null,null],[null,null,null,null,null,null,null,null,null,null,null,null,null,null,null,null,null,null,null,null,null,null,null,null,null,null,null,null,null,null,null,null,null,null,null,null,null,null,null,null,null,null,null,null,null,null,null,null,null,null,null,null,null,null,null,null,null,null,null,null,null,null,null,null,null,null,null,null,null,null,null,4231.133877799553,null,null,null,null,null,null,null,null,null,null,null,null,null,null,null,null,null,null,null,null,null,null,null,4881.935218160944,null,null,null,null,null,null],[null,null,null,null,null,null,null,null,null,null,null,null,null,null,null,null,null,null,null,null,null,null,null,null,null,null,null,null,null,null,null,null,null,null,null,null,null,null,null,null,null,null,null,null,null,null,null,null,null,null,null,null,null,null,null,null,null,null,null,null,null,null,null,null,null,null,null,null,null,4130.342164010103,null,null,null,null,null,null,null,null,null,null,null,null,null,null,null,null,null,null,null,null,null,null,null,null,null,null,null,null,null,null,null,null],[null,null,null,null,null,null,null,null,null,null,null,null,null,null,null,null,null,null,null,null,null,null,null,null,null,null,null,null,null,null,null,null,null,null,null,null,4144.225749692704,null,null,null,null,null,null,null,null,null,null,null,null,null,null,null,null,null,null,null,null,null,null,null,null,null,null,null,null,null,null,null,null,null,null,null,null,null,null,null,null,null,null,null,null,null,null,null,null,null,null,null,null,null,null,null,null,null,null,null,null,null,null,null,null,null],[null,null,null,null,null,null,null,null,null,null,null,null,null,null,null,null,null,null,null,null,null,null,null,null,null,null,null,null,null,null,null,null,null,null,null,null,null,null,null,null,null,null,null,null,null,null,null,null,null,null,null,null,null,null,null,null,null,null,null,null,null,4117.031391522187,null,null,null,null,null,null,null,null,null,null,null,null,null,null,null,null,null,null,null,null,null,null,null,null,null,null,null,null,null,null,null,null,null,null,null,null,null,null,null,null],[null,null,null,null,null,null,null,null,null,null,null,null,null,null,null,null,null,null,null,null,null,null,null,null,null,null,null,null,null,null,null,null,null,null,null,null,null,null,null,null,null,null,null,null,null,null,null,null,null,null,null,null,null,null,null,null,null,null,null,null,null,null,null,null,null,null,null,null,null,null,null,null,null,null,null,null,null,null,null,null,null,null,null,null,null,null,null,null,null,null,null,null,null,null,4622.862689069398,null,null,null,null,null,null,null],[null,null,null,null,null,null,null,null,null,null,null,null,null,null,null,null,null,null,null,null,null,null,null,null,null,null,null,null,null,null,null,null,null,null,null,null,null,null,null,null,null,null,null,null,4223.476832226711,null,null,null,null,null,null,null,null,null,null,null,null,null,null,null,null,null,null,null,null,null,null,null,null,null,null,null,null,null,null,null,null,null,null,null,null,null,null,null,null,null,null,null,null,null,null,null,null,null,null,null,null,null,null,null,null,null],[null,null,null,null,null,null,null,null,null,null,null,null,null,null,null,null,null,null,null,null,null,null,null,null,null,null,null,null,null,null,null,null,null,null,null,null,null,null,null,null,null,null,null,null,null,null,null,null,null,null,null,null,null,null,null,null,null,null,null,null,null,null,null,4131.861044529145,null,null,null,null,null,null,null,null,null,null,null,null,null,null,null,null,null,null,null,null,null,null,null,null,null,null,null,null,null,null,null,null,null,null,null,null,null,null],[null,null,9711.821791777471,null,null,null,null,null,null,null,null,null,null,null,null,null,null,null,null,null,null,null,null,null,null,null,null,null,null,null,null,null,null,null,null,null,null,null,null,null,null,null,null,null,null,null,null,null,null,null,null,null,null,null,null,null,null,null,null,null,null,null,null,null,null,null,null,null,null,null,null,null,null,null,null,null,null,null,null,null,null,null,null,null,null,null,null,null,null,null,null,null,null,null,null,null,null,null,null,null,null,null],[null,null,null,null,null,null,null,null,null,null,null,null,null,null,null,null,null,null,null,null,null,null,null,null,null,null,null,null,4285.759809001101,null,null,null,null,null,null,null,null,null,null,null,null,null,null,null,null,null,null,null,null,null,null,null,null,null,null,null,null,null,null,null,null,null,null,null,null,null,null,null,null,null,null,null,null,null,null,null,null,null,null,null,null,null,null,null,null,null,null,null,null,null,null,null,null,null,null,null,null,null,null,null,null,null],[null,null,null,null,null,null,null,null,null,null,null,null,null,null,null,null,null,null,null,null,null,null,null,null,null,null,null,null,null,null,null,null,null,null,null,null,null,null,null,null,null,null,null,null,null,null,null,null,null,null,null,null,null,null,null,null,null,null,null,null,null,null,null,null,null,null,null,null,4143.111014127318,null,null,null,null,null,null,null,null,null,null,null,null,null,null,null,null,null,null,null,null,null,null,null,null,null,null,null,null,null,null,null,null,null],[null,null,null,null,null,null,null,null,null,null,null,null,null,null,null,null,null,null,null,null,null,null,null,null,null,null,null,null,null,null,null,null,null,null,null,null,null,null,null,null,null,null,null,null,null,null,null,null,null,null,null,null,null,null,null,null,null,null,null,null,null,null,null,null,null,null,null,4123.896886981839,null,null,null,null,null,null,null,null,null,null,null,null,null,null,null,null,null,null,null,null,null,null,null,null,null,null,null,null,null,null,null,null,null,null],[null,null,null,null,null,null,null,null,null,null,null,null,null,null,null,null,null,null,null,null,null,null,null,null,null,null,null,null,null,null,null,null,null,null,null,null,null,null,null,null,null,null,null,null,null,null,null,null,null,null,null,null,null,4050.3348511105396,null,null,null,null,null,null,null,null,null,null,null,null,null,null,null,null,null,null,null,null,null,null,null,null,null,null,null,null,null,null,null,null,null,null,null,null,null,null,null,null,null,null,null,null,null,null,null,null],[null,null,null,null,null,null,null,null,null,null,null,null,null,null,null,null,null,null,null,null,null,null,null,null,null,null,null,null,null,null,null,null,null,null,null,null,null,null,null,null,null,null,null,null,null,null,null,null,null,null,null,null,null,null,null,null,null,null,null,null,null,null,null,null,null,null,null,null,null,null,null,null,null,null,null,4247.246254595019,null,null,null,null,null,null,null,null,null,null,null,null,null,null,null,null,null,null,null,null,null,null,null,null,null,null],[null,null,null,null,null,null,null,null,null,null,null,null,null,null,null,null,null,null,null,null,null,null,null,null,null,null,null,null,null,null,null,null,null,null,null,null,null,null,null,null,null,null,null,null,null,null,null,null,null,null,null,null,null,null,null,null,null,null,null,4271.140582025062,null,null,null,null,null,null,null,null,null,null,null,null,null,null,null,null,null,null,null,null,null,null,null,null,null,null,null,null,null,null,null,null,null,null,null,null,null,null,null,null,null,null],[null,null,null,null,null,null,null,null,null,null,null,null,null,null,null,null,null,null,null,null,null,null,null,null,null,null,null,null,null,null,null,null,null,null,null,null,null,null,null,null,null,null,null,null,null,null,null,null,null,null,null,null,null,null,null,null,null,null,null,null,null,null,null,null,null,null,null,null,null,null,null,null,null,null,null,null,null,null,null,null,null,null,null,null,4304.336586440891,null,null,null,null,null,null,null,null,null,null,null,null,null,null,null,null,null],[null,null,null,null,null,null,null,null,null,null,null,null,null,null,null,null,null,null,null,null,null,null,null,null,null,null,null,null,null,null,null,null,null,null,null,4149.335892817034,null,null,null,null,null,null,null,null,null,null,null,null,null,null,null,null,null,null,null,null,null,null,null,null,null,null,null,null,null,null,null,null,null,null,null,null,null,null,null,null,null,null,null,null,null,null,null,null,null,null,null,null,null,null,null,null,null,null,null,null,null,null,null,null,null,null],[null,null,null,null,null,null,null,null,null,null,null,null,null,null,null,null,null,null,null,null,null,null,null,null,null,null,null,null,null,null,null,null,null,null,null,null,null,null,null,null,null,null,null,null,null,null,null,null,null,null,null,null,null,null,null,null,null,null,null,null,null,null,null,null,null,null,null,null,null,null,4146.30113227702,null,null,null,null,null,null,null,null,null,null,null,null,null,null,null,null,null,null,null,null,4468.780503272435,null,null,null,null,null,null,null,null,null,null],[null,null,null,null,null,null,null,null,null,null,null,null,null,null,null,null,null,null,null,null,null,null,null,null,null,null,null,null,null,null,null,null,null,null,null,null,null,null,null,null,null,null,null,null,null,null,null,null,null,null,null,null,null,null,null,null,null,null,null,null,null,null,null,null,null,4070.2153622020433,null,null,null,null,null,null,null,null,null,null,null,null,null,null,null,null,null,null,null,null,null,null,null,null,null,null,null,null,null,null,null,null,null,null,null,null],[null,null,null,null,null,null,null,null,null,null,null,null,null,null,null,null,null,null,null,null,null,null,null,null,null,null,null,null,null,null,null,null,null,null,null,null,null,null,null,null,null,null,null,null,null,null,null,null,null,null,null,null,null,null,null,null,null,null,null,null,null,null,null,null,null,null,4100.006461885576,null,null,null,null,null,null,null,null,null,null,null,null,null,null,null,null,null,null,null,null,null,null,null,null,null,null,null,null,null,null,null,null,null,null,null],[null,null,null,null,null,null,null,null,null,null,null,null,null,null,null,null,null,null,null,null,null,null,null,null,null,null,null,null,null,null,null,null,null,null,null,null,null,null,null,null,null,null,null,null,null,null,null,4154.671309427601,null,null,null,null,null,null,null,null,null,null,null,null,null,null,null,null,null,null,null,null,null,null,null,null,null,null,null,null,null,null,null,null,null,null,null,null,null,null,null,null,null,null,null,null,null,null,null,null,null,null,null,null,null,null],[null,null,null,null,null,null,null,null,null,null,null,null,null,null,null,null,null,null,null,null,null,null,null,null,null,null,null,null,null,null,null,null,null,null,null,null,null,null,null,null,null,null,null,null,null,null,null,null,null,4092.9843506389248,null,null,null,null,null,null,null,null,null,null,null,null,null,null,null,null,null,null,null,null,null,null,null,null,null,null,null,null,null,null,null,null,null,null,null,null,null,null,null,null,null,null,null,null,null,null,null,null,null,null,null,null],[null,null,null,null,null,null,null,null,null,null,null,null,null,null,null,null,null,null,null,null,null,null,null,null,null,null,null,null,null,null,null,null,null,null,null,null,null,null,null,null,null,null,null,null,null,null,null,null,4077.997372476685,null,null,null,null,null,null,null,null,null,null,null,null,null,null,null,null,null,null,null,null,null,null,null,null,null,null,null,null,null,null,null,null,null,null,null,null,null,null,null,null,null,null,null,null,null,null,null,null,null,null,null,null,null],[null,null,null,null,null,null,null,null,null,null,null,null,null,null,null,null,null,null,null,null,null,null,null,null,null,null,null,null,null,null,null,null,null,null,null,null,null,null,null,null,null,null,null,null,null,null,null,null,null,null,4093.2414117136286,null,null,null,null,4127.794472555672,null,null,null,null,null,null,null,null,null,null,null,null,null,null,null,null,null,null,null,null,null,null,null,null,null,null,null,null,null,null,null,null,null,null,null,null,null,null,null,null,null,null,null,null,null,null],[null,null,null,null,null,null,null,null,null,null,null,null,null,null,null,null,null,null,null,4297.138535144904,null,null,null,null,null,null,null,null,null,null,null,null,null,null,null,null,null,null,null,null,null,null,null,null,null,null,null,null,null,null,null,null,null,null,null,null,null,null,null,null,null,null,null,null,null,null,null,null,null,null,null,null,null,null,null,null,null,null,null,null,null,null,null,null,null,null,null,null,null,null,null,null,null,null,null,null,null,null,null,null,null,null],[null,null,null,null,null,null,null,null,null,null,null,null,null,null,null,null,null,null,null,null,null,null,null,null,null,null,null,null,null,null,null,null,null,null,null,null,null,null,null,null,null,null,null,null,null,null,null,null,null,null,null,null,null,null,null,null,null,null,4078.3607534803386,null,null,null,null,null,null,null,null,null,null,null,null,null,null,null,null,null,null,null,null,null,null,null,null,null,null,null,null,null,null,null,null,null,null,null,null,null,null,null,null,null,null,null],[null,null,null,null,null,null,null,null,null,null,null,null,null,null,null,null,null,null,null,null,null,null,null,null,null,null,null,null,null,null,null,null,null,null,null,null,null,null,4169.122318403157,null,null,null,null,null,null,null,null,null,null,null,null,null,null,null,null,null,null,null,null,null,null,null,null,null,null,null,null,null,null,null,null,null,null,null,null,null,null,null,null,null,null,null,null,null,null,null,null,null,null,null,null,null,null,null,null,null,null,null,null,null,null,null],[null,null,null,null,null,null,null,null,null,null,null,null,null,null,null,null,null,null,null,null,null,null,null,null,null,null,null,null,null,null,null,null,null,null,null,null,null,null,null,null,null,null,null,null,null,null,null,null,null,null,null,null,null,null,4053.405213385052,null,null,null,null,null,null,null,null,null,null,null,null,null,null,null,null,null,null,null,null,null,null,null,null,null,null,null,null,null,null,null,null,null,null,null,null,null,null,null,null,null,null,null,null,null,null,null],[null,null,null,null,null,null,null,null,null,null,null,null,null,null,null,null,null,null,null,null,null,null,null,null,null,null,null,null,null,null,null,null,null,null,null,null,null,null,null,null,null,null,null,null,null,null,null,null,null,null,null,null,null,null,null,null,null,null,null,null,4198.639358325225,null,null,null,null,null,null,null,null,null,null,null,null,null,null,null,null,null,null,null,null,null,null,null,null,null,null,null,null,null,null,null,null,null,null,null,null,null,null,null,null,null],[null,null,null,null,null,null,null,null,null,null,null,null,null,null,4584.422569492246,null,null,null,null,null,null,null,null,null,null,null,null,null,null,null,null,null,null,null,null,null,null,null,null,null,null,null,null,null,null,null,null,null,null,null,null,null,null,null,null,null,null,null,null,null,null,null,null,null,null,null,null,null,null,null,null,null,null,null,null,null,null,null,null,null,null,null,null,null,null,null,null,null,null,null,null,null,null,null,null,null,null,null,null,null,null,null],[null,null,null,null,null,null,null,null,null,null,null,null,null,null,null,null,null,null,null,null,null,null,null,4238.374571616421,null,null,null,null,null,null,null,null,null,null,null,null,null,null,null,null,null,null,null,null,null,null,null,null,null,null,null,null,null,null,null,null,null,null,null,null,null,null,null,null,null,null,null,null,null,null,null,null,null,null,null,null,null,null,null,null,null,null,null,null,null,null,null,null,null,null,null,null,null,null,null,null,null,null,null,null,null,null],[null,null,null,null,null,null,null,null,null,null,null,null,null,null,null,null,null,null,null,null,null,null,null,null,null,null,null,null,null,null,null,null,null,null,null,null,null,4159.855193825207,null,null,null,null,null,null,null,null,null,null,null,null,null,null,null,null,null,null,null,null,null,null,null,null,null,null,null,null,null,null,null,null,null,null,null,null,null,null,null,null,null,null,null,null,null,null,null,null,null,null,null,null,null,null,null,null,null,null,null,null,null,null,null,null],[null,null,null,null,null,null,null,null,null,null,null,null,null,null,null,null,null,null,null,null,null,null,null,null,null,null,null,null,null,null,null,null,null,null,null,null,null,null,null,null,null,null,null,null,null,null,null,null,null,null,null,null,null,null,null,null,null,null,null,null,null,null,null,null,null,null,null,null,null,null,null,null,null,null,null,null,4236.186151547414,null,null,null,null,null,null,null,null,null,null,null,null,null,null,null,null,null,null,null,null,null,null,null,null,null],[null,null,null,null,null,null,null,null,null,null,null,null,null,null,null,null,null,null,null,null,null,null,null,null,null,null,null,null,null,null,null,null,null,null,null,null,null,null,null,null,null,null,null,null,null,null,null,null,null,null,null,null,null,null,null,null,null,null,null,null,null,null,null,null,null,null,null,null,null,null,null,null,null,null,null,null,null,null,null,null,null,null,null,null,null,null,null,null,4031.515365857815,null,null,null,null,null,null,null,null,null,null,null,null,null],[null,null,null,null,null,null,null,null,null,null,null,null,null,null,null,null,null,null,null,null,null,null,null,null,null,null,null,null,null,null,null,null,null,null,null,null,null,null,null,null,null,null,null,null,null,null,null,null,null,null,null,null,null,null,null,null,null,null,null,null,null,null,null,null,null,null,null,null,null,null,null,null,null,null,null,null,null,null,null,null,null,null,null,null,null,null,null,null,null,null,null,null,null,null,null,null,null,null,null,null,4337.014435185782,null],[null,null,null,null,null,null,null,null,null,null,null,null,null,null,null,null,null,null,null,null,null,null,null,null,null,null,null,null,null,null,null,null,null,null,null,null,null,null,null,null,null,null,null,null,null,null,null,null,null,null,null,null,null,null,null,null,null,null,null,null,null,null,null,null,4073.982682206089,null,null,null,null,null,null,null,null,null,null,null,null,null,null,null,null,null,null,null,null,null,null,null,null,null,null,null,null,null,null,null,null,null,null,null,null,null],[null,null,null,null,null,null,null,null,null,null,null,null,null,null,null,null,null,null,null,null,null,null,null,null,null,null,null,null,null,null,null,null,null,null,null,null,null,null,null,null,null,null,null,null,null,null,null,null,null,null,null,null,null,null,null,null,4236.639290225527,null,null,null,null,null,null,null,null,null,null,null,null,null,null,null,null,null,null,null,null,null,null,null,null,null,null,null,null,null,null,null,null,null,null,null,null,null,null,null,null,null,null,null,null,null],[null,null,null,null,null,null,null,null,null,null,null,null,null,null,null,null,null,null,null,null,null,null,null,null,null,null,null,null,null,null,null,null,null,null,null,null,null,null,null,null,null,null,null,null,null,null,null,null,null,null,null,null,null,null,null,null,null,null,null,null,null,null,null,null,null,null,null,null,null,null,null,null,null,null,null,null,null,null,null,null,null,null,null,4180.122548304451,null,null,null,null,null,null,null,null,null,null,null,null,null,null,null,null,null,null],[null,null,null,null,null,null,null,null,null,null,null,null,null,null,null,null,null,null,null,null,null,null,null,null,null,null,null,null,null,null,null,null,null,null,null,null,null,null,null,null,null,null,null,null,null,null,null,null,null,null,null,null,null,null,null,null,null,null,null,null,null,null,null,null,null,null,null,null,null,null,null,null,null,4385.256946002806,null,null,null,null,null,null,null,null,null,null,null,null,null,null,null,null,null,null,null,null,null,null,null,null,null,null,null,null],[null,null,null,null,null,null,null,null,null,null,null,null,null,null,null,null,null,null,null,null,null,null,4211.585891483139,null,null,null,null,null,null,null,null,null,null,null,null,null,null,null,null,null,null,null,null,null,null,null,null,null,null,null,null,null,null,null,null,null,null,null,null,null,null,null,null,null,null,null,null,null,null,null,null,null,null,null,null,null,null,null,null,null,null,null,null,null,null,null,null,null,null,null,null,null,null,null,null,null,null,null,null,null,null,null],[null,null,null,null,null,null,null,null,null,null,null,null,null,null,null,null,null,null,null,null,null,null,null,null,null,null,null,null,null,null,4153.817189609229,null,null,null,null,null,null,null,null,null,null,null,null,null,null,null,null,null,null,null,null,null,null,null,null,null,null,null,null,null,null,null,null,null,null,null,null,null,null,null,null,null,null,null,null,null,null,null,null,null,null,null,null,null,null,null,null,null,null,null,null,null,null,null,null,null,null,null,null,null,null,null],[null,null,null,null,null,null,null,null,null,null,null,null,null,null,null,null,null,null,null,null,null,null,null,null,null,null,null,null,null,null,null,null,null,null,null,null,null,null,null,4191.4082983024055,null,null,null,null,null,null,null,null,null,null,null,null,null,null,null,null,null,null,null,null,null,null,null,null,null,null,null,null,null,null,null,null,null,null,null,null,null,null,null,null,null,null,null,null,null,null,null,null,null,null,null,null,null,null,null,null,null,null,null,null,null,null],[null,null,null,null,null,null,null,null,null,null,null,null,null,null,null,null,null,null,null,null,null,null,null,null,null,null,null,null,null,null,null,null,null,null,null,null,null,null,null,null,null,null,null,null,null,null,null,null,null,null,null,null,null,null,null,null,null,null,null,null,null,null,null,null,null,null,null,null,null,null,null,null,null,null,null,null,null,null,null,null,null,null,null,null,null,null,null,null,null,null,null,null,null,null,null,null,null,null,4370.395010623053,null,null,null],[null,null,null,null,null,null,null,null,null,null,null,null,null,null,null,null,null,null,null,null,null,null,null,null,null,null,null,null,null,null,null,null,4163.792022591232,null,null,null,null,null,null,null,null,null,null,null,null,null,null,null,null,null,null,null,null,null,null,null,null,null,null,null,null,null,null,null,null,null,null,null,null,null,null,null,null,null,null,null,null,null,null,null,null,null,null,null,null,null,null,null,null,null,null,null,null,null,null,null,null,null,null,null,null,null],[null,null,null,null,null,null,null,null,null,null,null,null,null,null,null,null,null,null,null,null,null,null,null,null,null,null,null,null,null,null,null,null,null,4230.945329159746,null,null,null,null,null,null,null,null,null,null,null,null,null,null,null,null,null,null,null,null,null,null,null,null,null,null,null,null,null,null,null,null,null,null,null,null,null,null,null,null,null,null,null,null,null,null,null,null,null,null,null,null,null,null,null,null,null,null,null,null,null,null,null,null,null,null,null,null],[null,null,null,null,null,null,null,null,null,null,null,null,null,null,null,null,null,null,null,null,null,null,null,null,null,null,null,null,null,null,null,null,null,null,null,null,null,null,null,null,null,null,null,null,null,null,null,null,null,null,null,null,null,null,null,null,null,null,null,null,null,null,null,null,null,null,null,null,null,null,null,null,null,null,null,null,null,null,4308.813939115351,null,null,null,null,null,null,null,null,null,null,null,null,null,null,null,null,null,null,null,null,null,null,null],[null,null,null,null,null,null,null,null,null,null,null,null,null,null,null,null,null,null,4187.838200827843,null,null,null,null,null,null,null,null,null,null,null,null,null,null,null,null,null,null,null,null,null,null,null,null,null,null,null,null,null,null,null,null,null,null,null,null,null,null,null,null,null,null,null,null,null,null,null,null,null,null,null,null,null,null,null,null,null,null,null,null,null,null,null,null,null,null,null,null,null,null,null,null,null,null,null,null,null,null,null,null,null,null,null],[null,null,null,null,null,null,null,null,null,null,null,null,null,null,null,null,null,null,null,null,null,null,null,null,null,null,null,null,null,null,null,null,null,null,null,null,null,null,null,null,null,null,null,null,null,null,null,null,null,null,null,null,null,null,null,null,null,null,null,null,null,null,null,null,null,null,null,null,null,null,null,null,null,null,null,null,null,null,null,null,null,null,null,null,null,null,null,null,null,4329.672786588965,null,null,null,null,null,null,null,null,null,null,null,null],[null,null,null,null,null,null,null,null,null,null,null,null,null,null,null,null,null,null,null,null,null,4129.754896804442,null,null,null,null,null,null,null,null,null,null,null,null,null,null,null,null,null,null,null,null,null,null,null,null,null,null,null,null,null,null,null,null,null,null,null,null,null,null,null,null,null,null,null,null,null,null,null,null,null,null,null,null,null,null,null,null,null,null,null,null,null,null,null,null,null,null,null,null,null,null,null,null,null,null,null,null,null,null,null,null],[null,null,null,null,null,null,null,null,null,null,null,null,null,null,null,null,null,null,null,null,null,null,null,null,null,null,null,null,null,4336.001960612709,null,null,null,null,null,null,null,null,null,null,null,null,null,null,null,null,null,null,null,null,null,null,null,null,null,null,null,null,null,null,null,null,null,null,null,null,null,null,null,null,null,null,null,null,null,null,null,null,null,null,null,null,null,null,null,null,null,null,null,null,null,null,null,null,null,null,null,null,null,null,null,null],[null,null,null,null,null,null,null,null,null,null,null,null,null,4538.548807253924,null,null,null,null,null,null,null,null,null,null,null,null,null,null,null,null,null,null,null,null,null,null,null,null,null,null,null,null,null,null,null,null,null,null,null,null,null,null,null,null,null,null,null,null,null,null,null,null,null,null,null,null,null,null,null,null,null,null,null,null,null,null,null,null,null,null,null,null,null,null,null,null,null,null,null,null,null,null,null,null,null,null,null,null,null,null,null,null],[null,null,null,null,null,null,null,null,null,5189.197994771008,null,null,null,null,null,null,null,null,null,null,null,null,null,null,null,null,null,null,null,null,null,null,null,null,null,null,null,null,null,null,null,null,null,null,null,null,null,null,null,null,null,null,null,null,null,null,null,null,null,null,null,null,null,null,null,null,null,null,null,null,null,null,null,null,null,null,null,null,null,null,null,null,null,null,null,null,null,null,null,null,null,null,null,null,null,null,null,null,null,null,null,null],[null,null,null,null,null,null,null,null,null,null,null,null,null,null,null,null,null,null,null,null,null,null,null,null,null,null,null,null,null,null,null,null,null,null,null,null,null,null,null,null,null,null,null,null,null,null,null,null,null,null,null,null,null,null,null,null,null,null,null,null,null,null,null,null,null,null,null,null,null,null,null,null,null,null,null,null,null,null,null,null,null,null,null,null,null,null,null,null,null,null,null,null,4297.320392373839,null,null,null,null,null,null,null,null,null],[null,null,null,null,null,null,null,null,null,null,null,null,4746.469953378102,null,null,null,null,null,null,null,null,null,null,null,null,null,null,null,null,null,null,null,null,null,null,null,null,null,null,null,null,null,null,null,null,null,null,null,null,null,null,null,null,null,null,null,null,null,null,null,null,null,null,null,null,null,null,null,null,null,null,null,null,null,null,null,null,null,null,null,null,null,null,null,null,null,null,null,null,null,null,null,null,null,null,null,null,null,null,null,null,null],[null,null,null,null,null,null,null,null,null,null,null,null,null,null,null,null,null,null,null,null,null,null,null,null,null,null,null,null,null,null,null,null,null,null,null,null,null,null,null,null,null,null,null,null,null,4624.219295384898,null,null,null,null,null,null,null,null,null,null,null,null,null,null,null,null,null,null,null,null,null,null,null,null,null,null,null,null,null,null,null,null,null,null,null,null,null,null,null,null,null,null,null,null,null,null,null,null,null,null,null,null,null,null,null,null],[null,null,null,null,null,null,null,null,null,null,null,null,null,null,null,null,null,null,null,null,null,null,null,null,null,null,null,null,null,null,null,null,null,null,null,null,null,null,null,null,null,null,null,null,null,null,null,null,null,null,null,null,null,null,null,null,null,null,null,null,null,null,null,null,null,null,null,null,null,null,null,null,null,null,null,null,null,null,null,null,null,null,null,null,null,null,null,4498.503142018106,null,null,null,null,null,null,null,null,null,null,null,null,null,null],[null,null,null,null,null,null,null,null,null,null,null,null,null,null,null,null,null,null,null,null,null,null,null,null,null,4346.057472326784,null,null,null,null,null,null,null,null,null,null,null,null,null,null,null,null,null,null,null,null,null,null,null,null,null,null,null,null,null,null,null,null,null,null,null,null,null,null,null,null,null,null,null,null,null,null,null,null,null,null,null,null,null,null,null,null,null,null,null,null,null,null,null,null,null,null,null,null,null,null,null,null,null,null,null,null],[null,null,null,6899.058398855882,null,null,null,null,null,null,null,null,null,null,null,null,null,null,null,null,null,null,null,null,null,null,null,null,null,null,null,null,null,null,null,null,null,null,null,null,null,null,null,null,null,null,null,null,null,null,null,null,null,null,null,null,null,null,null,null,null,null,null,null,null,null,null,null,null,null,null,null,null,null,null,null,null,null,null,null,null,null,null,null,null,null,null,null,null,null,null,null,null,null,null,null,null,null,null,null,null,null],[null,null,null,null,null,null,null,null,null,null,null,null,null,null,null,null,null,null,null,null,null,null,null,null,null,null,null,null,null,null,null,null,null,null,null,null,null,null,null,null,null,null,4358.990902918433,null,null,null,null,null,null,null,null,null,null,null,null,null,null,null,null,null,null,null,null,null,null,null,null,null,null,null,null,null,null,null,null,null,null,null,null,null,null,null,null,null,null,null,null,null,null,null,null,null,null,null,null,null,null,null,null,null,null,null],[null,null,null,null,null,null,null,null,null,null,null,null,null,null,null,null,null,null,null,null,null,null,null,null,null,null,null,null,null,null,null,null,null,null,null,null,null,null,null,null,null,null,null,null,null,null,null,null,null,null,null,null,null,null,null,null,null,null,null,null,null,null,null,null,null,null,null,null,null,null,null,null,null,null,null,null,null,null,null,null,null,null,null,null,null,null,null,null,null,null,null,null,null,null,null,null,null,null,null,null,null,null]],\"type\":\"contour\",\"xaxis\":\"x15\",\"yaxis\":\"y15\"},{\"marker\":{\"color\":\"black\",\"line\":{\"color\":\"Grey\",\"width\":2.0}},\"mode\":\"markers\",\"showlegend\":false,\"x\":[0.0027850353798638213,0.012670264874973356,0.0014874609707774007,0.005262506507438321,0.04547275798616162,0.0010285084935055424,0.163529684047861,0.15774137117241427,0.07293855809368854,0.07261925630032107,0.02423991719524073,0.25808146469892645,0.08594802358382672,0.07035034013678441,0.02245196457879437,0.046976447590837696,0.01041329667062595,0.04262050867931939,0.10931697331792913,0.2850789068083945,0.12850664317202787,0.13244289958775943,0.12145148523602435,0.029006072341520472,0.07703228162069208,0.05519073771977596,0.19183055681338052,0.03455830839863449,0.01627083870463775,0.09492539438078199,0.008706341304713816,0.10773033394969075,0.2113819538256321,0.07130081540275059,0.0029844244561616257,0.05967805911294894,0.10638408020341686,0.03398524791273612,0.16151633956130598,0.23337706700815972,0.0054895624027552145,0.121769174557117,0.08607405281766764,0.09782195414529053,0.16560513899049317,0.1716143047483098,0.29548138704732,0.05758941320258553,0.145960291485913,0.043247710554372674,0.07684265603222379,0.1079558512844103,0.20999977674183237,0.12669968605518056,0.07305967659622016,0.10754954292376198,0.16064226237169973,0.056064772624089876,0.08387833836923901,0.24207414303757463,0.0225444645239988,0.09530799496454562,0.18852489195679534,0.06325539876427162,0.1399764397601272,0.09547594091486561,0.04661094851848872,0.1153391449798611,0.0013580563612786494,0.03759572547313215,0.03245592556746029,0.01703209383206694,0.05097197616220452,0.06804634880171115,0.08392321962887536,0.03773959738327062,0.02634601448890141,0.09295818774254423,0.142015474190251,0.1720616394520381,0.10911266417550242,0.0745367296946682,0.10104801902261587,0.12939990537911272,0.09946266177395985,0.04004439501480648,0.06158775304385237,0.18969006934361288,0.08209127384146125,0.08495903681540876,0.08498304294293056,0.08322231592613727,0.08259823526337047,0.05102067608323434,0.08124152462466318,0.06640445889250945,0.08897162312565371,0.08576518041994491,0.0985118586539773,0.15323102296269667],\"y\":[213,156,859,156,190,212,653,299,955,196,107,403,361,394,500,280,511,106,253,255,148,132,173,191,248,229,127,183,180,333,216,258,257,169,144,221,289,322,203,121,159,292,240,274,355,457,359,410,203,735,576,308,268,353,231,288,171,404,241,199,339,267,308,260,245,215,187,373,277,458,441,557,479,329,225,379,172,294,139,157,257,272,315,432,309,342,307,525,320,291,331,321,319,384,316,350,323,321,360,365],\"type\":\"scatter\",\"xaxis\":\"x15\",\"yaxis\":\"y15\"},{\"colorbar\":{\"title\":{\"text\":\"Objective Value\"}},\"colorscale\":[[0.0,\"rgb(247,251,255)\"],[0.125,\"rgb(222,235,247)\"],[0.25,\"rgb(198,219,239)\"],[0.375,\"rgb(158,202,225)\"],[0.5,\"rgb(107,174,214)\"],[0.625,\"rgb(66,146,198)\"],[0.75,\"rgb(33,113,181)\"],[0.875,\"rgb(8,81,156)\"],[1.0,\"rgb(8,48,107)\"]],\"connectgaps\":true,\"contours\":{\"coloring\":\"heatmap\"},\"hoverinfo\":\"none\",\"line\":{\"smoothing\":1.3},\"reversescale\":true,\"showscale\":false,\"x\":[94.96662193337735,106,107,121,127,132,139,144,148,156,157,159,169,171,172,173,180,183,187,190,191,196,199,203,212,213,215,216,221,225,229,231,240,241,245,248,253,255,257,258,260,267,268,272,274,277,280,288,289,291,292,294,299,307,308,309,315,316,319,320,321,322,323,329,331,333,339,342,350,353,355,359,360,361,365,373,379,384,394,403,404,410,432,441,457,458,479,500,511,525,557,576,653,735,859,955,1065.953468061828],\"y\":[3.55,4,5,6,7,8,9,10,11,12,13,13.45],\"z\":[[null,null,null,null,null,null,null,null,null,null,null,null,null,null,null,null,null,null,null,null,null,null,null,null,null,null,null,null,null,null,null,null,null,null,null,null,null,null,null,null,null,null,null,null,null,null,null,null,null,null,null,null,null,null,null,null,null,null,null,null,null,null,null,null,null,null,null,null,null,null,null,null,null,null,null,null,null,null,null,null,null,null,null,null,null,null,null,null,null,null,null,null,null,null,null,null,null],[null,null,null,null,null,null,null,null,null,8362.841199787279,null,null,null,null,null,null,null,null,null,null,null,null,null,null,null,null,null,null,null,null,null,null,null,null,null,null,null,null,null,null,null,null,null,null,null,null,null,null,null,null,null,null,null,null,null,null,null,null,4092.9843506389248,null,4127.794472555672,4297.138535144904,4078.3607534803386,null,null,null,null,null,4159.855193825207,null,null,null,null,null,4180.122548304451,null,null,4153.817189609229,null,null,null,null,null,null,null,null,null,null,null,null,null,null,null,null,null,null,null],[null,null,null,null,null,null,null,null,null,null,4436.0841605042715,null,null,null,null,null,null,null,null,null,null,null,null,null,9798.018563926245,null,null,6726.2374795155065,null,null,null,null,null,null,null,null,null,null,null,null,null,null,null,null,null,null,null,null,null,null,null,null,null,null,null,null,null,4154.671309427601,null,null,null,null,null,null,4053.405213385052,null,null,null,null,null,null,null,4073.982682206089,null,null,null,null,null,null,null,null,null,null,null,null,null,null,null,null,null,null,4624.219295384898,4498.503142018106,null,null,null,null],[null,null,null,null,null,null,null,null,null,null,null,null,null,null,5131.499024597554,null,null,4749.855817929437,null,4377.687400975988,null,null,null,null,null,null,null,null,4160.747716146421,null,null,null,4147.964721596948,null,null,null,null,null,null,null,4144.225749692704,null,null,null,null,null,null,null,null,4050.3348511105396,null,null,null,4149.335892817034,null,null,null,null,null,null,null,null,null,null,null,null,null,null,null,null,null,null,null,null,null,null,null,null,null,null,null,null,null,null,null,null,null,null,null,null,4746.469953378102,null,null,null,6899.058398855882,null,null],[null,null,null,null,null,4198.539838173434,null,null,4169.524552943322,null,null,null,null,null,null,4122.428531482972,5496.158531983626,null,4369.2714195643,null,null,null,null,4516.1088950902995,null,null,null,null,null,null,4266.975647686325,null,null,null,null,4103.318546448631,null,null,null,null,null,null,null,null,null,null,null,null,null,null,null,null,null,null,4468.780503272435,4070.2153622020433,null,null,null,4077.997372476685,null,null,null,null,null,null,null,4238.374571616421,null,null,null,null,null,null,null,null,4211.585891483139,null,null,null,4163.792022591232,null,null,4187.838200827843,null,4129.754896804442,4336.001960612709,null,null,4297.320392373839,null,null,null,null,null,null,null],[null,null,null,null,4184.092614184696,null,null,null,null,5403.68447211218,null,null,4341.644646420154,null,null,null,null,null,null,null,null,null,null,null,null,null,null,null,null,null,null,null,null,null,4146.9485062779695,null,null,null,4231.133877799553,null,null,4117.031391522187,null,4223.476832226711,4131.861044529145,9711.821791777471,4285.759809001101,4143.111014127318,null,null,null,null,null,null,null,null,4100.006461885576,null,null,null,null,null,null,4169.122318403157,null,null,4584.422569492246,null,null,null,null,null,null,null,null,null,null,null,null,null,null,null,null,null,null,null,null,null,null,null,null,null,null,null,null,null,null],[null,null,null,null,null,null,null,null,null,null,null,null,null,null,null,null,null,null,null,null,null,null,4334.784063273927,null,null,null,4142.735594321658,null,null,4151.073592962174,null,4173.5096616837955,null,null,null,null,4149.888092194981,4269.415105035459,null,4130.342164010103,null,null,4622.862689069398,null,null,null,null,null,4123.896886981839,null,4247.246254595019,null,null,null,4146.30113227702,null,null,null,null,null,null,null,null,null,null,null,null,null,null,null,null,null,null,null,null,null,null,null,null,null,null,null,4308.813939115351,null,null,null,null,4538.548807253924,null,null,null,null,null,null,null,null,null],[null,null,6366.733876565533,4303.0384937572135,null,null,4277.654007475739,null,null,null,null,null,null,4408.872251527552,null,null,null,null,null,null,5026.7111092792065,null,null,null,null,null,null,null,null,null,null,null,null,null,null,null,null,null,null,null,null,null,null,null,null,null,null,null,null,null,null,null,null,null,null,null,null,null,null,null,null,null,null,null,null,null,null,null,null,null,4031.515365857815,4337.014435185782,null,null,null,4385.256946002806,null,null,null,null,null,null,null,null,4329.672786588965,null,null,null,null,null,null,null,null,4346.057472326784,null,4358.990902918433,null],[null,4784.344027833361,null,null,null,null,null,null,null,null,null,null,null,null,null,null,null,null,null,null,null,4110.871073734527,null,null,null,null,null,null,null,null,null,null,null,4231.898024425811,null,null,null,null,null,null,null,null,null,null,null,null,null,null,null,null,null,4271.140582025062,null,null,null,null,null,null,null,null,null,null,null,null,null,null,null,null,null,4236.186151547414,null,null,null,4236.639290225527,null,null,null,null,4191.4082983024055,null,null,4230.945329159746,null,null,null,null,null,null,5189.197994771008,null,null,null,null,null,null,null,null],[null,null,null,null,null,null,null,9579.5229475801,null,null,null,8131.886264986528,null,null,null,null,null,null,null,null,null,null,null,4267.331354612213,null,null,null,null,null,null,null,null,null,null,null,null,null,null,null,null,null,null,null,null,null,null,null,null,null,null,null,null,4304.336586440891,null,null,null,null,null,null,null,null,null,null,null,null,null,null,null,null,null,null,null,null,null,null,null,null,null,null,null,null,null,null,null,null,null,null,null,null,null,null,null,null,null,null,null,null],[null,null,null,null,null,null,null,null,null,null,null,null,null,null,null,null,null,null,null,null,null,null,null,null,null,8070.642969278287,null,null,null,null,null,null,null,null,null,null,null,null,null,null,null,null,null,null,null,null,null,null,null,null,null,null,null,null,null,null,null,null,null,null,null,null,null,null,null,4198.639358325225,null,null,null,null,null,null,null,null,null,null,null,null,null,4370.395010623053,null,null,null,null,null,null,null,null,null,null,null,null,null,null,null,null,null],[null,null,null,null,null,null,null,null,null,null,null,null,null,null,null,null,null,null,null,null,null,null,null,null,null,null,null,null,null,null,null,null,null,null,null,null,null,null,null,null,null,null,null,null,null,null,null,null,null,null,null,null,null,null,null,null,null,null,null,null,null,null,null,null,null,null,null,null,null,null,null,null,null,null,null,null,null,null,null,null,null,null,null,null,null,null,null,null,null,null,null,null,null,null,null,null,null]],\"type\":\"contour\",\"xaxis\":\"x4\",\"yaxis\":\"y4\"},{\"marker\":{\"color\":\"black\",\"line\":{\"color\":\"Grey\",\"width\":2.0}},\"mode\":\"markers\",\"showlegend\":false,\"x\":[213,156,859,156,190,212,653,299,955,196,107,403,361,394,500,280,511,106,253,255,148,132,173,191,248,229,127,183,180,333,216,258,257,169,144,221,289,322,203,121,159,292,240,274,355,457,359,410,203,735,576,308,268,353,231,288,171,404,241,199,339,267,308,260,245,215,187,373,277,458,441,557,479,329,225,379,172,294,139,157,257,272,315,432,309,342,307,525,320,291,331,321,319,384,316,350,323,321,360,365],\"y\":[13,8,6,4,6,5,5,12,10,11,10,13,11,11,9,8,11,11,9,9,7,7,7,10,7,7,8,6,7,13,5,9,8,8,12,6,9,4,7,10,12,9,6,8,10,10,10,11,12,10,5,9,9,11,9,8,10,7,11,9,8,8,7,6,8,9,7,10,8,7,7,6,7,8,9,7,6,11,10,5,8,8,8,9,7,7,6,7,7,6,5,4,4,4,5,4,4,4,5,4],\"type\":\"scatter\",\"xaxis\":\"x4\",\"yaxis\":\"y4\"},{\"colorbar\":{\"title\":{\"text\":\"Objective Value\"}},\"colorscale\":[[0.0,\"rgb(247,251,255)\"],[0.125,\"rgb(222,235,247)\"],[0.25,\"rgb(198,219,239)\"],[0.375,\"rgb(158,202,225)\"],[0.5,\"rgb(107,174,214)\"],[0.625,\"rgb(66,146,198)\"],[0.75,\"rgb(33,113,181)\"],[0.875,\"rgb(8,81,156)\"],[1.0,\"rgb(8,48,107)\"]],\"connectgaps\":true,\"contours\":{\"coloring\":\"heatmap\"},\"hoverinfo\":\"none\",\"line\":{\"smoothing\":1.3},\"reversescale\":true,\"showscale\":false,\"x\":[94.96662193337735,106,107,121,127,132,139,144,148,156,157,159,169,171,172,173,180,183,187,190,191,196,199,203,212,213,215,216,221,225,229,231,240,241,245,248,253,255,257,258,260,267,268,272,274,277,280,288,289,291,292,294,299,307,308,309,315,316,319,320,321,322,323,329,331,333,339,342,350,353,355,359,360,361,365,373,379,384,394,403,404,410,432,441,457,458,479,500,511,525,557,576,653,735,859,955,1065.953468061828],\"y\":[0.5999999999999999,2,3,5,6,8,9,10,11,12,13,14,16,18,19,20,21,22,23,24,25,26,27,28,29,30,31.4],\"z\":[[null,null,null,null,null,null,null,null,null,null,null,null,null,null,null,null,null,null,null,null,null,null,null,null,null,null,null,null,null,null,null,null,null,null,null,null,null,null,null,null,null,null,null,null,null,null,null,null,null,null,null,null,null,null,null,null,null,null,null,null,null,null,null,null,null,null,null,null,null,null,null,null,null,null,null,null,null,null,null,null,null,null,null,null,null,null,null,null,null,null,null,null,null,null,null,null,null],[null,null,null,null,null,null,null,null,null,null,null,null,null,null,null,null,null,null,null,null,null,null,null,null,null,null,null,null,null,null,null,null,null,null,null,null,null,null,4881.935218160944,null,null,null,null,null,null,null,null,null,null,null,null,null,null,null,null,null,null,null,null,null,null,null,null,null,null,null,null,null,null,null,null,null,null,null,null,null,null,null,null,null,null,null,null,null,null,null,null,null,null,null,null,null,null,null,null,null,null],[null,null,null,null,null,null,null,null,null,null,null,null,null,null,null,null,null,null,null,null,null,null,null,null,null,8070.642969278287,null,null,null,null,null,null,null,null,null,null,null,null,null,null,null,null,null,null,null,null,null,null,null,null,null,null,null,null,null,null,null,null,null,null,null,null,null,null,null,null,null,null,null,null,null,null,null,null,null,null,null,null,null,null,null,null,null,null,null,null,null,null,null,null,null,null,null,null,null,null,null],[null,null,null,null,null,null,null,null,null,5403.68447211218,null,null,null,null,null,null,null,null,null,null,null,null,null,null,null,null,null,null,null,null,null,null,null,null,null,null,null,null,null,null,null,null,null,null,null,null,null,null,null,null,null,null,null,null,null,null,null,null,null,null,null,null,null,null,null,null,null,null,null,null,null,null,null,null,null,null,null,null,null,null,null,null,null,null,null,null,null,null,null,null,null,null,null,null,null,null,null],[null,null,null,null,null,null,null,null,null,null,null,null,null,null,null,null,null,null,null,null,null,null,null,null,9798.018563926245,null,null,null,null,null,null,null,null,null,null,null,null,null,null,null,null,null,null,null,null,null,null,null,null,null,null,null,null,null,null,null,null,null,null,null,null,null,null,null,null,null,null,null,null,null,null,null,null,null,null,null,null,null,null,null,null,null,null,null,null,null,null,null,null,null,null,4624.219295384898,null,null,null,null,null],[null,null,null,null,null,null,null,null,null,null,null,null,null,null,null,null,null,null,null,null,null,null,null,null,null,null,null,null,null,null,null,null,null,null,null,null,null,null,null,null,null,null,null,null,null,null,null,null,null,null,null,null,4304.336586440891,null,null,null,null,null,null,null,null,null,null,null,null,null,null,null,null,null,null,null,null,null,null,null,null,null,null,null,null,null,null,null,null,null,null,null,null,null,null,null,null,null,null,null,null],[null,null,null,null,null,null,null,null,null,null,null,null,null,4408.872251527552,null,null,null,null,null,null,null,null,null,null,null,null,null,null,null,null,null,null,null,null,null,null,null,null,null,null,null,null,null,null,null,null,null,null,null,null,null,null,null,null,null,null,null,null,null,null,null,null,null,null,null,null,null,null,null,null,null,null,null,null,null,null,null,null,null,null,null,null,null,null,null,null,null,null,null,null,null,null,null,null,null,null,null],[null,null,null,null,null,null,null,null,null,null,null,null,null,null,null,null,null,null,null,null,null,null,null,null,null,null,null,null,null,null,null,null,null,null,null,null,null,null,null,null,null,null,null,null,null,null,null,null,null,null,null,null,null,null,null,null,null,null,null,null,null,null,null,null,null,null,null,null,null,null,null,null,null,null,null,null,null,null,null,null,null,null,null,null,null,null,null,null,null,null,null,null,4498.503142018106,null,null,null,null],[null,null,null,null,null,null,null,null,null,null,null,null,null,null,null,null,null,null,null,null,null,null,null,null,null,null,null,null,null,null,null,null,null,null,null,null,null,null,null,null,null,null,null,null,null,null,null,null,null,null,null,null,null,null,null,null,null,null,null,null,null,null,null,null,null,null,null,null,null,null,null,null,null,null,null,null,null,null,null,null,null,null,null,null,null,null,null,null,null,null,null,null,null,null,null,4358.990902918433,null],[null,null,null,null,null,null,null,null,null,null,null,null,null,null,null,null,null,null,4369.2714195643,null,null,null,null,null,null,null,null,null,null,null,null,null,null,null,null,null,null,null,null,null,null,null,null,null,null,null,null,null,null,null,null,null,null,null,null,null,null,null,null,null,null,null,null,null,null,null,null,null,null,null,null,null,null,null,null,null,null,null,null,null,null,null,null,null,null,null,null,null,null,null,null,null,null,null,null,null,null],[null,null,null,null,null,null,null,null,null,null,null,null,null,null,null,null,null,null,null,null,null,null,null,null,null,null,null,null,null,null,null,null,null,null,null,null,null,null,null,null,null,null,null,null,null,null,null,null,null,null,null,null,null,null,null,null,null,null,null,null,null,null,null,null,null,null,null,null,null,null,null,null,null,null,null,null,null,null,null,null,null,null,null,null,null,null,null,null,null,null,null,null,null,null,6899.058398855882,null,null],[null,null,null,null,null,null,null,null,null,null,null,8131.886264986528,null,null,null,null,null,null,null,null,null,null,null,null,null,null,null,null,null,null,null,null,null,null,null,null,null,null,null,null,null,null,null,null,null,null,null,null,null,null,null,null,null,null,null,null,null,null,null,null,null,null,null,null,null,null,null,null,null,null,null,null,null,null,null,null,null,null,null,null,null,null,null,null,null,null,null,null,null,null,null,null,null,null,null,null,null],[null,4784.344027833361,null,null,null,null,null,null,null,null,null,null,null,null,null,null,5496.158531983626,null,null,null,null,null,null,null,null,null,null,null,null,null,null,null,null,null,null,null,null,null,null,null,null,null,null,null,null,null,null,null,null,null,null,null,null,null,null,null,null,null,null,null,null,null,null,null,null,null,null,null,null,null,null,null,null,null,null,null,null,null,null,null,null,null,null,null,null,null,null,null,null,null,null,null,null,null,null,null,null],[null,null,null,null,null,null,null,null,null,null,null,null,null,null,null,null,null,null,null,4377.687400975988,null,null,null,null,null,null,null,null,null,null,null,null,null,null,null,null,null,null,null,null,null,null,null,null,null,null,null,null,null,null,null,null,null,null,null,null,null,null,null,null,null,4297.138535144904,null,null,null,null,null,null,null,null,null,null,null,null,null,null,null,null,null,null,null,null,null,null,null,null,4336.001960612709,null,null,null,null,null,null,null,null,null,null],[null,null,null,null,null,null,null,null,null,null,null,null,null,null,null,null,null,null,null,null,null,null,null,null,null,null,null,null,null,null,null,null,null,null,null,null,null,null,4231.133877799553,null,null,null,null,null,null,null,null,null,null,null,null,null,null,null,null,null,null,null,null,null,null,null,null,null,null,null,null,null,null,null,null,null,null,null,null,null,null,null,null,null,null,null,null,null,null,null,null,null,null,null,null,null,null,null,null,null,null],[null,null,null,null,null,null,null,null,null,null,null,null,null,null,null,null,null,4749.855817929437,null,null,null,null,null,null,null,null,null,null,null,null,4266.975647686325,null,null,null,null,null,null,null,null,null,null,null,null,null,null,null,null,null,null,null,null,null,null,null,null,null,null,null,null,null,null,null,null,null,null,null,null,null,null,null,null,null,null,null,null,null,null,null,null,4370.395010623053,null,null,null,null,null,null,null,null,null,null,null,null,null,null,null,null,null],[null,null,null,null,null,null,null,null,null,null,null,null,null,null,null,null,null,null,null,null,null,null,null,null,null,null,null,null,null,null,null,null,null,null,null,null,null,null,null,null,null,null,null,null,null,null,null,null,null,null,null,null,null,null,null,null,null,null,null,null,null,null,null,null,null,4198.639358325225,null,null,null,null,null,null,null,null,null,null,null,null,null,null,null,null,null,null,null,null,null,null,null,null,null,null,null,null,null,null,null],[null,null,null,null,null,null,null,null,null,null,null,null,null,null,null,null,null,null,null,null,null,null,null,4267.331354612213,null,null,null,null,4160.747716146421,null,null,null,null,null,null,null,null,null,null,null,null,null,null,null,null,null,null,null,null,null,null,null,null,null,null,null,null,null,null,null,null,null,null,null,null,null,null,null,null,null,null,null,null,null,null,4385.256946002806,null,null,null,null,null,null,null,null,null,null,null,null,null,null,null,null,null,null,null,null,null],[null,null,null,null,null,null,null,null,null,null,null,null,null,null,5131.499024597554,null,null,null,null,null,null,null,null,null,null,null,null,null,null,null,null,null,null,null,4146.9485062779695,null,null,null,null,null,null,null,null,null,null,null,null,null,null,null,null,null,null,null,null,null,null,null,null,null,null,null,null,null,null,null,null,null,null,null,null,null,null,4236.639290225527,null,null,null,null,4191.4082983024055,null,null,null,null,null,null,null,null,null,5189.197994771008,null,null,null,null,null,null,null,null],[null,null,null,null,null,null,null,null,null,null,null,null,null,null,null,null,null,null,null,null,null,null,4334.784063273927,null,null,null,null,null,null,null,null,null,null,null,null,null,null,null,null,null,null,null,null,null,null,null,null,null,null,null,null,null,null,null,null,null,null,null,null,null,null,null,null,null,null,null,null,null,null,null,null,null,null,null,null,null,4211.585891483139,null,null,null,null,null,null,null,4329.672786588965,null,null,4538.548807253924,null,null,null,null,null,4346.057472326784,null,null,null],[null,null,null,null,4184.092614184696,null,null,null,null,null,4436.0841605042715,null,null,null,null,null,null,null,null,null,null,null,null,null,null,null,null,6726.2374795155065,null,null,null,null,null,4231.898024425811,null,4103.318546448631,null,null,null,null,null,4117.031391522187,null,4223.476832226711,4131.861044529145,null,null,null,null,null,null,null,null,null,null,null,null,null,null,null,null,null,null,null,null,null,null,null,null,null,null,null,null,null,null,null,null,null,null,null,null,null,null,4187.838200827843,null,null,null,null,null,null,null,null,null,null,null,null,null],[null,null,null,null,null,null,null,9579.5229475801,4169.524552943322,null,null,null,null,null,null,4122.428531482972,null,null,null,null,null,null,null,4516.1088950902995,null,null,null,null,null,null,null,null,null,null,null,null,null,null,null,null,null,null,null,null,null,null,null,null,null,null,null,null,null,null,4468.780503272435,null,4100.006461885576,null,null,null,null,null,null,null,null,null,null,null,null,4236.186151547414,null,null,null,null,null,null,null,null,null,null,null,null,4308.813939115351,null,null,4129.754896804442,null,null,null,null,4746.469953378102,null,null,null,null,null,null],[null,null,null,4303.0384937572135,null,4198.539838173434,null,null,null,8362.841199787279,null,null,null,null,null,null,null,null,null,null,null,null,null,null,null,null,4142.735594321658,null,null,null,null,null,null,null,null,null,null,null,null,null,null,null,null,null,null,null,null,4143.111014127318,null,null,null,4271.140582025062,null,null,null,null,null,null,null,null,null,null,null,4169.122318403157,null,null,null,null,null,null,null,null,null,null,null,null,null,null,null,null,null,4230.945329159746,null,null,null,null,null,null,null,null,null,null,null,null,null,null,null],[null,null,6366.733876565533,null,null,null,4277.654007475739,null,null,null,null,null,4341.644646420154,null,null,null,null,null,null,null,null,4110.871073734527,null,null,null,null,null,null,null,null,null,null,null,null,null,null,null,null,null,4130.342164010103,4144.225749692704,null,null,null,null,null,null,null,4123.896886981839,4050.3348511105396,4247.246254595019,null,null,null,4146.30113227702,null,null,4154.671309427601,null,4077.997372476685,null,null,null,null,null,null,null,null,null,null,4031.515365857815,null,null,null,null,null,null,null,null,null,4163.792022591232,null,null,null,null,null,null,null,null,null,null,null,null,null,null,null,null],[null,null,null,null,null,null,null,null,null,null,null,null,null,null,null,null,null,null,null,null,null,null,null,null,null,null,null,null,null,4151.073592962174,null,null,4147.964721596948,null,null,null,null,null,null,null,null,null,4622.862689069398,null,null,9711.821791777471,4285.759809001101,null,null,null,null,null,null,4149.335892817034,null,null,null,null,4092.9843506389248,null,4093.2414117136286,null,4078.3607534803386,null,4053.405213385052,null,null,null,null,null,null,4337.014435185782,4073.982682206089,null,4180.122548304451,null,null,4153.817189609229,null,null,null,null,null,null,null,null,null,null,null,null,null,null,null,null,null,null,null],[null,null,null,null,null,null,null,null,null,null,null,null,null,null,null,null,null,null,null,null,5026.7111092792065,null,null,null,null,null,null,null,null,null,null,4173.5096616837955,null,null,null,null,4149.888092194981,4269.415105035459,null,null,null,null,null,null,null,null,null,null,null,null,null,null,null,null,null,4070.2153622020433,null,null,null,null,4127.794472555672,null,null,null,null,null,4584.422569492246,4238.374571616421,4159.855193825207,null,null,null,null,null,null,null,null,null,null,null,null,null,null,null,null,null,null,null,null,4297.320392373839,null,null,null,null,null,null,null],[null,null,null,null,null,null,null,null,null,null,null,null,null,null,null,null,null,null,null,null,null,null,null,null,null,null,null,null,null,null,null,null,null,null,null,null,null,null,null,null,null,null,null,null,null,null,null,null,null,null,null,null,null,null,null,null,null,null,null,null,null,null,null,null,null,null,null,null,null,null,null,null,null,null,null,null,null,null,null,null,null,null,null,null,null,null,null,null,null,null,null,null,null,null,null,null,null]],\"type\":\"contour\",\"xaxis\":\"x8\",\"yaxis\":\"y8\"},{\"marker\":{\"color\":\"black\",\"line\":{\"color\":\"Grey\",\"width\":2.0}},\"mode\":\"markers\",\"showlegend\":false,\"x\":[213,156,859,156,190,212,653,299,955,196,107,403,361,394,500,280,511,106,253,255,148,132,173,191,248,229,127,183,180,333,216,258,257,169,144,221,289,322,203,121,159,292,240,274,355,457,359,410,203,735,576,308,268,353,231,288,171,404,241,199,339,267,308,260,245,215,187,373,277,458,441,557,479,329,225,379,172,294,139,157,257,272,315,432,309,342,307,525,320,291,331,321,319,384,316,350,323,321,360,365],\"y\":[3,5,13,27,18,6,10,8,11,28,28,20,23,23,24,29,23,16,30,30,26,27,26,30,25,20,25,20,16,21,25,28,2,28,26,22,28,18,26,27,14,28,29,25,28,24,29,27,22,24,6,28,29,26,30,27,9,28,25,24,30,25,26,28,23,27,12,22,29,26,25,26,18,27,29,24,23,27,28,25,19,25,26,26,30,30,29,30,28,28,29,29,29,29,28,30,29,30,29,29],\"type\":\"scatter\",\"xaxis\":\"x8\",\"yaxis\":\"y8\"},{\"colorbar\":{\"title\":{\"text\":\"Objective Value\"}},\"colorscale\":[[0.0,\"rgb(247,251,255)\"],[0.125,\"rgb(222,235,247)\"],[0.25,\"rgb(198,219,239)\"],[0.375,\"rgb(158,202,225)\"],[0.5,\"rgb(107,174,214)\"],[0.625,\"rgb(66,146,198)\"],[0.75,\"rgb(33,113,181)\"],[0.875,\"rgb(8,81,156)\"],[1.0,\"rgb(8,48,107)\"]],\"connectgaps\":true,\"contours\":{\"coloring\":\"heatmap\"},\"hoverinfo\":\"none\",\"line\":{\"smoothing\":1.3},\"reversescale\":true,\"showscale\":false,\"x\":[94.96662193337735,106,107,121,127,132,139,144,148,156,157,159,169,171,172,173,180,183,187,190,191,196,199,203,212,213,215,216,221,225,229,231,240,241,245,248,253,255,257,258,260,267,268,272,274,277,280,288,289,291,292,294,299,307,308,309,315,316,319,320,321,322,323,329,331,333,339,342,350,353,355,359,360,361,365,373,379,384,394,403,404,410,432,441,457,458,479,500,511,525,557,576,653,735,859,955,1065.953468061828],\"y\":[0.0007749822758920689,0.0010285084935055424,0.0013580563612786494,0.0014874609707774007,0.0027850353798638213,0.0029844244561616257,0.005262506507438321,0.0054895624027552145,0.008706341304713816,0.01041329667062595,0.012670264874973356,0.01627083870463775,0.01703209383206694,0.02245196457879437,0.0225444645239988,0.02423991719524073,0.02634601448890141,0.029006072341520472,0.03245592556746029,0.03398524791273612,0.03455830839863449,0.03759572547313215,0.03773959738327062,0.04004439501480648,0.04262050867931939,0.043247710554372674,0.04547275798616162,0.04661094851848872,0.046976447590837696,0.05097197616220452,0.05102067608323434,0.05519073771977596,0.056064772624089876,0.05758941320258553,0.05967805911294894,0.06158775304385237,0.06325539876427162,0.06640445889250945,0.06804634880171115,0.07035034013678441,0.07130081540275059,0.07261925630032107,0.07293855809368854,0.07305967659622016,0.0745367296946682,0.07684265603222379,0.07703228162069208,0.08124152462466318,0.08209127384146125,0.08259823526337047,0.08322231592613727,0.08387833836923901,0.08392321962887536,0.08495903681540876,0.08498304294293056,0.08576518041994491,0.08594802358382672,0.08607405281766764,0.08897162312565371,0.09295818774254423,0.09492539438078199,0.09530799496454562,0.09547594091486561,0.09782195414529053,0.0985118586539773,0.09946266177395985,0.10104801902261587,0.10638408020341686,0.10754954292376198,0.10773033394969075,0.1079558512844103,0.10911266417550242,0.10931697331792913,0.1153391449798611,0.12145148523602435,0.121769174557117,0.12669968605518056,0.12850664317202787,0.12939990537911272,0.13244289958775943,0.1399764397601272,0.142015474190251,0.145960291485913,0.15323102296269667,0.15774137117241427,0.16064226237169973,0.16151633956130598,0.163529684047861,0.16560513899049317,0.1716143047483098,0.1720616394520381,0.18852489195679534,0.18969006934361288,0.19183055681338052,0.20999977674183237,0.2113819538256321,0.23337706700815972,0.24207414303757463,0.25808146469892645,0.2850789068083945,0.29548138704732,0.3921446021473808],\"z\":[[null,null,null,null,null,null,null,null,null,null,null,null,null,null,null,null,null,null,null,null,null,null,null,null,null,null,null,null,null,null,null,null,null,null,null,null,null,null,null,null,null,null,null,null,null,null,null,null,null,null,null,null,null,null,null,null,null,null,null,null,null,null,null,null,null,null,null,null,null,null,null,null,null,null,null,null,null,null,null,null,null,null,null,null,null,null,null,null,null,null,null,null,null,null,null,null,null],[null,null,null,null,null,null,null,null,null,null,null,null,null,null,null,null,null,null,null,null,null,null,null,null,9798.018563926245,null,null,null,null,null,null,null,null,null,null,null,null,null,null,null,null,null,null,null,null,null,null,null,null,null,null,null,null,null,null,null,null,null,null,null,null,null,null,null,null,null,null,null,null,null,null,null,null,null,null,null,null,null,null,null,null,null,null,null,null,null,null,null,null,null,null,null,null,null,null,null,null],[null,null,null,null,null,null,null,null,null,null,null,null,null,null,null,null,null,null,null,null,null,null,null,null,null,null,null,null,null,null,null,null,null,null,null,null,null,null,null,null,null,null,null,null,null,9711.821791777471,null,null,null,null,null,null,null,null,null,null,null,null,null,null,null,null,null,null,null,null,null,null,null,null,null,null,null,null,null,null,null,null,null,null,null,null,null,null,null,null,null,null,null,null,null,null,null,null,null,null,null],[null,null,null,null,null,null,null,null,null,null,null,null,null,null,null,null,null,null,null,null,null,null,null,null,null,null,null,null,null,null,null,null,null,null,null,null,null,null,null,null,null,null,null,null,null,null,null,null,null,null,null,null,null,null,null,null,null,null,null,null,null,null,null,null,null,null,null,null,null,null,null,null,null,null,null,null,null,null,null,null,null,null,null,null,null,null,null,null,null,null,null,null,null,null,6899.058398855882,null,null],[null,null,null,null,null,null,null,null,null,null,null,null,null,null,null,null,null,null,null,null,null,null,null,null,null,8070.642969278287,null,null,null,null,null,null,null,null,null,null,null,null,null,null,null,null,null,null,null,null,null,null,null,null,null,null,null,null,null,null,null,null,null,null,null,null,null,null,null,null,null,null,null,null,null,null,null,null,null,null,null,null,null,null,null,null,null,null,null,null,null,null,null,null,null,null,null,null,null,null,null],[null,null,null,null,null,null,null,9579.5229475801,null,null,null,null,null,null,null,null,null,null,null,null,null,null,null,null,null,null,null,null,null,null,null,null,null,null,null,null,null,null,null,null,null,null,null,null,null,null,null,null,null,null,null,null,null,null,null,null,null,null,null,null,null,null,null,null,null,null,null,null,null,null,null,null,null,null,null,null,null,null,null,null,null,null,null,null,null,null,null,null,null,null,null,null,null,null,null,null,null],[null,null,null,null,null,null,null,null,null,8362.841199787279,null,null,null,null,null,null,null,null,null,null,null,null,null,null,null,null,null,null,null,null,null,null,null,null,null,null,null,null,null,null,null,null,null,null,null,null,null,null,null,null,null,null,null,null,null,null,null,null,null,null,null,null,null,null,null,null,null,null,null,null,null,null,null,null,null,null,null,null,null,null,null,null,null,null,null,null,null,null,null,null,null,null,null,null,null,null,null],[null,null,null,null,null,null,null,null,null,null,null,8131.886264986528,null,null,null,null,null,null,null,null,null,null,null,null,null,null,null,null,null,null,null,null,null,null,null,null,null,null,null,null,null,null,null,null,null,null,null,null,null,null,null,null,null,null,null,null,null,null,null,null,null,null,null,null,null,null,null,null,null,null,null,null,null,null,null,null,null,null,null,null,null,null,null,null,null,null,null,null,null,null,null,null,null,null,null,null,null],[null,null,null,null,null,null,null,null,null,null,null,null,null,null,null,null,null,null,null,null,null,null,null,null,null,null,null,6726.2374795155065,null,null,null,null,null,null,null,null,null,null,null,null,null,null,null,null,null,null,null,null,null,null,null,null,null,null,null,null,null,null,null,null,null,null,null,null,null,null,null,null,null,null,null,null,null,null,null,null,null,null,null,null,null,null,null,null,null,null,null,null,null,null,null,null,null,null,null,null,null],[null,null,null,null,null,null,null,null,null,null,null,null,null,null,null,null,null,null,null,null,null,null,null,null,null,null,null,null,null,null,null,null,null,null,null,null,null,null,null,null,null,null,null,null,null,null,null,null,null,null,null,null,null,null,null,null,null,null,null,null,null,null,null,null,null,null,null,null,null,null,null,null,null,null,null,null,null,null,null,null,null,null,null,null,null,null,null,null,5189.197994771008,null,null,null,null,null,null,null,null],[null,null,null,null,null,null,null,null,null,5403.68447211218,null,null,null,null,null,null,null,null,null,null,null,null,null,null,null,null,null,null,null,null,null,null,null,null,null,null,null,null,null,null,null,null,null,null,null,null,null,null,null,null,null,null,null,null,null,null,null,null,null,null,null,null,null,null,null,null,null,null,null,null,null,null,null,null,null,null,null,null,null,null,null,null,null,null,null,null,null,null,null,null,null,null,null,null,null,null,null],[null,null,null,null,null,null,null,null,null,null,null,null,null,null,null,null,5496.158531983626,null,null,null,null,null,null,null,null,null,null,null,null,null,null,null,null,null,null,null,null,null,null,null,null,null,null,null,null,null,null,null,null,null,null,null,null,null,null,null,null,null,null,null,null,null,null,null,null,null,null,null,null,null,null,null,null,null,null,null,null,null,null,null,null,null,null,null,null,null,null,null,null,null,null,null,null,null,null,null,null],[null,null,null,null,null,null,null,null,null,null,null,null,null,null,null,null,null,null,null,null,null,null,null,null,null,null,null,null,null,null,null,null,null,null,null,null,null,null,null,null,null,null,null,null,null,null,null,null,null,null,null,null,null,null,null,null,null,null,null,null,null,null,null,null,null,null,null,null,null,null,null,null,null,null,null,null,null,null,null,null,null,null,null,null,null,null,null,null,null,null,4746.469953378102,null,null,null,null,null,null],[null,null,null,null,null,null,null,null,null,null,null,null,null,null,null,null,null,null,null,null,null,null,null,null,null,null,null,null,null,null,null,null,null,null,null,null,null,null,null,null,null,null,null,null,null,null,null,null,null,null,null,null,null,null,null,null,null,null,null,null,null,null,null,null,null,null,null,null,null,null,null,null,null,null,null,null,null,null,null,null,null,null,null,null,null,null,null,4538.548807253924,null,null,null,null,null,null,null,null,null],[null,null,null,null,null,null,null,null,null,null,null,null,null,null,null,null,null,null,null,null,null,null,null,null,null,null,null,null,null,null,null,null,null,null,null,null,null,null,null,null,null,null,null,null,null,null,null,null,null,null,null,null,null,null,null,null,null,null,null,null,null,null,null,null,null,null,4584.422569492246,null,null,null,null,null,null,null,null,null,null,null,null,null,null,null,null,null,null,null,null,null,null,null,null,null,null,null,null,null,null],[null,null,6366.733876565533,null,null,null,null,null,null,null,null,null,null,null,null,null,null,null,null,null,null,null,null,null,null,null,null,null,null,null,null,null,null,null,null,null,null,null,null,null,null,null,null,null,null,null,null,null,null,null,null,null,null,null,null,null,null,null,null,null,null,null,null,null,null,null,null,null,null,null,null,null,null,null,null,null,null,null,null,null,null,null,null,null,null,null,null,null,null,null,null,null,null,null,null,null,null],[null,null,null,null,null,null,null,null,null,null,null,null,null,null,5131.499024597554,null,null,null,null,null,null,null,null,null,null,null,null,null,null,null,null,null,null,null,null,null,null,null,null,null,null,null,null,null,null,null,null,null,null,null,null,null,null,null,null,null,null,null,null,null,null,null,null,null,null,null,null,null,null,null,null,null,null,null,null,null,null,null,null,null,null,null,null,null,null,null,null,null,null,null,null,null,null,null,null,null,null],[null,null,null,null,null,null,null,null,null,null,null,null,null,null,null,null,null,null,null,null,5026.7111092792065,null,null,null,null,null,null,null,null,null,null,null,null,null,null,null,null,null,null,null,null,null,null,null,null,null,null,null,null,null,null,null,null,null,null,null,null,null,null,null,null,null,null,null,null,null,null,null,null,null,null,null,null,null,null,null,null,null,null,null,null,null,null,null,null,null,null,null,null,null,null,null,null,null,null,null,null],[null,null,null,null,null,null,null,null,null,null,null,null,null,null,null,null,null,null,null,null,null,null,null,null,null,null,null,null,null,null,null,null,null,null,null,null,null,null,null,null,null,null,null,null,null,null,null,null,null,null,null,null,null,null,null,null,null,null,null,null,null,null,null,null,null,null,null,null,null,null,null,null,null,null,null,null,null,null,null,null,null,null,null,4187.838200827843,null,null,null,null,null,null,null,null,null,null,null,null,null],[null,null,null,null,null,null,null,null,null,null,null,null,null,null,null,null,null,null,null,null,null,null,null,null,null,null,null,null,null,null,null,null,null,null,null,null,null,null,null,null,null,null,null,null,null,null,null,null,null,null,null,null,null,null,null,null,null,null,null,null,null,4297.138535144904,null,null,null,null,null,null,null,null,null,null,null,null,null,null,null,null,null,null,null,null,null,null,null,null,null,null,null,null,null,null,null,null,null,null,null],[null,null,null,null,null,null,null,null,null,null,null,null,null,null,null,null,null,4749.855817929437,null,null,null,null,null,null,null,null,null,null,null,null,null,null,null,null,null,null,null,null,null,null,null,null,null,null,null,null,null,null,null,null,null,null,null,null,null,null,null,null,null,null,null,null,null,null,null,null,null,null,null,null,null,null,null,null,null,null,null,null,null,null,null,null,null,null,null,null,null,null,null,null,null,null,null,null,null,null,null],[null,null,null,null,null,null,null,null,null,null,null,null,null,null,null,null,null,null,null,null,null,null,null,null,null,null,null,null,null,null,null,null,null,null,null,null,null,null,null,null,null,null,null,null,null,null,null,null,null,null,null,null,null,null,null,null,null,null,null,null,null,null,null,null,null,null,null,null,null,null,null,null,null,null,null,null,null,null,null,null,null,null,null,null,null,4129.754896804442,null,null,null,null,null,null,null,null,null,null,null],[null,null,null,null,null,null,null,null,null,null,null,null,null,null,null,null,null,null,null,null,null,null,null,null,null,null,null,null,null,null,null,null,null,null,null,null,null,null,null,null,null,null,null,null,null,null,null,null,null,null,null,null,null,null,null,null,null,null,null,null,null,null,null,null,null,null,null,null,null,null,null,null,null,null,null,null,4211.585891483139,null,null,null,null,null,null,null,null,null,null,null,null,null,null,null,null,null,null,null,null],[null,null,null,null,null,null,null,null,null,null,null,null,null,null,null,null,null,null,null,null,null,null,null,null,null,null,null,null,null,null,null,null,null,null,null,null,null,null,null,null,null,null,null,null,null,null,null,null,null,null,null,null,null,null,null,null,null,null,null,null,null,null,null,null,null,null,null,4238.374571616421,null,null,null,null,null,null,null,null,null,null,null,null,null,null,null,null,null,null,null,null,null,null,null,null,null,null,null,null,null],[null,4784.344027833361,null,null,null,null,null,null,null,null,null,null,null,null,null,null,null,null,null,null,null,null,null,null,null,null,null,null,null,null,null,null,null,null,null,null,null,null,null,null,null,null,null,null,null,null,null,null,null,null,null,null,null,null,null,null,null,null,null,null,null,null,null,null,null,null,null,null,null,null,null,null,null,null,null,null,null,null,null,null,null,null,null,null,null,null,null,null,null,null,null,null,null,null,null,null,null],[null,null,null,null,null,null,null,null,null,null,null,null,null,null,null,null,null,null,null,null,null,null,null,null,null,null,null,null,null,null,null,null,null,null,null,null,null,null,null,null,null,null,null,null,null,null,null,null,null,null,null,null,null,null,null,null,null,null,null,null,null,null,null,null,null,null,null,null,null,null,null,null,null,null,null,null,null,null,null,null,null,null,null,null,null,null,null,null,null,null,null,null,null,4346.057472326784,null,null,null],[null,null,null,null,null,null,null,null,null,null,null,null,null,null,null,null,null,null,null,4377.687400975988,null,null,null,null,null,null,null,null,null,null,null,null,null,null,null,null,null,null,null,null,null,null,null,null,null,null,null,null,null,null,null,null,null,null,null,null,null,null,null,null,null,null,null,null,null,null,null,null,null,null,null,null,null,null,null,null,null,null,null,null,null,null,null,null,null,null,null,null,null,null,null,null,null,null,null,null,null],[null,null,null,null,null,null,null,null,null,null,null,null,null,null,null,null,null,null,4369.2714195643,null,null,null,null,null,null,null,null,null,null,null,null,null,null,null,null,null,null,null,null,null,null,null,null,null,null,null,null,null,null,null,null,null,null,null,null,null,null,null,null,null,null,null,null,null,null,null,null,null,null,null,null,null,null,null,null,null,null,null,null,null,null,null,null,null,null,null,null,null,null,null,null,null,null,null,null,null,null],[null,null,null,null,null,null,null,null,null,null,null,null,null,null,null,null,null,null,null,null,null,null,null,null,null,null,null,null,null,null,null,null,null,null,null,null,null,null,null,null,null,null,null,null,null,null,4285.759809001101,null,null,null,null,null,null,null,null,null,null,null,null,null,null,null,null,null,null,null,null,null,null,null,null,null,null,null,null,null,null,null,null,null,null,null,null,null,null,null,null,null,null,null,null,null,null,null,null,null,null],[null,null,null,null,null,null,null,null,null,null,null,null,null,null,null,null,null,null,null,null,null,null,null,null,null,null,null,null,null,null,null,null,null,null,null,null,null,null,null,null,null,null,null,null,null,null,null,null,null,null,null,null,null,null,null,null,null,null,null,null,null,null,null,null,null,null,null,null,null,null,null,null,null,null,null,null,null,null,null,null,null,null,null,null,null,null,4336.001960612709,null,null,null,null,null,null,null,null,null,null],[null,null,null,null,null,null,null,null,null,null,null,null,null,null,null,null,null,null,null,null,null,null,null,null,null,null,null,null,null,null,null,null,null,null,null,null,null,null,null,null,null,null,null,null,null,null,null,null,null,null,null,null,null,null,null,null,null,null,null,null,null,null,null,null,null,null,null,null,null,null,null,null,null,null,null,null,null,4153.817189609229,null,null,null,null,null,null,null,null,null,null,null,null,null,null,null,null,null,null,null],[null,null,null,null,null,null,null,null,null,null,null,null,null,null,null,null,null,null,null,null,null,null,null,null,null,null,null,null,null,null,4266.975647686325,null,null,null,null,null,null,null,null,null,null,null,null,null,null,null,null,null,null,null,null,null,null,null,null,null,null,null,null,null,null,null,null,null,null,null,null,null,null,null,null,null,null,null,null,null,null,null,null,null,null,null,null,null,null,null,null,null,null,null,null,null,null,null,null,null,null],[null,null,null,null,null,null,null,null,null,null,null,null,null,null,null,null,null,null,null,null,null,null,null,null,null,null,null,null,null,null,null,null,null,null,null,null,null,null,null,null,null,null,null,null,null,null,null,null,null,null,null,null,null,null,null,null,null,null,null,null,null,null,null,null,null,null,null,null,null,null,null,null,null,null,null,null,null,null,null,null,4163.792022591232,null,null,null,null,null,null,null,null,null,null,null,null,null,null,null,null],[null,null,null,null,null,null,null,null,null,null,null,null,null,null,null,null,null,null,null,null,null,null,null,null,null,null,null,null,null,null,null,null,null,null,null,null,null,null,null,null,null,null,null,null,null,null,null,null,null,null,null,null,null,null,null,null,null,null,null,null,null,null,null,null,null,null,null,null,null,null,null,null,null,null,null,null,null,null,null,null,null,4230.945329159746,null,null,null,null,null,null,null,null,null,null,null,null,null,null,null],[null,null,null,null,null,null,null,null,null,null,null,null,null,null,null,null,null,null,null,null,null,null,null,null,null,null,null,null,4160.747716146421,null,null,null,null,null,null,null,null,null,null,null,null,null,null,null,null,null,null,null,null,null,null,null,null,null,null,null,null,null,null,null,null,null,null,null,null,null,null,null,null,null,null,null,null,null,null,null,null,null,null,null,null,null,null,null,null,null,null,null,null,null,null,null,null,null,null,null,null],[null,null,null,null,null,null,null,null,null,null,null,null,null,null,null,null,null,null,null,null,null,null,null,null,null,null,null,null,null,null,null,null,null,null,null,null,null,null,null,null,null,null,null,null,null,null,null,null,null,null,null,null,null,4149.335892817034,null,null,null,null,null,null,null,null,null,null,null,null,null,null,null,null,null,null,null,null,null,null,null,null,null,null,null,null,null,null,null,null,null,null,null,null,null,null,null,null,null,null,null],[null,null,null,null,null,null,null,null,null,null,null,null,null,null,null,null,null,null,null,null,null,null,null,null,null,null,null,null,null,null,null,null,null,null,null,null,null,null,null,null,4144.225749692704,null,null,null,null,null,null,null,null,null,null,null,null,null,null,null,null,null,null,null,null,null,null,null,null,null,null,null,null,null,null,null,null,null,null,null,null,null,null,null,null,null,null,null,null,null,null,null,null,null,null,null,null,null,null,null,null],[null,null,null,null,null,null,null,null,null,null,null,null,null,null,null,null,null,null,null,null,null,null,null,null,null,null,null,null,null,null,null,null,null,null,null,null,null,null,null,null,null,null,null,null,null,null,null,null,null,null,null,null,null,null,null,null,null,null,null,null,null,null,null,null,null,null,null,null,4159.855193825207,null,null,null,null,null,null,null,null,null,null,null,null,null,null,null,null,null,null,null,null,null,null,null,null,null,null,null,null],[null,null,null,null,null,null,null,null,null,null,null,null,null,null,null,null,null,null,null,null,null,null,null,null,null,null,null,null,null,null,null,null,null,null,null,null,null,null,null,null,null,null,null,null,null,null,null,null,null,null,null,null,null,null,null,null,null,null,null,null,null,null,null,4169.122318403157,null,null,null,null,null,null,null,null,null,null,null,null,null,null,null,null,null,null,null,null,null,null,null,null,null,null,null,null,null,null,null,null,null],[null,null,null,null,null,null,null,null,null,null,null,null,null,null,null,null,null,null,null,null,null,null,null,null,null,null,null,null,null,null,null,null,null,null,null,null,null,null,null,null,null,null,null,null,null,null,null,null,null,null,null,null,null,null,null,null,null,null,null,null,null,null,null,null,null,null,null,null,null,null,null,null,null,null,null,null,null,null,4191.4082983024055,null,null,null,null,null,null,null,null,null,null,null,null,null,null,null,null,null,null],[null,null,null,null,null,null,null,null,null,null,null,null,4341.644646420154,null,null,null,null,null,null,null,null,null,null,null,null,null,null,null,null,null,null,null,null,null,null,null,null,null,null,null,null,null,null,null,null,null,null,null,null,null,null,null,null,null,null,null,null,null,null,null,null,null,null,null,null,null,null,null,null,null,null,null,null,null,null,null,null,null,null,null,null,null,null,null,null,null,null,null,null,null,null,null,null,null,null,null,null],[null,null,null,null,null,null,null,null,null,null,null,null,null,null,null,null,null,null,null,null,null,4110.871073734527,null,null,null,null,null,null,null,null,null,null,null,null,null,null,null,null,null,null,null,null,null,null,null,null,null,null,null,null,null,null,null,null,null,null,null,null,null,null,null,null,null,null,null,null,null,null,null,null,null,null,null,null,null,null,null,null,null,null,null,null,null,null,null,null,null,null,null,null,null,null,null,null,null,null,null],[null,null,null,null,null,null,null,null,null,null,null,null,null,null,null,null,null,null,null,null,null,null,null,null,null,null,null,null,null,null,null,null,null,null,null,null,null,null,null,null,null,null,null,null,null,null,null,null,null,null,null,null,null,null,null,null,null,null,null,null,null,null,null,null,null,null,null,null,null,null,null,null,null,null,null,null,null,null,null,null,null,null,null,null,null,null,null,null,null,null,null,null,null,null,null,4358.990902918433,null],[null,null,null,null,null,null,null,null,null,null,null,null,null,null,null,null,null,null,null,null,null,null,null,null,null,null,null,null,null,null,null,4173.5096616837955,null,null,null,null,null,null,null,null,null,null,null,null,null,null,null,null,null,null,null,null,null,null,null,null,null,null,null,null,null,null,null,null,null,null,null,null,null,null,null,null,null,null,null,null,null,null,null,null,null,null,null,null,null,null,null,null,null,null,null,null,null,null,null,null,null],[null,null,null,null,null,null,null,null,null,null,null,null,null,null,null,null,null,null,null,null,null,null,null,null,null,null,null,null,null,null,null,null,null,null,null,null,null,null,null,null,null,null,null,4223.476832226711,null,null,null,null,null,null,null,null,null,null,null,null,null,null,null,null,null,null,null,null,null,null,null,null,null,null,null,null,null,null,null,null,null,null,null,null,null,null,null,null,null,null,null,null,null,null,null,null,null,null,null,null,null],[null,null,null,null,null,null,null,null,null,null,null,null,null,null,null,null,null,null,null,null,null,null,null,null,null,null,null,null,null,null,null,null,null,null,null,null,null,null,null,null,null,null,null,null,null,null,null,null,null,null,null,null,null,null,null,null,null,null,null,null,null,null,null,null,null,null,null,null,null,null,null,null,null,null,null,null,null,null,null,null,null,null,null,null,null,null,null,null,null,null,null,4624.219295384898,null,null,null,null,null],[null,null,null,null,null,null,null,null,null,null,null,null,null,null,null,null,null,null,null,null,null,null,null,null,null,null,null,null,null,null,null,null,null,null,null,4103.318546448631,null,null,null,null,null,null,null,null,null,null,null,null,null,null,null,null,null,null,null,null,null,null,null,null,null,null,null,null,null,null,null,null,null,null,null,null,null,null,null,null,null,null,null,null,null,null,null,null,null,null,null,null,null,null,null,null,null,null,null,null,null],[null,null,null,null,null,null,null,null,null,null,null,null,null,null,null,null,null,null,null,null,null,null,null,null,null,null,null,null,null,null,null,null,null,null,null,null,null,null,null,null,null,null,null,null,null,null,null,null,null,null,null,null,null,null,null,null,null,4154.671309427601,null,null,null,null,null,null,null,null,null,null,null,null,null,null,null,null,null,null,null,null,null,null,null,null,null,null,null,null,null,null,null,null,null,null,null,null,null,null,null],[null,null,null,null,null,null,null,null,null,null,null,null,null,null,null,null,null,null,null,null,null,null,null,null,null,null,null,null,null,null,null,null,null,null,null,null,null,null,null,null,null,null,null,null,null,null,null,null,null,null,null,null,null,null,null,null,null,null,null,4077.997372476685,null,null,null,null,null,null,null,null,null,null,null,null,null,null,null,null,null,null,null,null,null,null,null,null,null,null,null,null,null,null,null,null,null,null,null,null,null],[null,null,null,null,null,null,null,null,null,null,null,null,null,null,null,null,null,null,null,null,null,null,null,null,null,null,null,null,null,null,null,null,null,null,null,null,null,null,null,null,null,null,null,null,null,null,null,null,null,null,null,null,null,null,null,null,null,null,4092.9843506389248,null,null,null,null,null,null,null,null,null,null,null,null,null,null,null,null,null,null,null,null,null,null,null,null,null,null,null,null,null,null,null,null,null,null,null,null,null,null],[null,null,null,null,null,null,null,null,null,null,null,null,null,null,null,null,null,null,null,null,null,null,null,null,null,null,null,null,null,null,null,null,null,null,null,null,null,null,null,null,null,null,null,null,null,null,null,null,null,null,null,null,null,null,null,null,null,null,null,null,4093.2414117136286,null,null,null,null,null,null,null,null,null,null,null,null,null,null,null,null,null,null,null,null,null,null,null,null,null,null,null,null,null,null,null,null,null,null,null,null],[null,null,null,null,null,null,null,null,null,null,null,null,null,null,null,null,null,null,null,null,null,null,null,null,null,null,null,null,null,null,null,null,null,4231.898024425811,null,null,null,null,null,null,null,null,null,null,null,null,null,null,null,null,null,null,null,null,null,null,null,null,null,null,null,null,null,null,null,null,null,null,null,null,null,null,null,null,null,null,null,null,null,null,null,null,null,null,null,null,null,null,null,null,null,null,null,null,null,null,null],[null,null,null,null,null,null,null,null,null,null,null,null,null,null,null,null,null,null,null,null,null,null,null,null,null,null,null,null,null,4151.073592962174,null,null,null,null,null,null,null,null,null,null,null,null,null,null,null,null,null,null,null,null,null,null,null,null,null,null,null,null,null,null,null,null,null,null,null,null,null,null,null,null,null,null,null,null,null,null,null,null,null,null,null,null,null,null,null,null,null,null,null,null,null,null,null,null,null,null,null],[null,null,null,null,null,null,null,null,null,null,null,null,null,null,null,null,null,null,null,null,null,null,null,null,null,null,null,null,null,null,null,null,null,null,null,null,null,null,null,null,null,null,null,null,null,null,null,null,null,4050.3348511105396,null,null,null,null,null,null,null,null,null,null,null,null,null,null,null,null,null,null,null,null,null,null,null,null,null,null,null,null,null,null,null,null,null,null,null,null,null,null,null,null,null,null,null,null,null,null,null],[null,null,null,null,null,null,null,null,null,null,null,null,null,null,null,null,null,null,null,null,null,null,null,null,null,null,null,null,null,null,null,null,null,null,null,null,null,null,null,null,null,null,null,null,null,null,null,null,null,null,null,null,null,null,null,null,null,null,null,null,null,null,null,null,4053.405213385052,null,null,null,null,null,null,null,null,null,null,null,null,null,null,null,null,null,null,null,null,null,null,null,null,null,null,null,null,null,null,null,null],[null,null,null,null,null,null,null,null,null,null,null,null,null,null,null,null,null,null,null,null,null,null,null,null,null,null,null,null,null,null,null,null,null,null,null,null,null,null,null,null,null,null,null,null,null,null,null,null,null,null,null,null,null,null,null,null,null,null,null,null,4127.794472555672,null,null,null,null,null,null,null,null,null,null,null,null,null,null,null,null,null,null,null,null,null,null,null,null,null,null,null,null,null,null,null,null,null,null,null,null],[null,null,null,null,null,null,null,null,null,null,null,null,null,null,null,null,null,null,null,null,null,null,null,null,null,null,null,null,null,null,null,null,null,null,null,null,null,null,null,null,null,null,null,null,null,null,null,null,null,null,null,null,null,null,null,null,null,null,null,null,null,null,null,null,null,null,null,null,null,null,null,null,null,4236.639290225527,null,null,null,null,null,null,null,null,null,null,null,null,null,null,null,null,null,null,null,null,null,null,null],[null,null,null,null,null,null,null,null,null,null,null,null,null,null,null,null,null,null,null,null,null,null,null,null,null,null,null,null,null,null,null,null,4147.964721596948,null,null,null,null,null,null,null,null,null,null,null,null,null,null,null,null,null,null,null,null,null,null,null,null,null,null,null,null,null,null,null,null,null,null,null,null,null,null,null,null,null,null,null,null,null,null,null,null,null,null,null,null,null,null,null,null,null,null,null,null,null,null,null,null],[null,null,null,null,null,null,null,null,null,null,null,null,null,null,null,null,null,null,null,null,null,null,null,null,null,null,null,null,null,null,null,null,null,null,null,null,null,null,null,null,null,null,null,null,null,null,null,null,null,null,null,null,null,null,null,null,null,null,null,null,null,null,4078.3607534803386,null,null,null,null,null,null,null,null,null,null,null,null,null,null,null,null,null,null,null,null,null,null,null,null,null,null,null,null,null,null,null,null,null,null],[null,null,null,null,null,null,null,null,null,null,null,null,null,null,null,null,null,null,null,null,null,null,null,null,null,null,null,null,null,null,null,null,null,null,null,null,null,null,null,null,null,null,null,null,null,null,null,null,null,null,null,4271.140582025062,null,null,null,null,null,null,null,null,null,null,null,null,null,null,null,null,null,null,null,null,null,null,null,null,null,null,null,null,null,null,null,null,null,null,null,null,null,null,null,null,null,null,null,null,null],[null,null,null,null,null,null,null,null,null,null,null,null,null,null,null,null,null,null,null,null,null,null,null,null,null,null,null,null,null,null,null,null,null,null,null,null,null,null,null,null,null,null,null,null,null,null,null,null,null,null,null,null,null,null,null,null,null,null,null,null,null,null,null,null,null,4198.639358325225,null,null,null,null,null,null,null,null,null,null,null,null,null,null,null,null,null,null,null,null,null,null,null,null,null,null,null,null,null,null,null],[null,null,null,null,null,null,null,null,null,null,null,null,null,null,null,null,null,null,null,null,null,null,null,null,null,null,null,null,null,null,null,null,null,null,null,null,null,null,null,null,null,4117.031391522187,null,null,null,null,null,null,null,null,null,null,null,null,null,null,null,null,null,null,null,null,null,null,null,null,null,null,null,null,null,null,null,null,null,null,null,null,null,null,null,null,null,null,null,null,null,null,null,null,null,null,null,null,null,null,null],[null,null,null,null,null,null,null,null,null,null,null,null,null,null,null,null,null,null,null,null,null,null,null,null,null,null,4142.735594321658,null,null,null,null,null,null,null,null,null,null,null,null,null,null,null,null,null,null,null,null,null,null,null,null,null,null,null,null,null,null,null,null,null,null,null,null,null,null,null,null,null,null,null,null,null,null,null,null,null,null,null,null,null,null,null,null,null,null,null,null,null,null,null,null,null,null,null,null,null,null],[null,null,null,null,null,null,null,null,null,null,null,null,null,null,null,null,null,null,null,null,null,null,null,null,null,null,null,null,null,null,null,null,null,null,null,null,null,null,null,null,null,null,null,null,4131.861044529145,null,null,null,null,null,null,null,null,null,null,null,null,null,null,null,null,null,null,null,null,null,null,null,null,null,null,null,null,null,null,null,null,null,null,null,null,null,null,null,null,null,null,null,null,null,null,null,null,null,null,null,null],[null,null,null,null,null,null,null,null,null,null,null,null,null,null,null,null,null,null,null,null,null,null,null,null,null,null,null,null,null,null,null,null,null,null,null,null,null,null,null,null,null,null,null,null,null,null,null,null,null,null,null,null,null,null,null,null,null,null,null,null,null,null,null,null,null,null,null,null,null,null,null,null,4073.982682206089,null,null,null,null,null,null,null,null,null,null,null,null,null,null,null,null,null,null,null,null,null,null,null,null],[null,null,null,null,null,null,null,null,null,null,null,null,null,null,null,null,null,null,null,null,null,null,null,null,null,null,null,null,null,null,null,null,null,null,null,null,null,null,null,null,null,null,null,null,null,null,null,null,null,null,null,null,null,null,null,4070.2153622020433,null,null,null,null,null,null,null,null,null,null,null,null,null,null,null,null,null,null,null,null,null,null,null,null,null,null,null,null,null,null,null,null,null,null,null,null,null,null,null,null,null],[null,null,null,null,null,null,null,null,null,null,null,null,null,null,null,null,null,null,null,null,null,null,null,null,null,null,null,null,null,null,null,null,null,null,null,null,null,null,null,null,null,null,null,null,null,null,null,null,null,null,null,null,null,null,null,null,4100.006461885576,null,null,null,null,null,null,null,null,null,null,null,null,null,null,null,null,null,null,null,null,null,null,null,null,null,null,null,null,null,null,null,null,null,null,null,null,null,null,null,null],[null,null,null,null,null,null,null,null,null,null,null,null,null,null,null,null,null,null,null,null,null,null,null,null,null,null,null,null,null,null,null,null,null,null,null,null,null,null,null,null,null,null,null,null,null,null,null,null,4123.896886981839,null,null,null,null,null,null,null,null,null,null,null,null,null,null,null,null,null,null,null,null,null,null,null,null,null,null,null,null,null,null,null,null,null,null,null,null,null,null,null,null,null,null,null,null,null,null,null,null],[null,null,null,null,null,null,null,null,null,null,null,null,null,null,null,null,null,null,null,null,null,null,null,null,null,null,null,null,null,null,null,null,null,null,null,null,null,null,null,null,null,null,null,null,null,null,null,4143.111014127318,null,null,null,null,null,null,null,null,null,null,null,null,null,null,null,null,null,null,null,null,null,null,null,null,null,null,null,null,null,null,null,null,null,null,null,null,null,null,null,null,null,null,null,null,null,null,null,null,null],[null,null,null,null,null,null,null,null,null,null,null,null,null,null,null,null,null,null,null,null,null,null,null,null,null,null,null,null,null,null,null,null,null,null,null,null,null,null,null,4130.342164010103,null,null,null,null,null,null,null,null,null,null,null,null,null,null,null,null,null,null,null,null,null,null,null,null,null,null,null,null,null,null,null,null,null,null,null,null,null,null,null,null,null,null,null,null,null,null,null,null,null,null,null,null,null,null,null,null,null],[null,null,null,null,null,null,null,null,null,null,null,null,null,null,null,null,null,null,null,null,null,null,null,null,null,null,null,null,null,null,null,null,null,null,null,null,null,null,null,null,null,null,null,null,null,null,null,null,null,null,null,null,null,null,4146.30113227702,null,null,null,null,null,null,null,null,null,null,null,null,null,null,null,null,null,null,null,null,null,null,null,null,null,null,null,null,null,null,null,null,null,null,null,null,null,null,null,null,null,null],[null,null,null,null,null,null,null,null,null,null,null,null,null,null,null,null,null,null,null,null,null,null,null,null,null,null,null,null,null,null,null,null,null,null,null,null,null,null,4231.133877799553,null,null,null,null,null,null,null,null,null,null,null,null,null,null,null,null,null,null,null,null,null,null,null,null,null,null,null,null,null,null,null,null,null,null,null,null,null,null,null,null,null,null,null,null,null,null,null,null,null,null,null,null,null,null,null,null,null,null],[null,null,null,null,null,null,null,null,null,null,null,null,null,null,null,null,null,null,null,null,null,null,null,null,null,null,null,null,null,null,null,null,null,null,null,null,4149.888092194981,null,null,null,null,null,null,null,null,null,null,null,null,null,null,null,null,null,null,null,null,null,null,null,null,null,null,null,null,null,null,null,null,null,null,null,null,null,null,null,null,null,null,null,null,null,null,null,null,null,null,null,null,null,null,null,null,null,null,null,null],[null,null,null,null,null,null,null,null,null,null,null,null,null,null,null,null,null,null,null,null,null,null,null,null,null,null,null,null,null,null,null,null,null,null,null,null,null,null,null,null,null,null,null,null,null,null,null,null,null,null,null,null,null,null,null,null,null,null,null,null,null,null,null,null,null,null,null,null,null,null,null,null,null,null,null,4385.256946002806,null,null,null,null,null,null,null,null,null,null,null,null,null,null,null,null,null,null,null,null,null],[null,null,null,null,null,null,null,null,null,null,null,null,null,null,null,4122.428531482972,null,null,null,null,null,null,null,null,null,null,null,null,null,null,null,null,null,null,null,null,null,null,null,null,null,null,null,null,null,null,null,null,null,null,null,null,null,null,null,null,null,null,null,null,null,null,null,null,null,null,null,null,null,null,null,null,null,null,null,null,null,null,null,null,null,null,null,null,null,null,null,null,null,null,null,null,null,null,null,null,null],[null,null,null,null,null,null,null,null,null,null,null,null,null,null,null,null,null,null,null,null,null,null,null,null,null,null,null,null,null,null,null,null,null,null,null,null,null,null,null,null,null,null,null,null,null,null,null,null,null,null,4247.246254595019,null,null,null,null,null,null,null,null,null,null,null,null,null,null,null,null,null,null,null,null,null,null,null,null,null,null,null,null,null,null,null,null,null,null,null,null,null,null,null,null,null,null,null,null,null,null],[null,null,null,null,null,null,null,null,null,null,null,null,null,null,null,null,null,null,null,null,null,null,null,null,null,null,null,null,null,null,null,null,null,null,null,null,null,null,null,null,null,null,null,null,null,null,null,null,null,null,null,null,null,null,null,null,null,null,null,null,null,null,null,null,null,null,null,null,null,4236.186151547414,null,null,null,null,null,null,null,null,null,null,null,null,null,null,null,null,null,null,null,null,null,null,null,null,null,null,null],[null,null,null,null,null,null,null,null,4169.524552943322,null,null,null,null,null,null,null,null,null,null,null,null,null,null,null,null,null,null,null,null,null,null,null,null,null,null,null,null,null,null,null,null,null,null,null,null,null,null,null,null,null,null,null,null,null,null,null,null,null,null,null,null,null,null,null,null,null,null,null,null,null,null,null,null,null,null,null,null,null,null,null,null,null,null,null,null,null,null,null,null,null,null,null,null,null,null,null,null],[null,null,null,null,null,null,null,null,null,null,null,null,null,null,null,null,null,null,null,null,null,null,null,null,null,null,null,null,null,null,null,null,null,null,null,null,null,null,null,null,null,null,null,null,null,null,null,null,null,null,null,null,null,null,null,null,null,null,null,null,null,null,null,null,null,null,null,null,null,null,null,null,null,null,null,null,null,null,null,null,null,null,4308.813939115351,null,null,null,null,null,null,null,null,null,null,null,null,null,null],[null,null,null,null,null,4198.539838173434,null,null,null,null,null,null,null,null,null,null,null,null,null,null,null,null,null,null,null,null,null,null,null,null,null,null,null,null,null,null,null,null,null,null,null,null,null,null,null,null,null,null,null,null,null,null,null,null,null,null,null,null,null,null,null,null,null,null,null,null,null,null,null,null,null,null,null,null,null,null,null,null,null,null,null,null,null,null,null,null,null,null,null,null,null,null,null,null,null,null,null],[null,null,null,null,null,null,null,null,null,null,null,null,null,null,null,null,null,null,null,null,null,null,null,null,null,null,null,null,null,null,null,null,null,null,4146.9485062779695,null,null,null,null,null,null,null,null,null,null,null,null,null,null,null,null,null,null,null,null,null,null,null,null,null,null,null,null,null,null,null,null,null,null,null,null,null,null,null,null,null,null,null,null,null,null,null,null,null,null,null,null,null,null,null,null,null,null,null,null,null,null],[null,null,null,null,null,null,4277.654007475739,null,null,null,null,null,null,null,null,null,null,null,null,null,null,null,null,null,null,null,null,null,null,null,null,null,null,null,null,null,null,null,null,null,null,null,null,null,null,null,null,null,null,null,null,null,null,null,null,null,null,null,null,null,null,null,null,null,null,null,null,null,null,null,null,null,null,null,null,null,null,null,null,null,null,null,null,null,null,null,null,null,null,null,null,null,null,null,null,null,null],[null,null,null,null,null,null,null,null,null,null,null,null,null,null,null,null,null,null,null,null,null,null,null,4267.331354612213,null,null,null,null,null,null,null,null,null,null,null,null,null,null,null,null,null,null,null,null,null,null,null,null,null,null,null,null,null,null,null,null,null,null,null,null,null,null,null,null,null,null,null,null,null,null,null,null,null,null,null,null,null,null,null,null,null,null,null,null,null,null,null,null,null,null,null,null,null,null,null,null,null],[null,null,null,null,null,null,null,null,null,null,null,null,null,null,null,null,null,null,null,null,null,null,null,null,null,null,null,null,null,null,null,null,null,null,null,null,null,null,null,null,null,null,null,null,null,null,null,null,null,null,null,null,null,null,null,null,null,null,null,null,null,null,null,null,null,null,null,null,null,null,null,null,null,null,4180.122548304451,null,null,null,null,null,null,null,null,null,null,null,null,null,null,null,null,null,null,null,null,null,null],[null,null,null,null,null,null,null,null,null,null,null,null,null,null,null,null,null,null,null,null,null,null,null,null,null,null,null,null,null,null,null,null,null,null,null,null,null,null,null,null,null,null,null,null,null,null,null,null,null,null,null,null,4304.336586440891,null,null,null,null,null,null,null,null,null,null,null,null,null,null,null,null,null,null,null,null,null,null,null,null,null,null,null,null,null,null,null,null,null,null,null,null,null,null,null,null,null,null,null,null],[null,null,null,null,null,null,null,null,null,null,null,null,null,4408.872251527552,null,null,null,null,null,null,null,null,null,null,null,null,null,null,null,null,null,null,null,null,null,null,null,null,null,null,null,null,null,null,null,null,null,null,null,null,null,null,null,null,null,null,null,null,null,null,null,null,null,null,null,null,null,null,null,null,null,null,null,null,null,null,null,null,null,null,null,null,null,null,null,null,null,null,null,null,null,null,null,null,null,null,null],[null,null,null,null,null,null,null,null,null,null,null,null,null,null,null,null,null,null,null,null,null,null,null,4516.1088950902995,null,null,null,null,null,null,null,null,null,null,null,null,null,null,null,null,null,null,null,null,null,null,null,null,null,null,null,null,null,null,null,null,null,null,null,null,null,null,null,null,null,null,null,null,null,null,null,null,null,null,null,null,null,null,null,null,null,null,null,null,null,null,null,null,null,null,null,null,null,null,null,null,null],[null,null,null,null,null,null,null,null,null,null,null,null,null,null,null,null,null,null,null,null,null,null,null,null,null,null,null,null,null,null,null,null,null,null,null,null,null,null,null,null,null,null,null,null,null,null,null,null,null,null,null,null,null,null,null,null,null,null,null,null,null,null,null,null,null,null,null,null,null,null,null,null,null,null,null,null,null,null,null,null,null,null,null,null,null,null,null,null,null,null,null,null,4498.503142018106,null,null,null,null],[null,null,null,null,null,null,null,null,null,null,null,null,null,null,null,null,null,null,null,null,null,null,null,null,null,null,null,null,null,null,null,null,null,null,null,null,null,null,null,null,null,null,null,null,null,null,null,null,null,null,null,null,null,null,null,null,null,null,null,null,null,null,null,null,null,null,null,null,null,null,4031.515365857815,null,null,null,null,null,null,null,null,null,null,null,null,null,null,null,null,null,null,null,null,null,null,null,null,null,null],[null,null,null,null,null,null,null,null,null,null,null,null,null,null,null,null,null,null,null,null,null,null,null,null,null,null,null,null,null,null,null,null,null,null,null,null,null,null,null,null,null,null,null,null,null,null,null,null,null,null,null,null,null,null,null,null,null,null,null,null,null,null,null,null,null,null,null,null,null,null,null,null,null,null,null,null,null,null,null,null,null,null,null,null,4329.672786588965,null,null,null,null,null,null,null,null,null,null,null,null],[null,null,null,null,null,null,null,null,null,null,4436.0841605042715,null,null,null,null,null,null,null,null,null,null,null,null,null,null,null,null,null,null,null,null,null,null,null,null,null,null,null,null,null,null,null,null,null,null,null,null,null,null,null,null,null,null,null,null,null,null,null,null,null,null,null,null,null,null,null,null,null,null,null,null,null,null,null,null,null,null,null,null,null,null,null,null,null,null,null,null,null,null,null,null,null,null,null,null,null,null],[null,null,null,null,null,null,null,null,null,null,null,null,null,null,null,null,null,null,null,null,null,null,null,null,null,null,null,null,null,null,null,null,null,null,null,null,null,null,null,null,null,null,null,null,null,null,null,null,null,null,null,null,null,null,4468.780503272435,null,null,null,null,null,null,null,null,null,null,null,null,null,null,null,null,null,null,null,null,null,null,null,null,null,null,null,null,null,null,null,null,null,null,null,null,null,null,null,null,null,null],[null,null,null,null,null,null,null,null,null,null,null,null,null,null,null,null,null,null,null,null,null,null,null,null,null,null,null,null,null,null,null,null,null,null,null,null,null,null,null,null,null,null,null,null,null,null,null,null,null,null,null,null,null,null,null,null,null,null,null,null,null,null,null,null,null,null,null,null,null,null,null,null,null,null,null,null,null,null,null,null,null,null,null,null,null,null,null,null,null,4297.320392373839,null,null,null,null,null,null,null],[null,null,null,null,4184.092614184696,null,null,null,null,null,null,null,null,null,null,null,null,null,null,null,null,null,null,null,null,null,null,null,null,null,null,null,null,null,null,null,null,null,null,null,null,null,null,null,null,null,null,null,null,null,null,null,null,null,null,null,null,null,null,null,null,null,null,null,null,null,null,null,null,null,null,null,null,null,null,null,null,null,null,null,null,null,null,null,null,null,null,null,null,null,null,null,null,null,null,null,null],[null,null,null,null,null,null,null,null,null,null,null,null,null,null,null,null,null,null,null,null,null,null,null,null,null,null,null,null,null,null,null,null,null,null,null,null,null,null,null,null,null,null,4622.862689069398,null,null,null,null,null,null,null,null,null,null,null,null,null,null,null,null,null,null,null,null,null,null,null,null,null,null,null,null,null,null,null,null,null,null,null,null,null,null,null,null,null,null,null,null,null,null,null,null,null,null,null,null,null,null],[null,null,null,null,null,null,null,null,null,null,null,null,null,null,null,null,null,null,null,null,null,null,null,null,null,null,null,null,null,null,null,null,null,null,null,null,null,null,4881.935218160944,null,null,null,null,null,null,null,null,null,null,null,null,null,null,null,null,null,null,null,null,null,null,null,null,null,null,null,null,null,null,null,null,null,null,null,null,null,null,null,null,null,null,null,null,null,null,null,null,null,null,null,null,null,null,null,null,null,null],[null,null,null,4303.0384937572135,null,null,null,null,null,null,null,null,null,null,null,null,null,null,null,null,null,null,null,null,null,null,null,null,null,null,null,null,null,null,null,null,null,null,null,null,null,null,null,null,null,null,null,null,null,null,null,null,null,null,null,null,null,null,null,null,null,null,null,null,null,null,null,null,null,null,null,null,null,null,null,null,null,null,null,null,null,null,null,null,null,null,null,null,null,null,null,null,null,null,null,null,null],[null,null,null,null,null,null,null,null,null,null,null,null,null,null,null,null,null,null,null,null,null,null,4334.784063273927,null,null,null,null,null,null,null,null,null,null,null,null,null,null,null,null,null,null,null,null,null,null,null,null,null,null,null,null,null,null,null,null,null,null,null,null,null,null,null,null,null,null,null,null,null,null,null,null,null,null,null,null,null,null,null,null,null,null,null,null,null,null,null,null,null,null,null,null,null,null,null,null,null,null],[null,null,null,null,null,null,null,null,null,null,null,null,null,null,null,null,null,null,null,null,null,null,null,null,null,null,null,null,null,null,null,null,null,null,null,null,null,null,null,null,null,null,null,null,null,null,null,null,null,null,null,null,null,null,null,null,null,null,null,null,null,null,null,null,null,null,null,null,null,null,null,null,null,null,null,null,null,null,null,4370.395010623053,null,null,null,null,null,null,null,null,null,null,null,null,null,null,null,null,null],[null,null,null,null,null,null,null,null,null,null,null,null,null,null,null,null,null,null,null,null,null,null,null,null,null,null,null,null,null,null,null,null,null,null,null,null,null,4269.415105035459,null,null,null,null,null,null,null,null,null,null,null,null,null,null,null,null,null,null,null,null,null,null,null,null,null,null,null,null,null,null,null,null,null,null,null,null,null,null,null,null,null,null,null,null,null,null,null,null,null,null,null,null,null,null,null,null,null,null,null],[null,null,null,null,null,null,null,null,null,null,null,null,null,null,null,null,null,null,null,null,null,null,null,null,null,null,null,null,null,null,null,null,null,null,null,null,null,null,null,null,null,null,null,null,null,null,null,null,null,null,null,null,null,null,null,null,null,null,null,null,null,null,null,null,null,null,null,null,null,null,null,4337.014435185782,null,null,null,null,null,null,null,null,null,null,null,null,null,null,null,null,null,null,null,null,null,null,null,null,null],[null,null,null,null,null,null,null,null,null,null,null,null,null,null,null,null,null,null,null,null,null,null,null,null,null,null,null,null,null,null,null,null,null,null,null,null,null,null,null,null,null,null,null,null,null,null,null,null,null,null,null,null,null,null,null,null,null,null,null,null,null,null,null,null,null,null,null,null,null,null,null,null,null,null,null,null,null,null,null,null,null,null,null,null,null,null,null,null,null,null,null,null,null,null,null,null,null]],\"type\":\"contour\",\"xaxis\":\"x12\",\"yaxis\":\"y12\"},{\"marker\":{\"color\":\"black\",\"line\":{\"color\":\"Grey\",\"width\":2.0}},\"mode\":\"markers\",\"showlegend\":false,\"x\":[213,156,859,156,190,212,653,299,955,196,107,403,361,394,500,280,511,106,253,255,148,132,173,191,248,229,127,183,180,333,216,258,257,169,144,221,289,322,203,121,159,292,240,274,355,457,359,410,203,735,576,308,268,353,231,288,171,404,241,199,339,267,308,260,245,215,187,373,277,458,441,557,479,329,225,379,172,294,139,157,257,272,315,432,309,342,307,525,320,291,331,321,319,384,316,350,323,321,360,365],\"y\":[0.0027850353798638213,0.012670264874973356,0.0014874609707774007,0.005262506507438321,0.04547275798616162,0.0010285084935055424,0.163529684047861,0.15774137117241427,0.07293855809368854,0.07261925630032107,0.02423991719524073,0.25808146469892645,0.08594802358382672,0.07035034013678441,0.02245196457879437,0.046976447590837696,0.01041329667062595,0.04262050867931939,0.10931697331792913,0.2850789068083945,0.12850664317202787,0.13244289958775943,0.12145148523602435,0.029006072341520472,0.07703228162069208,0.05519073771977596,0.19183055681338052,0.03455830839863449,0.01627083870463775,0.09492539438078199,0.008706341304713816,0.10773033394969075,0.2113819538256321,0.07130081540275059,0.0029844244561616257,0.05967805911294894,0.10638408020341686,0.03398524791273612,0.16151633956130598,0.23337706700815972,0.0054895624027552145,0.121769174557117,0.08607405281766764,0.09782195414529053,0.16560513899049317,0.1716143047483098,0.29548138704732,0.05758941320258553,0.145960291485913,0.043247710554372674,0.07684265603222379,0.1079558512844103,0.20999977674183237,0.12669968605518056,0.07305967659622016,0.10754954292376198,0.16064226237169973,0.056064772624089876,0.08387833836923901,0.24207414303757463,0.0225444645239988,0.09530799496454562,0.18852489195679534,0.06325539876427162,0.1399764397601272,0.09547594091486561,0.04661094851848872,0.1153391449798611,0.0013580563612786494,0.03759572547313215,0.03245592556746029,0.01703209383206694,0.05097197616220452,0.06804634880171115,0.08392321962887536,0.03773959738327062,0.02634601448890141,0.09295818774254423,0.142015474190251,0.1720616394520381,0.10911266417550242,0.0745367296946682,0.10104801902261587,0.12939990537911272,0.09946266177395985,0.04004439501480648,0.06158775304385237,0.18969006934361288,0.08209127384146125,0.08495903681540876,0.08498304294293056,0.08322231592613727,0.08259823526337047,0.05102067608323434,0.08124152462466318,0.06640445889250945,0.08897162312565371,0.08576518041994491,0.0985118586539773,0.15323102296269667],\"type\":\"scatter\",\"xaxis\":\"x12\",\"yaxis\":\"y12\"},{\"type\":\"scatter\",\"xaxis\":\"x16\",\"yaxis\":\"y16\"}],                        {\"template\":{\"data\":{\"bar\":[{\"error_x\":{\"color\":\"#2a3f5f\"},\"error_y\":{\"color\":\"#2a3f5f\"},\"marker\":{\"line\":{\"color\":\"#E5ECF6\",\"width\":0.5},\"pattern\":{\"fillmode\":\"overlay\",\"size\":10,\"solidity\":0.2}},\"type\":\"bar\"}],\"barpolar\":[{\"marker\":{\"line\":{\"color\":\"#E5ECF6\",\"width\":0.5},\"pattern\":{\"fillmode\":\"overlay\",\"size\":10,\"solidity\":0.2}},\"type\":\"barpolar\"}],\"carpet\":[{\"aaxis\":{\"endlinecolor\":\"#2a3f5f\",\"gridcolor\":\"white\",\"linecolor\":\"white\",\"minorgridcolor\":\"white\",\"startlinecolor\":\"#2a3f5f\"},\"baxis\":{\"endlinecolor\":\"#2a3f5f\",\"gridcolor\":\"white\",\"linecolor\":\"white\",\"minorgridcolor\":\"white\",\"startlinecolor\":\"#2a3f5f\"},\"type\":\"carpet\"}],\"choropleth\":[{\"colorbar\":{\"outlinewidth\":0,\"ticks\":\"\"},\"type\":\"choropleth\"}],\"contour\":[{\"colorbar\":{\"outlinewidth\":0,\"ticks\":\"\"},\"colorscale\":[[0.0,\"#0d0887\"],[0.1111111111111111,\"#46039f\"],[0.2222222222222222,\"#7201a8\"],[0.3333333333333333,\"#9c179e\"],[0.4444444444444444,\"#bd3786\"],[0.5555555555555556,\"#d8576b\"],[0.6666666666666666,\"#ed7953\"],[0.7777777777777778,\"#fb9f3a\"],[0.8888888888888888,\"#fdca26\"],[1.0,\"#f0f921\"]],\"type\":\"contour\"}],\"contourcarpet\":[{\"colorbar\":{\"outlinewidth\":0,\"ticks\":\"\"},\"type\":\"contourcarpet\"}],\"heatmap\":[{\"colorbar\":{\"outlinewidth\":0,\"ticks\":\"\"},\"colorscale\":[[0.0,\"#0d0887\"],[0.1111111111111111,\"#46039f\"],[0.2222222222222222,\"#7201a8\"],[0.3333333333333333,\"#9c179e\"],[0.4444444444444444,\"#bd3786\"],[0.5555555555555556,\"#d8576b\"],[0.6666666666666666,\"#ed7953\"],[0.7777777777777778,\"#fb9f3a\"],[0.8888888888888888,\"#fdca26\"],[1.0,\"#f0f921\"]],\"type\":\"heatmap\"}],\"heatmapgl\":[{\"colorbar\":{\"outlinewidth\":0,\"ticks\":\"\"},\"colorscale\":[[0.0,\"#0d0887\"],[0.1111111111111111,\"#46039f\"],[0.2222222222222222,\"#7201a8\"],[0.3333333333333333,\"#9c179e\"],[0.4444444444444444,\"#bd3786\"],[0.5555555555555556,\"#d8576b\"],[0.6666666666666666,\"#ed7953\"],[0.7777777777777778,\"#fb9f3a\"],[0.8888888888888888,\"#fdca26\"],[1.0,\"#f0f921\"]],\"type\":\"heatmapgl\"}],\"histogram\":[{\"marker\":{\"pattern\":{\"fillmode\":\"overlay\",\"size\":10,\"solidity\":0.2}},\"type\":\"histogram\"}],\"histogram2d\":[{\"colorbar\":{\"outlinewidth\":0,\"ticks\":\"\"},\"colorscale\":[[0.0,\"#0d0887\"],[0.1111111111111111,\"#46039f\"],[0.2222222222222222,\"#7201a8\"],[0.3333333333333333,\"#9c179e\"],[0.4444444444444444,\"#bd3786\"],[0.5555555555555556,\"#d8576b\"],[0.6666666666666666,\"#ed7953\"],[0.7777777777777778,\"#fb9f3a\"],[0.8888888888888888,\"#fdca26\"],[1.0,\"#f0f921\"]],\"type\":\"histogram2d\"}],\"histogram2dcontour\":[{\"colorbar\":{\"outlinewidth\":0,\"ticks\":\"\"},\"colorscale\":[[0.0,\"#0d0887\"],[0.1111111111111111,\"#46039f\"],[0.2222222222222222,\"#7201a8\"],[0.3333333333333333,\"#9c179e\"],[0.4444444444444444,\"#bd3786\"],[0.5555555555555556,\"#d8576b\"],[0.6666666666666666,\"#ed7953\"],[0.7777777777777778,\"#fb9f3a\"],[0.8888888888888888,\"#fdca26\"],[1.0,\"#f0f921\"]],\"type\":\"histogram2dcontour\"}],\"mesh3d\":[{\"colorbar\":{\"outlinewidth\":0,\"ticks\":\"\"},\"type\":\"mesh3d\"}],\"parcoords\":[{\"line\":{\"colorbar\":{\"outlinewidth\":0,\"ticks\":\"\"}},\"type\":\"parcoords\"}],\"pie\":[{\"automargin\":true,\"type\":\"pie\"}],\"scatter\":[{\"marker\":{\"colorbar\":{\"outlinewidth\":0,\"ticks\":\"\"}},\"type\":\"scatter\"}],\"scatter3d\":[{\"line\":{\"colorbar\":{\"outlinewidth\":0,\"ticks\":\"\"}},\"marker\":{\"colorbar\":{\"outlinewidth\":0,\"ticks\":\"\"}},\"type\":\"scatter3d\"}],\"scattercarpet\":[{\"marker\":{\"colorbar\":{\"outlinewidth\":0,\"ticks\":\"\"}},\"type\":\"scattercarpet\"}],\"scattergeo\":[{\"marker\":{\"colorbar\":{\"outlinewidth\":0,\"ticks\":\"\"}},\"type\":\"scattergeo\"}],\"scattergl\":[{\"marker\":{\"colorbar\":{\"outlinewidth\":0,\"ticks\":\"\"}},\"type\":\"scattergl\"}],\"scattermapbox\":[{\"marker\":{\"colorbar\":{\"outlinewidth\":0,\"ticks\":\"\"}},\"type\":\"scattermapbox\"}],\"scatterpolar\":[{\"marker\":{\"colorbar\":{\"outlinewidth\":0,\"ticks\":\"\"}},\"type\":\"scatterpolar\"}],\"scatterpolargl\":[{\"marker\":{\"colorbar\":{\"outlinewidth\":0,\"ticks\":\"\"}},\"type\":\"scatterpolargl\"}],\"scatterternary\":[{\"marker\":{\"colorbar\":{\"outlinewidth\":0,\"ticks\":\"\"}},\"type\":\"scatterternary\"}],\"surface\":[{\"colorbar\":{\"outlinewidth\":0,\"ticks\":\"\"},\"colorscale\":[[0.0,\"#0d0887\"],[0.1111111111111111,\"#46039f\"],[0.2222222222222222,\"#7201a8\"],[0.3333333333333333,\"#9c179e\"],[0.4444444444444444,\"#bd3786\"],[0.5555555555555556,\"#d8576b\"],[0.6666666666666666,\"#ed7953\"],[0.7777777777777778,\"#fb9f3a\"],[0.8888888888888888,\"#fdca26\"],[1.0,\"#f0f921\"]],\"type\":\"surface\"}],\"table\":[{\"cells\":{\"fill\":{\"color\":\"#EBF0F8\"},\"line\":{\"color\":\"white\"}},\"header\":{\"fill\":{\"color\":\"#C8D4E3\"},\"line\":{\"color\":\"white\"}},\"type\":\"table\"}]},\"layout\":{\"annotationdefaults\":{\"arrowcolor\":\"#2a3f5f\",\"arrowhead\":0,\"arrowwidth\":1},\"autotypenumbers\":\"strict\",\"coloraxis\":{\"colorbar\":{\"outlinewidth\":0,\"ticks\":\"\"}},\"colorscale\":{\"diverging\":[[0,\"#8e0152\"],[0.1,\"#c51b7d\"],[0.2,\"#de77ae\"],[0.3,\"#f1b6da\"],[0.4,\"#fde0ef\"],[0.5,\"#f7f7f7\"],[0.6,\"#e6f5d0\"],[0.7,\"#b8e186\"],[0.8,\"#7fbc41\"],[0.9,\"#4d9221\"],[1,\"#276419\"]],\"sequential\":[[0.0,\"#0d0887\"],[0.1111111111111111,\"#46039f\"],[0.2222222222222222,\"#7201a8\"],[0.3333333333333333,\"#9c179e\"],[0.4444444444444444,\"#bd3786\"],[0.5555555555555556,\"#d8576b\"],[0.6666666666666666,\"#ed7953\"],[0.7777777777777778,\"#fb9f3a\"],[0.8888888888888888,\"#fdca26\"],[1.0,\"#f0f921\"]],\"sequentialminus\":[[0.0,\"#0d0887\"],[0.1111111111111111,\"#46039f\"],[0.2222222222222222,\"#7201a8\"],[0.3333333333333333,\"#9c179e\"],[0.4444444444444444,\"#bd3786\"],[0.5555555555555556,\"#d8576b\"],[0.6666666666666666,\"#ed7953\"],[0.7777777777777778,\"#fb9f3a\"],[0.8888888888888888,\"#fdca26\"],[1.0,\"#f0f921\"]]},\"colorway\":[\"#636efa\",\"#EF553B\",\"#00cc96\",\"#ab63fa\",\"#FFA15A\",\"#19d3f3\",\"#FF6692\",\"#B6E880\",\"#FF97FF\",\"#FECB52\"],\"font\":{\"color\":\"#2a3f5f\"},\"geo\":{\"bgcolor\":\"white\",\"lakecolor\":\"white\",\"landcolor\":\"#E5ECF6\",\"showlakes\":true,\"showland\":true,\"subunitcolor\":\"white\"},\"hoverlabel\":{\"align\":\"left\"},\"hovermode\":\"closest\",\"mapbox\":{\"style\":\"light\"},\"paper_bgcolor\":\"white\",\"plot_bgcolor\":\"#E5ECF6\",\"polar\":{\"angularaxis\":{\"gridcolor\":\"white\",\"linecolor\":\"white\",\"ticks\":\"\"},\"bgcolor\":\"#E5ECF6\",\"radialaxis\":{\"gridcolor\":\"white\",\"linecolor\":\"white\",\"ticks\":\"\"}},\"scene\":{\"xaxis\":{\"backgroundcolor\":\"#E5ECF6\",\"gridcolor\":\"white\",\"gridwidth\":2,\"linecolor\":\"white\",\"showbackground\":true,\"ticks\":\"\",\"zerolinecolor\":\"white\"},\"yaxis\":{\"backgroundcolor\":\"#E5ECF6\",\"gridcolor\":\"white\",\"gridwidth\":2,\"linecolor\":\"white\",\"showbackground\":true,\"ticks\":\"\",\"zerolinecolor\":\"white\"},\"zaxis\":{\"backgroundcolor\":\"#E5ECF6\",\"gridcolor\":\"white\",\"gridwidth\":2,\"linecolor\":\"white\",\"showbackground\":true,\"ticks\":\"\",\"zerolinecolor\":\"white\"}},\"shapedefaults\":{\"line\":{\"color\":\"#2a3f5f\"}},\"ternary\":{\"aaxis\":{\"gridcolor\":\"white\",\"linecolor\":\"white\",\"ticks\":\"\"},\"baxis\":{\"gridcolor\":\"white\",\"linecolor\":\"white\",\"ticks\":\"\"},\"bgcolor\":\"#E5ECF6\",\"caxis\":{\"gridcolor\":\"white\",\"linecolor\":\"white\",\"ticks\":\"\"}},\"title\":{\"x\":0.05},\"xaxis\":{\"automargin\":true,\"gridcolor\":\"white\",\"linecolor\":\"white\",\"ticks\":\"\",\"title\":{\"standoff\":15},\"zerolinecolor\":\"white\",\"zerolinewidth\":2},\"yaxis\":{\"automargin\":true,\"gridcolor\":\"white\",\"linecolor\":\"white\",\"ticks\":\"\",\"title\":{\"standoff\":15},\"zerolinecolor\":\"white\",\"zerolinewidth\":2}}},\"xaxis\":{\"anchor\":\"y\",\"domain\":[0.0,0.2125],\"matches\":\"x13\",\"showticklabels\":false,\"range\":[3.55,13.45]},\"yaxis\":{\"anchor\":\"x\",\"domain\":[0.80625,1.0],\"range\":[3.55,13.45],\"title\":{\"text\":\"depth\"}},\"xaxis2\":{\"anchor\":\"y2\",\"domain\":[0.2625,0.475],\"matches\":\"x14\",\"showticklabels\":false,\"range\":[0.5999999999999999,31.4]},\"yaxis2\":{\"anchor\":\"x2\",\"domain\":[0.80625,1.0],\"matches\":\"y\",\"showticklabels\":false,\"range\":[3.55,13.45]},\"xaxis3\":{\"anchor\":\"y3\",\"domain\":[0.525,0.7375],\"matches\":\"x15\",\"showticklabels\":false,\"range\":[-3.110708229842454,-0.40655375865654486],\"type\":\"log\"},\"yaxis3\":{\"anchor\":\"x3\",\"domain\":[0.80625,1.0],\"matches\":\"y\",\"showticklabels\":false,\"range\":[3.55,13.45]},\"xaxis4\":{\"anchor\":\"y4\",\"domain\":[0.7875,1.0],\"matches\":\"x16\",\"showticklabels\":false,\"range\":[1.9775709899488216,3.027738246899695],\"type\":\"log\"},\"yaxis4\":{\"anchor\":\"x4\",\"domain\":[0.80625,1.0],\"matches\":\"y\",\"showticklabels\":false,\"range\":[3.55,13.45]},\"xaxis5\":{\"anchor\":\"y5\",\"domain\":[0.0,0.2125],\"matches\":\"x13\",\"showticklabels\":false,\"range\":[3.55,13.45]},\"yaxis5\":{\"anchor\":\"x5\",\"domain\":[0.5375,0.73125],\"range\":[0.5999999999999999,31.4],\"title\":{\"text\":\"l2_leaf_reg\"}},\"xaxis6\":{\"anchor\":\"y6\",\"domain\":[0.2625,0.475],\"matches\":\"x14\",\"showticklabels\":false,\"range\":[0.5999999999999999,31.4]},\"yaxis6\":{\"anchor\":\"x6\",\"domain\":[0.5375,0.73125],\"matches\":\"y5\",\"showticklabels\":false,\"range\":[0.5999999999999999,31.4]},\"xaxis7\":{\"anchor\":\"y7\",\"domain\":[0.525,0.7375],\"matches\":\"x15\",\"showticklabels\":false,\"range\":[-3.110708229842454,-0.40655375865654486],\"type\":\"log\"},\"yaxis7\":{\"anchor\":\"x7\",\"domain\":[0.5375,0.73125],\"matches\":\"y5\",\"showticklabels\":false,\"range\":[0.5999999999999999,31.4]},\"xaxis8\":{\"anchor\":\"y8\",\"domain\":[0.7875,1.0],\"matches\":\"x16\",\"showticklabels\":false,\"range\":[1.9775709899488216,3.027738246899695],\"type\":\"log\"},\"yaxis8\":{\"anchor\":\"x8\",\"domain\":[0.5375,0.73125],\"matches\":\"y5\",\"showticklabels\":false,\"range\":[0.5999999999999999,31.4]},\"xaxis9\":{\"anchor\":\"y9\",\"domain\":[0.0,0.2125],\"matches\":\"x13\",\"showticklabels\":false,\"range\":[3.55,13.45]},\"yaxis9\":{\"anchor\":\"x9\",\"domain\":[0.26875,0.4625],\"range\":[-3.110708229842454,-0.40655375865654486],\"type\":\"log\",\"title\":{\"text\":\"learning_rate\"}},\"xaxis10\":{\"anchor\":\"y10\",\"domain\":[0.2625,0.475],\"matches\":\"x14\",\"showticklabels\":false,\"range\":[0.5999999999999999,31.4]},\"yaxis10\":{\"anchor\":\"x10\",\"domain\":[0.26875,0.4625],\"matches\":\"y9\",\"showticklabels\":false,\"range\":[-3.110708229842454,-0.40655375865654486],\"type\":\"log\"},\"xaxis11\":{\"anchor\":\"y11\",\"domain\":[0.525,0.7375],\"matches\":\"x15\",\"showticklabels\":false,\"range\":[-3.110708229842454,-0.40655375865654486],\"type\":\"log\"},\"yaxis11\":{\"anchor\":\"x11\",\"domain\":[0.26875,0.4625],\"matches\":\"y9\",\"showticklabels\":false,\"range\":[-3.110708229842454,-0.40655375865654486],\"type\":\"log\"},\"xaxis12\":{\"anchor\":\"y12\",\"domain\":[0.7875,1.0],\"matches\":\"x16\",\"showticklabels\":false,\"range\":[1.9775709899488216,3.027738246899695],\"type\":\"log\"},\"yaxis12\":{\"anchor\":\"x12\",\"domain\":[0.26875,0.4625],\"matches\":\"y9\",\"showticklabels\":false,\"range\":[-3.110708229842454,-0.40655375865654486],\"type\":\"log\"},\"xaxis13\":{\"anchor\":\"y13\",\"domain\":[0.0,0.2125],\"range\":[3.55,13.45],\"title\":{\"text\":\"depth\"}},\"yaxis13\":{\"anchor\":\"x13\",\"domain\":[0.0,0.19375],\"range\":[1.9775709899488216,3.027738246899695],\"type\":\"log\",\"title\":{\"text\":\"n_estimators\"}},\"xaxis14\":{\"anchor\":\"y14\",\"domain\":[0.2625,0.475],\"range\":[0.5999999999999999,31.4],\"title\":{\"text\":\"l2_leaf_reg\"}},\"yaxis14\":{\"anchor\":\"x14\",\"domain\":[0.0,0.19375],\"matches\":\"y13\",\"showticklabels\":false,\"range\":[1.9775709899488216,3.027738246899695],\"type\":\"log\"},\"xaxis15\":{\"anchor\":\"y15\",\"domain\":[0.525,0.7375],\"range\":[-3.110708229842454,-0.40655375865654486],\"type\":\"log\",\"title\":{\"text\":\"learning_rate\"}},\"yaxis15\":{\"anchor\":\"x15\",\"domain\":[0.0,0.19375],\"matches\":\"y13\",\"showticklabels\":false,\"range\":[1.9775709899488216,3.027738246899695],\"type\":\"log\"},\"xaxis16\":{\"anchor\":\"y16\",\"domain\":[0.7875,1.0],\"range\":[1.9775709899488216,3.027738246899695],\"type\":\"log\",\"title\":{\"text\":\"n_estimators\"}},\"yaxis16\":{\"anchor\":\"x16\",\"domain\":[0.0,0.19375],\"matches\":\"y13\",\"showticklabels\":false,\"range\":[1.9775709899488216,3.027738246899695],\"type\":\"log\"},\"title\":{\"text\":\"Contour Plot\"}},                        {\"responsive\": true}                    ).then(function(){\n",
              "                            \n",
              "var gd = document.getElementById('3a8184ed-38be-45ff-b5b8-8545d786fcfa');\n",
              "var x = new MutationObserver(function (mutations, observer) {{\n",
              "        var display = window.getComputedStyle(gd).display;\n",
              "        if (!display || display === 'none') {{\n",
              "            console.log([gd, 'removed!']);\n",
              "            Plotly.purge(gd);\n",
              "            observer.disconnect();\n",
              "        }}\n",
              "}});\n",
              "\n",
              "// Listen for the removal of the full notebook cells\n",
              "var notebookContainer = gd.closest('#notebook-container');\n",
              "if (notebookContainer) {{\n",
              "    x.observe(notebookContainer, {childList: true});\n",
              "}}\n",
              "\n",
              "// Listen for the clearing of the current output cell\n",
              "var outputEl = gd.closest('.output');\n",
              "if (outputEl) {{\n",
              "    x.observe(outputEl, {childList: true});\n",
              "}}\n",
              "\n",
              "                        })                };                            </script>        </div>\n",
              "</body>\n",
              "</html>"
            ]
          },
          "metadata": {}
        }
      ]
    },
    {
      "cell_type": "code",
      "source": [
        "optuna.visualization.plot_param_importances(study)"
      ],
      "metadata": {
        "colab": {
          "base_uri": "https://localhost:8080/",
          "height": 542
        },
        "id": "mCMxowTkPfRl",
        "outputId": "12bc9ce7-6694-4995-bc63-a819b509469c"
      },
      "execution_count": 39,
      "outputs": [
        {
          "output_type": "display_data",
          "data": {
            "text/html": [
              "<html>\n",
              "<head><meta charset=\"utf-8\" /></head>\n",
              "<body>\n",
              "    <div>            <script src=\"https://cdnjs.cloudflare.com/ajax/libs/mathjax/2.7.5/MathJax.js?config=TeX-AMS-MML_SVG\"></script><script type=\"text/javascript\">if (window.MathJax) {MathJax.Hub.Config({SVG: {font: \"STIX-Web\"}});}</script>                <script type=\"text/javascript\">window.PlotlyConfig = {MathJaxConfig: 'local'};</script>\n",
              "        <script src=\"https://cdn.plot.ly/plotly-2.8.3.min.js\"></script>                <div id=\"6ea42b83-942a-43a6-b7db-39409b050529\" class=\"plotly-graph-div\" style=\"height:525px; width:100%;\"></div>            <script type=\"text/javascript\">                                    window.PLOTLYENV=window.PLOTLYENV || {};                                    if (document.getElementById(\"6ea42b83-942a-43a6-b7db-39409b050529\")) {                    Plotly.newPlot(                        \"6ea42b83-942a-43a6-b7db-39409b050529\",                        [{\"cliponaxis\":false,\"hovertemplate\":[\"depth (IntDistribution): 0.003051609083159309<extra></extra>\",\"n_estimators (IntDistribution): 0.017265838672956696<extra></extra>\",\"l2_leaf_reg (IntDistribution): 0.0491174761000607<extra></extra>\",\"learning_rate (FloatDistribution): 0.9305650761438233<extra></extra>\"],\"marker\":{\"color\":\"rgb(66,146,198)\"},\"orientation\":\"h\",\"text\":[\"<0.01\",\"0.02\",\"0.05\",\"0.93\"],\"textposition\":\"outside\",\"x\":[0.003051609083159309,0.017265838672956696,0.0491174761000607,0.9305650761438233],\"y\":[\"depth\",\"n_estimators\",\"l2_leaf_reg\",\"learning_rate\"],\"type\":\"bar\"}],                        {\"showlegend\":false,\"title\":{\"text\":\"Hyperparameter Importances\"},\"xaxis\":{\"title\":{\"text\":\"Importance for Objective Value\"}},\"yaxis\":{\"title\":{\"text\":\"Hyperparameter\"}},\"template\":{\"data\":{\"bar\":[{\"error_x\":{\"color\":\"#2a3f5f\"},\"error_y\":{\"color\":\"#2a3f5f\"},\"marker\":{\"line\":{\"color\":\"#E5ECF6\",\"width\":0.5},\"pattern\":{\"fillmode\":\"overlay\",\"size\":10,\"solidity\":0.2}},\"type\":\"bar\"}],\"barpolar\":[{\"marker\":{\"line\":{\"color\":\"#E5ECF6\",\"width\":0.5},\"pattern\":{\"fillmode\":\"overlay\",\"size\":10,\"solidity\":0.2}},\"type\":\"barpolar\"}],\"carpet\":[{\"aaxis\":{\"endlinecolor\":\"#2a3f5f\",\"gridcolor\":\"white\",\"linecolor\":\"white\",\"minorgridcolor\":\"white\",\"startlinecolor\":\"#2a3f5f\"},\"baxis\":{\"endlinecolor\":\"#2a3f5f\",\"gridcolor\":\"white\",\"linecolor\":\"white\",\"minorgridcolor\":\"white\",\"startlinecolor\":\"#2a3f5f\"},\"type\":\"carpet\"}],\"choropleth\":[{\"colorbar\":{\"outlinewidth\":0,\"ticks\":\"\"},\"type\":\"choropleth\"}],\"contour\":[{\"colorbar\":{\"outlinewidth\":0,\"ticks\":\"\"},\"colorscale\":[[0.0,\"#0d0887\"],[0.1111111111111111,\"#46039f\"],[0.2222222222222222,\"#7201a8\"],[0.3333333333333333,\"#9c179e\"],[0.4444444444444444,\"#bd3786\"],[0.5555555555555556,\"#d8576b\"],[0.6666666666666666,\"#ed7953\"],[0.7777777777777778,\"#fb9f3a\"],[0.8888888888888888,\"#fdca26\"],[1.0,\"#f0f921\"]],\"type\":\"contour\"}],\"contourcarpet\":[{\"colorbar\":{\"outlinewidth\":0,\"ticks\":\"\"},\"type\":\"contourcarpet\"}],\"heatmap\":[{\"colorbar\":{\"outlinewidth\":0,\"ticks\":\"\"},\"colorscale\":[[0.0,\"#0d0887\"],[0.1111111111111111,\"#46039f\"],[0.2222222222222222,\"#7201a8\"],[0.3333333333333333,\"#9c179e\"],[0.4444444444444444,\"#bd3786\"],[0.5555555555555556,\"#d8576b\"],[0.6666666666666666,\"#ed7953\"],[0.7777777777777778,\"#fb9f3a\"],[0.8888888888888888,\"#fdca26\"],[1.0,\"#f0f921\"]],\"type\":\"heatmap\"}],\"heatmapgl\":[{\"colorbar\":{\"outlinewidth\":0,\"ticks\":\"\"},\"colorscale\":[[0.0,\"#0d0887\"],[0.1111111111111111,\"#46039f\"],[0.2222222222222222,\"#7201a8\"],[0.3333333333333333,\"#9c179e\"],[0.4444444444444444,\"#bd3786\"],[0.5555555555555556,\"#d8576b\"],[0.6666666666666666,\"#ed7953\"],[0.7777777777777778,\"#fb9f3a\"],[0.8888888888888888,\"#fdca26\"],[1.0,\"#f0f921\"]],\"type\":\"heatmapgl\"}],\"histogram\":[{\"marker\":{\"pattern\":{\"fillmode\":\"overlay\",\"size\":10,\"solidity\":0.2}},\"type\":\"histogram\"}],\"histogram2d\":[{\"colorbar\":{\"outlinewidth\":0,\"ticks\":\"\"},\"colorscale\":[[0.0,\"#0d0887\"],[0.1111111111111111,\"#46039f\"],[0.2222222222222222,\"#7201a8\"],[0.3333333333333333,\"#9c179e\"],[0.4444444444444444,\"#bd3786\"],[0.5555555555555556,\"#d8576b\"],[0.6666666666666666,\"#ed7953\"],[0.7777777777777778,\"#fb9f3a\"],[0.8888888888888888,\"#fdca26\"],[1.0,\"#f0f921\"]],\"type\":\"histogram2d\"}],\"histogram2dcontour\":[{\"colorbar\":{\"outlinewidth\":0,\"ticks\":\"\"},\"colorscale\":[[0.0,\"#0d0887\"],[0.1111111111111111,\"#46039f\"],[0.2222222222222222,\"#7201a8\"],[0.3333333333333333,\"#9c179e\"],[0.4444444444444444,\"#bd3786\"],[0.5555555555555556,\"#d8576b\"],[0.6666666666666666,\"#ed7953\"],[0.7777777777777778,\"#fb9f3a\"],[0.8888888888888888,\"#fdca26\"],[1.0,\"#f0f921\"]],\"type\":\"histogram2dcontour\"}],\"mesh3d\":[{\"colorbar\":{\"outlinewidth\":0,\"ticks\":\"\"},\"type\":\"mesh3d\"}],\"parcoords\":[{\"line\":{\"colorbar\":{\"outlinewidth\":0,\"ticks\":\"\"}},\"type\":\"parcoords\"}],\"pie\":[{\"automargin\":true,\"type\":\"pie\"}],\"scatter\":[{\"marker\":{\"colorbar\":{\"outlinewidth\":0,\"ticks\":\"\"}},\"type\":\"scatter\"}],\"scatter3d\":[{\"line\":{\"colorbar\":{\"outlinewidth\":0,\"ticks\":\"\"}},\"marker\":{\"colorbar\":{\"outlinewidth\":0,\"ticks\":\"\"}},\"type\":\"scatter3d\"}],\"scattercarpet\":[{\"marker\":{\"colorbar\":{\"outlinewidth\":0,\"ticks\":\"\"}},\"type\":\"scattercarpet\"}],\"scattergeo\":[{\"marker\":{\"colorbar\":{\"outlinewidth\":0,\"ticks\":\"\"}},\"type\":\"scattergeo\"}],\"scattergl\":[{\"marker\":{\"colorbar\":{\"outlinewidth\":0,\"ticks\":\"\"}},\"type\":\"scattergl\"}],\"scattermapbox\":[{\"marker\":{\"colorbar\":{\"outlinewidth\":0,\"ticks\":\"\"}},\"type\":\"scattermapbox\"}],\"scatterpolar\":[{\"marker\":{\"colorbar\":{\"outlinewidth\":0,\"ticks\":\"\"}},\"type\":\"scatterpolar\"}],\"scatterpolargl\":[{\"marker\":{\"colorbar\":{\"outlinewidth\":0,\"ticks\":\"\"}},\"type\":\"scatterpolargl\"}],\"scatterternary\":[{\"marker\":{\"colorbar\":{\"outlinewidth\":0,\"ticks\":\"\"}},\"type\":\"scatterternary\"}],\"surface\":[{\"colorbar\":{\"outlinewidth\":0,\"ticks\":\"\"},\"colorscale\":[[0.0,\"#0d0887\"],[0.1111111111111111,\"#46039f\"],[0.2222222222222222,\"#7201a8\"],[0.3333333333333333,\"#9c179e\"],[0.4444444444444444,\"#bd3786\"],[0.5555555555555556,\"#d8576b\"],[0.6666666666666666,\"#ed7953\"],[0.7777777777777778,\"#fb9f3a\"],[0.8888888888888888,\"#fdca26\"],[1.0,\"#f0f921\"]],\"type\":\"surface\"}],\"table\":[{\"cells\":{\"fill\":{\"color\":\"#EBF0F8\"},\"line\":{\"color\":\"white\"}},\"header\":{\"fill\":{\"color\":\"#C8D4E3\"},\"line\":{\"color\":\"white\"}},\"type\":\"table\"}]},\"layout\":{\"annotationdefaults\":{\"arrowcolor\":\"#2a3f5f\",\"arrowhead\":0,\"arrowwidth\":1},\"autotypenumbers\":\"strict\",\"coloraxis\":{\"colorbar\":{\"outlinewidth\":0,\"ticks\":\"\"}},\"colorscale\":{\"diverging\":[[0,\"#8e0152\"],[0.1,\"#c51b7d\"],[0.2,\"#de77ae\"],[0.3,\"#f1b6da\"],[0.4,\"#fde0ef\"],[0.5,\"#f7f7f7\"],[0.6,\"#e6f5d0\"],[0.7,\"#b8e186\"],[0.8,\"#7fbc41\"],[0.9,\"#4d9221\"],[1,\"#276419\"]],\"sequential\":[[0.0,\"#0d0887\"],[0.1111111111111111,\"#46039f\"],[0.2222222222222222,\"#7201a8\"],[0.3333333333333333,\"#9c179e\"],[0.4444444444444444,\"#bd3786\"],[0.5555555555555556,\"#d8576b\"],[0.6666666666666666,\"#ed7953\"],[0.7777777777777778,\"#fb9f3a\"],[0.8888888888888888,\"#fdca26\"],[1.0,\"#f0f921\"]],\"sequentialminus\":[[0.0,\"#0d0887\"],[0.1111111111111111,\"#46039f\"],[0.2222222222222222,\"#7201a8\"],[0.3333333333333333,\"#9c179e\"],[0.4444444444444444,\"#bd3786\"],[0.5555555555555556,\"#d8576b\"],[0.6666666666666666,\"#ed7953\"],[0.7777777777777778,\"#fb9f3a\"],[0.8888888888888888,\"#fdca26\"],[1.0,\"#f0f921\"]]},\"colorway\":[\"#636efa\",\"#EF553B\",\"#00cc96\",\"#ab63fa\",\"#FFA15A\",\"#19d3f3\",\"#FF6692\",\"#B6E880\",\"#FF97FF\",\"#FECB52\"],\"font\":{\"color\":\"#2a3f5f\"},\"geo\":{\"bgcolor\":\"white\",\"lakecolor\":\"white\",\"landcolor\":\"#E5ECF6\",\"showlakes\":true,\"showland\":true,\"subunitcolor\":\"white\"},\"hoverlabel\":{\"align\":\"left\"},\"hovermode\":\"closest\",\"mapbox\":{\"style\":\"light\"},\"paper_bgcolor\":\"white\",\"plot_bgcolor\":\"#E5ECF6\",\"polar\":{\"angularaxis\":{\"gridcolor\":\"white\",\"linecolor\":\"white\",\"ticks\":\"\"},\"bgcolor\":\"#E5ECF6\",\"radialaxis\":{\"gridcolor\":\"white\",\"linecolor\":\"white\",\"ticks\":\"\"}},\"scene\":{\"xaxis\":{\"backgroundcolor\":\"#E5ECF6\",\"gridcolor\":\"white\",\"gridwidth\":2,\"linecolor\":\"white\",\"showbackground\":true,\"ticks\":\"\",\"zerolinecolor\":\"white\"},\"yaxis\":{\"backgroundcolor\":\"#E5ECF6\",\"gridcolor\":\"white\",\"gridwidth\":2,\"linecolor\":\"white\",\"showbackground\":true,\"ticks\":\"\",\"zerolinecolor\":\"white\"},\"zaxis\":{\"backgroundcolor\":\"#E5ECF6\",\"gridcolor\":\"white\",\"gridwidth\":2,\"linecolor\":\"white\",\"showbackground\":true,\"ticks\":\"\",\"zerolinecolor\":\"white\"}},\"shapedefaults\":{\"line\":{\"color\":\"#2a3f5f\"}},\"ternary\":{\"aaxis\":{\"gridcolor\":\"white\",\"linecolor\":\"white\",\"ticks\":\"\"},\"baxis\":{\"gridcolor\":\"white\",\"linecolor\":\"white\",\"ticks\":\"\"},\"bgcolor\":\"#E5ECF6\",\"caxis\":{\"gridcolor\":\"white\",\"linecolor\":\"white\",\"ticks\":\"\"}},\"title\":{\"x\":0.05},\"xaxis\":{\"automargin\":true,\"gridcolor\":\"white\",\"linecolor\":\"white\",\"ticks\":\"\",\"title\":{\"standoff\":15},\"zerolinecolor\":\"white\",\"zerolinewidth\":2},\"yaxis\":{\"automargin\":true,\"gridcolor\":\"white\",\"linecolor\":\"white\",\"ticks\":\"\",\"title\":{\"standoff\":15},\"zerolinecolor\":\"white\",\"zerolinewidth\":2}}}},                        {\"responsive\": true}                    ).then(function(){\n",
              "                            \n",
              "var gd = document.getElementById('6ea42b83-942a-43a6-b7db-39409b050529');\n",
              "var x = new MutationObserver(function (mutations, observer) {{\n",
              "        var display = window.getComputedStyle(gd).display;\n",
              "        if (!display || display === 'none') {{\n",
              "            console.log([gd, 'removed!']);\n",
              "            Plotly.purge(gd);\n",
              "            observer.disconnect();\n",
              "        }}\n",
              "}});\n",
              "\n",
              "// Listen for the removal of the full notebook cells\n",
              "var notebookContainer = gd.closest('#notebook-container');\n",
              "if (notebookContainer) {{\n",
              "    x.observe(notebookContainer, {childList: true});\n",
              "}}\n",
              "\n",
              "// Listen for the clearing of the current output cell\n",
              "var outputEl = gd.closest('.output');\n",
              "if (outputEl) {{\n",
              "    x.observe(outputEl, {childList: true});\n",
              "}}\n",
              "\n",
              "                        })                };                            </script>        </div>\n",
              "</body>\n",
              "</html>"
            ]
          },
          "metadata": {}
        }
      ]
    },
    {
      "cell_type": "markdown",
      "source": [
        "Самый влиятельный гиперпараметр - learning_rate."
      ],
      "metadata": {
        "id": "v7q_6U4LsyBO"
      }
    },
    {
      "cell_type": "markdown",
      "source": [
        "# **Neural Network**"
      ],
      "metadata": {
        "id": "vHYjMAuJWYIy"
      }
    },
    {
      "cell_type": "markdown",
      "source": [
        "Подготовим данные к обучению - масштабируем количественные данные и применим технику OHE к категориальным признакам."
      ],
      "metadata": {
        "id": "n9SP-N09Xt5Z"
      }
    },
    {
      "cell_type": "code",
      "source": [
        "x_train = pd.get_dummies(x_train, columns=['star_type', 'star_color'], drop_first=True)\n",
        "x_valid = pd.get_dummies(x_valid, columns=['star_type', 'star_color'], drop_first=True)\n",
        "x_test = pd.get_dummies(x_test, columns=['star_type', 'star_color'], drop_first=True)"
      ],
      "metadata": {
        "id": "Wp75ssqtXzG5"
      },
      "execution_count": 40,
      "outputs": []
    },
    {
      "cell_type": "code",
      "source": [
        "columns = ['luminosity', 'radius', 'absolute_magnitude']\n",
        "scaler = StandardScaler()\n",
        "scaler.fit(x_train[columns])\n",
        "x_train[columns] = scaler.transform(x_train[columns])\n",
        "x_valid[columns] = scaler.transform(x_valid[columns])\n",
        "x_test[columns] = scaler.transform(x_test[columns])"
      ],
      "metadata": {
        "id": "rzjAqAREZwbT"
      },
      "execution_count": 41,
      "outputs": []
    },
    {
      "cell_type": "markdown",
      "source": [
        "Посмотрим на предобработанные данные."
      ],
      "metadata": {
        "id": "LOUts46NMAgo"
      }
    },
    {
      "cell_type": "markdown",
      "source": [
        "Для решения данной задачи будет использовать нейросеть."
      ],
      "metadata": {
        "id": "La71QBJ-OKtJ"
      }
    },
    {
      "cell_type": "code",
      "source": [
        "x_train = torch.FloatTensor(x_train.values).to(device)\n",
        "x_valid = torch.FloatTensor(x_valid.values).to(device)\n",
        "x_test = torch.FloatTensor(x_test.values).to(device)"
      ],
      "metadata": {
        "id": "LSmnb1uxMC16"
      },
      "execution_count": 42,
      "outputs": []
    },
    {
      "cell_type": "code",
      "source": [
        "y_train = torch.FloatTensor(y_train.values).reshape(y_train.shape[0], 1).to(device)\n",
        "y_valid = torch.FloatTensor(y_valid.values).reshape(y_test.shape[0], 1).to(device)\n",
        "y_test = torch.FloatTensor(y_test.values).reshape(y_test.shape[0], 1).to(device)"
      ],
      "metadata": {
        "id": "9DmqQjCCOtfz"
      },
      "execution_count": 43,
      "outputs": []
    },
    {
      "cell_type": "code",
      "source": [
        "n_in_neurons, n_out_neurons = x_train.shape[1], 1 "
      ],
      "metadata": {
        "id": "MubWQ2DdO59r"
      },
      "execution_count": 44,
      "outputs": []
    },
    {
      "cell_type": "markdown",
      "source": [
        "В качестве метрики возьмем RMSE. А лосс будет MSE."
      ],
      "metadata": {
        "id": "wT39eJoCe577"
      }
    },
    {
      "cell_type": "code",
      "source": [
        "rmse = MeanSquaredError(squared = False).to(device)\n",
        "loss = nn.MSELoss()"
      ],
      "metadata": {
        "id": "B3fFnhv2S8ga"
      },
      "execution_count": 45,
      "outputs": []
    },
    {
      "cell_type": "markdown",
      "source": [
        "Для начала попробуем модель с одним скрытым слоем."
      ],
      "metadata": {
        "id": "G1eoTLr82DYq"
      }
    },
    {
      "cell_type": "markdown",
      "source": [
        "Количество эпох для обучения будет 1000."
      ],
      "metadata": {
        "id": "8xzkAPzECX5J"
      }
    },
    {
      "cell_type": "code",
      "source": [
        "num_epochs = 1000"
      ],
      "metadata": {
        "id": "qfyNtuzQzSqL"
      },
      "execution_count": 46,
      "outputs": []
    },
    {
      "cell_type": "markdown",
      "source": [
        "Напишем функцию, чтобы не повторять один и тот же код много раз."
      ],
      "metadata": {
        "id": "oVCKOniwaV8U"
      }
    },
    {
      "cell_type": "code",
      "source": [
        "def learn_and_eval(model, num_epochs, hidden_layers=1):\n",
        "  for epoch in range(num_epochs):\n",
        "\n",
        "        preds = model(x_train) \n",
        "\n",
        "        optimizer.zero_grad()\n",
        "      \n",
        "        loss_value = loss(preds, y_train)\n",
        "        loss_value.backward()\n",
        "            \n",
        "        optimizer.step()\n",
        "        \n",
        "  model.eval()   \n",
        "  with torch.inference_mode():\n",
        "    res = rmse(model(x_valid), y_valid)\n",
        "\n",
        "  if hidden_layers == 1:\n",
        "    print(f'h1: {n_hidden_neurons_1} | rmse: {res}')\n",
        "  elif hidden_layers == 2:\n",
        "    print(f'h1: {n_hidden_neurons_1} | h2: {n_hidden_neurons_2} | rmse: {res}')\n",
        "  else:\n",
        "    print(f'h1: {n_hidden_neurons_1} | h2: {n_hidden_neurons_2} | h3: {n_hidden_neurons_3} | rmse: {res}')"
      ],
      "metadata": {
        "id": "nSAcmyL7MWfq"
      },
      "execution_count": 47,
      "outputs": []
    },
    {
      "cell_type": "code",
      "source": [
        "h1 = [100, 300, 500, 800, 1000, 1200, 1500, 1800, 2100, 2500]"
      ],
      "metadata": {
        "id": "hySiOZUA6sPE"
      },
      "execution_count": 48,
      "outputs": []
    },
    {
      "cell_type": "code",
      "source": [
        "for n_hidden_neurons_1 in h1:\n",
        "\n",
        "    model = nn.Sequential(\n",
        "    nn.Linear(n_in_neurons, n_hidden_neurons_1),\n",
        "    nn.ReLU(),\n",
        "    nn.Linear(n_hidden_neurons_1, n_out_neurons)   \n",
        "    ).to(device)\n",
        "\n",
        "    optimizer = torch.optim.Adam(model.parameters(), lr=1e-3)\n",
        "    \n",
        "    learn_and_eval(model, num_epochs, hidden_layers=1)"
      ],
      "metadata": {
        "id": "KEtkI6ac8GNZ",
        "colab": {
          "base_uri": "https://localhost:8080/"
        },
        "outputId": "7194cc77-d11a-4ed4-ff99-ef0fec5cb6cb"
      },
      "execution_count": 49,
      "outputs": [
        {
          "output_type": "stream",
          "name": "stdout",
          "text": [
            "h1: 100 | rmse: 16154.2236328125\n",
            "h1: 300 | rmse: 15294.2080078125\n",
            "h1: 500 | rmse: 14527.779296875\n",
            "h1: 800 | rmse: 13518.240234375\n",
            "h1: 1000 | rmse: 12945.9423828125\n",
            "h1: 1200 | rmse: 12428.29296875\n",
            "h1: 1500 | rmse: 11756.7529296875\n",
            "h1: 1800 | rmse: 11204.029296875\n",
            "h1: 2100 | rmse: 10725.4765625\n",
            "h1: 2500 | rmse: 10256.8671875\n"
          ]
        }
      ]
    },
    {
      "cell_type": "markdown",
      "source": [
        "Лучший RMSE - 10257, при 2500 нейронах в скрытом слое."
      ],
      "metadata": {
        "id": "lEOxFnBNF9mU"
      }
    },
    {
      "cell_type": "markdown",
      "source": [
        "Теперь попробуем модель с двумя скрытыми слоями."
      ],
      "metadata": {
        "id": "7rLXGuKrGBuL"
      }
    },
    {
      "cell_type": "code",
      "source": [
        "h1 = list(range(300, 1500, 50))\n",
        "h2 = list(range(300,1200, 50))\n",
        "samples = 15 # amount of combinations"
      ],
      "metadata": {
        "id": "o-JOI7HzGAIq"
      },
      "execution_count": 50,
      "outputs": []
    },
    {
      "cell_type": "code",
      "source": [
        "for i in range(samples):\n",
        "    \n",
        "    n_hidden_neurons_1 = h1[np.random.randint(0, len(h1))]\n",
        "    n_hidden_neurons_2 = h2[np.random.randint(0, len(h2))]\n",
        "    \n",
        "    model = nn.Sequential(\n",
        "    nn.Linear(n_in_neurons, n_hidden_neurons_1),\n",
        "    nn.Tanh(),\n",
        "    nn.Linear(n_hidden_neurons_1, n_hidden_neurons_2), \n",
        "    nn.ReLU(),\n",
        "    nn.Linear(n_hidden_neurons_2, n_out_neurons)   \n",
        "    ).to(device)\n",
        "\n",
        "    optimizer = torch.optim.Adam(model.parameters(), lr=1e-3)\n",
        "\n",
        "    learn_and_eval(model, num_epochs, hidden_layers=2)"
      ],
      "metadata": {
        "id": "-Rj2IeOqHai0",
        "colab": {
          "base_uri": "https://localhost:8080/"
        },
        "outputId": "3303cc44-b2d4-46e4-a180-587c98d127e8"
      },
      "execution_count": 51,
      "outputs": [
        {
          "output_type": "stream",
          "name": "stdout",
          "text": [
            "h1: 650 | h2: 900 | rmse: 3420.38232421875\n",
            "h1: 400 | h2: 1100 | rmse: 3394.694580078125\n",
            "h1: 900 | h2: 950 | rmse: 3632.841796875\n",
            "h1: 1450 | h2: 450 | rmse: 3444.820556640625\n",
            "h1: 550 | h2: 350 | rmse: 3798.45751953125\n",
            "h1: 600 | h2: 1000 | rmse: 3429.66455078125\n",
            "h1: 350 | h2: 950 | rmse: 3299.380615234375\n",
            "h1: 1300 | h2: 550 | rmse: 3452.122314453125\n",
            "h1: 1100 | h2: 700 | rmse: 3548.453125\n",
            "h1: 550 | h2: 400 | rmse: 3774.20458984375\n",
            "h1: 1050 | h2: 900 | rmse: 3646.880859375\n",
            "h1: 700 | h2: 800 | rmse: 3362.54052734375\n",
            "h1: 500 | h2: 800 | rmse: 3285.94921875\n",
            "h1: 950 | h2: 1150 | rmse: 3816.690673828125\n",
            "h1: 1300 | h2: 700 | rmse: 3655.61962890625\n"
          ]
        }
      ]
    },
    {
      "cell_type": "markdown",
      "source": [
        "Модель с двумя скрытыми слоями показала себя значительно лучше. Лучший RMSE уменьшился больше, чем в два раза и достиг 3286, при 500 нейронах в первом скрытом слое и 800 нейронах во втором скрытом слое."
      ],
      "metadata": {
        "id": "4sb1k5EiIPSw"
      }
    },
    {
      "cell_type": "markdown",
      "source": [
        "Теперь попробуем три скрытых слоя."
      ],
      "metadata": {
        "id": "1PSEAzolIRiE"
      }
    },
    {
      "cell_type": "code",
      "source": [
        "h3 = list(range(300, 600, 50))\n",
        "samples = 15 # amount of combinations"
      ],
      "metadata": {
        "id": "_ErrNFIpIXW3"
      },
      "execution_count": 52,
      "outputs": []
    },
    {
      "cell_type": "code",
      "source": [
        "for i in range(samples):\n",
        "    \n",
        "    n_hidden_neurons_1 = h1[np.random.randint(0, len(h1))]\n",
        "    n_hidden_neurons_2 = h2[np.random.randint(0, len(h2))]\n",
        "    n_hidden_neurons_3 = h3[np.random.randint(0, len(h3))]\n",
        "    \n",
        "    model = nn.Sequential(\n",
        "    nn.Linear(n_in_neurons, n_hidden_neurons_1),\n",
        "    nn.Tanh(), \n",
        "    nn.Linear(n_hidden_neurons_1, n_hidden_neurons_2), \n",
        "    nn.Tanh(),\n",
        "    nn.Linear(n_hidden_neurons_2, n_hidden_neurons_3),   \n",
        "    nn.ReLU(), \n",
        "    nn.Linear(n_hidden_neurons_3, n_out_neurons)    \n",
        "    ).to(device)\n",
        "\n",
        "    optimizer = torch.optim.Adam(model.parameters(), lr=1e-3)\n",
        "\n",
        "    learn_and_eval(model, 1000, hidden_layers=3)"
      ],
      "metadata": {
        "id": "sxoKILn2MLCr",
        "colab": {
          "base_uri": "https://localhost:8080/"
        },
        "outputId": "f047e8f2-5278-4baf-8a00-8953a768ab10"
      },
      "execution_count": 53,
      "outputs": [
        {
          "output_type": "stream",
          "name": "stdout",
          "text": [
            "h1: 300 | h2: 350 | h3: 300 | rmse: 5182.4833984375\n",
            "h1: 900 | h2: 1100 | h3: 300 | rmse: 5470.9638671875\n",
            "h1: 1000 | h2: 850 | h3: 550 | rmse: 5460.03662109375\n",
            "h1: 1100 | h2: 500 | h3: 300 | rmse: 5053.19775390625\n",
            "h1: 1200 | h2: 1150 | h3: 400 | rmse: 5222.3857421875\n",
            "h1: 900 | h2: 550 | h3: 500 | rmse: 5219.16796875\n",
            "h1: 350 | h2: 1000 | h3: 400 | rmse: 6023.61767578125\n",
            "h1: 1400 | h2: 1100 | h3: 450 | rmse: 6193.29541015625\n",
            "h1: 750 | h2: 750 | h3: 500 | rmse: 5928.18994140625\n",
            "h1: 500 | h2: 450 | h3: 500 | rmse: 5581.1162109375\n",
            "h1: 1300 | h2: 1100 | h3: 450 | rmse: 5456.28271484375\n",
            "h1: 1150 | h2: 550 | h3: 300 | rmse: 4926.5693359375\n",
            "h1: 1250 | h2: 1000 | h3: 300 | rmse: 5449.1259765625\n",
            "h1: 350 | h2: 300 | h3: 500 | rmse: 5467.63134765625\n",
            "h1: 700 | h2: 1100 | h3: 500 | rmse: 6370.603515625\n"
          ]
        }
      ]
    },
    {
      "cell_type": "markdown",
      "source": [
        "Модель с тремя скрытыми слоями показала себя лучше модели с одним скрытым слоем, но хуже, чем модель с двумя скрытыми слоями. Лучший RMSE - 4927, при 1150 нейронах в первом скрытом слое, 550 нейронах во втором скрытом слое и 300 нейронах в третьем скрытом слое."
      ],
      "metadata": {
        "id": "-Vi-M7xDj7dy"
      }
    },
    {
      "cell_type": "markdown",
      "source": [
        "Протестировав три различные архитектуры, в качестве основной модели возьмем двух слойную нейронную сеть с 500 нейронами в первом скрытом слое и 800 нейронами во втором скрытом слое."
      ],
      "metadata": {
        "id": "4WVaxdY-kKol"
      }
    },
    {
      "cell_type": "code",
      "source": [
        "n_hidden_neurons_1, n_hidden_neurons_2 = 500, 800 "
      ],
      "metadata": {
        "id": "ve9R0xfskIf6"
      },
      "execution_count": 54,
      "outputs": []
    },
    {
      "cell_type": "markdown",
      "source": [
        "Теперь сделаем так, чтобы наша модель обучалась батчами и подберем оптимальный размер батча."
      ],
      "metadata": {
        "id": "pyNrTUzCsgJ5"
      }
    },
    {
      "cell_type": "code",
      "source": [
        "batch_values = [x_train.shape[0], 60, 50, 40, 30, 25]"
      ],
      "metadata": {
        "id": "S3qhkOglsvAs"
      },
      "execution_count": 55,
      "outputs": []
    },
    {
      "cell_type": "code",
      "source": [
        "for batch_size in batch_values:\n",
        "        \n",
        "        model = nn.Sequential(\n",
        "            nn.Linear(n_in_neurons, n_hidden_neurons_1),\n",
        "            nn.Tanh(),\n",
        "            nn.Linear(n_hidden_neurons_1, n_hidden_neurons_2), \n",
        "            nn.ReLU(),\n",
        "            nn.Linear(n_hidden_neurons_2, n_out_neurons)   \n",
        "            ).to(device)\n",
        "        \n",
        "        optimizer = torch.optim.Adam(model.parameters(), lr=1e-3)\n",
        "        \n",
        "        num_batches = ceil(len(x_train)/batch_size)\n",
        "        \n",
        "        for epoch in range(num_epochs):\n",
        "    \n",
        "            order = np.random.permutation(len(x_train))\n",
        "\n",
        "            for batch_idx in range(num_batches):\n",
        "\n",
        "                start_index = batch_idx * batch_size\n",
        "                optimizer.zero_grad()\n",
        "\n",
        "                batch_indexes = order[start_index:start_index+batch_size]\n",
        "                x_batch = x_train[batch_indexes]\n",
        "                y_batch = y_train[batch_indexes]\n",
        "\n",
        "                preds = model(x_batch) \n",
        "\n",
        "                loss_value = loss(preds, y_batch)\n",
        "                loss_value.backward()\n",
        "\n",
        "                optimizer.step()\n",
        "                \n",
        "        model.eval()\n",
        "        with torch.inference_mode():\n",
        "          res = rmse(model(x_valid), y_valid)\n",
        "        \n",
        "        print(f'batch_size: {batch_size}, rmse: {res}')"
      ],
      "metadata": {
        "id": "wTkxWu6tspIG",
        "colab": {
          "base_uri": "https://localhost:8080/"
        },
        "outputId": "5e31adba-7d56-4191-ce20-1d7fb0dc470d"
      },
      "execution_count": 56,
      "outputs": [
        {
          "output_type": "stream",
          "name": "stdout",
          "text": [
            "batch_size: 192, rmse: 3280.760498046875\n",
            "batch_size: 60, rmse: 4585.2265625\n",
            "batch_size: 50, rmse: 4692.56884765625\n",
            "batch_size: 40, rmse: 4958.92236328125\n",
            "batch_size: 30, rmse: 5091.3701171875\n",
            "batch_size: 25, rmse: 5375.39306640625\n"
          ]
        }
      ]
    },
    {
      "cell_type": "markdown",
      "source": [
        "В итоге обучение батчами показало себя хуже."
      ],
      "metadata": {
        "id": "FWsDPJDrxhfQ"
      }
    },
    {
      "cell_type": "markdown",
      "source": [
        "Теперь подберем оптимальное кол-во эпох обучения."
      ],
      "metadata": {
        "id": "rWdvT-9E2zRa"
      }
    },
    {
      "cell_type": "code",
      "source": [
        "results = np.array([])"
      ],
      "metadata": {
        "id": "vLBZKWil4463"
      },
      "execution_count": 57,
      "outputs": []
    },
    {
      "cell_type": "code",
      "source": [
        "model = nn.Sequential(\n",
        "    nn.Linear(n_in_neurons, n_hidden_neurons_1),\n",
        "    nn.Tanh(),\n",
        "    nn.Linear(n_hidden_neurons_1, n_hidden_neurons_2), \n",
        "    nn.ReLU(),\n",
        "    nn.Linear(n_hidden_neurons_2, n_out_neurons)   \n",
        "    ).to(device)\n",
        "optimizer = torch.optim.Adam(model.parameters(), lr=1e-3)\n",
        "\n",
        "for epoch in range(1, 5001):\n",
        "\n",
        "        optimizer.zero_grad()\n",
        "      \n",
        "        preds = model.forward(x_train) \n",
        "            \n",
        "        loss_value = loss(preds, y_train)\n",
        "        loss_value.backward()\n",
        "            \n",
        "        optimizer.step()\n",
        "\n",
        "        if epoch % 10 == 0:\n",
        "          res = rmse(model(x_valid), y_valid)\n",
        "          results = np.append(results, res.cpu().detach().numpy())"
      ],
      "metadata": {
        "id": "adiFbRte15Z_"
      },
      "execution_count": 58,
      "outputs": []
    },
    {
      "cell_type": "code",
      "source": [
        "epochs = np.arange(1, 5001, 10)"
      ],
      "metadata": {
        "id": "ZagWVDO06Ehl"
      },
      "execution_count": 59,
      "outputs": []
    },
    {
      "cell_type": "code",
      "source": [
        "plt.figure(figsize=[15,6])\n",
        "sns.lineplot(x=epochs, y=results, label='validation')\n",
        "plt.legend()\n",
        "plt.xlabel('epochs')\n",
        "plt.ylabel('RMSE')\n",
        "plt.show()"
      ],
      "metadata": {
        "id": "50e5lozw6JAE",
        "colab": {
          "base_uri": "https://localhost:8080/",
          "height": 394
        },
        "outputId": "bb43a19d-eec0-44d7-e0f4-8d6e170e88ea"
      },
      "execution_count": 60,
      "outputs": [
        {
          "output_type": "display_data",
          "data": {
            "text/plain": [
              "<Figure size 1080x432 with 1 Axes>"
            ],
            "image/png": "[encoded data removed]"
          },
          "metadata": {}
        }
      ]
    },
    {
      "cell_type": "markdown",
      "source": [
        "Как мы видим, оптимальное кол-во эпох - 1000, потому что дальше уже идет оверфит."
      ],
      "metadata": {
        "id": "SUYkR62x7BAW"
      }
    },
    {
      "cell_type": "markdown",
      "source": [
        "# **Results**"
      ],
      "metadata": {
        "id": "jUbymk-w9zWF"
      }
    },
    {
      "cell_type": "markdown",
      "source": [
        "Лучшей моделью оказалсь нейронная сеть, ее и возьмем в качестве основной модели."
      ],
      "metadata": {
        "id": "z2oIzDsjtIvp"
      }
    },
    {
      "cell_type": "markdown",
      "source": [
        "|      | catboost | nn |\n",
        "|------|----------|------|\n",
        "| RMSE | 3820     | 3286 |"
      ],
      "metadata": {
        "id": "fCHA26tz04aJ"
      }
    },
    {
      "cell_type": "markdown",
      "source": [
        "Теперь соединим train и validation, обучим модель и проверим на тестовой выборке."
      ],
      "metadata": {
        "id": "KK9AU8wP7cEf"
      }
    },
    {
      "cell_type": "code",
      "source": [
        "x_train_and_valid = torch.cat((x_train, x_valid), 0)\n",
        "y_train_and_valid = torch.cat((y_train, y_valid), 0)"
      ],
      "metadata": {
        "id": "xj5lSkjS7IUj"
      },
      "execution_count": 61,
      "outputs": []
    },
    {
      "cell_type": "code",
      "source": [
        "model = nn.Sequential(\n",
        "    nn.Linear(n_in_neurons, n_hidden_neurons_1),\n",
        "    nn.Tanh(),\n",
        "    nn.Linear(n_hidden_neurons_1, n_hidden_neurons_2), \n",
        "    nn.ReLU(),\n",
        "    nn.Linear(n_hidden_neurons_2, n_out_neurons)   \n",
        "    ).to(device)\n",
        "\n",
        "optimizer = torch.optim.Adam(model.parameters(), lr=1e-3)\n",
        "\n",
        "for epoch in range(num_epochs):\n",
        "\n",
        "        optimizer.zero_grad()\n",
        "      \n",
        "        preds = model(x_train) \n",
        "            \n",
        "        loss_value = loss(preds, y_train)\n",
        "\n",
        "        loss_value.backward()\n",
        "        \n",
        "        optimizer.step()\n",
        "\n",
        "model.eval()\n",
        "with torch.inference_mode():\n",
        "  predictions = model(x_test)\n",
        "\n",
        "print('best RMSE:', rmse(predictions, y_test).item())"
      ],
      "metadata": {
        "colab": {
          "base_uri": "https://localhost:8080/"
        },
        "id": "41fUc0pT9DwO",
        "outputId": "9849116c-7f06-4f22-88c7-8d191eba54ba"
      },
      "execution_count": 62,
      "outputs": [
        {
          "output_type": "stream",
          "name": "stdout",
          "text": [
            "best RMSE: 2595.615478515625\n"
          ]
        }
      ]
    },
    {
      "cell_type": "markdown",
      "source": [
        "Теперь визуализируем предсказания модели и реальные значения."
      ],
      "metadata": {
        "id": "lIq6-Q2F_Po0"
      }
    },
    {
      "cell_type": "code",
      "source": [
        "test_preds = pd.DataFrame(predictions.cpu().detach().numpy(), columns=['temperature'])\n",
        "test_target = pd.DataFrame(y_test.cpu().detach().numpy(), columns=['temperature'])"
      ],
      "metadata": {
        "id": "YZzv3rG1-bHO"
      },
      "execution_count": 63,
      "outputs": []
    },
    {
      "cell_type": "code",
      "source": [
        "fig, ax = plt.subplots(figsize=[20,6])\n",
        "plt.bar(x=test_preds.index, height=test_preds['temperature'], color='moccasin' , label='predicted')\n",
        "plt.bar(x=test_target.index, height=test_target['temperature'], color='limegreen', label='real', width= 0.4)\n",
        "plt.xlabel('stars')\n",
        "plt.ylabel('temperature')\n",
        "ax.legend()\n",
        "plt.show()"
      ],
      "metadata": {
        "colab": {
          "base_uri": "https://localhost:8080/",
          "height": 394
        },
        "id": "HZfYaGaP9pgu",
        "outputId": "667babed-ae51-497a-fe73-67997d397a28"
      },
      "execution_count": 64,
      "outputs": [
        {
          "output_type": "display_data",
          "data": {
            "text/plain": [
              "<Figure size 1440x432 with 1 Axes>"
            ],
            "image/png": "[encoded data removed]"
          },
          "metadata": {}
        }
      ]
    },
    {
      "cell_type": "markdown",
      "source": [
        "Как мы видим, на маленьких температурах модель практически не ошибается."
      ],
      "metadata": {
        "id": "xizHI189-_Rw"
      }
    },
    {
      "cell_type": "markdown",
      "source": [
        "# **Conclusion**"
      ],
      "metadata": {
        "id": "ru5R_ZpxAapQ"
      }
    },
    {
      "cell_type": "markdown",
      "source": [
        "**Лучшей всего себя показала нейронная сеть с двумя скрытыми слоями, обученная в 1000 эпох. Удалось достичь 2596 по метрике RMSE. Учитывая, что стандратное отклонение у таргета 9550, то результат у модели отличный.**"
      ],
      "metadata": {
        "id": "O9pqfjHsAhTN"
      }
    }
  ]
}